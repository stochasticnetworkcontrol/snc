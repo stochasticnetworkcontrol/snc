{
 "cells": [
  {
   "cell_type": "markdown",
   "metadata": {},
   "source": [
    "# Time needed to achieve a desired state with (only) feasible action\n",
    "\n",
    "In this section, we assume that negative activities time are not allowed. \n",
    "\n",
    "One of the reason for such assumption is that the meaning of a negative activity time is not fully clear: does it mean that the resources are processing the items in the reverse direction?\n",
    "\n",
    "The question we aim to answer is, what is the minimum amount of time, needed to reach the desired buffer state given demand $\\alpha$, and what is the activity time during this period?"
   ]
  },
  {
   "cell_type": "markdown",
   "metadata": {},
   "source": [
    "### Pull Model\n",
    "\n",
    "Once again, the example we are considering is the basic Pull model.\n",
    "\n",
    "<img src=\"pull.png\" style=\"width: 500px\" align=\"left\"/>"
   ]
  },
  {
   "cell_type": "markdown",
   "metadata": {},
   "source": [
    "#### No new arrivals\n",
    "\n",
    "We start by assuming that $\\Delta q_3 = 0$ and $\\alpha = 0$ and observing the following 2 facts:\n",
    "\n",
    "1) if the goal is to reduce the number of items in the buffers, i.e., \n",
    "$ \\Delta \\underline{q} = \n",
    "           \\begin{bmatrix}\n",
    "           - |\\Delta q_1| \\\\           \n",
    "           - |\\Delta q_2| \\\\\n",
    "           0 \n",
    "          \\end{bmatrix}\n",
    "$\n",
    "then negative activity time is required, i.e., \n",
    "\n",
    "$$ \\Delta \\underline{q} \\leq 0, \\Delta q_3 = 0, \\underline{\\alpha} = 0  \\rightarrow \\underline{z} \\geq 0 $$\n",
    "\n",
    "2) conversely, if the goal is to increase the number of items in the buffers, i.e., \n",
    "$ \\Delta \\underline{q} = \n",
    "           \\begin{bmatrix}\n",
    "           |\\Delta q_1| \\\\           \n",
    "           |\\Delta q_2| \\\\\n",
    "           0 \n",
    "          \\end{bmatrix}\n",
    "$\n",
    "then positive activity time is required, i.e., \n",
    "\n",
    "$$ \\Delta \\underline{q} \\geq 0, \\Delta q_3 = 0, \\alpha = 0 \\rightarrow \\underline{z} \\leq 0 $$"
   ]
  },
  {
   "cell_type": "markdown",
   "metadata": {},
   "source": [
    "#### With new arrivals\n",
    "\n",
    "In this section, w.l.o.g. we assume that \n",
    "$\\underline{\\alpha} = \n",
    "           \\begin{bmatrix}\n",
    "           0 \\\\           \n",
    "           0 \\\\\n",
    "           \\alpha T \n",
    "           \\end{bmatrix}\n",
    "$ and that \n",
    "$\\Delta \\underline{q} = \n",
    "           \\begin{bmatrix}\n",
    "           - |\\Delta q_1| \\\\           \n",
    "           - |\\Delta q_2| \\\\\n",
    "           0 \n",
    "          \\end{bmatrix}\n",
    "$, Other cases can be similarly computed.\n",
    "\n",
    "We know that $\\underline{z} = B^{-1}(\\Delta \\underline{q} - \\alpha T$, i.e.,\n",
    "\n",
    "$\n",
    "    \\begin{bmatrix}\n",
    "           z_1 \\\\           \n",
    "           z_2 \\\\\n",
    "           z_3 \n",
    "    \\end{bmatrix}\n",
    "    =\n",
    "    \\begin{bmatrix}\n",
    "           +\\frac{1}{\\mu_s} & + \\frac{1}{\\mu_s} & - \\frac{1}{\\mu_s}\\\\           \n",
    "           0 & + \\frac{1}{\\mu_p} & - \\frac{1}{\\mu_p} \\\\\n",
    "           0 & 0 & - \\frac{1}{\\mu_d}\n",
    "    \\end{bmatrix}\n",
    "    \\begin{bmatrix}\n",
    "           - |\\Delta q_1| \\\\           \n",
    "           - |\\Delta q_2| \\\\\n",
    "           - \\alpha T \n",
    "          \\end{bmatrix}\n",
    "$\n",
    "\n",
    "From this we obtain the following equations:\n",
    "\n",
    "1) $ z_s(T) = \\frac{\\alpha T - |\\Delta q_1| - |\\Delta q_2|)}{\\mu_s}$\n",
    "\n",
    "2) $ z_p(T) = \\frac{\\alpha T - |\\Delta q_2|)}{\\mu_p}$\n",
    "\n",
    "3) $ z_d(T) = \\frac{\\alpha T}{\\mu_d}$\n",
    "\n",
    "Since the aim is to have feasible action, we impose $\\underline{z} \\geq 0$ and solve them w.r.t. $T$. What follows is what we obtain.\n",
    "\n",
    "1) $ T \\geq \\frac{|\\Delta q_1| +|\\Delta q_2|}{\\alpha} $\n",
    "\n",
    "2) $ T \\geq \\frac{|\\Delta q_2|}{\\alpha} $\n",
    "\n",
    "3) $ z_d(T) \\geq 0, \\forall T \\geq 0 $\n",
    "\n",
    "Given this, the minimum activity time $T^*$ needed to guarantee that $\\underline{z} \\geq 0$ is given by\n",
    "\n",
    "$$ T^* = \\max\\Big\\{\\frac{|\\Delta q_1| +|\\Delta q_2|}{\\alpha}, \\frac{|\\Delta q_2|}{\\alpha}, 0\\Big\\} = \\frac{|\\Delta q_1| +|\\Delta q_2|}{\\alpha}$$"
   ]
  },
  {
   "cell_type": "markdown",
   "metadata": {},
   "source": [
    "#### Activity time rate\n",
    "\n",
    "We now look at the rate of activity time when \n",
    "$\\underline{\\dot{q}} - \\underline{\\alpha} = \n",
    "    \\begin{bmatrix}\n",
    "           - |\\dot{q_1}| \\\\ \n",
    "           - |\\dot{q_2}| \\\\\n",
    "           - \\alpha\n",
    "     \\end{bmatrix}\n",
    "$\n",
    "\n",
    "1) $ \\zeta_s = \\frac{\\alpha - |\\dot{q_1}| - |\\dot{q_2}|)}{\\mu_s} = \\rho_s - \\frac{|\\dot{q_1}| + |\\dot{q_2}|)}{\\mu_s} $\n",
    "\n",
    "2) $ \\zeta_p = \\frac{\\alpha - |\\dot{q_2}|)}{\\mu_p} = \\rho_p - \\frac{|\\dot{q_2}|)}{\\mu_p}$\n",
    "\n",
    "3) $ \\zeta_d = \\frac{\\alpha}{\\mu_d} = \\rho_d$\n",
    "\n",
    "From the above, we can observe that $r_3$ is going to work just to clear the demand while the other activities are working at a rate that is less than what prescribed for load balance."
   ]
  },
  {
   "cell_type": "markdown",
   "metadata": {},
   "source": [
    "### Push Model\n",
    "\n",
    "<img src=\"push_message.png\" style=\"width: 500px\" align=\"left\"/>"
   ]
  },
  {
   "cell_type": "markdown",
   "metadata": {},
   "source": [
    "The approach presented above can be applied also for the Push model. The main difference between the two models lies in the fact that for the Push model the following hold:\n",
    "\n",
    "1) if $ \\Delta \\underline{q}, \\Delta q_1 = 0, \\alpha = 0 \\geq 0$ then $\\underline{z} \\leq 0 $\n",
    "\n",
    "2) if $ \\Delta \\underline{q}, \\Delta q_1 = 0, \\alpha = 0 \\leq 0$ then $\\underline{z} \\geq 0 $\n",
    "\n",
    "3) when $\\underline{\\dot{q}} - \\underline{\\alpha} = \n",
    "    \\begin{bmatrix}\n",
    "           - |\\dot{q_1}| \\\\ \n",
    "           - |\\dot{q_2}| \\\\\n",
    "           - \\alpha\n",
    "     \\end{bmatrix}\n",
    "$, $r_1$ is going to work just to clear the demand while the other activities are working at a rate that is higher than what prescribed for load balance."
   ]
  },
  {
   "cell_type": "markdown",
   "metadata": {},
   "source": [
    "# Shelf, a different type of buffer"
   ]
  }
 ],
 "metadata": {
  "kernelspec": {
   "display_name": "Python 3",
   "language": "python",
   "name": "python3"
  },
  "language_info": {
   "codemirror_mode": {
    "name": "ipython",
    "version": 3
   },
   "file_extension": ".py",
   "mimetype": "text/x-python",
   "name": "python",
   "nbconvert_exporter": "python",
   "pygments_lexer": "ipython3",
   "version": "3.7.3"
  }
 },
 "nbformat": 4,
 "nbformat_minor": 2
}
