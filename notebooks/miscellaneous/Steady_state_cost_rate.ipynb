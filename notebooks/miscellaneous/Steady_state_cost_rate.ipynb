{
 "cells": [
  {
   "cell_type": "code",
   "execution_count": null,
   "metadata": {},
   "outputs": [],
   "source": [
    "import matplotlib.pyplot as plt"
   ]
  },
  {
   "cell_type": "code",
   "execution_count": null,
   "metadata": {},
   "outputs": [],
   "source": [
    "%matplotlib inline"
   ]
  },
  {
   "cell_type": "code",
   "execution_count": null,
   "metadata": {},
   "outputs": [],
   "source": [
    "import pickle"
   ]
  },
  {
   "cell_type": "code",
   "execution_count": null,
   "metadata": {},
   "outputs": [],
   "source": [
    "import numpy as np\n",
    "from scipy.stats import poisson, norm"
   ]
  },
  {
   "cell_type": "code",
   "execution_count": null,
   "metadata": {},
   "outputs": [],
   "source": [
    "def reflected_random_walk(demand_seq,transfer_seq, flow=False):\n",
    "    state = np.zeros(len(demand_seq)+1)\n",
    "    durs = []\n",
    "    dur = 0\n",
    "    drained = True\n",
    "    for i,(d,t) in enumerate(zip(demand_seq,transfer_seq)):\n",
    "        if flow:\n",
    "            t = min(state[i]+d,t)\n",
    "        else:\n",
    "            t = min(state[i],t)\n",
    "        state[i+1] = max(state[i]+d-t,0)\n",
    "        if state[i+1] == 0 and not drained:\n",
    "            assert dur > 0,(i,drained)\n",
    "            durs.append(dur)\n",
    "            dur = 0\n",
    "            drained = True\n",
    "        elif drained:\n",
    "            drained = False\n",
    "            dur += 1\n",
    "        else:\n",
    "            dur += 1\n",
    "        \n",
    "    return state[1:],durs"
   ]
  },
  {
   "cell_type": "code",
   "execution_count": null,
   "metadata": {},
   "outputs": [],
   "source": [
    "n = int(1e6)\n",
    "\n",
    "mu_demand = 90\n",
    "mu_transfer = mu_demand*1.02\n",
    "\n",
    "std_demand = 30\n",
    "#mu_drain = mu_transfer*1.02\n",
    "\n",
    "mu_drain = mu_transfer+(mu_transfer-mu_demand)*2\n",
    "\n",
    "s = mu_drain-mu_demand\n",
    "\n",
    "std = np.sqrt(2)*std_demand\n",
    "\n",
    "np.random.seed(100)\n",
    "\n",
    "demand_seq = np.random.normal(mu_demand,std_demand,n)\n",
    "drain_seq = np.random.normal(mu_drain,std_demand,n)\n",
    "\n",
    "omega = std/s\n",
    "\n",
    "ratio = omega*std/4\n",
    "\n",
    "print(ratio)\n",
    "\n",
    "\n",
    "\n",
    "#demand_seq = np.random.poisson(mu_demand,n)\n",
    "#transfer_seq = np.random.poisson(mu_transfer,n)\n",
    "#drain_seq = np.random.poisson(mu_drain,n)\n",
    "\n",
    "#demand_seq = np.ones(n)*mu_demand\n",
    "#transfer_seq = np.ones(n)*mu_transfer\n",
    "#drain_seq = np.ones(n)*mu_drain\n",
    "\n",
    "#demand_seq = norm.rvs(mu_demand,np.sqrt(mu_demand),n)\n",
    "#supply_seq = norm.rvs(mu_supply,np.sqrt(mu_supply),n)"
   ]
  },
  {
   "cell_type": "code",
   "execution_count": null,
   "metadata": {},
   "outputs": [],
   "source": [
    "omega"
   ]
  },
  {
   "cell_type": "code",
   "execution_count": null,
   "metadata": {},
   "outputs": [],
   "source": [
    "#omega_sigma = omega*np.sqrt(2)*std"
   ]
  },
  {
   "cell_type": "code",
   "execution_count": null,
   "metadata": {},
   "outputs": [],
   "source": [
    "state,_ = reflected_random_walk(demand_seq,drain_seq,flow=False)"
   ]
  },
  {
   "cell_type": "code",
   "execution_count": null,
   "metadata": {},
   "outputs": [],
   "source": [
    "plt.plot(state)"
   ]
  },
  {
   "cell_type": "code",
   "execution_count": null,
   "metadata": {},
   "outputs": [],
   "source": [
    "plt.plot((np.cumsum(state))/np.arange(1,len(state)+1)/ratio)"
   ]
  },
  {
   "cell_type": "code",
   "execution_count": null,
   "metadata": {},
   "outputs": [],
   "source": [
    "plt.figure(figsize=(14,6))\n",
    "#plt.plot(state1)\n",
    "plt.plot(state[:200],\"-\")\n",
    "#plt.plot(state[:200],\".\")"
   ]
  },
  {
   "cell_type": "code",
   "execution_count": null,
   "metadata": {},
   "outputs": [],
   "source": [
    "#state1 = state"
   ]
  },
  {
   "cell_type": "code",
   "execution_count": null,
   "metadata": {},
   "outputs": [],
   "source": [
    "plt.plot((np.cumsum(state)/np.cumsum(state1))/ratio)\n",
    "#plt.plot(np.cumsum(state))"
   ]
  },
  {
   "cell_type": "code",
   "execution_count": null,
   "metadata": {},
   "outputs": [],
   "source": [
    "data = {}\n",
    "d = {}"
   ]
  },
  {
   "cell_type": "code",
   "execution_count": null,
   "metadata": {},
   "outputs": [],
   "source": [
    "n = int(1e6)\n",
    "\n",
    "flow = True\n",
    "\n",
    "scale = 1\n",
    "perturb_range = np.arange(0.8,1.2,0.05)\n",
    "perturb_range = [1]\n",
    "\n",
    "for perturb in perturb_range:\n",
    "    mu_demand = 30*perturb*scale\n",
    "    #print(mu_demand)\n",
    "    \n",
    "    #mu_demand = 3000\n",
    "    mu_drain = mu_demand*1.02\n",
    "    \n",
    "    #mu_demand = 0.33\n",
    "    #mu_drain = 0.34\n",
    "    \n",
    "    \n",
    "    s = mu_drain-mu_demand\n",
    "    #print(s)\n",
    "    \n",
    "    #std = 15\n",
    "    \n",
    "    std = np.sqrt(mu_demand+mu_drain)\n",
    "        \n",
    "    \n",
    "    var_demand = 5\n",
    "    var_drain = 5\n",
    "    \n",
    "    std = np.sqrt(var_demand+var_drain)\n",
    "    \n",
    "    #std = std_1\n",
    "    \n",
    "    \n",
    "    #std = 10*np.sqrt(mu_drain)\n",
    "    \n",
    "    omega = std/s\n",
    "    \n",
    "    omega_range = 14*3/scale\n",
    "    \n",
    "    #if omega/omega_range > 1.2 or omega_range/omega_range < 0.8:\n",
    "     #   print(omega/omega_range)\n",
    "      #  continue\n",
    "        \n",
    "    #print(omega)\n",
    "    \n",
    "    obs = np.log(1/s)\n",
    "    \n",
    "    \n",
    "    #obs = s#omega#*std\n",
    "    #obs = std*s\n",
    "    #obs = 1-np.exp(-omega)\n",
    "    obs = omega*std\n",
    "    obs = std**2\n",
    "    obs = s\n",
    "    obs = omega\n",
    "    #rint(mu_drain,obs)\n",
    "    \n",
    "    np.random.seed(101)\n",
    "    \n",
    "    #demand_seq = np.random.poisson(mu_demand,n)\n",
    "    #drain_seq = np.random.poisson(mu_drain,n)\n",
    "    \n",
    "    demand_seq = np.round(np.random.normal(mu_demand,np.sqrt(var_demand),n))\n",
    "    drain_seq = np.round(np.random.normal(mu_drain,np.sqrt(var_drain),n))\n",
    "    \n",
    "    #demand_seq = np.random.binomial(1,mu_demand,n)\n",
    "    #drain_seq = np.random.binomial(1,mu_drain,n)\n",
    "    \n",
    "    demand_seq[demand_seq < 0] = 0\n",
    "    drain_seq[drain_seq < 0] = 0\n",
    "    \n",
    "    if flow:\n",
    "        state,durs = reflected_random_walk(demand_seq,drain_seq,flow=True)#-np.ones(n)*mu_demand\n",
    "    else:\n",
    "        state,durs = reflected_random_walk(demand_seq,drain_seq,flow=False)\n",
    "    print(\"hi\")\n",
    "    state[state <0] = 0\n",
    "    rate = np.sum(state)/n\n",
    "    #data[rate] = (s,std**2,s*std,std,s-std)\n",
    "    \n",
    "    obs = std**2/s\n",
    "    #obs = std/s\n",
    "    \n",
    "    data[rate] = (obs,std/s)\n",
    "    d[scale] = obs\n",
    "    #print(rate/obs)"
   ]
  },
  {
   "cell_type": "code",
   "execution_count": null,
   "metadata": {},
   "outputs": [],
   "source": [
    "plt.plot(state[:100])"
   ]
  },
  {
   "cell_type": "code",
   "execution_count": null,
   "metadata": {},
   "outputs": [],
   "source": [
    "a,b = np.histogram(durs,bins = np.arange(0,100,2),density=True)"
   ]
  },
  {
   "cell_type": "code",
   "execution_count": null,
   "metadata": {},
   "outputs": [],
   "source": [
    "min(durs)"
   ]
  },
  {
   "cell_type": "code",
   "execution_count": null,
   "metadata": {},
   "outputs": [],
   "source": [
    "b"
   ]
  },
  {
   "cell_type": "code",
   "execution_count": null,
   "metadata": {},
   "outputs": [],
   "source": [
    "plt.loglog(b[2:-1],a[2:],basey=3,basex=3)"
   ]
  },
  {
   "cell_type": "code",
   "execution_count": null,
   "metadata": {},
   "outputs": [],
   "source": [
    "plt.loglog(b[2:-1],a[2:],basey=3,basex=3)"
   ]
  },
  {
   "cell_type": "code",
   "execution_count": null,
   "metadata": {},
   "outputs": [],
   "source": [
    "plt.hist(durs,bins = np.arange(1,60,2),density=True)"
   ]
  },
  {
   "cell_type": "code",
   "execution_count": null,
   "metadata": {},
   "outputs": [],
   "source": [
    "from sklearn.linear_model import LinearRegression"
   ]
  },
  {
   "cell_type": "code",
   "execution_count": null,
   "metadata": {},
   "outputs": [],
   "source": [
    "a,b = np.histogram(state,bins=40,normed=True)\n",
    "\n",
    "b = b.reshape(-1,1)\n",
    "clf = LinearRegression()\n",
    "clf.fit(b[:-15,:],np.log(a[:-14]))\n",
    "(1/-clf.coef_)"
   ]
  },
  {
   "cell_type": "code",
   "execution_count": null,
   "metadata": {},
   "outputs": [],
   "source": [
    "plt.plot(b[:-15],np.log(a[:-14]),\".\")\n",
    "plt.plot(b[:-15],clf.predict(b[:-15,:]))"
   ]
  },
  {
   "cell_type": "code",
   "execution_count": null,
   "metadata": {},
   "outputs": [],
   "source": [
    "0.5*omega*std"
   ]
  },
  {
   "cell_type": "code",
   "execution_count": null,
   "metadata": {},
   "outputs": [],
   "source": [
    "plt.figure(figsize=(10,8))\n",
    "plt.hist(state,bins=40, normed=True, label=\"Simulation\")\n",
    "#plt.plot(np.arange(1000),-clf.coef_[0]*np.exp(np.arange(1000)*clf.coef_[0]))\n",
    "plt.plot(np.arange(300),1/(0.5*omega*std)*np.exp(-np.arange(300)/(0.5*omega*std)), label=\"Exponential pdf\")\n",
    "plt.legend()"
   ]
  },
  {
   "cell_type": "code",
   "execution_count": null,
   "metadata": {},
   "outputs": [],
   "source": [
    "plt.plot(state[:100000])"
   ]
  },
  {
   "cell_type": "code",
   "execution_count": null,
   "metadata": {},
   "outputs": [],
   "source": [
    "demand_pois = demand_seq"
   ]
  },
  {
   "cell_type": "code",
   "execution_count": null,
   "metadata": {},
   "outputs": [],
   "source": [
    "np.std(demand_pois)"
   ]
  },
  {
   "cell_type": "code",
   "execution_count": null,
   "metadata": {},
   "outputs": [],
   "source": []
  },
  {
   "cell_type": "code",
   "execution_count": null,
   "metadata": {},
   "outputs": [],
   "source": [
    "plt.plot(state_1[:2000])\n",
    "plt.plot(state[:2000])"
   ]
  },
  {
   "cell_type": "code",
   "execution_count": null,
   "metadata": {},
   "outputs": [],
   "source": [
    "120/8"
   ]
  },
  {
   "cell_type": "code",
   "execution_count": null,
   "metadata": {},
   "outputs": [],
   "source": [
    "omega*std"
   ]
  },
  {
   "cell_type": "code",
   "execution_count": null,
   "metadata": {},
   "outputs": [],
   "source": [
    "p_range = np.arange(0.05,1.0,0.05)\n",
    "omegas = []\n",
    "for p in np.arange(0.05,1.0,0.05):\n",
    "    s = p*0.03\n",
    "    std = np.sqrt(2*p*(1-p))\n",
    "    print(p,std/s)\n",
    "    omegas.append(std/s)\n",
    "    \n",
    "plt.plot(p_range,omegas)"
   ]
  },
  {
   "cell_type": "code",
   "execution_count": null,
   "metadata": {},
   "outputs": [],
   "source": [
    "0.999999**100000"
   ]
  },
  {
   "cell_type": "code",
   "execution_count": null,
   "metadata": {},
   "outputs": [],
   "source": [
    "data = {}"
   ]
  },
  {
   "cell_type": "code",
   "execution_count": null,
   "metadata": {},
   "outputs": [],
   "source": [
    "#bernoilli random variable\n",
    "n = int(1e6)\n",
    "\n",
    "flow = True\n",
    "perturb_range = np.arange(0.8,1.025,0.05)\n",
    "#perturb_range = [1]\n",
    "\n",
    "scale = 0.90\n",
    "\n",
    "np.random.seed(101)\n",
    "\n",
    "for perturb in perturb_range:\n",
    "\n",
    "    mu_demand = scale*perturb\n",
    "    mu_drain = mu_demand*1.03\n",
    "\n",
    "    s = mu_drain-mu_demand\n",
    "    std = np.sqrt(mu_demand*(1-mu_demand)+mu_drain*(1-mu_drain))\n",
    "    \n",
    "    omega = std/s\n",
    "    #print(omega)\n",
    "\n",
    "    demand_seq = np.random.binomial(1,mu_demand,n)\n",
    "    drain_seq = np.random.binomial(1,mu_drain,n)\n",
    "    if flow:\n",
    "        state = reflected_random_walk(demand_seq,drain_seq,flow=True)\n",
    "    else:\n",
    "        state = reflected_random_walk(demand_seq,drain_seq,flow=False)-np.ones(n)*mu_demand\n",
    "\n",
    "    rate = np.sum(state)/n\n",
    "    \n",
    "    obs = std**2/s\n",
    "    print(obs)\n",
    "\n",
    "    data[rate] = (obs,std/s)\n",
    "    #plt.plot(np.cumsum(state))"
   ]
  },
  {
   "cell_type": "code",
   "execution_count": null,
   "metadata": {},
   "outputs": [],
   "source": []
  },
  {
   "cell_type": "code",
   "execution_count": null,
   "metadata": {},
   "outputs": [],
   "source": [
    "plt.plot(state)"
   ]
  },
  {
   "cell_type": "code",
   "execution_count": null,
   "metadata": {},
   "outputs": [],
   "source": [
    "data"
   ]
  },
  {
   "cell_type": "code",
   "execution_count": null,
   "metadata": {},
   "outputs": [],
   "source": [
    "hs,omegas = list(zip(*data.values()))\n",
    "rates = np.array(list(data.keys()))\n",
    "omegas = np.array(omegas)\n",
    "hs = np.array(hs)"
   ]
  },
  {
   "cell_type": "code",
   "execution_count": null,
   "metadata": {},
   "outputs": [],
   "source": [
    "rates/hs"
   ]
  },
  {
   "cell_type": "code",
   "execution_count": null,
   "metadata": {},
   "outputs": [],
   "source": [
    "plt.figure(figsize=(8,8))\n",
    "plt.loglog(hs,rates,\".\")\n",
    "plt.loglog(np.array(omegas),rates,\".\")\n",
    "#plt.xlim(left=0.9)\n",
    "#plt.ylim(bottom = 0.1,top=10)\n",
    "#plt.xscale(\"log\",basex=30)\n",
    "\n",
    "#plt.yscale(\"log\",basey=30)\n",
    "#plt.ylim(bottom=-0.2)"
   ]
  },
  {
   "cell_type": "code",
   "execution_count": null,
   "metadata": {},
   "outputs": [],
   "source": [
    "plt.loglog(hs,rates,\".\",basey=10)\n",
    "#plt.loglog(omegas,rates,\".\",basey=30)\n",
    "#plt.xlim()"
   ]
  },
  {
   "cell_type": "code",
   "execution_count": null,
   "metadata": {},
   "outputs": [],
   "source": [
    "plt.loglog(omegas,rates,\".\")"
   ]
  },
  {
   "cell_type": "code",
   "execution_count": null,
   "metadata": {},
   "outputs": [],
   "source": [
    "plt.loglog(data.keys(),data.values(),\".\")\n",
    "#plt.ylim(top=7,bottom=0)"
   ]
  },
  {
   "cell_type": "code",
   "execution_count": null,
   "metadata": {},
   "outputs": [],
   "source": [
    "plt.plot(state)"
   ]
  },
  {
   "cell_type": "code",
   "execution_count": null,
   "metadata": {},
   "outputs": [],
   "source": [
    "plt.plot(state)"
   ]
  },
  {
   "cell_type": "code",
   "execution_count": null,
   "metadata": {},
   "outputs": [],
   "source": [
    "plt.plot(data.keys(),data.values(),\".\")"
   ]
  },
  {
   "cell_type": "code",
   "execution_count": null,
   "metadata": {},
   "outputs": [],
   "source": [
    "plt.plot(d.keys(),d.values(),\".\")"
   ]
  },
  {
   "cell_type": "code",
   "execution_count": null,
   "metadata": {},
   "outputs": [],
   "source": [
    "plt.plot(data.keys(),data.values(),\".\")"
   ]
  },
  {
   "cell_type": "code",
   "execution_count": null,
   "metadata": {},
   "outputs": [],
   "source": [
    "from sklearn.linear_model import LinearRegression"
   ]
  },
  {
   "cell_type": "code",
   "execution_count": null,
   "metadata": {},
   "outputs": [],
   "source": [
    "x = np.array(list(zip(*data.values()))).T[:-3,0].reshape(-1,1)\n",
    "y = np.array(list(data.keys())[:-3])\n",
    "\n",
    "x = np.array(hs).reshape(-1,1)\n",
    "y = np.array(rates)\n",
    "\n",
    "if True:\n",
    "    x = np.log(x)\n",
    "    y = np.log(y)"
   ]
  },
  {
   "cell_type": "code",
   "execution_count": null,
   "metadata": {},
   "outputs": [],
   "source": [
    "x"
   ]
  },
  {
   "cell_type": "code",
   "execution_count": null,
   "metadata": {},
   "outputs": [],
   "source": [
    "clf = LinearRegression(normalize=True)\n",
    "clf.fit(x,y)\n",
    "print(clf.score(x,y))\n",
    "y_pred = clf.predict(x)"
   ]
  },
  {
   "cell_type": "code",
   "execution_count": null,
   "metadata": {},
   "outputs": [],
   "source": [
    "#x = np.exp(x)\n",
    "#y = np.exp(y)\n",
    "#y_pred = np.exp(y_pred)"
   ]
  },
  {
   "cell_type": "code",
   "execution_count": null,
   "metadata": {},
   "outputs": [],
   "source": [
    "y"
   ]
  },
  {
   "cell_type": "code",
   "execution_count": null,
   "metadata": {},
   "outputs": [],
   "source": [
    "(y-y_pred)/y"
   ]
  },
  {
   "cell_type": "code",
   "execution_count": null,
   "metadata": {},
   "outputs": [],
   "source": [
    "clf.score(x,y)"
   ]
  },
  {
   "cell_type": "code",
   "execution_count": null,
   "metadata": {},
   "outputs": [],
   "source": [
    "np.exp(clf.intercept_)"
   ]
  },
  {
   "cell_type": "code",
   "execution_count": null,
   "metadata": {},
   "outputs": [],
   "source": [
    "clf.coef_"
   ]
  },
  {
   "cell_type": "code",
   "execution_count": null,
   "metadata": {},
   "outputs": [],
   "source": [
    "omega"
   ]
  },
  {
   "cell_type": "code",
   "execution_count": null,
   "metadata": {},
   "outputs": [],
   "source": [
    "plt.plot(x,y,\".\")\n",
    "plt.plot(x,y_pred)"
   ]
  },
  {
   "cell_type": "code",
   "execution_count": null,
   "metadata": {},
   "outputs": [],
   "source": [
    "plt.plot(np.exp(x),np.exp(y),\".\")\n",
    "plt.plot(np.exp(x),np.exp(clf.predict(x)))\n",
    "#plt.xlim(right=300)\n",
    "#plt.ylim(top=10,bottom=0)"
   ]
  },
  {
   "cell_type": "code",
   "execution_count": null,
   "metadata": {},
   "outputs": [],
   "source": [
    "plt.plot(x[:,0],y,\".\")\n",
    "plt.plot(x[:,0],clf.predict(x))\n",
    "#plt.xlim(right=100)"
   ]
  },
  {
   "cell_type": "code",
   "execution_count": null,
   "metadata": {},
   "outputs": [],
   "source": [
    "clf.coef_"
   ]
  },
  {
   "cell_type": "code",
   "execution_count": null,
   "metadata": {},
   "outputs": [],
   "source": [
    "clf.intercept_"
   ]
  },
  {
   "cell_type": "code",
   "execution_count": null,
   "metadata": {},
   "outputs": [],
   "source": [
    "clf.coef_"
   ]
  },
  {
   "cell_type": "code",
   "execution_count": null,
   "metadata": {},
   "outputs": [],
   "source": [
    "plt.plot(x,y,\".\")\n",
    "#plt.plot(x,clf.predict(x))\n",
    "#plt.xlim(right=5)"
   ]
  },
  {
   "cell_type": "code",
   "execution_count": null,
   "metadata": {},
   "outputs": [],
   "source": [
    "plt.plot(data.keys(),data.values(),\".\")"
   ]
  },
  {
   "cell_type": "code",
   "execution_count": null,
   "metadata": {},
   "outputs": [],
   "source": [
    "plt.plot(data.keys(),data.values(),\".\")"
   ]
  },
  {
   "cell_type": "code",
   "execution_count": null,
   "metadata": {},
   "outputs": [],
   "source": [
    "plt.plot(state[:100])"
   ]
  },
  {
   "cell_type": "code",
   "execution_count": null,
   "metadata": {},
   "outputs": [],
   "source": [
    "mu_demand"
   ]
  },
  {
   "cell_type": "code",
   "execution_count": null,
   "metadata": {},
   "outputs": [],
   "source": [
    "plt.plot(state[:1000])"
   ]
  },
  {
   "cell_type": "code",
   "execution_count": null,
   "metadata": {},
   "outputs": [],
   "source": [
    "len(trans_seq)"
   ]
  },
  {
   "cell_type": "code",
   "execution_count": null,
   "metadata": {},
   "outputs": [],
   "source": [
    "np.sqrt(mu_transfer+mu_demand)/(slack_capacity)"
   ]
  },
  {
   "cell_type": "code",
   "execution_count": null,
   "metadata": {},
   "outputs": [],
   "source": [
    "plt.plot(state)"
   ]
  },
  {
   "cell_type": "code",
   "execution_count": null,
   "metadata": {},
   "outputs": [],
   "source": [
    "max(state)"
   ]
  },
  {
   "cell_type": "code",
   "execution_count": null,
   "metadata": {},
   "outputs": [],
   "source": [
    "state = reflected_random_walk(demand_seq,transfer_seq)"
   ]
  },
  {
   "cell_type": "code",
   "execution_count": null,
   "metadata": {},
   "outputs": [],
   "source": [
    "plt.plot(np.cumsum(state)-refl_mean)"
   ]
  },
  {
   "cell_type": "code",
   "execution_count": null,
   "metadata": {},
   "outputs": [],
   "source": [
    "min(expected_trend)"
   ]
  },
  {
   "cell_type": "code",
   "execution_count": null,
   "metadata": {},
   "outputs": [],
   "source": [
    "plt.plot(np.cumsum(state))\n",
    "#plt.plot(-np.cumsum(expected_trend))"
   ]
  },
  {
   "cell_type": "code",
   "execution_count": null,
   "metadata": {},
   "outputs": [],
   "source": [
    "#plt.plot(np.arange(1,n+1)*(mu_transfer))\n",
    "plt.plot(np.cumsum(state)/np.arange(1,n+1)*(mu_transfer))"
   ]
  },
  {
   "cell_type": "code",
   "execution_count": null,
   "metadata": {},
   "outputs": [],
   "source": [
    "refl_mean = np.mean(state)*np.arange(1,n+1)\n",
    "plt.plot(np.abs(np.cumsum(state)/(np.arange(1,n+1)*(mu_transfer))))"
   ]
  },
  {
   "cell_type": "code",
   "execution_count": null,
   "metadata": {},
   "outputs": [],
   "source": [
    "mu_transfer"
   ]
  },
  {
   "cell_type": "code",
   "execution_count": null,
   "metadata": {},
   "outputs": [],
   "source": [
    "slack_capacity = mu_transfer-mu_demand\n",
    "expected_trend = np.arange(1,n+1)*(mu_demand-mu_transfer)\n",
    "emp_ratio = np.abs((np.cumsum(-transfer_seq+demand_seq)-expected_trend)/expected_trend)\n",
    "ratio = np.sqrt(mu_transfer+mu_demand)/(slack_capacity*np.sqrt(np.arange(1,n+1)))\n",
    "\n",
    "dur = 6000000\n",
    "plt.plot(emp_ratio[:dur],label=\"rw\")\n",
    "plt.plot(ratio[:dur],label=\"theory\")\n",
    "\n",
    "#plt.plot(refl_ratio[dur-1000:dur],label=\"refl rw\")\n",
    "#plt.ylim(top=1,bottom=0)\n",
    "plt.ylim(top=0.2,bottom=0)\n",
    "plt.legend()\n",
    "#plt.plot(expected_trend)"
   ]
  },
  {
   "cell_type": "code",
   "execution_count": null,
   "metadata": {},
   "outputs": [],
   "source": [
    "plt.plot((np.cumsum(transfer_seq-demand_seq)-np.arange(1,n+1)*(mu_transfer-mu_demand))/(np.arange(1,n+1)*(mu_transfer-mu_demand)))\n",
    "plt.ylim(top=1,bottom=0)"
   ]
  },
  {
   "cell_type": "code",
   "execution_count": null,
   "metadata": {},
   "outputs": [],
   "source": [
    "def compute_scaling_ratio(mu_drain,mu_demand,drift_sd,init_state):\n",
    "    drain_time = init_state/(mu_drain-mu_demand)\n",
    "    accum_std = drift_sd*np.sqrt(drain_time)\n",
    "    ratio = accum_std/init_state\n",
    "    \n",
    "    return ratio"
   ]
  },
  {
   "cell_type": "code",
   "execution_count": null,
   "metadata": {},
   "outputs": [],
   "source": [
    "def optimal_transfer_ratio(mu_demand,mu_transfer,mu_drain,c1,c2):\n",
    "    ratio_term = (mu_demand/mu_drain)*((mu_drain-mu_transfer)/(mu_transfer-mu_demand))*(c1/c2)    \n",
    "    return 1/(1+ratio_term)"
   ]
  },
  {
   "cell_type": "code",
   "execution_count": null,
   "metadata": {},
   "outputs": [],
   "source": [
    "def maxweight_transfer_ratio(mu_demand,mu_transfer,mu_drain,c1,c2):\n",
    "    ratio_term = (mu_demand/mu_drain)*(c1/c2)    \n",
    "    return 1/(1+ratio_term)"
   ]
  },
  {
   "cell_type": "code",
   "execution_count": null,
   "metadata": {},
   "outputs": [],
   "source": [
    "c1 = 1\n",
    "c2 = 3"
   ]
  },
  {
   "cell_type": "code",
   "execution_count": null,
   "metadata": {},
   "outputs": [],
   "source": [
    "optimal_ratio = optimal_transfer_ratio(mu_demand,mu_transfer,mu_drain,c1,c2)"
   ]
  },
  {
   "cell_type": "code",
   "execution_count": null,
   "metadata": {},
   "outputs": [],
   "source": [
    "def simulate_reflected_random_walk(arrival_sequence,transfer_sequence,drain_sequence,thres,init_state,flow):\n",
    "    arrival_buffer = np.zeros(len(arrival_sequence)+1)\n",
    "    drain_buffer = np.zeros(len(arrival_sequence)+1)\n",
    "    drain_buffer[0] = init_state\n",
    "    n_idles = 0\n",
    "    idling_benefit = 0\n",
    "    idling_benefit_2 = 0\n",
    "    completed = False\n",
    "    for i,(a,t,d) in enumerate(zip(arrival_sequence,transfer_sequence,drain_sequence)):\n",
    "        if flow:\n",
    "            t = min(t,arrival_buffer[i]+a)\n",
    "            d = min(d,drain_buffer[i]+t)\n",
    "        else:\n",
    "            t = min(t,arrival_buffer[i])\n",
    "            d = min(d,drain_buffer[i])\n",
    "            \n",
    "        if drain_buffer[i] > thres and not completed:\n",
    "            t = 0\n",
    "            n_idles += 1\n",
    "            idling_benefit += a-d\n",
    "            idling_benefit_2 += a-min(d,drain_buffer[i])\n",
    "        else:\n",
    "            completed = True\n",
    "        \n",
    "        arrival_buffer[i+1] = max(0,arrival_buffer[i]+a-t)\n",
    "        drain_buffer[i+1] = max(0,drain_buffer[i]+t-d)\n",
    "        \n",
    "    #print(n_idles,idling_benefit,idling_benefit_2)\n",
    "    return arrival_buffer,drain_buffer,(len(arrival_sequence)-n_idles)/len(arrival_sequence)"
   ]
  },
  {
   "cell_type": "code",
   "execution_count": null,
   "metadata": {},
   "outputs": [],
   "source": [
    "def simulate_reflected_random_walk_open_loop(arrival_sequence,\n",
    "                                             transfer_sequence,\n",
    "                                             drain_sequence,n_idles,init_state,flow):\n",
    "    arrival_buffer = np.zeros(len(arrival_sequence)+1)\n",
    "    drain_buffer = np.zeros(len(arrival_sequence)+1)\n",
    "    drain_buffer[0] = init_state\n",
    "    for i,(a,t,d) in enumerate(zip(arrival_sequence,transfer_sequence,drain_sequence)):\n",
    "        if flow:\n",
    "            t = min(t,arrival_buffer[i]+a)\n",
    "            d = min(d,drain_buffer[i]+t)\n",
    "        else:\n",
    "            t = min(t,arrival_buffer[i])\n",
    "            d = min(d,drain_buffer[i])\n",
    "            \n",
    "        if i+1 <=n_idles:\n",
    "            t = 0\n",
    "        \n",
    "        arrival_buffer[i+1] = max(0,arrival_buffer[i]+a-t)\n",
    "        drain_buffer[i+1] = max(0,drain_buffer[i]+t-d)\n",
    "        \n",
    "    #print(n_idles,idling_benefit,idling_benefit_2)\n",
    "    return arrival_buffer,drain_buffer,None"
   ]
  },
  {
   "cell_type": "code",
   "execution_count": null,
   "metadata": {},
   "outputs": [],
   "source": [
    "def simulate_adjustable_threshold(arrival_sequence,transfer_sequence,drain_sequence,remainder_ratio,init_state):\n",
    "    arrival_buffer = np.zeros(len(arrival_sequence)+1)\n",
    "    drain_buffer = np.zeros(len(arrival_sequence)+1)\n",
    "    drain_buffer[0] = init_state\n",
    "    n_idles = 0\n",
    "    idling_benefit = 0\n",
    "    idling_benefit_2 = 0\n",
    "    completed = False\n",
    "    for i,(a,t,d) in enumerate(zip(arrival_sequence,transfer_sequence,drain_sequence)):\n",
    "        t = min(t,arrival_buffer[i]+a)\n",
    "        d = min(d,drain_buffer[i]+t)\n",
    "        optimal_remainder = (arrival_buffer[i]+drain_buffer[i])*remainder_ratio\n",
    "        #print(optimal_remainder/drain_buffer[i])\n",
    "        if drain_buffer[i] > optimal_remainder:\n",
    "            t = 0\n",
    "            n_idles += 1\n",
    "            idling_benefit += a-d\n",
    "            idling_benefit_2 += a-min(d,drain_buffer[i])\n",
    "        \n",
    "        arrival_buffer[i+1] = max(0,arrival_buffer[i]+a-t)\n",
    "        drain_buffer[i+1] = max(0,drain_buffer[i]+t-d)\n",
    "        \n",
    "    #print(n_idles,idling_benefit,idling_benefit_2)\n",
    "    return arrival_buffer,drain_buffer,(len(arrival_sequence)-n_idles)/len(arrival_sequence)"
   ]
  },
  {
   "cell_type": "code",
   "execution_count": null,
   "metadata": {},
   "outputs": [],
   "source": [
    "def simulate_maxweight(arrival_sequence,transfer_sequence,drain_sequence,c1,c2,init_state):\n",
    "    arrival_buffer = np.zeros(len(arrival_sequence)+1)\n",
    "    drain_buffer = np.zeros(len(arrival_sequence)+1)\n",
    "    drain_buffer[0] = init_state\n",
    "    n_idles = 0\n",
    "    idling_benefit = 0\n",
    "    idling_benefit_2 = 0\n",
    "    reached = False\n",
    "    for i,(a,t,d) in enumerate(zip(arrival_sequence,transfer_sequence,drain_sequence)):\n",
    "        t = min(t,arrival_buffer[i])\n",
    "        d = min(d,drain_buffer[i])\n",
    "        if drain_buffer[i]*c2/(mu_drain-mu_transfer) >= arrival_buffer[i]*c1/(mu_transfer-mu_demand):\n",
    "            t = 0\n",
    "            n_idles += 1\n",
    "            idling_benefit += a-d\n",
    "            idling_benefit_2 += a-min(d,drain_buffer[i])\n",
    "        elif not reached:\n",
    "            #if not reached:\n",
    "            reached = True\n",
    "            thres = 1-drain_buffer[i]*1./init_state\n",
    "        \n",
    "        arrival_buffer[i+1] = max(0,arrival_buffer[i]+a-t)\n",
    "        drain_buffer[i+1] = max(0,drain_buffer[i]+t-d)\n",
    "        \n",
    "    #print(n_idles,idling_benefit,idling_benefit_2)\n",
    "    return arrival_buffer,drain_buffer,thres"
   ]
  },
  {
   "cell_type": "code",
   "execution_count": null,
   "metadata": {},
   "outputs": [],
   "source": [
    "scale = 1\n",
    "\n",
    "flow=False\n",
    "deterministic = False\n",
    "cumul = False\n",
    "\n",
    "f,ax = plt.subplots(3,1,figsize=(16,8))\n",
    "\n",
    "init_state = int(7e4*scale)\n",
    "duration = int(110000*scale)#len(demand_seq)\n",
    "#uration = int(140000*scale)\n",
    "plot_range = range(duration)\n",
    "#plot_range = range(duration-200,duration)\n",
    "\n",
    "thresholds = []\n",
    "x_incr = 0.2\n",
    "x_transfer = np.arange(0,1.+x_incr,x_incr)\n",
    "x_transfer = [0.65]\n",
    "\n",
    "if deterministic:\n",
    "    dem_seq = np.ones(duration)*mu_demand\n",
    "    trans_seq = np.ones(duration)*mu_transfer\n",
    "    dr_seq = np.ones(duration)*mu_drain\n",
    "    drift_sd = 0\n",
    "    #if flow:\n",
    "     #   drift_sd = -1\n",
    "    #drift_sd = np.sqrt(2*mu_drain)\n",
    "else:\n",
    "    np.random.seed(init_state)\n",
    "    dem_seq = np.random.poisson(mu_demand,duration)\n",
    "    trans_seq = np.random.poisson(mu_transfer,duration)\n",
    "    dr_seq = np.random.poisson(mu_drain,duration)\n",
    "    drift_sd = np.sqrt(2*mu_drain)\n",
    "    #if flow:\n",
    "    #drift_sd = 0\n",
    "    #drift_sd = 1\n",
    "\n",
    "scaling_ratio = compute_scaling_ratio(mu_drain,mu_demand,drift_sd,init_state)\n",
    "    \n",
    "#print(len(dem_seq))\n",
    "for x_t in x_transfer:\n",
    "\n",
    "    thres = init_state-x_t*init_state\n",
    "    thresholds.append(thres)\n",
    "    arrival_buffer,drain_buffer,zeta = simulate_reflected_random_walk(dem_seq[:duration],\n",
    "                                                                      trans_seq[:duration],\n",
    "                                                                      dr_seq[:duration],thres,init_state=init_state,\n",
    "                                                                        flow=flow)\n",
    "\n",
    "    if cumul:\n",
    "        ax[1].plot(np.cumsum(drain_buffer*c2)[plot_range],label=x_t)\n",
    "        ax[0].plot(np.cumsum(arrival_buffer*c1)[plot_range])\n",
    "        ax[2].plot(np.cumsum(arrival_buffer*c1+drain_buffer*c2)[plot_range])\n",
    "    else:\n",
    "        #pass\n",
    "        ax[1].plot((drain_buffer*c2)[plot_range],label=x_t)\n",
    "        ax[0].plot((arrival_buffer*c1)[plot_range])\n",
    "        ax[2].plot((arrival_buffer*c1+drain_buffer*c2)[plot_range])\n",
    "    #print(np.min(np.diff((arrival_buffer[1500:2000]*c1+drain_buffer[1500:2000]*c2))))\n",
    "f.suptitle(f'{np.round(scaling_ratio,3)}',fontsize=30)"
   ]
  },
  {
   "cell_type": "code",
   "execution_count": null,
   "metadata": {},
   "outputs": [],
   "source": [
    "costs = {}"
   ]
  },
  {
   "cell_type": "code",
   "execution_count": null,
   "metadata": {},
   "outputs": [],
   "source": [
    "scale_list = [0.03,0.07,0.1,0.3,1,2]\n",
    "#scale_list = [0.03,0.07,0.1,0.3]\n",
    "#scale_list = [0.1]\n",
    "closed_loop = True\n",
    "flow = False\n",
    "deterministic = False\n",
    "plot = False\n",
    "\n",
    "\n",
    "for scale in scale_list:\n",
    "    print(scale)\n",
    "    cost = []\n",
    "    drain_cost = []\n",
    "    cost_1 = []\n",
    "    hedging = np.arange(100,5000,250)\n",
    "    init_state = int(7e4*scale)\n",
    "    #hedging = np.arange(1,7)\n",
    "    j = 1\n",
    "    if plot:\n",
    "        f,ax = plt.subplots(3,1,figsize=(16,8))\n",
    "    #plot_range = range(4000,5000)\n",
    "\n",
    "    opt_transfer_ratio = optimal_transfer_ratio(mu_demand,mu_transfer,mu_drain,c1,c2)\n",
    "\n",
    "    duration = int(110000*scale)#len(demand_seq)\n",
    "    duration = int(140000*scale)\n",
    "    n_repeat = max(1,int(1/scale))*3\n",
    "    plot_range = range(duration)\n",
    "    #plot_range = range(duration-200,duration)\n",
    "    cumul = False\n",
    "    thresholds = []\n",
    "    #x_incr = 2000*scale\n",
    "    #x_transfer = np.arange(0,init_state,x_incr)\n",
    "    x_incr = 0.05\n",
    "    x_transfer = np.arange(0,1.+x_incr,x_incr)\n",
    "    #for h in reversed(hedging):\n",
    "    \n",
    "    if plot:\n",
    "        n_repeat = 1\n",
    "\n",
    "    sample_costs = []\n",
    "    for n in range(1,n_repeat+1):\n",
    "        cost = []\n",
    "        if deterministic:\n",
    "            dem_seq = np.ones(duration)*mu_demand\n",
    "            trans_seq = np.ones(duration)*mu_transfer\n",
    "            dr_seq = np.ones(duration)*mu_drain\n",
    "            drift_sd = 0\n",
    "            #if flow:\n",
    "             #   drift_sd = -1\n",
    "            #drift_sd = np.sqrt(2*mu_drain)\n",
    "        else:\n",
    "            np.random.seed(init_state*n)\n",
    "            dem_seq = np.random.poisson(mu_demand,duration)\n",
    "            trans_seq = np.random.poisson(mu_transfer,duration)\n",
    "            dr_seq = np.random.poisson(mu_drain,duration)\n",
    "            drift_sd = np.sqrt(2*mu_drain)\n",
    "            #if flow:\n",
    "            #drift_sd = 0\n",
    "            #drift_sd = 1\n",
    "        \n",
    "        #print(len(dem_seq))\n",
    "        for x_t in x_transfer:\n",
    "            #print(x_t)\n",
    "            #thres = mu_drain+h*np.sqrt(mu_drain)\n",
    "            thres = init_state-x_t*init_state\n",
    "            thresholds.append(thres)\n",
    "            #print(thres)\n",
    "            #thres = h*10\n",
    "            \n",
    "            n_idles = int(x_t*init_state/mu_drain)\n",
    "            #print(x_t,n_idles)\n",
    "            if closed_loop:\n",
    "                arrival_buffer,drain_buffer,zeta = simulate_reflected_random_walk(dem_seq[:duration],\n",
    "                                                                              trans_seq[:duration],\n",
    "                                                                              dr_seq[:duration],thres,init_state=init_state,\n",
    "                                                                                flow=flow)\n",
    "            else:\n",
    "                arrival_buffer,drain_buffer,zeta = simulate_reflected_random_walk_open_loop(\n",
    "                    dem_seq[:duration],\n",
    "                    trans_seq[:duration],\n",
    "                    dr_seq[:duration],\n",
    "                    n_idles,\n",
    "                    init_state=init_state,\n",
    "                    flow=flow)\n",
    "            \n",
    "            \n",
    "            a_zeros = np.where(np.array(arrival_buffer) < mu_transfer)[0]\n",
    "            if len(a_zeros) < 3:\n",
    "                final_a_ind = len(arrival_buffer)\n",
    "            else:\n",
    "                final_a_ind = a_zeros[2]\n",
    "                \n",
    "            \n",
    "            \n",
    "            d_zeros = np.where(np.array(drain_buffer) < mu_drain)[0]\n",
    "            #if len(d_zeros) < 2:\n",
    "             #   final_d_ind = len(drain_buffer)\n",
    "            #else:\n",
    "             #   final_d_ind = d_zeros[1]\n",
    "            final_d_ind = d_zeros[0]\n",
    "                \n",
    "            #print(final_d_ind)\n",
    "            #print()\n",
    "            #print(x_t)\n",
    "            #print(final_a_ind,sum(arrival_buffer[:final_a_ind]*c1)/sum(arrival_buffer*c1))\n",
    "            #print(final_d_ind,sum(drain_buffer[:final_d_ind])/sum(drain_buffer))\n",
    "            \n",
    "            #cost.append(sum(arrival_buffer*c1)+sum(drain_buffer*c2))\n",
    "            clean_cost = sum(arrival_buffer[:final_a_ind]*c1)+sum(drain_buffer[:final_d_ind]*c2)\n",
    "            total_cost = sum(arrival_buffer*c1)+sum(drain_buffer*c2)\n",
    "            #print(clean_cost/total_cost)\n",
    "            #print(sum(arrival_buffer[:final_a_ind]*c1)+sum(drain_buffer[:final_d_ind]*c2)))\n",
    "            \n",
    "            \n",
    "            cost.append(clean_cost)\n",
    "            #drain_cost.append(init_state**2*c1/(2*(mu_transfer*zeta-mu_demand)))\n",
    "            #plt.plot(drain_buffer[j*1000:(j+1)*1000]*c2+arrival_buffer[j*1000:(j+1)*1000]*c1)\n",
    "            if plot:\n",
    "                if cumul:\n",
    "                    ax[1].plot(np.cumsum(drain_buffer*c2)[plot_range],label=x_t)\n",
    "                    ax[0].plot(np.cumsum(arrival_buffer*c1)[plot_range])\n",
    "                    ax[2].plot(np.cumsum(arrival_buffer*c1+drain_buffer*c2)[plot_range])\n",
    "                else:\n",
    "                    #pass\n",
    "                    ax[1].plot((drain_buffer*c2)[plot_range],label=x_t)\n",
    "                    ax[0].plot((arrival_buffer*c1)[plot_range])\n",
    "                    ax[2].plot((arrival_buffer*c1+drain_buffer*c2)[plot_range])\n",
    "            #print(np.min(np.diff((arrival_buffer[1500:2000]*c1+drain_buffer[1500:2000]*c2))))\n",
    "\n",
    "        cost_norm = 0.5*c2*init_state**2/(mu_drain-mu_demand)\n",
    "\n",
    "\n",
    "\n",
    "        #drift_sd = 0\n",
    "        scaling_ratio = compute_scaling_ratio(mu_drain,mu_demand,drift_sd,init_state)\n",
    "        sample_costs.append(np.array(cost))\n",
    "        \n",
    "        #costs[(scaling_ratio,scale,init_state)] = cost\n",
    "\n",
    "        arrival_buffer,drain_buffer,mw_thres = simulate_maxweight(dem_seq[:duration],\n",
    "                                                              trans_seq[:duration],\n",
    "                                                              dr_seq[:duration],\n",
    "                                                              c1,c2,init_state=init_state)\n",
    "        max_weight_cost = (sum(arrival_buffer*c1)+sum(drain_buffer*c2))\n",
    "        max_weight_transfer_ratio = maxweight_transfer_ratio(mu_demand,mu_transfer,mu_drain,c1,c2)\n",
    "\n",
    "        remainder_ratio = 1-opt_transfer_ratio\n",
    "\n",
    "        arrival_buffer,drain_buffer,zeta = simulate_adjustable_threshold(dem_seq[:duration],\n",
    "                                                                         trans_seq[:duration],\n",
    "                                                                         dr_seq[:duration],remainder_ratio,init_state=init_state)\n",
    "        adjust_thres_cost = (sum(arrival_buffer*c1)+sum(drain_buffer*c2))\n",
    "\n",
    "        #ax[1].plot((drain_buffer*c2)[plot_range],label=\"hello\")\n",
    "        #ax[0].plot((arrival_buffer*c1)[plot_range])\n",
    "        #ax[2].plot((arrival_buffer*c1+drain_buffer*c2)[plot_range])\n",
    "\n",
    "        #thres = 2e6\n",
    "        #thres = h*10\n",
    "        #arrival_buffer,drain_buffer,_ = simulate_reflected_random_walk(demand_seq[:duration],transfer_seq[:duration],drain_seq[:duration],thres,init_state=init_state)\n",
    "        #no_idling_cost = sum(arrival_buffer*c1)+sum(drain_buffer*c2)\n",
    "        #cost.append(sum(arrival_buffer*c1))\n",
    "        #plt.plot(drain_buffer[j*1000:(j+1)*1000]*c2+arrival_buffer[j*1000:(j+1)*1000]*c1)\n",
    "        #if cumul:\n",
    "         #   ax[1].plot(np.cumsum(drain_buffer*c2)[plot_range],label=\"e\")\n",
    "          #  ax[0].plot(np.cumsum(arrival_buffer*c1)[plot_range],label=\"e\")\n",
    "           # ax[2].plot(np.cumsum(arrival_buffer*c1+drain_buffer*c2)[plot_range])\n",
    "        #else:\n",
    "         #   ax[1].plot((drain_buffer*c2)[plot_range],label=\"e\")\n",
    "          #  ax[0].plot((arrival_buffer*c1)[plot_range])\n",
    "           # ax[2].plot((arrival_buffer*c1+drain_buffer*c2)[plot_range])\n",
    "\n",
    "        #f.legend()\n",
    "    costs[(scaling_ratio,scale,init_state)] = np.mean(np.vstack(sample_costs),axis=0)"
   ]
  },
  {
   "cell_type": "code",
   "execution_count": null,
   "metadata": {},
   "outputs": [],
   "source": [
    "scale_list = [0.03,0.07,0.1,0.3,1,2]\n",
    "#scale_list = [0.03,0.07,0.1,0.3]\n",
    "#scale_list = [0.1]\n",
    "closed_loop = True\n",
    "flow = False\n",
    "deterministic = True\n",
    "plot = False\n",
    "\n",
    "\n",
    "for scale in scale_list:\n",
    "    print(scale)\n",
    "    cost = []\n",
    "    drain_cost = []\n",
    "    cost_1 = []\n",
    "    hedging = np.arange(100,5000,250)\n",
    "    init_state = int(7e4*scale)\n",
    "    #hedging = np.arange(1,7)\n",
    "    j = 1\n",
    "    if plot:\n",
    "        f,ax = plt.subplots(3,1,figsize=(16,8))\n",
    "    #plot_range = range(4000,5000)\n",
    "\n",
    "    opt_transfer_ratio = optimal_transfer_ratio(mu_demand,mu_transfer,mu_drain,c1,c2)\n",
    "\n",
    "    duration = int(110000*scale)#len(demand_seq)\n",
    "    duration = int(140000*scale)\n",
    "    n_repeat = max(1,int(1/scale))*3\n",
    "    plot_range = range(duration)\n",
    "    #plot_range = range(duration-200,duration)\n",
    "    cumul = False\n",
    "    thresholds = []\n",
    "    #x_incr = 2000*scale\n",
    "    #x_transfer = np.arange(0,init_state,x_incr)\n",
    "    x_incr = 0.05\n",
    "    x_transfer = np.arange(0,1.+x_incr,x_incr)\n",
    "    #for h in reversed(hedging):\n",
    "    \n",
    "    if plot:\n",
    "        n_repeat = 1\n",
    "\n",
    "    sample_costs = []\n",
    "    for n in range(1,n_repeat+1):\n",
    "        cost = []\n",
    "        if deterministic:\n",
    "            dem_seq = np.ones(duration)*mu_demand\n",
    "            trans_seq = np.ones(duration)*mu_transfer\n",
    "            dr_seq = np.ones(duration)*mu_drain\n",
    "            drift_sd = 0\n",
    "            #if flow:\n",
    "             #   drift_sd = -1\n",
    "            #drift_sd = np.sqrt(2*mu_drain)\n",
    "        else:\n",
    "            np.random.seed(init_state*n)\n",
    "            dem_seq = np.random.poisson(mu_demand,duration)\n",
    "            trans_seq = np.random.poisson(mu_transfer,duration)\n",
    "            dr_seq = np.random.poisson(mu_drain,duration)\n",
    "            drift_sd = np.sqrt(2*mu_drain)\n",
    "            #if flow:\n",
    "            #drift_sd = 0\n",
    "            #drift_sd = 1\n",
    "        \n",
    "        #print(len(dem_seq))\n",
    "        for x_t in x_transfer:\n",
    "            #print(x_t)\n",
    "            #thres = mu_drain+h*np.sqrt(mu_drain)\n",
    "            thres = init_state-x_t*init_state\n",
    "            thresholds.append(thres)\n",
    "            #print(thres)\n",
    "            #thres = h*10\n",
    "            \n",
    "            n_idles = int(x_t*init_state/mu_drain)\n",
    "            #print(x_t,n_idles)\n",
    "            if closed_loop:\n",
    "                arrival_buffer,drain_buffer,zeta = simulate_reflected_random_walk(dem_seq[:duration],\n",
    "                                                                              trans_seq[:duration],\n",
    "                                                                              dr_seq[:duration],thres,init_state=init_state,\n",
    "                                                                                flow=flow)\n",
    "            else:\n",
    "                arrival_buffer,drain_buffer,zeta = simulate_reflected_random_walk_open_loop(\n",
    "                    dem_seq[:duration],\n",
    "                    trans_seq[:duration],\n",
    "                    dr_seq[:duration],\n",
    "                    n_idles,\n",
    "                    init_state=init_state,\n",
    "                    flow=flow)\n",
    "            \n",
    "            \n",
    "            a_zeros = np.where(np.array(arrival_buffer) < mu_transfer)[0]\n",
    "            if len(a_zeros) < 3:\n",
    "                final_a_ind = len(arrival_buffer)\n",
    "            else:\n",
    "                final_a_ind = a_zeros[2]\n",
    "                \n",
    "            \n",
    "            \n",
    "            d_zeros = np.where(np.array(drain_buffer) < mu_drain)[0]\n",
    "            #if len(d_zeros) < 2:\n",
    "             #   final_d_ind = len(drain_buffer)\n",
    "            #else:\n",
    "             #   final_d_ind = d_zeros[1]\n",
    "            final_d_ind = d_zeros[0]\n",
    "                \n",
    "            #print(final_d_ind)\n",
    "            #print()\n",
    "            #print(x_t)\n",
    "            #print(final_a_ind,sum(arrival_buffer[:final_a_ind]*c1)/sum(arrival_buffer*c1))\n",
    "            #print(final_d_ind,sum(drain_buffer[:final_d_ind])/sum(drain_buffer))\n",
    "            \n",
    "            #cost.append(sum(arrival_buffer*c1)+sum(drain_buffer*c2))\n",
    "            clean_cost = sum(arrival_buffer[:final_a_ind]*c1)+sum(drain_buffer[:final_d_ind]*c2)\n",
    "            total_cost = sum(arrival_buffer*c1)+sum(drain_buffer*c2)\n",
    "            #print(clean_cost/total_cost)\n",
    "            #print(sum(arrival_buffer[:final_a_ind]*c1)+sum(drain_buffer[:final_d_ind]*c2)))\n",
    "            \n",
    "            \n",
    "            cost.append(clean_cost)\n",
    "            #drain_cost.append(init_state**2*c1/(2*(mu_transfer*zeta-mu_demand)))\n",
    "            #plt.plot(drain_buffer[j*1000:(j+1)*1000]*c2+arrival_buffer[j*1000:(j+1)*1000]*c1)\n",
    "            if plot:\n",
    "                if cumul:\n",
    "                    ax[1].plot(np.cumsum(drain_buffer*c2)[plot_range],label=x_t)\n",
    "                    ax[0].plot(np.cumsum(arrival_buffer*c1)[plot_range])\n",
    "                    ax[2].plot(np.cumsum(arrival_buffer*c1+drain_buffer*c2)[plot_range])\n",
    "                else:\n",
    "                    #pass\n",
    "                    ax[1].plot((drain_buffer*c2)[plot_range],label=x_t)\n",
    "                    ax[0].plot((arrival_buffer*c1)[plot_range])\n",
    "                    ax[2].plot((arrival_buffer*c1+drain_buffer*c2)[plot_range])\n",
    "            #print(np.min(np.diff((arrival_buffer[1500:2000]*c1+drain_buffer[1500:2000]*c2))))\n",
    "\n",
    "        cost_norm = 0.5*c2*init_state**2/(mu_drain-mu_demand)\n",
    "\n",
    "\n",
    "\n",
    "        #drift_sd = 0\n",
    "        scaling_ratio = compute_scaling_ratio(mu_drain,mu_demand,drift_sd,init_state)\n",
    "        sample_costs.append(np.array(cost))\n",
    "        \n",
    "        #costs[(scaling_ratio,scale,init_state)] = cost\n",
    "\n",
    "        arrival_buffer,drain_buffer,mw_thres = simulate_maxweight(dem_seq[:duration],\n",
    "                                                              trans_seq[:duration],\n",
    "                                                              dr_seq[:duration],\n",
    "                                                              c1,c2,init_state=init_state)\n",
    "        max_weight_cost = (sum(arrival_buffer*c1)+sum(drain_buffer*c2))\n",
    "        max_weight_transfer_ratio = maxweight_transfer_ratio(mu_demand,mu_transfer,mu_drain,c1,c2)\n",
    "\n",
    "        remainder_ratio = 1-opt_transfer_ratio\n",
    "\n",
    "        arrival_buffer,drain_buffer,zeta = simulate_adjustable_threshold(dem_seq[:duration],\n",
    "                                                                         trans_seq[:duration],\n",
    "                                                                         dr_seq[:duration],remainder_ratio,init_state=init_state)\n",
    "        adjust_thres_cost = (sum(arrival_buffer*c1)+sum(drain_buffer*c2))\n",
    "\n",
    "        #ax[1].plot((drain_buffer*c2)[plot_range],label=\"hello\")\n",
    "        #ax[0].plot((arrival_buffer*c1)[plot_range])\n",
    "        #ax[2].plot((arrival_buffer*c1+drain_buffer*c2)[plot_range])\n",
    "\n",
    "        #thres = 2e6\n",
    "        #thres = h*10\n",
    "        #arrival_buffer,drain_buffer,_ = simulate_reflected_random_walk(demand_seq[:duration],transfer_seq[:duration],drain_seq[:duration],thres,init_state=init_state)\n",
    "        #no_idling_cost = sum(arrival_buffer*c1)+sum(drain_buffer*c2)\n",
    "        #cost.append(sum(arrival_buffer*c1))\n",
    "        #plt.plot(drain_buffer[j*1000:(j+1)*1000]*c2+arrival_buffer[j*1000:(j+1)*1000]*c1)\n",
    "        #if cumul:\n",
    "         #   ax[1].plot(np.cumsum(drain_buffer*c2)[plot_range],label=\"e\")\n",
    "          #  ax[0].plot(np.cumsum(arrival_buffer*c1)[plot_range],label=\"e\")\n",
    "           # ax[2].plot(np.cumsum(arrival_buffer*c1+drain_buffer*c2)[plot_range])\n",
    "        #else:\n",
    "         #   ax[1].plot((drain_buffer*c2)[plot_range],label=\"e\")\n",
    "          #  ax[0].plot((arrival_buffer*c1)[plot_range])\n",
    "           # ax[2].plot((arrival_buffer*c1+drain_buffer*c2)[plot_range])\n",
    "\n",
    "        #f.legend()\n",
    "    costs[(scaling_ratio,scale,init_state)] = np.mean(np.vstack(sample_costs),axis=0)"
   ]
  },
  {
   "cell_type": "code",
   "execution_count": null,
   "metadata": {},
   "outputs": [],
   "source": [
    "mu_drain"
   ]
  },
  {
   "cell_type": "code",
   "execution_count": null,
   "metadata": {},
   "outputs": [],
   "source": [
    "plt.figure(figsize=(12,8))\n",
    "plt.plot(x_transfer,np.array(cost)/cost_norm,\".\")\n",
    "\n",
    "plt.vlines(optimal_transfer_ratio,min(np.array(cost)/cost_norm)*0.9,1,\"r\")\n",
    "\n",
    "plt.vlines(max_weight_transfer_ratio,min(np.array(cost)/cost_norm)*0.9,1,\"k\")\n",
    "plt.plot(mw_thres,max_weight_cost/cost_norm,\"ko\",markersize=10)\n",
    "plt.hlines(adjust_thres_cost/cost_norm,0,1,\"b\")"
   ]
  },
  {
   "cell_type": "code",
   "execution_count": null,
   "metadata": {},
   "outputs": [],
   "source": [
    "#plt.plot(hedging,[c for c in drain_cost[::-1]])\n",
    "plt.plot(x_transfer,np.array(cost)/cost_norm,\".\")\n",
    "plt.vlines(optimal_ratio,min(np.array(cost)/cost_norm)*0.9,1,\"r\")"
   ]
  },
  {
   "cell_type": "code",
   "execution_count": null,
   "metadata": {},
   "outputs": [],
   "source": [
    "with open(\"deterministic_flow.pkl\",\"wb\") as f:\n",
    "    pickle.dump(costs,f)"
   ]
  },
  {
   "cell_type": "code",
   "execution_count": null,
   "metadata": {},
   "outputs": [],
   "source": [
    "with open(\"cost_profiles.pkl\",\"rb\") as f:\n",
    "    costs = pickle.load(f)"
   ]
  },
  {
   "cell_type": "code",
   "execution_count": null,
   "metadata": {},
   "outputs": [],
   "source": [
    "costs.keys()"
   ]
  },
  {
   "cell_type": "code",
   "execution_count": null,
   "metadata": {},
   "outputs": [],
   "source": [
    "#x_transfer = np.arange(0,1,0.02)\n",
    "\n",
    "plt.figure(figsize=(12,8))\n",
    "for (ratio,scale,init_state) in sorted(costs,key=lambda x: (x[0],-x[1])):\n",
    "    cost = costs[(ratio,scale,init_state)]\n",
    "    x_transfer = np.arange(0,1+1./(len(cost)-1),1./(len(cost)-1))\n",
    "    \n",
    "    #if scale != 2:\n",
    "     #   continue\n",
    "        \n",
    "    #cost_norm = costs[(0.,init_state)][0]\n",
    "    #cost_norm = cost[0]\n",
    "    cost_norm = 0.5*c2*init_state**2/(mu_drain-mu_demand)\n",
    "    \n",
    "    if ratio == 0:\n",
    "        #continue\n",
    "        plt.plot(x_transfer,np.array(cost)/cost_norm,\"-\",label=\"{:.2}, {}\".format(ratio,scale))\n",
    "    else:\n",
    "        #continue\n",
    "        plt.plot(x_transfer,np.array(cost)/cost_norm,\".\",label=\"{:.2}, {}\".format(ratio,scale))\n",
    "\n",
    "plt.vlines(optimal_ratio,min(np.array(cost)/cost_norm)*0.8,1,\"r\")\n",
    "plt.ylim(top=1.1)    \n",
    "plt.ylabel(\"Relative accumulated cost\")\n",
    "plt.xlabel(\"Transfer ratio\")\n",
    "plt.legend()"
   ]
  },
  {
   "cell_type": "code",
   "execution_count": null,
   "metadata": {},
   "outputs": [],
   "source": [
    "#x_transfer = np.arange(0,1,0.02)\n",
    "\n",
    "plt.figure(figsize=(12,8))\n",
    "for (ratio,scale,init_state) in sorted(costs,key=lambda x: x):\n",
    "    cost = costs[(ratio,scale,init_state)]\n",
    "    x_transfer = np.arange(0,1+1./(len(cost)-1),1./(len(cost)-1))\n",
    "    \n",
    "    #if scale != 2:\n",
    "     #   continue\n",
    "        \n",
    "    #cost_norm = costs[(0.,init_state)][0]\n",
    "    #cost_norm = cost[0]\n",
    "    cost_norm = 0.5*c2*init_state**2/(mu_drain-mu_demand)\n",
    "    \n",
    "    if ratio == 0:\n",
    "        #continue\n",
    "        plt.plot(x_transfer,np.array(cost)/cost_norm,\"-\",label=\"{:.2}, {}\".format(ratio,scale))\n",
    "    else:\n",
    "        #continue\n",
    "        plt.plot(x_transfer,np.array(cost)/cost_norm,\".\",label=\"{:.2}, {}\".format(ratio,scale))\n",
    "\n",
    "plt.vlines(optimal_ratio,min(np.array(cost)/cost_norm)*0.8,1,\"r\")\n",
    "plt.ylim(top=1.1)    \n",
    "plt.ylabel(\"Relative accumulated cost\")\n",
    "plt.xlabel(\"Transfer ratio\")\n",
    "plt.legend()"
   ]
  },
  {
   "cell_type": "code",
   "execution_count": null,
   "metadata": {},
   "outputs": [],
   "source": [
    "#x_transfer = np.arange(0,1,0.02)\n",
    "\n",
    "plt.figure(figsize=(12,8))\n",
    "for (ratio,scale,init_state) in sorted(costs,key=lambda x: x):\n",
    "    cost = costs[(ratio,scale,init_state)]\n",
    "    x_transfer = np.arange(0,1+1./(len(cost)-1),1./(len(cost)-1))\n",
    "    \n",
    "    #if scale != 2:\n",
    "     #   continue\n",
    "        \n",
    "    #cost_norm = costs[(0.,init_state)][0]\n",
    "    #cost_norm = cost[0]\n",
    "    cost_norm = 0.5*c2*init_state**2/(mu_drain-mu_demand)\n",
    "    \n",
    "    if ratio == 0:\n",
    "        #continue\n",
    "        plt.plot(x_transfer,np.array(cost)/cost_norm,\"-\",label=\"{:.2}, {}\".format(ratio,scale))\n",
    "    else:\n",
    "        #continue\n",
    "        plt.plot(x_transfer,np.array(cost)/cost_norm,\".\",label=\"{:.2}, {}\".format(ratio,scale))\n",
    "\n",
    "plt.vlines(optimal_ratio,min(np.array(cost)/cost_norm)*0.8,1,\"r\")\n",
    "plt.ylim(top=1.1)    \n",
    "plt.ylabel(\"Relative accumulated cost\")\n",
    "plt.xlabel(\"Transfer ratio\")\n",
    "plt.legend()"
   ]
  },
  {
   "cell_type": "code",
   "execution_count": null,
   "metadata": {},
   "outputs": [],
   "source": [
    "plt.figure(figsize=(12,8))\n",
    "for (ratio,init_state) in sorted(costs,key=lambda x: x):\n",
    "    cost = costs[(ratio,init_state)]\n",
    "    #if init_state != 21000:\n",
    "     #   continue\n",
    "        \n",
    "    #cost_norm = costs[(0.,init_state)][0]\n",
    "    cost_norm = 0.5*c2*init_state**2/(mu_drain-mu_demand)\n",
    "    \n",
    "    if ratio == 0:\n",
    "        #continue\n",
    "        plt.plot(x_transfer,np.array(cost)/cost_norm,\"-\",label=\"{:.2}, {}\".format(ratio,init_state))\n",
    "    else:\n",
    "        #continue\n",
    "        plt.plot(x_transfer,np.array(cost)/cost_norm,\".\",label=\"{:.2}, {}\".format(ratio,init_state))\n",
    "\n",
    "plt.vlines(optimal_ratio,min(np.array(cost)/cost_norm)*0.8,1,\"r\")\n",
    "plt.ylim(top=1.1)    \n",
    "plt.ylabel(\"Relative accumulated cost\")\n",
    "plt.xlabel(\"Transfer ratio\")\n",
    "plt.legend()"
   ]
  },
  {
   "cell_type": "code",
   "execution_count": null,
   "metadata": {},
   "outputs": [],
   "source": [
    "#with open(\"cost_profiles.pkl\",\"wb\") as f:\n",
    " #   pickle.dump(costs,f)"
   ]
  },
  {
   "cell_type": "code",
   "execution_count": null,
   "metadata": {},
   "outputs": [],
   "source": [
    "costs.keys()"
   ]
  },
  {
   "cell_type": "code",
   "execution_count": null,
   "metadata": {},
   "outputs": [],
   "source": [
    "errors = {}\n",
    "optimal_cost = 0.5*c2*140000**2/(mu_drain-mu_demand)\n",
    "cost_det = np.array(costs[(0.0, 2, 140000)])/optimal_cost\n",
    "\n",
    "for (ratio,scale,init_state),cost in costs.items():\n",
    "        \n",
    "    if ratio != 0:\n",
    "        cost_norm = 0.5*c2*init_state**2/(mu_drain-mu_demand)\n",
    "        cost = np.array(cost)/cost_norm\n",
    "        dif = (cost-cost_det)\n",
    "        error = np.sqrt(np.mean((dif)**2))\n",
    "        #error = np.mean((dif)**2)\n",
    "        #error = np.mean(np.abs(dif))\n",
    "        errors[ratio] = error"
   ]
  },
  {
   "cell_type": "code",
   "execution_count": null,
   "metadata": {},
   "outputs": [],
   "source": [
    "errors"
   ]
  },
  {
   "cell_type": "code",
   "execution_count": null,
   "metadata": {},
   "outputs": [],
   "source": [
    "plt.plot(errors.keys(),errors.values(),\".\")"
   ]
  },
  {
   "cell_type": "code",
   "execution_count": null,
   "metadata": {},
   "outputs": [],
   "source": [
    "#plt.plot(hedging,[c for c in drain_cost[::-1]])\n",
    "plt.plot(x_transfer/init_state,cost/cost[0],\".\")"
   ]
  },
  {
   "cell_type": "code",
   "execution_count": null,
   "metadata": {},
   "outputs": [],
   "source": [
    "#plt.plot(hedging,[c for c in drain_cost[::-1]])\n",
    "plt.plot(x_transfer/init_state,[c for c in cost[::-1]],\".\")"
   ]
  },
  {
   "cell_type": "code",
   "execution_count": null,
   "metadata": {},
   "outputs": [],
   "source": [
    "cost = []\n",
    "hedging = np.arange(0,60,5)\n",
    "init_state = 0\n",
    "#hedging = np.arange(1,7)\n",
    "j = 1\n",
    "f,ax = plt.subplots(3,1,figsize=(16,8))\n",
    "#plot_range = range(4000,5000)\n",
    "\n",
    "duration = 55000\n",
    "plot_range = range(0,50000)\n",
    "#plot_range = range(0,300)\n",
    "cumul =True\n",
    "thresholds= []\n",
    "for h in reversed(hedging):\n",
    "    thres = mu_drain+h*np.sqrt(mu_drain)\n",
    "    thresholds.append(thres)\n",
    "    #thres = h*10\n",
    "    arrival_buffer,drain_buffer,zeta = simulate_reflected_random_walk(demand_seq[:duration],transfer_seq[:duration],drain_seq[:duration],thres,init_state=init_state)\n",
    "    cost.append(sum(arrival_buffer*c1)+sum(drain_buffer*c2))\n",
    "    #plt.plot(drain_buffer[j*1000:(j+1)*1000]*c2+arrival_buffer[j*1000:(j+1)*1000]*c1)\n",
    "    if cumul:\n",
    "        ax[1].plot(np.cumsum(drain_buffer*c2)[plot_range],label=h)\n",
    "        ax[0].plot(np.cumsum(arrival_buffer*c1)[plot_range])\n",
    "        ax[2].plot(np.cumsum(arrival_buffer*c1+drain_buffer*c2)[plot_range])\n",
    "    else:\n",
    "        ax[1].plot((drain_buffer*c2)[plot_range],label=h)\n",
    "        ax[0].plot((arrival_buffer*c1)[plot_range])\n",
    "        ax[2].plot((arrival_buffer*c1+drain_buffer*c2)[plot_range])\n",
    "    #print(np.min(np.diff((arrival_buffer[1500:2000]*c1+drain_buffer[1500:2000]*c2))))\n",
    "f.legend()"
   ]
  },
  {
   "cell_type": "code",
   "execution_count": null,
   "metadata": {},
   "outputs": [],
   "source": [
    "cost"
   ]
  },
  {
   "cell_type": "code",
   "execution_count": null,
   "metadata": {},
   "outputs": [],
   "source": [
    "min_cost = min(cost)\n",
    "plt.plot(hedging,[c/no_idling_cost for c in cost[::-1]])\n",
    "plt.plot(hedging,[c/no_idling_cost for c in cost[::-1]],\".\")"
   ]
  },
  {
   "cell_type": "code",
   "execution_count": null,
   "metadata": {},
   "outputs": [],
   "source": [
    "min_cost = min(cost)\n",
    "plt.plot(hedging,[c/min_cost for c in cost[::-1]])\n",
    "plt.plot(hedging,[c/min_cost for c in cost[::-1]],\".\")"
   ]
  },
  {
   "cell_type": "markdown",
   "metadata": {},
   "source": [
    "# drain resource is the main bottleneck"
   ]
  },
  {
   "cell_type": "code",
   "execution_count": null,
   "metadata": {},
   "outputs": [],
   "source": [
    "n = int(1e6)\n",
    "\n",
    "mu_demand = 65\n",
    "mu_drain = mu_demand*1.03\n",
    "mu_transfer = mu_drain*1.03\n",
    "\n",
    "np.random.seed(5)\n",
    "\n",
    "demand_seq = np.random.poisson(mu_demand,n)\n",
    "transfer_seq = np.random.poisson(mu_transfer,n)\n",
    "drain_seq = np.random.poisson(mu_drain,n)\n",
    "\n",
    "#demand_seq = norm.rvs(mu_demand,np.sqrt(mu_demand),n)\n",
    "#supply_seq = norm.rvs(mu_supply,np.sqrt(mu_supply),n)"
   ]
  },
  {
   "cell_type": "code",
   "execution_count": null,
   "metadata": {},
   "outputs": [],
   "source": [
    "cost = []\n",
    "rates = []\n",
    "hedging = np.arange(0,60,5)\n",
    "init_state = 1e4\n",
    "#hedging = np.arange(1,7)\n",
    "j = 1\n",
    "f,ax = plt.subplots(3,1,figsize=(16,8))\n",
    "#plot_range = range(4000,5000)\n",
    "\n",
    "duration = 10000\n",
    "plot_range = range(0,10000)\n",
    "#plot_range = range(0,300)\n",
    "cumul =False\n",
    "for h in reversed(hedging):\n",
    "    thres = mu_drain+h*np.sqrt(mu_drain)\n",
    "    #thres = h*10\n",
    "    arrival_buffer,drain_buffer,zeta = simulate_reflected_random_walk(demand_seq[:duration],transfer_seq[:duration],drain_seq[:duration],thres,init_state=init_state)\n",
    "    cost.append(sum(arrival_buffer*c1)+sum(drain_buffer*c2))\n",
    "    rates.append(zeta*mu_transfer)\n",
    "    #plt.plot(drain_buffer[j*1000:(j+1)*1000]*c2+arrival_buffer[j*1000:(j+1)*1000]*c1)\n",
    "    if cumul:\n",
    "        ax[1].plot(np.cumsum(drain_buffer*c2)[plot_range],label=h)\n",
    "        ax[0].plot(np.cumsum(arrival_buffer*c1)[plot_range])\n",
    "        ax[2].plot(np.cumsum(arrival_buffer*c1+drain_buffer*c2)[plot_range])\n",
    "    else:\n",
    "        ax[1].plot((drain_buffer*c2)[plot_range],label=h)\n",
    "        ax[0].plot((arrival_buffer*c1)[plot_range])\n",
    "        ax[2].plot((arrival_buffer*c1+drain_buffer*c2)[plot_range])\n",
    "    #print(np.min(np.diff((arrival_buffer[1500:2000]*c1+drain_buffer[1500:2000]*c2))))\n",
    "f.legend()"
   ]
  },
  {
   "cell_type": "code",
   "execution_count": null,
   "metadata": {},
   "outputs": [],
   "source": [
    "mu_transfer"
   ]
  },
  {
   "cell_type": "code",
   "execution_count": null,
   "metadata": {},
   "outputs": [],
   "source": [
    "rates"
   ]
  },
  {
   "cell_type": "code",
   "execution_count": null,
   "metadata": {},
   "outputs": [],
   "source": [
    "mu_drain"
   ]
  },
  {
   "cell_type": "code",
   "execution_count": null,
   "metadata": {},
   "outputs": [],
   "source": [
    "cost = []\n",
    "hedging = np.arange(0,60,5)\n",
    "init_state = 0\n",
    "#hedging = np.arange(1,7)\n",
    "j = 1\n",
    "f,ax = plt.subplots(3,1,figsize=(16,8))\n",
    "#plot_range = range(4000,5000)\n",
    "\n",
    "duration = 100000\n",
    "plot_range = range(0,10000)\n",
    "#plot_range = range(0,200)\n",
    "cumul =False\n",
    "for h in reversed(hedging):\n",
    "    thres = mu_drain+h*np.sqrt(mu_drain)\n",
    "    #thres = h*10\n",
    "    arrival_buffer,drain_buffer,zeta = simulate_reflected_random_walk(demand_seq[:duration],transfer_seq[:duration],drain_seq[:duration],thres,init_state=init_state)\n",
    "    cost.append(sum(arrival_buffer*c1)+sum(drain_buffer*c2))\n",
    "    #plt.plot(drain_buffer[j*1000:(j+1)*1000]*c2+arrival_buffer[j*1000:(j+1)*1000]*c1)\n",
    "    if cumul:\n",
    "        ax[1].plot(np.cumsum(drain_buffer*c2)[plot_range],label=h)\n",
    "        ax[0].plot(np.cumsum(arrival_buffer*c1)[plot_range])\n",
    "        ax[2].plot(np.cumsum(arrival_buffer*c1+drain_buffer*c2)[plot_range])\n",
    "    else:\n",
    "        ax[1].plot((drain_buffer*c2)[plot_range],label=h)\n",
    "        ax[0].plot((arrival_buffer*c1)[plot_range])\n",
    "        ax[2].plot((arrival_buffer*c1+drain_buffer*c2)[plot_range])\n",
    "    #print(np.min(np.diff((arrival_buffer[1500:2000]*c1+drain_buffer[1500:2000]*c2))))\n",
    "f.legend()"
   ]
  },
  {
   "cell_type": "code",
   "execution_count": null,
   "metadata": {},
   "outputs": [],
   "source": [
    "min_cost = min(cost)\n",
    "plt.plot(hedging,[c/min_cost for c in cost[::-1]])\n",
    "plt.plot(hedging,[c/min_cost for c in cost[::-1]],\".\")"
   ]
  },
  {
   "cell_type": "code",
   "execution_count": null,
   "metadata": {},
   "outputs": [],
   "source": [
    "min_cost = min(cost)\n",
    "plt.plot(hedging,[c/min_cost for c in cost[::-1]])\n",
    "plt.plot(hedging,[c/min_cost for c in cost[::-1]],\".\")"
   ]
  },
  {
   "cell_type": "code",
   "execution_count": null,
   "metadata": {},
   "outputs": [],
   "source": [
    "cost = []\n",
    "hedging = np.arange(5,70,5)\n",
    "init_state = 1e4\n",
    "#hedging = np.arange(1,7)\n",
    "j = 1\n",
    "f,ax = plt.subplots(3,1,figsize=(16,8))\n",
    "#plot_range = range(4000,5000)\n",
    "\n",
    "duration = 6000\n",
    "plot_range = range(0,6000)\n",
    "#plot_range = range(0,300)\n",
    "cumul =False\n",
    "for h in reversed(hedging):\n",
    "    thres = mu_drain+h*np.sqrt(mu_drain)\n",
    "    #thres = h*10\n",
    "    arrival_buffer,drain_buffer,zeta = simulate_reflected_random_walk(demand_seq[:duration],transfer_seq[:duration],drain_seq[:duration],thres,init_state=init_state)\n",
    "    cost.append(sum(arrival_buffer*c1)+sum(drain_buffer*c2))\n",
    "    #plt.plot(drain_buffer[j*1000:(j+1)*1000]*c2+arrival_buffer[j*1000:(j+1)*1000]*c1)\n",
    "    if cumul:\n",
    "        ax[1].plot(np.cumsum(drain_buffer*c2)[plot_range],label=h)\n",
    "        ax[0].plot(np.cumsum(arrival_buffer*c1)[plot_range])\n",
    "        ax[2].plot(np.cumsum(arrival_buffer*c1+drain_buffer*c2)[plot_range])\n",
    "    else:\n",
    "        ax[1].plot((drain_buffer*c2)[plot_range],label=h)\n",
    "        ax[0].plot((arrival_buffer*c1)[plot_range])\n",
    "        ax[2].plot((arrival_buffer*c1+drain_buffer*c2)[plot_range])\n",
    "    #print(np.min(np.diff((arrival_buffer[1500:2000]*c1+drain_buffer[1500:2000]*c2))))\n",
    "    \n",
    "thres = 1e6\n",
    "#thres = h*10\n",
    "arrival_buffer,drain_buffer,_ = simulate_reflected_random_walk(demand_seq[:duration],transfer_seq[:duration],drain_seq[:duration],thres,init_state=init_state)\n",
    "#plt.plot(drain_buffer[j*1000:(j+1)*1000]*c2+arrival_buffer[j*1000:(j+1)*1000]*c1)\n",
    "if cumul:\n",
    "    #ax[1].plot(np.cumsum(drain_buffer*c2)[plot_range],label=\"e\")\n",
    "    ax[0].plot(np.cumsum(arrival_buffer*c1)[plot_range],label=\"e\")\n",
    "    #ax[2].plot(np.cumsum(arrival_buffer*c1+drain_buffer*c2)[plot_range])\n",
    "else:\n",
    "    #ax[1].plot((drain_buffer*c2)[plot_range],label=\"e\")\n",
    "    ax[0].plot((arrival_buffer*c1)[plot_range],label=\"e\")\n",
    "    #ax[2].plot((arrival_buffer*c1+drain_buffer*c2)[plot_range])\n",
    "f.legend()"
   ]
  },
  {
   "cell_type": "code",
   "execution_count": null,
   "metadata": {},
   "outputs": [],
   "source": [
    "(mu_transfer-mu_demand)/((zeta*mu_transfer)-mu_demand)"
   ]
  },
  {
   "cell_type": "code",
   "execution_count": null,
   "metadata": {},
   "outputs": [],
   "source": [
    "min_cost = min(cost)\n",
    "plt.plot(hedging,[c/min_cost for c in cost[::-1]])\n",
    "plt.plot(hedging,[c/min_cost for c in cost[::-1]],\".\")"
   ]
  },
  {
   "cell_type": "code",
   "execution_count": null,
   "metadata": {},
   "outputs": [],
   "source": [
    "min_cost = min(cost)\n",
    "plt.plot(hedging,[c/min_cost for c in cost[::-1]])\n",
    "plt.plot(hedging,[c/min_cost for c in cost[::-1]],\".\")"
   ]
  },
  {
   "cell_type": "code",
   "execution_count": null,
   "metadata": {},
   "outputs": [],
   "source": [
    "h = []\n",
    "for i in np.arange(0.94,0.949,0.001):\n",
    "    h.append(1/(1-i))\n",
    "    \n",
    "plt.plot(np.arange(0.94,0.949,0.001)/0.94,[i/min(h) for i in h])"
   ]
  },
  {
   "cell_type": "code",
   "execution_count": null,
   "metadata": {},
   "outputs": [],
   "source": [
    "min_cost = min(cost)"
   ]
  },
  {
   "cell_type": "code",
   "execution_count": null,
   "metadata": {},
   "outputs": [],
   "source": [
    "cost[0]-cost[1]"
   ]
  },
  {
   "cell_type": "code",
   "execution_count": null,
   "metadata": {},
   "outputs": [],
   "source": [
    "plt.plot(drain_buffer[:300])"
   ]
  },
  {
   "cell_type": "code",
   "execution_count": null,
   "metadata": {},
   "outputs": [],
   "source": [
    "plt.plot(arrival_buffer[:600])"
   ]
  },
  {
   "cell_type": "code",
   "execution_count": null,
   "metadata": {},
   "outputs": [],
   "source": [
    "plt.plot(buffer_seq[:1000])"
   ]
  },
  {
   "cell_type": "code",
   "execution_count": null,
   "metadata": {},
   "outputs": [],
   "source": [
    "sum(buffer_seq)"
   ]
  },
  {
   "cell_type": "code",
   "execution_count": null,
   "metadata": {},
   "outputs": [],
   "source": [
    "sum(buffer_seq)"
   ]
  },
  {
   "cell_type": "code",
   "execution_count": null,
   "metadata": {},
   "outputs": [],
   "source": [
    "np.percentile((supply_seq-demand_seq)[(supply_seq-demand_seq) < 0],0.01)"
   ]
  },
  {
   "cell_type": "code",
   "execution_count": null,
   "metadata": {},
   "outputs": [],
   "source": [
    "plt.plot(np.cumsum(supply_seq)-np.cumsum(demand_seq))"
   ]
  },
  {
   "cell_type": "code",
   "execution_count": null,
   "metadata": {},
   "outputs": [],
   "source": [
    "percentile = 1.645\n",
    "#percentile = 0\n",
    "#percentile = 1.96\n",
    "#percentile = 2.33\n",
    "slack_capacity = mu_supply-mu_demand\n",
    "time_horizon = (percentile**2)*mu_supply/(2*slack_capacity**2)\n",
    "offset = time_horizon*(-slack_capacity) + percentile* np.sqrt(mu_supply*2*time_horizon)\n",
    "print(time_horizon*2)\n",
    "time_horizon = int(np.ceil(time_horizon))\n",
    "offset = int(np.ceil(offset))"
   ]
  },
  {
   "cell_type": "code",
   "execution_count": null,
   "metadata": {},
   "outputs": [],
   "source": [
    "time_horizon = (percentile**2)*mu_supply*2/slack_capacity**2\n",
    "time_horizon = int(np.ceil(time_horizon))"
   ]
  },
  {
   "cell_type": "code",
   "execution_count": null,
   "metadata": {},
   "outputs": [],
   "source": [
    "y = []\n",
    "for d in range(time_horizon):\n",
    "    y.append(d*(slack_capacity) - percentile* np.sqrt(mu_supply*2*d))"
   ]
  },
  {
   "cell_type": "code",
   "execution_count": null,
   "metadata": {},
   "outputs": [],
   "source": [
    "y_1 = y\n",
    "time_horizon_1 = time_horizon"
   ]
  },
  {
   "cell_type": "code",
   "execution_count": null,
   "metadata": {},
   "outputs": [],
   "source": [
    "y_2 = y\n",
    "time_horizon_2 = time_horizon"
   ]
  },
  {
   "cell_type": "code",
   "execution_count": null,
   "metadata": {},
   "outputs": [],
   "source": [
    "time_horizon/time_horizon_1"
   ]
  },
  {
   "cell_type": "code",
   "execution_count": null,
   "metadata": {},
   "outputs": [],
   "source": [
    "1.96/1.645"
   ]
  },
  {
   "cell_type": "code",
   "execution_count": null,
   "metadata": {},
   "outputs": [],
   "source": [
    "plt.plot(range(time_horizon),y)\n",
    "plt.plot(range(time_horizon_1),y_1)\n",
    "plt.plot(range(time_horizon_2),y_2)"
   ]
  },
  {
   "cell_type": "code",
   "execution_count": null,
   "metadata": {},
   "outputs": [],
   "source": [
    "y"
   ]
  },
  {
   "cell_type": "code",
   "execution_count": null,
   "metadata": {},
   "outputs": [],
   "source": [
    "time_horizon"
   ]
  },
  {
   "cell_type": "code",
   "execution_count": null,
   "metadata": {},
   "outputs": [],
   "source": [
    "offset"
   ]
  },
  {
   "cell_type": "code",
   "execution_count": null,
   "metadata": {},
   "outputs": [],
   "source": [
    "thres = poisson.ppf(0.95,mu_demand)\n",
    "#thres = 0\n",
    "thres = poisson.ppf(0.5,mu_demand)\n",
    "\n",
    "def idle_supply(demand_seq,supply_seq,offset):\n",
    "    inv_pos = offset\n",
    "    idle_supply_seq = np.zeros_like(supply_seq) \n",
    "    idle_count = 0\n",
    "    for i,(d,s) in enumerate(zip(demand_seq,supply_seq)):\n",
    "        if inv_pos > thres+offset:\n",
    "            s = 0\n",
    "            idle_count += 1\n",
    "        idle_supply_seq[i] = s\n",
    "        inv_pos += s-d\n",
    "    #print(idle_count/len(supply_seq)) \n",
    "    return idle_supply_seq\n",
    "\n",
    "def idle_supply_time_horizon(demand_seq,supply_seq,offset,time_horizon):\n",
    "    inv_pos = offset\n",
    "    inv_pos_seq = np.zeros_like(supply_seq)\n",
    "    days_count = 0\n",
    "    for i,(d,s) in enumerate(zip(demand_seq,supply_seq)):\n",
    "        if (inv_pos > thres+offset) and days_count >= time_horizon:\n",
    "            s = 0\n",
    "            days_count = 0\n",
    "        idle_supply_seq[i] = s\n",
    "        inv_pos += s-d\n",
    "        inv_pos_seq[i] = inv_pos\n",
    "        days_count += 1\n",
    "    return inv_pos_seq\n",
    "\n",
    "def idle_supply_time_horizon_smooth(demand_seq,supply_seq,offset,time_horizon):\n",
    "    inv_pos = offset\n",
    "    inv_pos_seq = np.zeros_like(supply_seq)\n",
    "    days_count = 0\n",
    "    just_idled = False\n",
    "    for i,(d,s) in enumerate(zip(demand_seq,supply_seq)):\n",
    "        surplus = inv_pos - offset\n",
    "        if surplus > 0 and ((days_count >= time_horizon) or just_idled):\n",
    "            if d > surplus:\n",
    "                s = d-surplus\n",
    "            else:\n",
    "                s = 0\n",
    "            days_count=0\n",
    "            just_idled = True\n",
    "        else:\n",
    "            just_idled = False\n",
    "            \n",
    "        inv_pos += s-d\n",
    "        inv_pos_seq[i] = inv_pos\n",
    "        if not just_idled:\n",
    "            days_count += 1\n",
    "            \n",
    "    return inv_pos_seq\n",
    "\n",
    "def work_supply_time_horizon_smooth(demand_seq,supply_seq,offset,time_horizon):\n",
    "    inv_pos = offset\n",
    "    inv_pos_seq = np.zeros_like(supply_seq)\n",
    "    days_count = 0\n",
    "    just_idled = True\n",
    "    for i,(d,s) in enumerate(zip(demand_seq,supply_seq)):\n",
    "        surplus = inv_pos - offset\n",
    "        if surplus > 0 and ((days_count >= time_horizon) or just_idled):\n",
    "            days_count = 0\n",
    "            if d > surplus:\n",
    "                s = d-surplus\n",
    "            else:\n",
    "                s = 0\n",
    "            days_count=0\n",
    "            just_idled = True\n",
    "        else:\n",
    "            days_count += 1\n",
    "            just_idled = False\n",
    "            \n",
    "        inv_pos += s-d\n",
    "        inv_pos_seq[i] = inv_pos\n",
    "            \n",
    "    return inv_pos_seq\n",
    "\n",
    "def idle_supply_smooth(demand_seq,supply_seq,offset):\n",
    "    inv_pos = offset\n",
    "    idle_supply_seq = np.zeros_like(supply_seq) \n",
    "    idle_count = 0\n",
    "    inv_pos_array = np.zeros_like(supply_seq)\n",
    "    for i,(d,s) in enumerate(zip(demand_seq,supply_seq)):\n",
    "        surplus = inv_pos - offset\n",
    "        if surplus > 0:\n",
    "            if d > surplus:\n",
    "                s = d-surplus\n",
    "            else:\n",
    "                s = 0\n",
    "            idle_count += 1\n",
    "            \n",
    "        idle_supply_seq[i] = s\n",
    "        inv_pos += s-d\n",
    "        inv_pos = min(inv_pos,offset)\n",
    "        inv_pos_array[i] = inv_pos\n",
    "\n",
    "    #print(idle_count/len(supply_seq)) \n",
    "    print(inv_pos)\n",
    "    return inv_pos_array"
   ]
  },
  {
   "cell_type": "code",
   "execution_count": null,
   "metadata": {},
   "outputs": [],
   "source": [
    "slack_capacity/np.sqrt(2*mu_demand)"
   ]
  },
  {
   "cell_type": "code",
   "execution_count": null,
   "metadata": {},
   "outputs": [],
   "source": [
    "point = 1400\n",
    "plt.plot(inv_pos_seq[point-100:point+500])"
   ]
  },
  {
   "cell_type": "code",
   "execution_count": null,
   "metadata": {},
   "outputs": [],
   "source": [
    "point = 1400\n",
    "plt.plot(inv_pos_seq[point-100:point+500])"
   ]
  },
  {
   "cell_type": "code",
   "execution_count": null,
   "metadata": {},
   "outputs": [],
   "source": [
    "point = 1400\n",
    "plt.plot(inv_pos_seq[point-100:point+100])"
   ]
  },
  {
   "cell_type": "code",
   "execution_count": null,
   "metadata": {},
   "outputs": [],
   "source": [
    "offset"
   ]
  },
  {
   "cell_type": "code",
   "execution_count": null,
   "metadata": {},
   "outputs": [],
   "source": [
    "time_horizon*slack_capacity/2"
   ]
  },
  {
   "cell_type": "code",
   "execution_count": null,
   "metadata": {},
   "outputs": [],
   "source": [
    "slack_capacity"
   ]
  },
  {
   "cell_type": "code",
   "execution_count": null,
   "metadata": {},
   "outputs": [],
   "source": [
    "inv_pos_seq = work_supply_time_horizon_smooth(demand_seq,supply_seq,53,12)\n",
    "\n",
    "print(np.mean(inv_pos_seq < 0))"
   ]
  },
  {
   "cell_type": "code",
   "execution_count": null,
   "metadata": {},
   "outputs": [],
   "source": [
    "inv_pos_seq = idle_supply_time_horizon_smooth(demand_seq,supply_seq,53,12)\n",
    "\n",
    "print(np.mean(inv_pos_seq < 0))"
   ]
  },
  {
   "cell_type": "code",
   "execution_count": null,
   "metadata": {},
   "outputs": [],
   "source": [
    "stocks = inv_pos_seq.copy()\n",
    "stocks[inv_pos_seq < 0] = 0\n",
    "np.mean(stocks)"
   ]
  },
  {
   "cell_type": "code",
   "execution_count": null,
   "metadata": {},
   "outputs": [],
   "source": [
    "inv_pos_seq = idle_supply_time_horizon_smooth(demand_seq,supply_seq,41,69)\n",
    "\n",
    "print(np.mean(inv_pos_seq < 0))"
   ]
  },
  {
   "cell_type": "code",
   "execution_count": null,
   "metadata": {},
   "outputs": [],
   "source": [
    "stocks = inv_pos_seq.copy()\n",
    "stocks[inv_pos_seq < 0] = 0\n",
    "np.mean(stocks)"
   ]
  },
  {
   "cell_type": "code",
   "execution_count": null,
   "metadata": {},
   "outputs": [],
   "source": [
    "inv_pos_seq = idle_supply_time_horizon(demand_seq,supply_seq,offset,time_horizon)\n",
    "\n",
    "print(np.mean(inv_pos_seq < 0))\n",
    "#plt.plot(inv_pos_seq[827341-10:827341+10])\n",
    "#plt.plot(inv_pos_seq[827341-10:827341+10],\".\")"
   ]
  },
  {
   "cell_type": "code",
   "execution_count": null,
   "metadata": {},
   "outputs": [],
   "source": [
    "stocks = inv_pos_seq.copy()\n",
    "stocks[inv_pos_seq < 0] = 0\n",
    "np.mean(stocks)"
   ]
  },
  {
   "cell_type": "code",
   "execution_count": null,
   "metadata": {},
   "outputs": [],
   "source": [
    "idle_supply_seq,inv_pos_seq = idle_supply_smooth(demand_seq,supply_seq, np.ceil(offset))\n",
    "#inv_pos_seq = offset + np.cumsum(idle_supply_seq)-np.cumsum(demand_seq)\n",
    "print(np.mean(inv_pos_seq < 0))\n",
    "#plt.plot(inv_pos_seq[827341-10:827341+10])\n",
    "#plt.plot(inv_pos_seq[827341-10:827341+10],\".\")\n",
    "\n",
    "plt.plot(inv_pos_seq[:1200])"
   ]
  },
  {
   "cell_type": "code",
   "execution_count": null,
   "metadata": {},
   "outputs": [],
   "source": [
    "n_sims = 100000\n",
    "demand_sum = np.random.poisson(mu_demand*np.ceil(time_horizon),n_sims)\n",
    "supply_sum = np.random.poisson(mu_supply*np.ceil(time_horizon),n_sims)\n",
    "\n",
    "print(np.mean((demand_sum-supply_sum) > np.ceil(offset)))"
   ]
  },
  {
   "cell_type": "code",
   "execution_count": null,
   "metadata": {},
   "outputs": [],
   "source": [
    "offset+time_horizon*slack_capacity"
   ]
  },
  {
   "cell_type": "code",
   "execution_count": null,
   "metadata": {},
   "outputs": [],
   "source": [
    "1001 % 100"
   ]
  },
  {
   "cell_type": "code",
   "execution_count": null,
   "metadata": {},
   "outputs": [],
   "source": [
    "offset"
   ]
  },
  {
   "cell_type": "code",
   "execution_count": null,
   "metadata": {},
   "outputs": [],
   "source": [
    "time_horizon*slack_capacity/2"
   ]
  },
  {
   "cell_type": "code",
   "execution_count": null,
   "metadata": {},
   "outputs": [],
   "source": [
    "np.random.seed(500)\n",
    "n_sims = 100000\n",
    "#n_sims = 20\n",
    "stockouts = []\n",
    "last_day_stockouts = []\n",
    "last_day_stockouts_vals = []\n",
    "ave_inventories = []\n",
    "sim_time_horizon = time_horizon\n",
    "for i in range(n_sims):\n",
    "    demand = np.random.poisson(mu_demand,sim_time_horizon)\n",
    "    supply = np.random.poisson(mu_supply,sim_time_horizon)\n",
    "    inv_pos_seq = offset + np.cumsum(supply)-np.cumsum(demand)\n",
    "    stockouts.append(np.sum(inv_pos_seq < 0))\n",
    "    last_day_stockouts.append(inv_pos_seq[-1] < offset)\n",
    "    if last_day_stockouts[-1]:\n",
    "        last_day_stockouts_vals.append(inv_pos_seq[-1]-offset)\n",
    "    \n",
    "    ave_inventories.append(np.mean(inv_pos_seq))\n",
    "    if i % 10000 == 0:\n",
    "        plt.plot(inv_pos_seq)\n",
    "    \n",
    "sum(stockouts)/(sim_time_horizon*n_sims),np.sum(last_day_stockouts)/(n_sims),np.mean(ave_inventories)\n"
   ]
  },
  {
   "cell_type": "code",
   "execution_count": null,
   "metadata": {},
   "outputs": [],
   "source": [
    "offset"
   ]
  },
  {
   "cell_type": "code",
   "execution_count": null,
   "metadata": {},
   "outputs": [],
   "source": [
    "np.median(last_day_stockouts_vals)"
   ]
  },
  {
   "cell_type": "code",
   "execution_count": null,
   "metadata": {},
   "outputs": [],
   "source": [
    "for offset in range(200):\n",
    "    stock_out_probs = []\n",
    "    for d in range(1,time_horizon+1):\n",
    "        stock_out_prob = norm.cdf(-offset,slack_capacity*d,np.sqrt(2*mu_supply*d))\n",
    "        stock_out_probs.append(stock_out_prob)\n",
    "    overal_stockout_prob = np.mean(stock_out_probs)\n",
    "    #print(overal_stockout_prob)\n",
    "    if overal_stockout_prob < 0.05:\n",
    "        break"
   ]
  },
  {
   "cell_type": "code",
   "execution_count": null,
   "metadata": {},
   "outputs": [],
   "source": [
    "time_horizon"
   ]
  },
  {
   "cell_type": "code",
   "execution_count": null,
   "metadata": {},
   "outputs": [],
   "source": []
  },
  {
   "cell_type": "code",
   "execution_count": null,
   "metadata": {},
   "outputs": [],
   "source": [
    "def get_percentile_deficit(cycle_dur,slack_capacity,variance,percentile = 0.5):\n",
    "    mu = slack_capacity*cycle_dur\n",
    "    std = np.sqrt(variance*cycle_dur)\n",
    "    cum_deficit_prob = norm.cdf(0,mu,std)\n",
    "    cum_percentile = 0\n",
    "    prev_cum_prob = cum_deficit_prob\n",
    "    for i in range(10000):\n",
    "        cum_prob = norm.cdf(-i,mu,std)\n",
    "        prob = (prev_cum_prob - cum_prob)/cum_deficit_prob\n",
    "        cum_percentile += prob\n",
    "        if cum_percentile >= percentile:\n",
    "            return i\n",
    "        prev_cum_prob = cum_prob\n",
    "        \n",
    "a = get_percentile_deficit(time_horizon/4,slack_capacity,2*mu_supply)\n",
    "#get_percentile_deficit(slack_capacity,2*mu_supply,time_horizon)\n",
    "print(a)\n",
    "\n",
    "def compute_recovery_time(slack_capacity,variance,deficit,bound = 2.33):\n",
    "    dur = ((bound*np.sqrt(variance)+np.sqrt(bound**2*variance+4*slack_capacity*deficit))/(2*slack_capacity))**2\n",
    "    return int(np.ceil(dur))\n",
    "\n",
    "print(compute_recovery_time(slack_capacity,2*mu_supply,a))\n",
    "\n",
    "def get_average_stockout_prob(duration,slack_capacity,variance,start):\n",
    "    stock_out_probs = []\n",
    "    for d in range(1,duration+1):\n",
    "        stock_out_prob = norm.cdf(0,start+slack_capacity*d,np.sqrt(variance*d))\n",
    "        stock_out_probs.append(stock_out_prob)\n",
    "    average_stockout_prob = np.mean(stock_out_probs)\n",
    "    return average_stockout_prob\n",
    "\n",
    "def compute_stockout_prob_and_inventory_cost(cycle_dur,slack_capacity,variance,offset):\n",
    "    mu = slack_capacity*cycle_dur\n",
    "    std = np.sqrt(variance*cycle_dur)\n",
    "    cum_deficit_prob = norm.cdf(0,mu,std)\n",
    "    #print(cum_deficit_prob)\n",
    "    deficit = get_percentile_deficit(cycle_dur,slack_capacity,variance,0.95)\n",
    "    #print(deficit)\n",
    "    rec_dur = compute_recovery_time(slack_capacity,variance,deficit)\n",
    "    #print(rec_dur)\n",
    "    cycle_stockout_prob = get_average_stockout_prob(cycle_dur,slack_capacity,variance,offset)\n",
    "    \n",
    "    rec_dur = int(np.ceil(deficit/slack_capacity))\n",
    "    print(rec_dur)\n",
    "    rec_stockout_prob = get_average_stockout_prob(rec_dur,slack_capacity,variance,offset-deficit)\n",
    "    #print(cycle_stockout_prob,rec_stockout_prob)\n",
    "    \n",
    "    effective_duration = (cycle_dur+cum_deficit_prob*rec_dur)\n",
    "    #print(cycle_dur/effective_duration)\n",
    "    \n",
    "    overall_stockout_prob = (cycle_dur*cycle_stockout_prob+cum_deficit_prob*rec_dur*rec_stockout_prob)/effective_duration\n",
    "    \n",
    "    overall_inventory_cost = (cycle_dur*(0.5*slack_capacity*cycle_dur+offset)+cum_deficit_prob*rec_dur*(0.5*slack_capacity*rec_dur+offset-deficit))/effective_duration\n",
    "    #print(overall_inventory_cost)\n",
    "    return overall_stockout_prob,overall_inventory_cost"
   ]
  },
  {
   "cell_type": "code",
   "execution_count": null,
   "metadata": {},
   "outputs": [],
   "source": [
    "time_horizon/4"
   ]
  },
  {
   "cell_type": "code",
   "execution_count": null,
   "metadata": {},
   "outputs": [],
   "source": [
    "variance = 2*mu_supply"
   ]
  },
  {
   "cell_type": "code",
   "execution_count": null,
   "metadata": {},
   "outputs": [],
   "source": [
    "min_inv_cost = np.inf\n",
    "min_cycle_dur = None\n",
    "min_offset = None\n",
    "for cycle_dur in range(1,int(time_horizon)):\n",
    "\n",
    "    for offset in range(200):\n",
    "        overall_stockout_prob,inv_cost = compute_stockout_prob_and_inventory_cost(cycle_dur,slack_capacity,variance,offset)\n",
    "        #print(overall_stockout_prob)\n",
    "        if overall_stockout_prob < 0.05:\n",
    "            break\n",
    "    \n",
    "    print(cycle_dur,inv_cost)\n",
    "    if inv_cost < min_inv_cost:\n",
    "        print(cycle_dur)\n",
    "        min_inv_cost = inv_cost\n",
    "        min_cycle_dur = cycle_dur\n",
    "        min_offset = offset\n",
    "    \n",
    "print(offset)"
   ]
  },
  {
   "cell_type": "code",
   "execution_count": null,
   "metadata": {},
   "outputs": [],
   "source": [
    "min_offset"
   ]
  },
  {
   "cell_type": "code",
   "execution_count": null,
   "metadata": {},
   "outputs": [],
   "source": [
    "min_cycle_dur"
   ]
  },
  {
   "cell_type": "code",
   "execution_count": null,
   "metadata": {},
   "outputs": [],
   "source": [
    "min_inv_cost"
   ]
  },
  {
   "cell_type": "code",
   "execution_count": null,
   "metadata": {},
   "outputs": [],
   "source": [
    "time_horizon"
   ]
  },
  {
   "cell_type": "code",
   "execution_count": null,
   "metadata": {},
   "outputs": [],
   "source": [
    "int(time_horizon)*(0.5*slack_capacity)"
   ]
  },
  {
   "cell_type": "code",
   "execution_count": null,
   "metadata": {},
   "outputs": [],
   "source": [
    "inv_cost"
   ]
  },
  {
   "cell_type": "code",
   "execution_count": null,
   "metadata": {},
   "outputs": [],
   "source": [
    "print(overal_stockout_prob)"
   ]
  },
  {
   "cell_type": "code",
   "execution_count": null,
   "metadata": {},
   "outputs": [],
   "source": [
    "overal_stockout_prob"
   ]
  },
  {
   "cell_type": "code",
   "execution_count": null,
   "metadata": {},
   "outputs": [],
   "source": [
    "probs = []\n",
    "deficit = 10000\n",
    "for i in range(deficit):\n",
    "    v = -offset-i\n",
    "    mu = slack_capacity*time_horizon\n",
    "    std = np.sqrt(2*mu_supply*time_horizon)\n",
    "    probs.append(norm.cdf(v,mu,std))\n",
    "    #print(i,probs[-1])\n",
    "    \n",
    "np.sum(-np.diff(probs)*np.arange(1,deficit)/norm.cdf(-offset,mu,std))"
   ]
  },
  {
   "cell_type": "code",
   "execution_count": null,
   "metadata": {},
   "outputs": [],
   "source": [
    "offsets = []\n",
    "for dur in range(1,time_horizon+1):\n",
    "    for offset in range(200):\n",
    "        stock_out_probs = []\n",
    "        for d in range(1,dur+1):\n",
    "            stock_out_prob = norm.cdf(-offset,slack_capacity*d,np.sqrt(2*mu_supply*d))\n",
    "            stock_out_probs.append(stock_out_prob)\n",
    "        overal_stockout_prob = np.mean(stock_out_probs)\n",
    "        #print(overal_stockout_prob)\n",
    "        if overal_stockout_prob < 0.05:\n",
    "            break\n",
    "    #print(dur,offset)\n",
    "    offsets.append(offset)"
   ]
  },
  {
   "cell_type": "code",
   "execution_count": null,
   "metadata": {},
   "outputs": [],
   "source": [
    "plt.plot(offsets)"
   ]
  },
  {
   "cell_type": "code",
   "execution_count": null,
   "metadata": {},
   "outputs": [],
   "source": [
    "norm.cdf(-offset,mu,std)"
   ]
  },
  {
   "cell_type": "code",
   "execution_count": null,
   "metadata": {},
   "outputs": [],
   "source": [
    "offset"
   ]
  },
  {
   "cell_type": "code",
   "execution_count": null,
   "metadata": {},
   "outputs": [],
   "source": [
    "mu"
   ]
  },
  {
   "cell_type": "code",
   "execution_count": null,
   "metadata": {},
   "outputs": [],
   "source": [
    "(-np.diff(probs)/norm.cdf(-offset,mu,std))[:50]"
   ]
  },
  {
   "cell_type": "code",
   "execution_count": null,
   "metadata": {},
   "outputs": [],
   "source": [
    "-np.diff(probs)/norm.cdf(-offset,mu,std)"
   ]
  },
  {
   "cell_type": "code",
   "execution_count": null,
   "metadata": {},
   "outputs": [],
   "source": [
    "offset"
   ]
  },
  {
   "cell_type": "code",
   "execution_count": null,
   "metadata": {},
   "outputs": [],
   "source": [
    "np.sum(last_day_stockouts)/(n_sims)"
   ]
  },
  {
   "cell_type": "code",
   "execution_count": null,
   "metadata": {},
   "outputs": [],
   "source": [
    "sum(stockouts)/(int(np.ceil(time_horizon))*n_sims)"
   ]
  },
  {
   "cell_type": "code",
   "execution_count": null,
   "metadata": {},
   "outputs": [],
   "source": [
    "np.sum(last_day_stockouts)"
   ]
  },
  {
   "cell_type": "code",
   "execution_count": null,
   "metadata": {},
   "outputs": [],
   "source": [
    "np.sum(last_day_stockouts)/sum(stockouts)"
   ]
  },
  {
   "cell_type": "code",
   "execution_count": null,
   "metadata": {},
   "outputs": [],
   "source": [
    "np.mean(stockouts)"
   ]
  },
  {
   "cell_type": "code",
   "execution_count": null,
   "metadata": {},
   "outputs": [],
   "source": [
    "stockouts = np.array(stockouts)"
   ]
  },
  {
   "cell_type": "code",
   "execution_count": null,
   "metadata": {},
   "outputs": [],
   "source": [
    "np.median(stockouts[stockouts > 0])"
   ]
  },
  {
   "cell_type": "code",
   "execution_count": null,
   "metadata": {},
   "outputs": [],
   "source": [
    "plt.hist(stockouts[stockouts > 0])"
   ]
  },
  {
   "cell_type": "code",
   "execution_count": null,
   "metadata": {},
   "outputs": [],
   "source": [
    "plt.hist(stockouts,bins=range(0,50,2))"
   ]
  },
  {
   "cell_type": "code",
   "execution_count": null,
   "metadata": {},
   "outputs": [],
   "source": [
    "2*time_horizon"
   ]
  },
  {
   "cell_type": "code",
   "execution_count": null,
   "metadata": {},
   "outputs": [],
   "source": [
    "norm.cdf(-offset,slack_capacity*10,np.sqrt(mu_supply*10))"
   ]
  },
  {
   "cell_type": "code",
   "execution_count": null,
   "metadata": {},
   "outputs": [],
   "source": [
    "int(np.ceil(time_horizon))"
   ]
  }
 ],
 "metadata": {
  "kernelspec": {
   "display_name": "Python 3",
   "language": "python",
   "name": "python3"
  },
  "language_info": {
   "codemirror_mode": {
    "name": "ipython",
    "version": 3
   },
   "file_extension": ".py",
   "mimetype": "text/x-python",
   "name": "python",
   "nbconvert_exporter": "python",
   "pygments_lexer": "ipython3",
   "version": "3.7.3"
  }
 },
 "nbformat": 4,
 "nbformat_minor": 2
}
