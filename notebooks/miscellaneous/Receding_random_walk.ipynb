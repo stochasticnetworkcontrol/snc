{
 "cells": [
  {
   "cell_type": "code",
   "execution_count": null,
   "metadata": {},
   "outputs": [],
   "source": [
    "import matplotlib.pyplot as plt"
   ]
  },
  {
   "cell_type": "code",
   "execution_count": null,
   "metadata": {},
   "outputs": [],
   "source": [
    "%matplotlib inline"
   ]
  },
  {
   "cell_type": "code",
   "execution_count": null,
   "metadata": {},
   "outputs": [],
   "source": [
    "import numpy as np\n",
    "from scipy.stats import poisson, norm"
   ]
  },
  {
   "cell_type": "code",
   "execution_count": null,
   "metadata": {},
   "outputs": [],
   "source": [
    "norm.rvs(1,1,10)"
   ]
  },
  {
   "cell_type": "code",
   "execution_count": null,
   "metadata": {},
   "outputs": [],
   "source": [
    "n = int(1e6)\n",
    "\n",
    "mu_demand = 65\n",
    "mu_supply = mu_demand*1.03\n",
    "mu_supply_2 = mu_supply*1.03\n",
    "\n",
    "np.random.seed(5)\n",
    "\n",
    "demand_seq = np.random.poisson(mu_demand,n)\n",
    "supply_seq = np.random.poisson(mu_supply,n)\n",
    "supply_2_seq = np.random.poisson(mu_supply_2,n)\n",
    "\n",
    "#demand_seq = norm.rvs(mu_demand,np.sqrt(mu_demand),n)\n",
    "#supply_seq = norm.rvs(mu_supply,np.sqrt(mu_supply),n)"
   ]
  },
  {
   "cell_type": "code",
   "execution_count": null,
   "metadata": {},
   "outputs": [],
   "source": [
    "def simulate_reflected_random_walk(arrival_sequence,transfer_sequence,drain_sequence,thres):\n",
    "    arrival_buffer = np.zeros(len(arrival_sequence)+1)\n",
    "    drain_buffer = np.zeros(len(arrival_sequence)+1)\n",
    "    arrival_buffer[0] = 0#5e5\n",
    "    drain_buffer[0] = 5e5\n",
    "    n_idles = 0\n",
    "    idling_benefit = 0\n",
    "    idling_benefit_2 = 0\n",
    "    for i,(a,t,d) in enumerate(zip(arrival_sequence,transfer_sequence,drain_sequence)):\n",
    "        t = min(t,a+arrival_buffer[i])\n",
    "        if drain_buffer[i] > thres:\n",
    "            t = 0\n",
    "            n_idles += 1\n",
    "            idling_benefit += a-d\n",
    "            idling_benefit_2 += a-min(d,drain_buffer[i])\n",
    "        arrival_buffer[i+1] = max(0,arrival_buffer[i]+a-t)\n",
    "        drain_buffer[i+1] = max(0,drain_buffer[i]+t-d)\n",
    "        \n",
    "    print(n_idles,idling_benefit,idling_benefit_2)\n",
    "    return arrival_buffer,drain_buffer"
   ]
  },
  {
   "cell_type": "code",
   "execution_count": null,
   "metadata": {},
   "outputs": [],
   "source": [
    "c1 = 1\n",
    "c2 = 1.5"
   ]
  },
  {
   "cell_type": "code",
   "execution_count": null,
   "metadata": {},
   "outputs": [],
   "source": [
    "arrival_buffer,drain_buffer = simulate_reflected_random_walk(demand_seq,supply_seq,supply_2_seq,mu_supply_2*3)"
   ]
  },
  {
   "cell_type": "code",
   "execution_count": null,
   "metadata": {},
   "outputs": [],
   "source": [
    "plt.plot(drain_buffer[:700]*c2+arrival_buffer[:700]*c1)"
   ]
  },
  {
   "cell_type": "code",
   "execution_count": null,
   "metadata": {},
   "outputs": [],
   "source": [
    "(mu_supply_2-mu_demand)/(mu_supply-mu_demand)"
   ]
  },
  {
   "cell_type": "code",
   "execution_count": null,
   "metadata": {},
   "outputs": [],
   "source": [
    "plt.plot(hedging,cost)\n",
    "plt.plot(hedging,cost,\".\")"
   ]
  },
  {
   "cell_type": "code",
   "execution_count": null,
   "metadata": {},
   "outputs": [],
   "source": [
    "25*np.sqrt(mu_supply)/mu_supply"
   ]
  },
  {
   "cell_type": "code",
   "execution_count": null,
   "metadata": {},
   "outputs": [],
   "source": [
    "plt.plot(hedging,cost)\n",
    "plt.plot(hedging,cost,\".\")"
   ]
  },
  {
   "cell_type": "code",
   "execution_count": null,
   "metadata": {},
   "outputs": [],
   "source": [
    "plt.plot(hedging,cost)\n",
    "plt.plot(hedging,cost,\".\")"
   ]
  },
  {
   "cell_type": "code",
   "execution_count": null,
   "metadata": {},
   "outputs": [],
   "source": [
    "cost[1]/cost[-1]"
   ]
  },
  {
   "cell_type": "code",
   "execution_count": null,
   "metadata": {},
   "outputs": [],
   "source": [
    "mu_supply_2*6"
   ]
  },
  {
   "cell_type": "code",
   "execution_count": null,
   "metadata": {},
   "outputs": [],
   "source": [
    "hedging"
   ]
  },
  {
   "cell_type": "code",
   "execution_count": null,
   "metadata": {},
   "outputs": [],
   "source": [
    "len(demand_seq)"
   ]
  },
  {
   "cell_type": "code",
   "execution_count": null,
   "metadata": {},
   "outputs": [],
   "source": [
    "cost = []\n",
    "hedging = np.arange(15,40,5)\n",
    "#hedging = np.arange(1,7)\n",
    "j = 1\n",
    "f,ax = plt.subplots(3,1,figsize=(8,8))\n",
    "#plot_range = range(4000,5000)\n",
    "plot_range = range(0,50000)\n",
    "cumul = False\n",
    "for h in hedging:\n",
    "    thres = mu_supply_2+h*np.sqrt(mu_supply_2)\n",
    "    #thres = h*10\n",
    "    print(thres)\n",
    "    arrival_buffer,drain_buffer = simulate_reflected_random_walk(demand_seq,supply_seq,supply_2_seq,thres)\n",
    "    cost.append(sum(arrival_buffer*c1)+sum(drain_buffer*c2))\n",
    "    #plt.plot(drain_buffer[j*1000:(j+1)*1000]*c2+arrival_buffer[j*1000:(j+1)*1000]*c1)\n",
    "    if cumul:\n",
    "        ax[1].plot(np.cumsum(drain_buffer*c2)[plot_range],label=h)\n",
    "        ax[0].plot(np.cumsum(arrival_buffer*c1)[plot_range])\n",
    "        ax[2].plot(np.cumsum(arrival_buffer*c1+drain_buffer*c2)[plot_range])\n",
    "    else:\n",
    "        ax[1].plot((drain_buffer*c2)[plot_range],label=h)\n",
    "        ax[0].plot((arrival_buffer*c1)[plot_range])\n",
    "        ax[2].plot((arrival_buffer*c1+drain_buffer*c2)[plot_range])\n",
    "    #print(np.min(np.diff((arrival_buffer[1500:2000]*c1+drain_buffer[1500:2000]*c2))))\n",
    "f.legend()\n",
    "#plt.plot(hedging,cost)"
   ]
  },
  {
   "cell_type": "code",
   "execution_count": null,
   "metadata": {},
   "outputs": [],
   "source": [
    "cost[0]-cost[1]"
   ]
  },
  {
   "cell_type": "code",
   "execution_count": null,
   "metadata": {},
   "outputs": [],
   "source": [
    "plt.plot(drain_buffer[:300])"
   ]
  },
  {
   "cell_type": "code",
   "execution_count": null,
   "metadata": {},
   "outputs": [],
   "source": [
    "plt.plot(arrival_buffer[:600])"
   ]
  },
  {
   "cell_type": "code",
   "execution_count": null,
   "metadata": {},
   "outputs": [],
   "source": [
    "plt.plot(buffer_seq[:1000])"
   ]
  },
  {
   "cell_type": "code",
   "execution_count": null,
   "metadata": {},
   "outputs": [],
   "source": [
    "sum(buffer_seq)"
   ]
  },
  {
   "cell_type": "code",
   "execution_count": null,
   "metadata": {},
   "outputs": [],
   "source": [
    "sum(buffer_seq)"
   ]
  },
  {
   "cell_type": "code",
   "execution_count": null,
   "metadata": {},
   "outputs": [],
   "source": [
    "np.percentile((supply_seq-demand_seq)[(supply_seq-demand_seq) < 0],0.01)"
   ]
  },
  {
   "cell_type": "code",
   "execution_count": null,
   "metadata": {},
   "outputs": [],
   "source": [
    "plt.plot(np.cumsum(supply_seq)-np.cumsum(demand_seq))"
   ]
  },
  {
   "cell_type": "code",
   "execution_count": null,
   "metadata": {},
   "outputs": [],
   "source": [
    "percentile = 1.645\n",
    "#percentile = 0\n",
    "#percentile = 1.96\n",
    "#percentile = 2.33\n",
    "slack_capacity = mu_supply-mu_demand\n",
    "time_horizon = (percentile**2)*mu_supply/(2*slack_capacity**2)\n",
    "offset = time_horizon*(-slack_capacity) + percentile* np.sqrt(mu_supply*2*time_horizon)\n",
    "print(time_horizon*2)\n",
    "time_horizon = int(np.ceil(time_horizon))\n",
    "offset = int(np.ceil(offset))"
   ]
  },
  {
   "cell_type": "code",
   "execution_count": null,
   "metadata": {},
   "outputs": [],
   "source": [
    "time_horizon = (percentile**2)*mu_supply*2/slack_capacity**2\n",
    "time_horizon = int(np.ceil(time_horizon))"
   ]
  },
  {
   "cell_type": "code",
   "execution_count": null,
   "metadata": {},
   "outputs": [],
   "source": [
    "y = []\n",
    "for d in range(time_horizon):\n",
    "    y.append(d*(slack_capacity) - percentile* np.sqrt(mu_supply*2*d))"
   ]
  },
  {
   "cell_type": "code",
   "execution_count": null,
   "metadata": {},
   "outputs": [],
   "source": [
    "y_1 = y\n",
    "time_horizon_1 = time_horizon"
   ]
  },
  {
   "cell_type": "code",
   "execution_count": null,
   "metadata": {},
   "outputs": [],
   "source": [
    "y_2 = y\n",
    "time_horizon_2 = time_horizon"
   ]
  },
  {
   "cell_type": "code",
   "execution_count": null,
   "metadata": {},
   "outputs": [],
   "source": [
    "time_horizon/time_horizon_1"
   ]
  },
  {
   "cell_type": "code",
   "execution_count": null,
   "metadata": {},
   "outputs": [],
   "source": [
    "1.96/1.645"
   ]
  },
  {
   "cell_type": "code",
   "execution_count": null,
   "metadata": {},
   "outputs": [],
   "source": [
    "plt.plot(range(time_horizon),y)\n",
    "plt.plot(range(time_horizon_1),y_1)\n",
    "plt.plot(range(time_horizon_2),y_2)"
   ]
  },
  {
   "cell_type": "code",
   "execution_count": null,
   "metadata": {},
   "outputs": [],
   "source": [
    "y"
   ]
  },
  {
   "cell_type": "code",
   "execution_count": null,
   "metadata": {},
   "outputs": [],
   "source": [
    "time_horizon"
   ]
  },
  {
   "cell_type": "code",
   "execution_count": null,
   "metadata": {},
   "outputs": [],
   "source": [
    "offset"
   ]
  },
  {
   "cell_type": "code",
   "execution_count": null,
   "metadata": {},
   "outputs": [],
   "source": [
    "thres = poisson.ppf(0.95,mu_demand)\n",
    "#thres = 0\n",
    "thres = poisson.ppf(0.5,mu_demand)\n",
    "\n",
    "def idle_supply(demand_seq,supply_seq,offset):\n",
    "    inv_pos = offset\n",
    "    idle_supply_seq = np.zeros_like(supply_seq) \n",
    "    idle_count = 0\n",
    "    for i,(d,s) in enumerate(zip(demand_seq,supply_seq)):\n",
    "        if inv_pos > thres+offset:\n",
    "            s = 0\n",
    "            idle_count += 1\n",
    "        idle_supply_seq[i] = s\n",
    "        inv_pos += s-d\n",
    "    #print(idle_count/len(supply_seq)) \n",
    "    return idle_supply_seq\n",
    "\n",
    "def idle_supply_time_horizon(demand_seq,supply_seq,offset,time_horizon):\n",
    "    inv_pos = offset\n",
    "    inv_pos_seq = np.zeros_like(supply_seq)\n",
    "    days_count = 0\n",
    "    for i,(d,s) in enumerate(zip(demand_seq,supply_seq)):\n",
    "        if (inv_pos > thres+offset) and days_count >= time_horizon:\n",
    "            s = 0\n",
    "            days_count = 0\n",
    "        idle_supply_seq[i] = s\n",
    "        inv_pos += s-d\n",
    "        inv_pos_seq[i] = inv_pos\n",
    "        days_count += 1\n",
    "    return inv_pos_seq\n",
    "\n",
    "def idle_supply_time_horizon_smooth(demand_seq,supply_seq,offset,time_horizon):\n",
    "    inv_pos = offset\n",
    "    inv_pos_seq = np.zeros_like(supply_seq)\n",
    "    days_count = 0\n",
    "    just_idled = False\n",
    "    for i,(d,s) in enumerate(zip(demand_seq,supply_seq)):\n",
    "        surplus = inv_pos - offset\n",
    "        if surplus > 0 and ((days_count >= time_horizon) or just_idled):\n",
    "            if d > surplus:\n",
    "                s = d-surplus\n",
    "            else:\n",
    "                s = 0\n",
    "            days_count=0\n",
    "            just_idled = True\n",
    "        else:\n",
    "            just_idled = False\n",
    "            \n",
    "        inv_pos += s-d\n",
    "        inv_pos_seq[i] = inv_pos\n",
    "        if not just_idled:\n",
    "            days_count += 1\n",
    "            \n",
    "    return inv_pos_seq\n",
    "\n",
    "def work_supply_time_horizon_smooth(demand_seq,supply_seq,offset,time_horizon):\n",
    "    inv_pos = offset\n",
    "    inv_pos_seq = np.zeros_like(supply_seq)\n",
    "    days_count = 0\n",
    "    just_idled = True\n",
    "    for i,(d,s) in enumerate(zip(demand_seq,supply_seq)):\n",
    "        surplus = inv_pos - offset\n",
    "        if surplus > 0 and ((days_count >= time_horizon) or just_idled):\n",
    "            days_count = 0\n",
    "            if d > surplus:\n",
    "                s = d-surplus\n",
    "            else:\n",
    "                s = 0\n",
    "            days_count=0\n",
    "            just_idled = True\n",
    "        else:\n",
    "            days_count += 1\n",
    "            just_idled = False\n",
    "            \n",
    "        inv_pos += s-d\n",
    "        inv_pos_seq[i] = inv_pos\n",
    "            \n",
    "    return inv_pos_seq\n",
    "\n",
    "def idle_supply_smooth(demand_seq,supply_seq,offset):\n",
    "    inv_pos = offset\n",
    "    idle_supply_seq = np.zeros_like(supply_seq) \n",
    "    idle_count = 0\n",
    "    inv_pos_array = np.zeros_like(supply_seq)\n",
    "    for i,(d,s) in enumerate(zip(demand_seq,supply_seq)):\n",
    "        surplus = inv_pos - offset\n",
    "        if surplus > 0:\n",
    "            if d > surplus:\n",
    "                s = d-surplus\n",
    "            else:\n",
    "                s = 0\n",
    "            idle_count += 1\n",
    "            \n",
    "        idle_supply_seq[i] = s\n",
    "        inv_pos += s-d\n",
    "        inv_pos = min(inv_pos,offset)\n",
    "        inv_pos_array[i] = inv_pos\n",
    "\n",
    "    #print(idle_count/len(supply_seq)) \n",
    "    print(inv_pos)\n",
    "    return inv_pos_array"
   ]
  },
  {
   "cell_type": "code",
   "execution_count": null,
   "metadata": {},
   "outputs": [],
   "source": [
    "slack_capacity/np.sqrt(2*mu_demand)"
   ]
  },
  {
   "cell_type": "code",
   "execution_count": null,
   "metadata": {},
   "outputs": [],
   "source": [
    "point = 1400\n",
    "plt.plot(inv_pos_seq[point-100:point+500])"
   ]
  },
  {
   "cell_type": "code",
   "execution_count": null,
   "metadata": {},
   "outputs": [],
   "source": [
    "point = 1400\n",
    "plt.plot(inv_pos_seq[point-100:point+500])"
   ]
  },
  {
   "cell_type": "code",
   "execution_count": null,
   "metadata": {},
   "outputs": [],
   "source": [
    "point = 1400\n",
    "plt.plot(inv_pos_seq[point-100:point+100])"
   ]
  },
  {
   "cell_type": "code",
   "execution_count": null,
   "metadata": {},
   "outputs": [],
   "source": [
    "offset"
   ]
  },
  {
   "cell_type": "code",
   "execution_count": null,
   "metadata": {},
   "outputs": [],
   "source": [
    "time_horizon*slack_capacity/2"
   ]
  },
  {
   "cell_type": "code",
   "execution_count": null,
   "metadata": {},
   "outputs": [],
   "source": [
    "slack_capacity"
   ]
  },
  {
   "cell_type": "code",
   "execution_count": null,
   "metadata": {},
   "outputs": [],
   "source": [
    "inv_pos_seq = work_supply_time_horizon_smooth(demand_seq,supply_seq,53,12)\n",
    "\n",
    "print(np.mean(inv_pos_seq < 0))"
   ]
  },
  {
   "cell_type": "code",
   "execution_count": null,
   "metadata": {},
   "outputs": [],
   "source": [
    "inv_pos_seq = idle_supply_time_horizon_smooth(demand_seq,supply_seq,53,12)\n",
    "\n",
    "print(np.mean(inv_pos_seq < 0))"
   ]
  },
  {
   "cell_type": "code",
   "execution_count": null,
   "metadata": {},
   "outputs": [],
   "source": [
    "stocks = inv_pos_seq.copy()\n",
    "stocks[inv_pos_seq < 0] = 0\n",
    "np.mean(stocks)"
   ]
  },
  {
   "cell_type": "code",
   "execution_count": null,
   "metadata": {},
   "outputs": [],
   "source": [
    "inv_pos_seq = idle_supply_time_horizon_smooth(demand_seq,supply_seq,41,69)\n",
    "\n",
    "print(np.mean(inv_pos_seq < 0))"
   ]
  },
  {
   "cell_type": "code",
   "execution_count": null,
   "metadata": {},
   "outputs": [],
   "source": [
    "stocks = inv_pos_seq.copy()\n",
    "stocks[inv_pos_seq < 0] = 0\n",
    "np.mean(stocks)"
   ]
  },
  {
   "cell_type": "code",
   "execution_count": null,
   "metadata": {},
   "outputs": [],
   "source": [
    "inv_pos_seq = idle_supply_time_horizon(demand_seq,supply_seq,offset,time_horizon)\n",
    "\n",
    "print(np.mean(inv_pos_seq < 0))\n",
    "#plt.plot(inv_pos_seq[827341-10:827341+10])\n",
    "#plt.plot(inv_pos_seq[827341-10:827341+10],\".\")"
   ]
  },
  {
   "cell_type": "code",
   "execution_count": null,
   "metadata": {},
   "outputs": [],
   "source": [
    "stocks = inv_pos_seq.copy()\n",
    "stocks[inv_pos_seq < 0] = 0\n",
    "np.mean(stocks)"
   ]
  },
  {
   "cell_type": "code",
   "execution_count": null,
   "metadata": {},
   "outputs": [],
   "source": [
    "idle_supply_seq,inv_pos_seq = idle_supply_smooth(demand_seq,supply_seq, np.ceil(offset))\n",
    "#inv_pos_seq = offset + np.cumsum(idle_supply_seq)-np.cumsum(demand_seq)\n",
    "print(np.mean(inv_pos_seq < 0))\n",
    "#plt.plot(inv_pos_seq[827341-10:827341+10])\n",
    "#plt.plot(inv_pos_seq[827341-10:827341+10],\".\")\n",
    "\n",
    "plt.plot(inv_pos_seq[:1200])"
   ]
  },
  {
   "cell_type": "code",
   "execution_count": null,
   "metadata": {},
   "outputs": [],
   "source": [
    "n_sims = 100000\n",
    "demand_sum = np.random.poisson(mu_demand*np.ceil(time_horizon),n_sims)\n",
    "supply_sum = np.random.poisson(mu_supply*np.ceil(time_horizon),n_sims)\n",
    "\n",
    "print(np.mean((demand_sum-supply_sum) > np.ceil(offset)))"
   ]
  },
  {
   "cell_type": "code",
   "execution_count": null,
   "metadata": {},
   "outputs": [],
   "source": [
    "offset+time_horizon*slack_capacity"
   ]
  },
  {
   "cell_type": "code",
   "execution_count": null,
   "metadata": {},
   "outputs": [],
   "source": [
    "1001 % 100"
   ]
  },
  {
   "cell_type": "code",
   "execution_count": null,
   "metadata": {},
   "outputs": [],
   "source": [
    "offset"
   ]
  },
  {
   "cell_type": "code",
   "execution_count": null,
   "metadata": {},
   "outputs": [],
   "source": [
    "time_horizon*slack_capacity/2"
   ]
  },
  {
   "cell_type": "code",
   "execution_count": null,
   "metadata": {},
   "outputs": [],
   "source": [
    "np.random.seed(500)\n",
    "n_sims = 100000\n",
    "#n_sims = 20\n",
    "stockouts = []\n",
    "last_day_stockouts = []\n",
    "last_day_stockouts_vals = []\n",
    "ave_inventories = []\n",
    "sim_time_horizon = time_horizon\n",
    "for i in range(n_sims):\n",
    "    demand = np.random.poisson(mu_demand,sim_time_horizon)\n",
    "    supply = np.random.poisson(mu_supply,sim_time_horizon)\n",
    "    inv_pos_seq = offset + np.cumsum(supply)-np.cumsum(demand)\n",
    "    stockouts.append(np.sum(inv_pos_seq < 0))\n",
    "    last_day_stockouts.append(inv_pos_seq[-1] < offset)\n",
    "    if last_day_stockouts[-1]:\n",
    "        last_day_stockouts_vals.append(inv_pos_seq[-1]-offset)\n",
    "    \n",
    "    ave_inventories.append(np.mean(inv_pos_seq))\n",
    "    if i % 10000 == 0:\n",
    "        plt.plot(inv_pos_seq)\n",
    "    \n",
    "sum(stockouts)/(sim_time_horizon*n_sims),np.sum(last_day_stockouts)/(n_sims),np.mean(ave_inventories)\n"
   ]
  },
  {
   "cell_type": "code",
   "execution_count": null,
   "metadata": {},
   "outputs": [],
   "source": [
    "offset"
   ]
  },
  {
   "cell_type": "code",
   "execution_count": null,
   "metadata": {},
   "outputs": [],
   "source": [
    "np.median(last_day_stockouts_vals)"
   ]
  },
  {
   "cell_type": "code",
   "execution_count": null,
   "metadata": {},
   "outputs": [],
   "source": [
    "for offset in range(200):\n",
    "    stock_out_probs = []\n",
    "    for d in range(1,time_horizon+1):\n",
    "        stock_out_prob = norm.cdf(-offset,slack_capacity*d,np.sqrt(2*mu_supply*d))\n",
    "        stock_out_probs.append(stock_out_prob)\n",
    "    overal_stockout_prob = np.mean(stock_out_probs)\n",
    "    #print(overal_stockout_prob)\n",
    "    if overal_stockout_prob < 0.05:\n",
    "        break"
   ]
  },
  {
   "cell_type": "code",
   "execution_count": null,
   "metadata": {},
   "outputs": [],
   "source": [
    "time_horizon"
   ]
  },
  {
   "cell_type": "code",
   "execution_count": null,
   "metadata": {},
   "outputs": [],
   "source": []
  },
  {
   "cell_type": "code",
   "execution_count": null,
   "metadata": {},
   "outputs": [],
   "source": [
    "def get_percentile_deficit(cycle_dur,slack_capacity,variance,percentile = 0.5):\n",
    "    mu = slack_capacity*cycle_dur\n",
    "    std = np.sqrt(variance*cycle_dur)\n",
    "    cum_deficit_prob = norm.cdf(0,mu,std)\n",
    "    cum_percentile = 0\n",
    "    prev_cum_prob = cum_deficit_prob\n",
    "    for i in range(10000):\n",
    "        cum_prob = norm.cdf(-i,mu,std)\n",
    "        prob = (prev_cum_prob - cum_prob)/cum_deficit_prob\n",
    "        cum_percentile += prob\n",
    "        if cum_percentile >= percentile:\n",
    "            return i\n",
    "        prev_cum_prob = cum_prob\n",
    "        \n",
    "a = get_percentile_deficit(time_horizon/4,slack_capacity,2*mu_supply)\n",
    "#get_percentile_deficit(slack_capacity,2*mu_supply,time_horizon)\n",
    "print(a)\n",
    "\n",
    "def compute_recovery_time(slack_capacity,variance,deficit,bound = 2.33):\n",
    "    dur = ((bound*np.sqrt(variance)+np.sqrt(bound**2*variance+4*slack_capacity*deficit))/(2*slack_capacity))**2\n",
    "    return int(np.ceil(dur))\n",
    "\n",
    "print(compute_recovery_time(slack_capacity,2*mu_supply,a))\n",
    "\n",
    "def get_average_stockout_prob(duration,slack_capacity,variance,start):\n",
    "    stock_out_probs = []\n",
    "    for d in range(1,duration+1):\n",
    "        stock_out_prob = norm.cdf(0,start+slack_capacity*d,np.sqrt(variance*d))\n",
    "        stock_out_probs.append(stock_out_prob)\n",
    "    average_stockout_prob = np.mean(stock_out_probs)\n",
    "    return average_stockout_prob\n",
    "\n",
    "def compute_stockout_prob_and_inventory_cost(cycle_dur,slack_capacity,variance,offset):\n",
    "    mu = slack_capacity*cycle_dur\n",
    "    std = np.sqrt(variance*cycle_dur)\n",
    "    cum_deficit_prob = norm.cdf(0,mu,std)\n",
    "    #print(cum_deficit_prob)\n",
    "    deficit = get_percentile_deficit(cycle_dur,slack_capacity,variance,0.95)\n",
    "    #print(deficit)\n",
    "    rec_dur = compute_recovery_time(slack_capacity,variance,deficit)\n",
    "    #print(rec_dur)\n",
    "    cycle_stockout_prob = get_average_stockout_prob(cycle_dur,slack_capacity,variance,offset)\n",
    "    \n",
    "    rec_dur = int(np.ceil(deficit/slack_capacity))\n",
    "    print(rec_dur)\n",
    "    rec_stockout_prob = get_average_stockout_prob(rec_dur,slack_capacity,variance,offset-deficit)\n",
    "    #print(cycle_stockout_prob,rec_stockout_prob)\n",
    "    \n",
    "    effective_duration = (cycle_dur+cum_deficit_prob*rec_dur)\n",
    "    #print(cycle_dur/effective_duration)\n",
    "    \n",
    "    overall_stockout_prob = (cycle_dur*cycle_stockout_prob+cum_deficit_prob*rec_dur*rec_stockout_prob)/effective_duration\n",
    "    \n",
    "    overall_inventory_cost = (cycle_dur*(0.5*slack_capacity*cycle_dur+offset)+cum_deficit_prob*rec_dur*(0.5*slack_capacity*rec_dur+offset-deficit))/effective_duration\n",
    "    #print(overall_inventory_cost)\n",
    "    return overall_stockout_prob,overall_inventory_cost"
   ]
  },
  {
   "cell_type": "code",
   "execution_count": null,
   "metadata": {},
   "outputs": [],
   "source": [
    "time_horizon/4"
   ]
  },
  {
   "cell_type": "code",
   "execution_count": null,
   "metadata": {},
   "outputs": [],
   "source": [
    "variance = 2*mu_supply"
   ]
  },
  {
   "cell_type": "code",
   "execution_count": null,
   "metadata": {},
   "outputs": [],
   "source": [
    "min_inv_cost = np.inf\n",
    "min_cycle_dur = None\n",
    "min_offset = None\n",
    "for cycle_dur in range(1,int(time_horizon)):\n",
    "\n",
    "    for offset in range(200):\n",
    "        overall_stockout_prob,inv_cost = compute_stockout_prob_and_inventory_cost(cycle_dur,slack_capacity,variance,offset)\n",
    "        #print(overall_stockout_prob)\n",
    "        if overall_stockout_prob < 0.05:\n",
    "            break\n",
    "    \n",
    "    print(cycle_dur,inv_cost)\n",
    "    if inv_cost < min_inv_cost:\n",
    "        print(cycle_dur)\n",
    "        min_inv_cost = inv_cost\n",
    "        min_cycle_dur = cycle_dur\n",
    "        min_offset = offset\n",
    "    \n",
    "print(offset)"
   ]
  },
  {
   "cell_type": "code",
   "execution_count": null,
   "metadata": {},
   "outputs": [],
   "source": [
    "min_offset"
   ]
  },
  {
   "cell_type": "code",
   "execution_count": null,
   "metadata": {},
   "outputs": [],
   "source": [
    "min_cycle_dur"
   ]
  },
  {
   "cell_type": "code",
   "execution_count": null,
   "metadata": {},
   "outputs": [],
   "source": [
    "min_inv_cost"
   ]
  },
  {
   "cell_type": "code",
   "execution_count": null,
   "metadata": {},
   "outputs": [],
   "source": [
    "time_horizon"
   ]
  },
  {
   "cell_type": "code",
   "execution_count": null,
   "metadata": {},
   "outputs": [],
   "source": [
    "int(time_horizon)*(0.5*slack_capacity)"
   ]
  },
  {
   "cell_type": "code",
   "execution_count": null,
   "metadata": {},
   "outputs": [],
   "source": [
    "inv_cost"
   ]
  },
  {
   "cell_type": "code",
   "execution_count": null,
   "metadata": {},
   "outputs": [],
   "source": [
    "print(overal_stockout_prob)"
   ]
  },
  {
   "cell_type": "code",
   "execution_count": null,
   "metadata": {},
   "outputs": [],
   "source": [
    "overal_stockout_prob"
   ]
  },
  {
   "cell_type": "code",
   "execution_count": null,
   "metadata": {},
   "outputs": [],
   "source": [
    "probs = []\n",
    "deficit = 10000\n",
    "for i in range(deficit):\n",
    "    v = -offset-i\n",
    "    mu = slack_capacity*time_horizon\n",
    "    std = np.sqrt(2*mu_supply*time_horizon)\n",
    "    probs.append(norm.cdf(v,mu,std))\n",
    "    #print(i,probs[-1])\n",
    "    \n",
    "np.sum(-np.diff(probs)*np.arange(1,deficit)/norm.cdf(-offset,mu,std))"
   ]
  },
  {
   "cell_type": "code",
   "execution_count": null,
   "metadata": {},
   "outputs": [],
   "source": [
    "offsets = []\n",
    "for dur in range(1,time_horizon+1):\n",
    "    for offset in range(200):\n",
    "        stock_out_probs = []\n",
    "        for d in range(1,dur+1):\n",
    "            stock_out_prob = norm.cdf(-offset,slack_capacity*d,np.sqrt(2*mu_supply*d))\n",
    "            stock_out_probs.append(stock_out_prob)\n",
    "        overal_stockout_prob = np.mean(stock_out_probs)\n",
    "        #print(overal_stockout_prob)\n",
    "        if overal_stockout_prob < 0.05:\n",
    "            break\n",
    "    #print(dur,offset)\n",
    "    offsets.append(offset)"
   ]
  },
  {
   "cell_type": "code",
   "execution_count": null,
   "metadata": {},
   "outputs": [],
   "source": [
    "plt.plot(offsets)"
   ]
  },
  {
   "cell_type": "code",
   "execution_count": null,
   "metadata": {},
   "outputs": [],
   "source": [
    "norm.cdf(-offset,mu,std)"
   ]
  },
  {
   "cell_type": "code",
   "execution_count": null,
   "metadata": {},
   "outputs": [],
   "source": [
    "offset"
   ]
  },
  {
   "cell_type": "code",
   "execution_count": null,
   "metadata": {},
   "outputs": [],
   "source": [
    "mu"
   ]
  },
  {
   "cell_type": "code",
   "execution_count": null,
   "metadata": {},
   "outputs": [],
   "source": [
    "(-np.diff(probs)/norm.cdf(-offset,mu,std))[:50]"
   ]
  },
  {
   "cell_type": "code",
   "execution_count": null,
   "metadata": {},
   "outputs": [],
   "source": [
    "-np.diff(probs)/norm.cdf(-offset,mu,std)"
   ]
  },
  {
   "cell_type": "code",
   "execution_count": null,
   "metadata": {},
   "outputs": [],
   "source": [
    "offset"
   ]
  },
  {
   "cell_type": "code",
   "execution_count": null,
   "metadata": {},
   "outputs": [],
   "source": [
    "np.sum(last_day_stockouts)/(n_sims)"
   ]
  },
  {
   "cell_type": "code",
   "execution_count": null,
   "metadata": {},
   "outputs": [],
   "source": [
    "sum(stockouts)/(int(np.ceil(time_horizon))*n_sims)"
   ]
  },
  {
   "cell_type": "code",
   "execution_count": null,
   "metadata": {},
   "outputs": [],
   "source": [
    "np.sum(last_day_stockouts)"
   ]
  },
  {
   "cell_type": "code",
   "execution_count": null,
   "metadata": {},
   "outputs": [],
   "source": [
    "np.sum(last_day_stockouts)/sum(stockouts)"
   ]
  },
  {
   "cell_type": "code",
   "execution_count": null,
   "metadata": {},
   "outputs": [],
   "source": [
    "np.mean(stockouts)"
   ]
  },
  {
   "cell_type": "code",
   "execution_count": null,
   "metadata": {},
   "outputs": [],
   "source": [
    "stockouts = np.array(stockouts)"
   ]
  },
  {
   "cell_type": "code",
   "execution_count": null,
   "metadata": {},
   "outputs": [],
   "source": [
    "np.median(stockouts[stockouts > 0])"
   ]
  },
  {
   "cell_type": "code",
   "execution_count": null,
   "metadata": {},
   "outputs": [],
   "source": [
    "plt.hist(stockouts[stockouts > 0])"
   ]
  },
  {
   "cell_type": "code",
   "execution_count": null,
   "metadata": {},
   "outputs": [],
   "source": [
    "plt.hist(stockouts,bins=range(0,50,2))"
   ]
  },
  {
   "cell_type": "code",
   "execution_count": null,
   "metadata": {},
   "outputs": [],
   "source": [
    "2*time_horizon"
   ]
  },
  {
   "cell_type": "code",
   "execution_count": null,
   "metadata": {},
   "outputs": [],
   "source": [
    "norm.cdf(-offset,slack_capacity*10,np.sqrt(mu_supply*10))"
   ]
  },
  {
   "cell_type": "code",
   "execution_count": null,
   "metadata": {},
   "outputs": [],
   "source": [
    "int(np.ceil(time_horizon))"
   ]
  }
 ],
 "metadata": {
  "kernelspec": {
   "display_name": "Python 3",
   "language": "python",
   "name": "python3"
  },
  "language_info": {
   "codemirror_mode": {
    "name": "ipython",
    "version": 3
   },
   "file_extension": ".py",
   "mimetype": "text/x-python",
   "name": "python",
   "nbconvert_exporter": "python",
   "pygments_lexer": "ipython3",
   "version": "3.7.3"
  }
 },
 "nbformat": 4,
 "nbformat_minor": 2
}
