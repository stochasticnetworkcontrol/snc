{
 "cells": [
  {
   "cell_type": "code",
   "execution_count": null,
   "metadata": {},
   "outputs": [],
   "source": [
    "import numpy as np\n",
    "import matplotlib.pyplot as plt"
   ]
  },
  {
   "cell_type": "code",
   "execution_count": null,
   "metadata": {},
   "outputs": [],
   "source": [
    "%matplotlib inline"
   ]
  },
  {
   "cell_type": "code",
   "execution_count": null,
   "metadata": {},
   "outputs": [],
   "source": [
    "alpha = 0.33\n",
    "mu1 = 0.34\n",
    "mu2 = 0.345\n",
    "mu3 = 0.4\n",
    "mu4 = 0.45\n",
    "mus = np.array([0.34,0.345,0.45,0.5])"
   ]
  },
  {
   "cell_type": "code",
   "execution_count": null,
   "metadata": {},
   "outputs": [],
   "source": [
    "total_min_cost = min_cum_cost"
   ]
  },
  {
   "cell_type": "code",
   "execution_count": null,
   "metadata": {},
   "outputs": [],
   "source": [
    "alpha = 0.33\n",
    "slack_capacities = (mus-alpha)\n",
    "cum_cost = 1/slack_capacities\n",
    "min_cum_cost = min(cum_cost)\n",
    "#cum_cost = cum_cost/min_cum_cost\n",
    "\n",
    "f,ax = plt.subplots(2,1,figsize=(8,8))\n",
    "\n",
    "xrange = np.arange(0.008,0.55,0.01)\n",
    "ax[1].plot(xrange,1/xrange/total_min_cost,\"k\")\n",
    "for i in range(len(slack_capacities)):\n",
    "    ax[0].bar(i,cum_cost[i]/min_cum_cost)\n",
    "    ax[1].plot(slack_capacities[i],cum_cost[i]/total_min_cost,\"o\",label=\"{}\".format(mus[i]),markersize=10)\n",
    "    \n",
    "ax[1].plot()\n",
    "    \n",
    "ax[0].set_xticks(range(len(slack_capacities)))\n",
    "ax[0].set_xticklabels([\"{}\".format(mu) for mu in mus])\n",
    "ax[1].legend()\n",
    "ax[1].set_xlabel(\"Slack capacity (mu-alpha)\")\n",
    "ax[0].set_ylabel(\"Comparative Draining time\")\n",
    "ax[1].set_ylabel(\"Draining time\")\n",
    "ax[0].set_title(\"Alpha = {}\".format(alpha))\n",
    "f.tight_layout()"
   ]
  },
  {
   "cell_type": "code",
   "execution_count": null,
   "metadata": {},
   "outputs": [],
   "source": [
    "f,ax = plt.subplots(1,1,figsize=(8,8))\n",
    "\n",
    "xrange = np.arange(0.008,0.55,0.01)\n",
    "ax.plot(xrange,1/xrange/total_min_cost,\"k\")\n",
    "for i in range(len(slack_capacities)):\n",
    "    ax.plot(slack_capacities[i],cum_cost[i]/total_min_cost,\"o\",label=\"{}\".format(mus[i]),markersize=10)\n",
    "    \n",
    "ax.plot(slack_capacities[0], 1/(mus[0]*0.995-alpha)/total_min_cost,\"ko\",label=\"0.995*mu1\".format(mus[i]),markersize=10)\n",
    "    \n",
    "ax.plot()\n",
    "    \n",
    "ax.set_ylim(bottom=30)\n",
    "    \n",
    "ax.legend()\n",
    "ax.set_xlabel(\"Slack capacity (mu-alpha)\")\n",
    "ax.set_ylabel(\"Draining time\")\n",
    "ax.set_title(\"Alpha = {}\".format(alpha))\n",
    "f.tight_layout()"
   ]
  },
  {
   "cell_type": "code",
   "execution_count": null,
   "metadata": {},
   "outputs": [],
   "source": [
    "xrange = np.arange(0.008,0.4,0.01)\n",
    "plt.plot(xrange,1/xrange)\n",
    "for i in range(len(slack_capacities)):\n",
    "    plt.plot(slack_capacities[i],cum_cost[i],\"o\")"
   ]
  },
  {
   "cell_type": "code",
   "execution_count": null,
   "metadata": {},
   "outputs": [],
   "source": [
    "n = int(1e6)\n",
    "seq = np.random.binomial(1,0.9,n)\n",
    "mod = np.random.binomial(1,0.95,n)\n",
    "seq_in = seq*mod\n",
    "seq_in = np.random.binomial(1,0.855,n)\n",
    "\n",
    "d = 0.3\n",
    "seq_1 = np.random.binomial(1,0.6+d,n)\n",
    "seq_2 = np.random.binomial(1,0.6-d,n)\n",
    "seq_mix = np.random.binomial(1,0.5,n)\n",
    "seq_in_mixed = np.where(seq_mix,seq_1,seq_2)\n",
    "\n",
    "seq_in_stable = np.random.binomial(1,0.6,n)\n",
    "\n",
    "\n",
    "seq_out = np.random.binomial(1,0.55,n)\n",
    "\n",
    "seq = seq = np.random.binomial(1,0.9,n)"
   ]
  },
  {
   "cell_type": "code",
   "execution_count": null,
   "metadata": {},
   "outputs": [],
   "source": [
    "n = int(1e6)\n",
    "\n",
    "d = 0.3\n",
    "seq_1 = np.random.poisson(3+d,n)\n",
    "seq_2 = np.random.poisson(3-d,n)\n",
    "seq_mix = np.random.binomial(1,0.5,n)\n",
    "seq_in_mixed = np.where(seq_mix,seq_1,seq_2)\n",
    "\n",
    "seq_in_stable = np.random.poisson(3+d,n)\n",
    "\n",
    "\n",
    "seq_out = np.random.binomial(1,0.55,n)\n",
    "\n",
    "seq = seq = np.random.binomial(1,0.9,n)"
   ]
  },
  {
   "cell_type": "code",
   "execution_count": null,
   "metadata": {},
   "outputs": [],
   "source": [
    "def simulate_safety_stocks(seq_in, seq_out, ss_level):\n",
    "    state = np.zeros(len(seq_in)+1)\n",
    "    stockouts = np.zeros(len(seq_in))\n",
    "    state[0] = ss_level\n",
    "    for i,(a,d) in enumerate(zip(seq_in,seq_out)):\n",
    "        if state[i] > ss_level:\n",
    "            a = 0\n",
    "        \n",
    "        if state[i] == 0:\n",
    "            stockouts[i] = 1\n",
    "            \n",
    "        state[i+1] = max(0,state[i] - d) + a\n",
    "        \n",
    "    return stockouts"
   ]
  },
  {
   "cell_type": "code",
   "execution_count": null,
   "metadata": {},
   "outputs": [],
   "source": [
    "stockouts_mixed = simulate_safety_stocks(seq_in_mixed,seq_out,3)\n",
    "\n",
    "stockouts_stable = simulate_safety_stocks(seq_in_stable,seq_out,3)"
   ]
  },
  {
   "cell_type": "code",
   "execution_count": null,
   "metadata": {},
   "outputs": [],
   "source": [
    "plt.plot(np.cumsum(stockouts_mixed),label=\"mixed\")\n",
    "plt.plot(np.cumsum(stockouts_stable),label=\"stable\")\n",
    "plt.legend()"
   ]
  },
  {
   "cell_type": "code",
   "execution_count": null,
   "metadata": {},
   "outputs": [],
   "source": []
  }
 ],
 "metadata": {
  "kernelspec": {
   "display_name": "Python 3",
   "language": "python",
   "name": "python3"
  },
  "language_info": {
   "codemirror_mode": {
    "name": "ipython",
    "version": 3
   },
   "file_extension": ".py",
   "mimetype": "text/x-python",
   "name": "python",
   "nbconvert_exporter": "python",
   "pygments_lexer": "ipython3",
   "version": "3.7.3"
  }
 },
 "nbformat": 4,
 "nbformat_minor": 2
}
