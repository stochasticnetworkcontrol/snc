{
 "cells": [
  {
   "cell_type": "code",
   "execution_count": null,
   "metadata": {},
   "outputs": [],
   "source": [
    "from collections import defaultdict"
   ]
  },
  {
   "cell_type": "code",
   "execution_count": null,
   "metadata": {},
   "outputs": [],
   "source": [
    "import numpy as np"
   ]
  },
  {
   "cell_type": "code",
   "execution_count": null,
   "metadata": {},
   "outputs": [],
   "source": [
    "def get_workload_connections(workload_mat):\n",
    "    workload_connections= {w:set() for w in range(workload_mat.shape[0])}\n",
    "    for b in range(workload_mat.shape[1]):\n",
    "        workloads = np.where(workload_mat[:,b].ravel() != 0)[0]\n",
    "        print(workloads)\n",
    "        for i in range(len(workloads)-1):\n",
    "            w = workloads[i]\n",
    "            for j in range(i+1,len(workloads)):\n",
    "                w_c = workloads[j]\n",
    "                workload_connections[w].add(w_c)\n",
    "                workload_connections[w_c].add(w)\n",
    "                    \n",
    "    return workload_connections"
   ]
  },
  {
   "cell_type": "code",
   "execution_count": null,
   "metadata": {},
   "outputs": [],
   "source": [
    "w_con = get_workload_connections(np.array([[1,1,0],[0,1,0],[1,0,0],[0,0,1]]))"
   ]
  },
  {
   "cell_type": "code",
   "execution_count": null,
   "metadata": {},
   "outputs": [],
   "source": [
    "def get_independed_w_dir_subsets(n_w_dirs,non_idling_set,workload_connections):\n",
    "    idling_set = set([w for w in range(n_w_dirs) if w not in non_idling_set])\n",
    "    subsets = []\n",
    "    while idling_set:\n",
    "        subset = set()\n",
    "        stack = [idling_set.pop()]\n",
    "        while stack:\n",
    "            w = stack.pop()\n",
    "            for w_c in workload_connections[w]:\n",
    "                if w_c in idling_set:\n",
    "                    stack.append(w_c)\n",
    "                    idling_set.remove(w_c)\n",
    "            subset.add(w)\n",
    "        subsets.append(subset)\n",
    "    return subsets"
   ]
  },
  {
   "cell_type": "code",
   "execution_count": null,
   "metadata": {},
   "outputs": [],
   "source": [
    "get_independed_w_dir_subsets(4,set([]),w_con)"
   ]
  },
  {
   "cell_type": "code",
   "execution_count": null,
   "metadata": {},
   "outputs": [],
   "source": []
  }
 ],
 "metadata": {
  "kernelspec": {
   "display_name": "Python 3",
   "language": "python",
   "name": "python3"
  },
  "language_info": {
   "codemirror_mode": {
    "name": "ipython",
    "version": 3
   },
   "file_extension": ".py",
   "mimetype": "text/x-python",
   "name": "python",
   "nbconvert_exporter": "python",
   "pygments_lexer": "ipython3",
   "version": "3.7.3"
  }
 },
 "nbformat": 4,
 "nbformat_minor": 2
}
