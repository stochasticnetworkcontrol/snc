{
 "cells": [
  {
   "cell_type": "code",
   "execution_count": null,
   "metadata": {},
   "outputs": [],
   "source": [
    "import matplotlib.pyplot as plt"
   ]
  },
  {
   "cell_type": "code",
   "execution_count": null,
   "metadata": {},
   "outputs": [],
   "source": [
    "%matplotlib inline"
   ]
  },
  {
   "cell_type": "code",
   "execution_count": null,
   "metadata": {},
   "outputs": [],
   "source": [
    "import cvxpy as cvx\n",
    "import numpy as np"
   ]
  },
  {
   "cell_type": "code",
   "execution_count": null,
   "metadata": {},
   "outputs": [],
   "source": [
    "a = 0.33\n",
    "m1 = m3 = 0.7\n",
    "m2 = 0.34"
   ]
  },
  {
   "cell_type": "code",
   "execution_count": null,
   "metadata": {},
   "outputs": [],
   "source": [
    "\n",
    "def compute_draining_times(w):\n",
    "    workload_1, workload_2 = compute_workloads(arrival_buffer,inter_buffer,drain_buffer)\n",
    "    drain_time_1= workload_1/(1-mu_demand*2/mu_drain)\n",
    "    drain_time_2 = workload_2/(1-mu_demand/mu_fast)\n",
    "    return drain_time_1, drain_time_2"
   ]
  },
  {
   "cell_type": "code",
   "execution_count": null,
   "metadata": {},
   "outputs": [],
   "source": [
    "#a = 0\n",
    "workload_mat = np.array([[2/m1,1/m3,1/m3],[1/m2,1/m2,0]])\n",
    "load = np.array([[2*a/m1],[a/m2]])\n",
    "num_buffers = workload_mat.shape[1]"
   ]
  },
  {
   "cell_type": "code",
   "execution_count": null,
   "metadata": {},
   "outputs": [],
   "source": [
    "1/(1-load)"
   ]
  },
  {
   "cell_type": "code",
   "execution_count": null,
   "metadata": {},
   "outputs": [],
   "source": [
    "drain_time = (workload_mat @ x)/(1-load)\n",
    "drain_time"
   ]
  },
  {
   "cell_type": "code",
   "execution_count": null,
   "metadata": {},
   "outputs": [],
   "source": [
    "workload_mat @ x"
   ]
  },
  {
   "cell_type": "code",
   "execution_count": null,
   "metadata": {},
   "outputs": [],
   "source": [
    "buffer_processing_matrix = np.array([[-m1,0,0],[+m1,-m2,0],[0,+m2,-m3]])"
   ]
  },
  {
   "cell_type": "code",
   "execution_count": null,
   "metadata": {},
   "outputs": [],
   "source": [
    "cost_per_buffer = np.array([1.5,1,2])[:,np.newaxis]\n",
    "#cost_per_buffer = np.array([1,1.001,1])[:,np.newaxis]\n",
    "cost_vec = cost_per_buffer.T @ buffer_processing_matrix"
   ]
  },
  {
   "cell_type": "code",
   "execution_count": null,
   "metadata": {},
   "outputs": [],
   "source": [
    "x_init = np.array([0,0,10000])[:,np.newaxis]\n",
    "x_init = np.array([5000,0,0])[:,np.newaxis]\n",
    "x_init = np.array([0,5000,0])[:,np.newaxis]\n",
    "x_init = np.array([2500,0,3000])[:,np.newaxis]\n",
    "horizon = 2000"
   ]
  },
  {
   "cell_type": "code",
   "execution_count": null,
   "metadata": {},
   "outputs": [],
   "source": [
    "resource_1 = np.array([1,0,1])\n",
    "resource_2 = np.array([0,1,0])"
   ]
  },
  {
   "cell_type": "code",
   "execution_count": null,
   "metadata": {},
   "outputs": [],
   "source": [
    "demand_rate = np.array([a,0,0])[:,np.newaxis]"
   ]
  },
  {
   "cell_type": "code",
   "execution_count": null,
   "metadata": {},
   "outputs": [],
   "source": [
    "kappa_w = 0#1e3"
   ]
  },
  {
   "cell_type": "code",
   "execution_count": null,
   "metadata": {},
   "outputs": [],
   "source": [
    "min_drain_time"
   ]
  },
  {
   "cell_type": "code",
   "execution_count": null,
   "metadata": {},
   "outputs": [],
   "source": [
    "\n",
    "min_drain_time = max((workload_mat @ x)/(1-load))"
   ]
  },
  {
   "cell_type": "code",
   "execution_count": null,
   "metadata": {},
   "outputs": [],
   "source": [
    "min_drain_time/h"
   ]
  },
  {
   "cell_type": "code",
   "execution_count": null,
   "metadata": {},
   "outputs": [],
   "source": [
    "int(min_drain_time/horizon)"
   ]
  },
  {
   "cell_type": "code",
   "execution_count": null,
   "metadata": {},
   "outputs": [],
   "source": [
    "(workload_mat @ x_init)/(1-load)"
   ]
  },
  {
   "cell_type": "code",
   "execution_count": null,
   "metadata": {},
   "outputs": [],
   "source": [
    "workload_mat[0] @ buffer_processing_matrix"
   ]
  },
  {
   "cell_type": "code",
   "execution_count": null,
   "metadata": {},
   "outputs": [],
   "source": [
    "state_seq = []\n",
    "cost_seq = []\n",
    "action_seq = []\n",
    "\n",
    "original_min_drain_time = max((workload_mat @ x_init)/(1-load))\n",
    "\n",
    "x = x_init\n",
    "cost = 0\n",
    "activate = False\n",
    "\n",
    "w = workload_mat @ x\n",
    "\n",
    "x_optim = cvx.Variable((num_buffers, 1),nonneg=True)\n",
    "objective = cvx.Minimize(cost_per_buffer.T @ x_optim)# + lam*cvx.sum(workload_mat @ x - w))\n",
    "constraints = [workload_mat[0] @ x_optim >= w[0],\n",
    "               workload_mat[1] @ x_optim >= w[1],\n",
    "                x_optim >= np.zeros((num_buffers, 1)),\n",
    "              #1/(1-load[1]) * workload_mat[1] @ x_optim <= original_min_drain_time,\n",
    "              ]#,cvx.sum(x) <= np.sum(x0)]\n",
    "prob = cvx.Problem(objective, constraints)\n",
    "eff_cost = prob.solve(solver=eval('cvx.ECOS'))\n",
    "x_star = x_optim.value\n",
    "w_star = workload_mat @ x_star\n",
    "\n",
    "min_drain_time = max((w_star)/(1-load))\n",
    "#min_drain_time = original_min_drain_time\n",
    "\n",
    "for j in range(int(min_drain_time/horizon)):\n",
    "    #print(j/int(min_drain_time/horizon))\n",
    "    \n",
    "    w = workload_mat @ x\n",
    "    print(w.ravel().astype(int))\n",
    "    print((w-(1-load)*horizon).ravel())\n",
    "    updated_min_drain_time = original_min_drain_time - j*horizon\n",
    "    min_drain_time = max((w)/(1-load))\n",
    "    print((w/(1-load)).ravel(),original_min_drain_time - (j+1)*horizon)\n",
    "    #print(min_drain_time/original_min_drain_time)\n",
    "    \n",
    "        \n",
    "    x_optim = cvx.Variable((num_buffers, 1),nonneg=True)\n",
    "    objective = cvx.Minimize(cost_per_buffer.T @ x_optim)# + lam*cvx.sum(workload_mat @ x - w))\n",
    "    constraints = [workload_mat[0] @ x_optim >= w[0]-(1-load[0])*horizon,\n",
    "                   workload_mat[1] @ x_optim >= w[1]-(1-load[1])*horizon,\n",
    "                   #(1/(1-load) * workload_mat) @ x_optim <= original_min_drain_time - (j+1)*horizon,\n",
    "                   #(1/(1-load) * workload_mat) @ x_optim <= min_drain_time-horizon,\n",
    "                   #1/(1-load[1]) * workload_mat[1] @ x_optim <= min_drain_time\n",
    "                  ]\n",
    "    prob = cvx.Problem(objective, constraints)\n",
    "\n",
    "    eff_cost = prob.solve(solver=eval('cvx.CPLEX'),warm_start=True)\n",
    "    x_star = x_optim.value\n",
    "    w_star = workload_mat @ x_star\n",
    "    \n",
    "    v_star = w_star - w\n",
    "    print(w_star.ravel().astype(int))\n",
    "    \n",
    "    non_idling = (v_star < 1e-4).ravel().astype(int)\n",
    "    \n",
    "    #if np.all(v_star < 1e-4):\n",
    "     #   non_idling = np.zeros_like(non_idling)\n",
    "        \n",
    "    #if new_min_drain_time >= original_min_drain_time:\n",
    "     #   non_idling = np.ones_like(non_idling)\n",
    "    #else:\n",
    "     #   input(non_idling)\n",
    "    #print(non_idling)\n",
    "    #if non_idling[1] == 1 or activate:\n",
    "     #   activate = True\n",
    "      #  print(v_star.)\n",
    "       # input()\n",
    "    \n",
    "    z = cvx.Variable((3, 1), nonneg=True)\n",
    "    h = cvx.Variable(nonneg=True)\n",
    "\n",
    "    \n",
    "    #if x[2] > 0:\n",
    "\n",
    "    penalty_nonidling_vec = non_idling[0]*cvx.abs(resource_1 @ z - 1) + non_idling[1]*cvx.abs(resource_2 @ z - 1)\n",
    "    penalty_nonidling_vec = cvx.abs((workload_mat[1] @ buffer_processing_matrix) @ z + 1) #+ cvx.abs((workload_mat[1] @ buffer_processing_matrix) @ z + 1)\n",
    " #   else:\n",
    "        \n",
    "    #penalty_nonidling_vec = cvx.abs(resource_2 @ z - 1)\n",
    "    \n",
    "\n",
    "    penalty_nonidling = cvx.sum(penalty_nonidling_vec)\n",
    "    \n",
    "    kappa_w = 1e5 #0 if x[2] > x[0] else 1e3        \n",
    "\n",
    "    obj_equation = cost_vec @ z #+ h*kappa_w#kappa_w * cvx.sum(workload_mat @ (x + (buffer_processing_matrix @ z + demand_rate) * horizon) - w_star)\n",
    "    objective = cvx.Minimize(obj_equation)\n",
    "\n",
    "    constraints = [\n",
    "        # Resource constraint.\n",
    "        resource_1 @ z <= 1,\n",
    "        resource_2 @ z <= 1,\n",
    "        # Nonnegative future state.\n",
    "        #(workload_mat[0] @ buffer_processing_matrix) @ z == -1,\n",
    "        #(workload_mat[1] @ buffer_processing_matrix) @ z == -1,\n",
    "        x + (buffer_processing_matrix @ z + demand_rate) * horizon >= 0,\n",
    "        workload_mat @ (x + (buffer_processing_matrix @ z + demand_rate) * horizon) <= w_star,\n",
    "        #workload_mat @ (x + (buffer_processing_matrix @ z + demand_rate) * horizon) <= h\n",
    "    ]\n",
    "    #if v_star[1] < 1e-3:\n",
    "     #   constraints.append((workload_mat[1] @ buffer_processing_matrix) @ z == -1)\n",
    "\n",
    "    cvx.Problem(objective, constraints).solve(solver=eval('cvx.CPLEX'),warm_start=True)\n",
    "\n",
    "    z_star = z.value\n",
    "    \n",
    "    x_new = x + ((buffer_processing_matrix @ z_star + demand_rate) * horizon)\n",
    "    \n",
    "    state_seq.append(x.ravel())\n",
    "    cost_seq.append(cost_per_buffer.T @ x)\n",
    "    action_seq.append(z_star.ravel())\n",
    "    cost += cost_per_buffer.T @ ((x_new+x)/2 * horizon)\n",
    "    x = x_new\n",
    "    \n",
    "    #print(x.astype(\"int\").ravel())\n",
    "    print(h.value)\n",
    "    print()\n",
    "    "
   ]
  },
  {
   "cell_type": "code",
   "execution_count": null,
   "metadata": {},
   "outputs": [],
   "source": [
    "cost/1e6"
   ]
  },
  {
   "cell_type": "code",
   "execution_count": null,
   "metadata": {},
   "outputs": [],
   "source": [
    "cost/1e6"
   ]
  },
  {
   "cell_type": "code",
   "execution_count": null,
   "metadata": {},
   "outputs": [],
   "source": [
    "plt.figure(figsize=(16,6))\n",
    "for i,seq in enumerate(np.array(state_seq).T):\n",
    "    plt.plot(np.arange(len(seq))*horizon,seq,label=i)\n",
    "plt.legend()"
   ]
  },
  {
   "cell_type": "code",
   "execution_count": null,
   "metadata": {},
   "outputs": [],
   "source": [
    "workload_mat[0]"
   ]
  },
  {
   "cell_type": "code",
   "execution_count": null,
   "metadata": {},
   "outputs": [],
   "source": [
    "np.testing.assert_allclose(5,5.5\n",
    "                           \n",
    "                           \n",
    "                           \n",
    "                           \n",
    "                           \n",
    "                           \n",
    "                           \n",
    "                           \n",
    "                           \n",
    "                           \n",
    "                           1,rtol=0.003)"
   ]
  },
  {
   "cell_type": "code",
   "execution_count": null,
   "metadata": {},
   "outputs": [],
   "source": [
    "min_drain_time"
   ]
  },
  {
   "cell_type": "code",
   "execution_count": null,
   "metadata": {},
   "outputs": [],
   "source": [
    "cost/1e6"
   ]
  },
  {
   "cell_type": "code",
   "execution_count": null,
   "metadata": {},
   "outputs": [],
   "source": [
    "a = set([1,2,3])\n",
    "b = set([1,2,3])"
   ]
  },
  {
   "cell_type": "code",
   "execution_count": null,
   "metadata": {},
   "outputs": [],
   "source": [
    "a.issubset(b)"
   ]
  },
  {
   "cell_type": "code",
   "execution_count": null,
   "metadata": {},
   "outputs": [],
   "source": [
    "cost_1/cost"
   ]
  },
  {
   "cell_type": "code",
   "execution_count": null,
   "metadata": {},
   "outputs": [],
   "source": [
    "cost_per_buffer.T @ ((buffer_processing_matrix @ z_star + demand_rate) * horizon),cost_per_buffer.T @ (x2-x)"
   ]
  },
  {
   "cell_type": "code",
   "execution_count": null,
   "metadata": {},
   "outputs": [],
   "source": [
    "x"
   ]
  },
  {
   "cell_type": "code",
   "execution_count": null,
   "metadata": {},
   "outputs": [],
   "source": [
    "x2.astype(int)"
   ]
  },
  {
   "cell_type": "code",
   "execution_count": null,
   "metadata": {},
   "outputs": [],
   "source": [
    "objective"
   ]
  },
  {
   "cell_type": "code",
   "execution_count": null,
   "metadata": {},
   "outputs": [],
   "source": [
    "cost_vec @ z_star + cost_per_buffer.T @ demand_rate"
   ]
  },
  {
   "cell_type": "code",
   "execution_count": null,
   "metadata": {},
   "outputs": [],
   "source": [
    "z_star"
   ]
  },
  {
   "cell_type": "code",
   "execution_count": null,
   "metadata": {},
   "outputs": [],
   "source": [
    "cost_per_buffer.T @ ((buffer_processing_matrix @ z_star + demand_rate) * horizon),cost_per_buffer.T @ (x2-x)"
   ]
  },
  {
   "cell_type": "code",
   "execution_count": null,
   "metadata": {},
   "outputs": [],
   "source": [
    "x2.astype(int)"
   ]
  },
  {
   "cell_type": "code",
   "execution_count": null,
   "metadata": {},
   "outputs": [],
   "source": [
    "cost_vec @ z_star + cost_per_buffer.T @ demand_rate"
   ]
  },
  {
   "cell_type": "code",
   "execution_count": null,
   "metadata": {},
   "outputs": [],
   "source": [
    "z_star"
   ]
  },
  {
   "cell_type": "code",
   "execution_count": null,
   "metadata": {},
   "outputs": [],
   "source": [
    "cost_per_buffer.T @ ((buffer_processing_matrix @ z_star + demand_rate) * horizon)"
   ]
  },
  {
   "cell_type": "code",
   "execution_count": null,
   "metadata": {},
   "outputs": [],
   "source": [
    "x2.astype(int)"
   ]
  },
  {
   "cell_type": "code",
   "execution_count": null,
   "metadata": {},
   "outputs": [],
   "source": [
    "cost_vec @ z_star"
   ]
  },
  {
   "cell_type": "code",
   "execution_count": null,
   "metadata": {},
   "outputs": [],
   "source": [
    "z_star"
   ]
  },
  {
   "cell_type": "code",
   "execution_count": null,
   "metadata": {},
   "outputs": [],
   "source": [
    "x.astype(int)"
   ]
  },
  {
   "cell_type": "code",
   "execution_count": null,
   "metadata": {},
   "outputs": [],
   "source": [
    "cost_vec @ z_star"
   ]
  },
  {
   "cell_type": "code",
   "execution_count": null,
   "metadata": {},
   "outputs": [],
   "source": [
    "resource_1 @ z_star - 1, kappa_w*(resource_1 @ z_star - 1)"
   ]
  },
  {
   "cell_type": "code",
   "execution_count": null,
   "metadata": {},
   "outputs": [],
   "source": [
    "5000*0.5*500000/cost"
   ]
  },
  {
   "cell_type": "code",
   "execution_count": null,
   "metadata": {},
   "outputs": [],
   "source": [
    "plt.figure(figsize=(16,6))\n",
    "for i,seq in enumerate(np.array(state_seq).T):\n",
    "    plt.plot(np.arange(len(seq))*horizon,seq,label=i)\n",
    "plt.legend()"
   ]
  },
  {
   "cell_type": "code",
   "execution_count": null,
   "metadata": {},
   "outputs": [],
   "source": [
    "plt.plot(np.array(state_seq).T[2,20:50])\n",
    "plt.ylim(top=1,bottom=-1)"
   ]
  },
  {
   "cell_type": "code",
   "execution_count": null,
   "metadata": {},
   "outputs": [],
   "source": [
    "min_drain_time/15000"
   ]
  },
  {
   "cell_type": "code",
   "execution_count": null,
   "metadata": {},
   "outputs": [],
   "source": [
    "min_drain_time"
   ]
  },
  {
   "cell_type": "code",
   "execution_count": null,
   "metadata": {},
   "outputs": [],
   "source": [
    "plt.figure(figsize=(16,6))\n",
    "for i,seq in enumerate(np.array(state_seq).T):\n",
    "    plt.plot(np.arange(len(seq[:10]))*horizon,seq[:10],label=i)\n",
    "plt.legend()"
   ]
  },
  {
   "cell_type": "code",
   "execution_count": null,
   "metadata": {},
   "outputs": [],
   "source": [
    "original_min_drain_time"
   ]
  },
  {
   "cell_type": "code",
   "execution_count": null,
   "metadata": {},
   "outputs": [],
   "source": [
    "plt.figure(figsize=(16,6))\n",
    "for i,seq in enumerate(np.array(state_seq).T):\n",
    "    plt.plot(np.arange(len(seq))*horizon,seq,label=i)\n",
    "plt.legend()"
   ]
  },
  {
   "cell_type": "code",
   "execution_count": null,
   "metadata": {},
   "outputs": [],
   "source": [
    "plt.figure(figsize=(16,6))\n",
    "for i,seq in enumerate(np.array(state_seq).T):\n",
    "    plt.plot(np.arange(len(seq))*horizon,seq,label=i)\n",
    "plt.legend()"
   ]
  },
  {
   "cell_type": "code",
   "execution_count": null,
   "metadata": {},
   "outputs": [],
   "source": [
    "plt.figure(figsize=(16,6))\n",
    "for i,seq in enumerate(np.array(state_seq).T):\n",
    "    plt.plot(np.arange(len(seq[:10]))*horizon,seq[:10],label=i)\n",
    "plt.legend()"
   ]
  },
  {
   "cell_type": "code",
   "execution_count": null,
   "metadata": {},
   "outputs": [],
   "source": [
    "plt.figure(figsize=(16,6))\n",
    "for i,seq in enumerate(np.array(state_seq).T):\n",
    "    plt.plot(np.arange(len(seq[:100]))*horizon,seq[:100],label=i)\n",
    "plt.legend()"
   ]
  },
  {
   "cell_type": "code",
   "execution_count": null,
   "metadata": {},
   "outputs": [],
   "source": [
    "plt.figure(figsize=(16,6))\n",
    "for i,seq in enumerate(np.array(state_seq).T):\n",
    "    plt.plot(np.arange(len(seq))*horizon,seq,label=i)\n",
    "plt.legend()"
   ]
  },
  {
   "cell_type": "code",
   "execution_count": null,
   "metadata": {},
   "outputs": [],
   "source": [
    "for i,seq in enumerate(np.array(state_seq).T):\n",
    "    plt.plot(seq,label=i)\n",
    "plt.legend()"
   ]
  },
  {
   "cell_type": "code",
   "execution_count": null,
   "metadata": {},
   "outputs": [],
   "source": [
    "plt.plot(resource_2 @ np.array(action_seq).T)"
   ]
  },
  {
   "cell_type": "code",
   "execution_count": null,
   "metadata": {},
   "outputs": [],
   "source": [
    "for i,seq in enumerate(np.array(action_seq).T):\n",
    "    plt.plot(seq,label=i)\n",
    "plt.legend()\n",
    "plt.xlim(right=200)"
   ]
  },
  {
   "cell_type": "code",
   "execution_count": null,
   "metadata": {},
   "outputs": [],
   "source": [
    "#cost1 = np.array(cost_seq).ravel()"
   ]
  },
  {
   "cell_type": "code",
   "execution_count": null,
   "metadata": {},
   "outputs": [],
   "source": [
    "plt.plot(np.array(cost_seq).ravel())"
   ]
  },
  {
   "cell_type": "code",
   "execution_count": null,
   "metadata": {},
   "outputs": [],
   "source": [
    "#plt.plot(np.arange(len(cost1))*10,np.array(cost1).ravel())\n",
    "plt.plot(np.array(cost_seq).ravel())\n",
    "#plt.xlim(right=50,left=-1)\n",
    "#plt.ylim(top=50000)"
   ]
  },
  {
   "cell_type": "code",
   "execution_count": null,
   "metadata": {},
   "outputs": [],
   "source": [
    "z_star"
   ]
  },
  {
   "cell_type": "code",
   "execution_count": null,
   "metadata": {},
   "outputs": [],
   "source": [
    "x_new = x + ((buffer_processing_matrix @ z_star + demand_rate) * horizon).astype(int)"
   ]
  },
  {
   "cell_type": "code",
   "execution_count": null,
   "metadata": {},
   "outputs": [],
   "source": [
    "x_new.astype(\"int\")"
   ]
  },
  {
   "cell_type": "code",
   "execution_count": null,
   "metadata": {},
   "outputs": [],
   "source": [
    "cost_per_buffer.T @ (x_new-x)"
   ]
  },
  {
   "cell_type": "code",
   "execution_count": null,
   "metadata": {},
   "outputs": [],
   "source": [
    "cost_per_buffer"
   ]
  },
  {
   "cell_type": "code",
   "execution_count": null,
   "metadata": {},
   "outputs": [],
   "source": [
    "x0 = np.array([0,10,100])[:,np.newaxis]\n",
    "w = workload_mat @ x0\n",
    "print(w)"
   ]
  },
  {
   "cell_type": "code",
   "execution_count": null,
   "metadata": {},
   "outputs": [],
   "source": [
    "x0 = np.array([0,50+1e-3,50])[:,np.newaxis]\n",
    "w1 = workload_mat @ x0\n",
    "print(w1-w)"
   ]
  },
  {
   "cell_type": "code",
   "execution_count": null,
   "metadata": {},
   "outputs": [],
   "source": [
    "num_buffers = workload_mat.shape[1]\n",
    "lam = 1e5\n",
    "x = cvx.Variable((num_buffers, 1))\n",
    "objective = cvx.Minimize(cost_per_buffer.T @ x)# + lam*cvx.sum(workload_mat @ x - w))\n",
    "constraints = [workload_mat @ x == w,\n",
    "                x >= np.zeros((num_buffers, 1))]#,cvx.sum(x) <= np.sum(x0)]\n",
    "prob = cvx.Problem(objective, constraints)\n",
    "eff_cost = prob.solve(solver=eval('cvx.ECOS'))\n",
    "x_star = x.value\n",
    "w_star = workload_mat @ x_star\n",
    "print(np.round(eff_cost))"
   ]
  },
  {
   "cell_type": "code",
   "execution_count": null,
   "metadata": {},
   "outputs": [],
   "source": [
    "np.round(eff_cost)"
   ]
  },
  {
   "cell_type": "code",
   "execution_count": null,
   "metadata": {},
   "outputs": [],
   "source": [
    "np.round(x_star)"
   ]
  },
  {
   "cell_type": "code",
   "execution_count": null,
   "metadata": {},
   "outputs": [],
   "source": [
    "c_bar = -constraints[0].dual_value\n",
    "print(c_bar)"
   ]
  },
  {
   "cell_type": "code",
   "execution_count": null,
   "metadata": {},
   "outputs": [],
   "source": [
    "c_bar"
   ]
  },
  {
   "cell_type": "code",
   "execution_count": null,
   "metadata": {},
   "outputs": [],
   "source": [
    "np.round(eff_cost + c_bar.T @ (w1-w))"
   ]
  },
  {
   "cell_type": "code",
   "execution_count": null,
   "metadata": {},
   "outputs": [],
   "source": [
    "w_star-w"
   ]
  },
  {
   "cell_type": "code",
   "execution_count": null,
   "metadata": {},
   "outputs": [],
   "source": [
    "cost_per_buffer.T @ x0 - eff_cost"
   ]
  },
  {
   "cell_type": "code",
   "execution_count": null,
   "metadata": {},
   "outputs": [],
   "source": [
    "eff_cost"
   ]
  },
  {
   "cell_type": "code",
   "execution_count": null,
   "metadata": {},
   "outputs": [],
   "source": [
    "eff_cost"
   ]
  },
  {
   "cell_type": "code",
   "execution_count": null,
   "metadata": {},
   "outputs": [],
   "source": [
    "np.sum(x_star)"
   ]
  },
  {
   "cell_type": "code",
   "execution_count": null,
   "metadata": {},
   "outputs": [],
   "source": [
    "np.sum(x0)-np.sum(x_star)"
   ]
  },
  {
   "cell_type": "code",
   "execution_count": null,
   "metadata": {},
   "outputs": [],
   "source": [
    "np.sum(x_star)"
   ]
  },
  {
   "cell_type": "code",
   "execution_count": null,
   "metadata": {},
   "outputs": [],
   "source": [
    "x_star"
   ]
  },
  {
   "cell_type": "code",
   "execution_count": null,
   "metadata": {},
   "outputs": [],
   "source": [
    "np.sum(x_star)"
   ]
  },
  {
   "cell_type": "code",
   "execution_count": null,
   "metadata": {},
   "outputs": [],
   "source": [
    "eff_cost"
   ]
  },
  {
   "cell_type": "code",
   "execution_count": null,
   "metadata": {},
   "outputs": [],
   "source": [
    "eff_cost"
   ]
  },
  {
   "cell_type": "code",
   "execution_count": null,
   "metadata": {},
   "outputs": [],
   "source": [
    "0.1341"
   ]
  },
  {
   "cell_type": "code",
   "execution_count": null,
   "metadata": {},
   "outputs": [],
   "source": [
    "(1-3)*m2"
   ]
  },
  {
   "cell_type": "code",
   "execution_count": null,
   "metadata": {},
   "outputs": [],
   "source": [
    "(2-3*2)*m2"
   ]
  },
  {
   "cell_type": "code",
   "execution_count": null,
   "metadata": {},
   "outputs": [],
   "source": [
    "(w1-w)"
   ]
  },
  {
   "cell_type": "code",
   "execution_count": null,
   "metadata": {},
   "outputs": [],
   "source": [
    "-constraints[0].dual_value.T @ (w1-w)"
   ]
  },
  {
   "cell_type": "code",
   "execution_count": null,
   "metadata": {},
   "outputs": [],
   "source": [
    "w_star"
   ]
  }
 ],
 "metadata": {
  "kernelspec": {
   "display_name": "Python 3",
   "language": "python",
   "name": "python3"
  },
  "language_info": {
   "codemirror_mode": {
    "name": "ipython",
    "version": 3
   },
   "file_extension": ".py",
   "mimetype": "text/x-python",
   "name": "python",
   "nbconvert_exporter": "python",
   "pygments_lexer": "ipython3",
   "version": "3.7.3"
  }
 },
 "nbformat": 4,
 "nbformat_minor": 2
}
