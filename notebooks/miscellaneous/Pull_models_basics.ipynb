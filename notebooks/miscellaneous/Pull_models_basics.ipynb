{
 "cells": [
  {
   "cell_type": "code",
   "execution_count": null,
   "metadata": {},
   "outputs": [],
   "source": [
    "import matplotlib.pyplot as plt"
   ]
  },
  {
   "cell_type": "code",
   "execution_count": null,
   "metadata": {},
   "outputs": [],
   "source": [
    "%matplotlib inline"
   ]
  },
  {
   "cell_type": "code",
   "execution_count": null,
   "metadata": {},
   "outputs": [],
   "source": [
    "import numpy as np\n",
    "from scipy.stats import poisson, norm"
   ]
  },
  {
   "cell_type": "code",
   "execution_count": null,
   "metadata": {},
   "outputs": [],
   "source": [
    "def compute_scaling_ratio(mu_drain,mu_demand,drift_sd,init_state):\n",
    "    drain_time = init_state/(mu_drain-mu_demand)\n",
    "    accum_std = drift_sd*np.sqrt(drain_time)\n",
    "    ratio = accum_std/init_state\n",
    "    \n",
    "    return ratio"
   ]
  },
  {
   "cell_type": "code",
   "execution_count": null,
   "metadata": {},
   "outputs": [],
   "source": [
    "def compute_workloads(arrival_buffer,inter_buffer,drain_buffer):\n",
    "    workload_1= arrival_buffer/(mu_drain/2)+(inter_buffer+drain_buffer)/(mu_drain)\n",
    "    workload_2 = (inter_buffer+arrival_buffer)/(mu_fast)\n",
    "    return workload_1, workload_2\n",
    "    \n",
    "def compute_draining_times(arrival_buffer,inter_buffer,drain_buffer):\n",
    "    workload_1, workload_2 = compute_workloads(arrival_buffer,inter_buffer,drain_buffer)\n",
    "    drain_time_1= workload_1/(1-mu_demand*2/mu_drain)\n",
    "    drain_time_2 = workload_2/(1-mu_demand/mu_fast)\n",
    "    return drain_time_1, drain_time_2"
   ]
  },
  {
   "cell_type": "code",
   "execution_count": null,
   "metadata": {},
   "outputs": [],
   "source": [
    "def simulate_single_buffer_pull(feed_sequence,\n",
    "                                demand_sequence,\n",
    "                                h_thres,\n",
    "                                init_state,\n",
    "                                flow,\n",
    "                                init_with_zeros = False):\n",
    "    \n",
    "    demand_buffer = np.zeros(len(feed_sequence)+1)    \n",
    "    demand_buffer[0] = init_state if not init_with_zeros else 0\n",
    "\n",
    "    for i,(f,d) in enumerate(zip(feed_sequence,demand_sequence)):\n",
    "            \n",
    "        if demand_buffer[i] > h_thres:\n",
    "            f = 0  \n",
    "                    \n",
    "        demand_buffer[i+1] = demand_buffer[i]+f-d\n",
    "\n",
    "        \n",
    "    return demand_buffer"
   ]
  },
  {
   "cell_type": "code",
   "execution_count": null,
   "metadata": {},
   "outputs": [],
   "source": [
    "def simulate_double_buffer_pull(feed_sequence_1,\n",
    "                                feed_sequence_2,\n",
    "                                demand_sequence_1,\n",
    "                                demand_sequence_2,\n",
    "                                h_thres_1,\n",
    "                                h_thres_2,\n",
    "                                sf_thres_1,\n",
    "                                sf_thres_2,\n",
    "                               sf_1):\n",
    "    \n",
    "    buffer_1 = np.zeros(len(feed_sequence_1)+1)\n",
    "    buffer_2 = np.zeros(len(feed_sequence_1)+1)\n",
    "    \n",
    "    buffer_1[0] = 300\n",
    "    buffer_2[0] = 200\n",
    "    \n",
    "    for i,(f1,f2,d1,d2) in enumerate(zip(feed_sequence_1,feed_sequence_2,demand_sequence_1,demand_sequence_2)):\n",
    "        z1 = 0\n",
    "        z2 = 0\n",
    "        \n",
    "        if sf_1:\n",
    "            if buffer_2[i] <= sf_thres_2:\n",
    "                z1 = 0\n",
    "                z2 = 1\n",
    "\n",
    "            if buffer_1[i] <= sf_thres_1:\n",
    "                z1 = 1\n",
    "                z2 = 0         \n",
    "        else:\n",
    "            \n",
    "            if buffer_1[i] <= sf_thres_1:\n",
    "                z1 = 1\n",
    "                z2 = 0\n",
    "            \n",
    "            if buffer_2[i] <= sf_thres_2:\n",
    "                z1 = 0\n",
    "                z2 = 1\n",
    "             \n",
    "        if buffer_2[i] <= h_thres_2 and z1 == 0:\n",
    "            z2 = 1\n",
    "            \n",
    "        if buffer_1[i] <= h_thres_1 and z2 == 0:\n",
    "            z1 = 1\n",
    "                \n",
    "        #if i % 2 == 0:\n",
    "        #    z1 = 1\n",
    "        #    z2 = 0\n",
    "        #else:\n",
    "        #    z1 = 0\n",
    "        #    z2 = 1\n",
    "            \n",
    "        #if buffer_2[i] > h_thres_2:\n",
    "        #    z2 = 0\n",
    "            \n",
    "        #if buffer_1[i] > h_thres_1:\n",
    "        #    z1 = 0 \n",
    "  \n",
    "        assert z1+z2 < 2\n",
    "                    \n",
    "        buffer_1[i+1] = buffer_1[i]+z1*f1-d1\n",
    "        buffer_2[i+1] = buffer_2[i]+z2*f2-d2\n",
    "        \n",
    "    return buffer_1,buffer_2"
   ]
  },
  {
   "cell_type": "code",
   "execution_count": null,
   "metadata": {},
   "outputs": [],
   "source": [
    "def simulate_tandem_buffer_pull(feed_sequence_1,\n",
    "                                feed_sequence_2,\n",
    "                                demand_sequence,\n",
    "                                h_thres_1,\n",
    "                                h_thres_2):\n",
    "    \n",
    "    buffer_1 = np.zeros(len(feed_sequence_1)+1)\n",
    "    buffer_2 = np.zeros(len(feed_sequence_1)+1)\n",
    "    \n",
    "    buffer_1[0] = h_thres_1\n",
    "    buffer_2[0] = 0\n",
    "    \n",
    "    for i,(f1,f2,d) in enumerate(zip(feed_sequence_1,feed_sequence_2,demand_sequence)):\n",
    "        z1 = 1\n",
    "        z2 = 1\n",
    "             \n",
    "        if buffer_2[i] > h_thres_2:\n",
    "            z2 = 0\n",
    "            \n",
    "        if buffer_1[i] > h_thres_1:\n",
    "            z1 = 0\n",
    "            \n",
    "        f2 = min(f2,buffer_1[i])\n",
    "        \n",
    "        assert z1*f1 <= 1\n",
    "        assert z2*f2 <= 1\n",
    "  \n",
    "                    \n",
    "        buffer_1[i+1] = buffer_1[i]+z1*f1-z2*f2\n",
    "        assert buffer_1[i+1] >= 0\n",
    "        buffer_2[i+1] = buffer_2[i]+z2*f2-d\n",
    "        \n",
    "    return buffer_1,buffer_2"
   ]
  },
  {
   "cell_type": "code",
   "execution_count": null,
   "metadata": {},
   "outputs": [],
   "source": [
    "mu_demand = 0.33\n",
    "mu_feed_1 = 0.34\n",
    "mu_feed_2 = 0.34\n",
    "duration = int(1e6)\n",
    "np.random.seed(100)\n",
    "demand_seq = np.random.binomial(1,mu_demand,duration)\n",
    "feed_seq_1 = np.random.binomial(1,mu_feed_1,duration)\n",
    "feed_seq_2 = np.random.binomial(1,mu_feed_2,duration)"
   ]
  },
  {
   "cell_type": "code",
   "execution_count": null,
   "metadata": {},
   "outputs": [],
   "source": [
    "c_s = 1\n",
    "c_d = 10"
   ]
  },
  {
   "cell_type": "code",
   "execution_count": null,
   "metadata": {},
   "outputs": [],
   "source": [
    "0.33/0.34"
   ]
  },
  {
   "cell_type": "code",
   "execution_count": null,
   "metadata": {
    "scrolled": true
   },
   "outputs": [],
   "source": [
    "0.33/(0.005),0.33/(0.5-0.33)"
   ]
  },
  {
   "cell_type": "code",
   "execution_count": null,
   "metadata": {},
   "outputs": [],
   "source": [
    "buffer_1,buffer_2 = simulate_tandem_buffer_pull(feed_seq_1,feed_seq_2,demand_seq,50,55)\n",
    "h_optimal = np.percentile(-buffer_2,1000/11)"
   ]
  },
  {
   "cell_type": "code",
   "execution_count": null,
   "metadata": {},
   "outputs": [],
   "source": [
    "h_range = range(20,80,5)\n",
    "deficit_cost = np.zeros_like(h_range)\n",
    "surplus_cost = np.zeros_like(h_range)\n",
    "sf_cost = np.zeros_like(h_range)\n",
    "for i,h1 in enumerate(h_range):\n",
    "    print(i)\n",
    "\n",
    "    buffer_1,buffer_2 = simulate_tandem_buffer_pull(feed_seq_1,feed_seq_2,demand_seq,h1,0)\n",
    "\n",
    "    h_optimal = np.percentile(-buffer_2,1000/11)\n",
    "    surplus = np.where(buffer_2+h_optimal >= 0,buffer_2+h_optimal,0)\n",
    "    deficit = np.where(buffer_2+h_optimal < 0,buffer_2+h_optimal,0)\n",
    "    deficit_cost[i] = np.sum(-deficit)*c_d\n",
    "    surplus_cost[i] = np.sum(surplus)*c_s\n",
    "    sf_cost[i] = np.sum(buffer_1)*c_s"
   ]
  },
  {
   "cell_type": "code",
   "execution_count": null,
   "metadata": {},
   "outputs": [],
   "source": [
    "mu_range = np.arange(0.34,0.55,0.01)\n",
    "deficit_cost = np.zeros_like(mu_range)\n",
    "surplus_cost = np.zeros_like(mu_range)\n",
    "sf_cost = np.zeros_like(mu_range)\n",
    "for i,mu in enumerate(mu_range):\n",
    "    print(i)\n",
    "    np.random.seed(100)\n",
    "    \n",
    "    feed_seq_1 = np.random.binomial(1,mu,duration)\n",
    "    buffer_1,buffer_2 = simulate_tandem_buffer_pull(feed_seq_1,feed_seq_2,demand_seq,500,0)\n",
    "    a = np.percentile(buffer_1,1)\n",
    "    print(a)\n",
    "    \n",
    "\n",
    "    h_optimal = np.percentile(-buffer_2,1000/11)\n",
    "    surplus = np.where(buffer_2+h_optimal >= 0,buffer_2+h_optimal,0)\n",
    "    deficit = np.where(buffer_2+h_optimal < 0,buffer_2+h_optimal,0)\n",
    "    deficit_cost[i] = np.sum(-deficit)*c_d\n",
    "    surplus_cost[i] = np.sum(surplus)*c_s\n",
    "    sf_cost[i] = np.sum(np.maximum(buffer_1-a,0))\n",
    "\n",
    "    #cost = np.sum(surplus)*c_s + np.sum(-deficit)*c_d + np.sum(buffer_1)*c_s\n",
    "    \n",
    "\n"
   ]
  },
  {
   "cell_type": "code",
   "execution_count": null,
   "metadata": {},
   "outputs": [],
   "source": [
    "mu_range"
   ]
  },
  {
   "cell_type": "code",
   "execution_count": null,
   "metadata": {},
   "outputs": [],
   "source": [
    "plt.plot((mu_range-0.33)/0.01,sf_cost/min(sf_cost))\n",
    "plt.plot((mu_range-0.33)/0.01,sf_cost/min(sf_cost),\".\")"
   ]
  },
  {
   "cell_type": "code",
   "execution_count": null,
   "metadata": {},
   "outputs": [],
   "source": [
    "plt.figure(figsize=(8,6))\n",
    "plt.plot(0.33/mu_range,sf_cost/min(sf_cost))\n",
    "plt.plot(0.33/mu_range,sf_cost/min(sf_cost),\".\")\n",
    "plt.vlines(0.97,0,10,label=\"mu_2 load = 0.97\")\n",
    "plt.xlabel(\"mu_1 load\")\n",
    "plt.ylabel(\"Relative cost\")\n",
    "plt.legend()"
   ]
  },
  {
   "cell_type": "code",
   "execution_count": null,
   "metadata": {},
   "outputs": [],
   "source": [
    "h_optimal = np.percentile(-buffer_2,1000/11)\n",
    "a = []\n",
    "for i in range(-10,10):\n",
    "    surplus = np.where(buffer_2+h_optimal+i >= 0,buffer_2+h_optimal+i,0)\n",
    "    deficit = np.where(buffer_2+h_optimal+i < 0,buffer_2+h_optimal+i,0)\n",
    "    a.append(np.sum(-deficit)*c_d + np.sum(surplus)*c_s)"
   ]
  },
  {
   "cell_type": "code",
   "execution_count": null,
   "metadata": {},
   "outputs": [],
   "source": [
    "plt.plot(range(-10,10),a)"
   ]
  },
  {
   "cell_type": "code",
   "execution_count": null,
   "metadata": {},
   "outputs": [],
   "source": [
    "sf_cost"
   ]
  },
  {
   "cell_type": "code",
   "execution_count": null,
   "metadata": {},
   "outputs": [],
   "source": [
    "h_optimal = np.percentile(-buffer_2,1000/11)"
   ]
  },
  {
   "cell_type": "code",
   "execution_count": null,
   "metadata": {},
   "outputs": [],
   "source": [
    "#plt.plot(h_range,sf_cost)\n",
    "\n",
    "#norm = np.min(deficit_cost+surplus_cost)\n",
    "plt.figure(figsize=(10,8))\n",
    "\n",
    "plt.fill_between(h_range,sf_cost/norm,label=\"safety_stocks_cost\")\n",
    "plt.plot(h_range,sf_cost/norm,\"k.\")\n",
    "plt.fill_between(h_range,(surplus_cost+sf_cost)/norm,sf_cost/norm,label=\"surplus cost\")\n",
    "plt.plot(h_range,(surplus_cost+sf_cost)/norm,\"k.\")\n",
    "plt.fill_between(h_range,(surplus_cost+sf_cost)/norm,(deficit_cost+surplus_cost+sf_cost)/norm,label=\"deficit cost\")\n",
    "plt.plot(h_range,(deficit_cost+surplus_cost+sf_cost)/norm,\"k.\")\n",
    "plt.hlines(1,20,75,\"k\",label=\"infinite supply reference\")\n",
    "plt.legend()"
   ]
  },
  {
   "cell_type": "code",
   "execution_count": null,
   "metadata": {},
   "outputs": [],
   "source": [
    "max(buffer_2)"
   ]
  },
  {
   "cell_type": "code",
   "execution_count": null,
   "metadata": {},
   "outputs": [],
   "source": [
    "np.percentile(buffer_2,1)"
   ]
  },
  {
   "cell_type": "code",
   "execution_count": null,
   "metadata": {},
   "outputs": [],
   "source": [
    "a = plt.hist(-buffer_2,bins=range(-1,600))"
   ]
  },
  {
   "cell_type": "code",
   "execution_count": null,
   "metadata": {},
   "outputs": [],
   "source": [
    "a = plt.hist(-buffer_2,bins=range(-1,200))"
   ]
  },
  {
   "cell_type": "code",
   "execution_count": null,
   "metadata": {},
   "outputs": [],
   "source": [
    "h_optimal"
   ]
  },
  {
   "cell_type": "code",
   "execution_count": null,
   "metadata": {},
   "outputs": [],
   "source": [
    "plt.figure(figsize=(10,4))\n",
    "plt.plot(buffer_2,label=\"buffer 2\")\n",
    "plt.plot(buffer_1,label=\"buffer 1\")\n",
    "#plt.plot(buffer_2,label=\"buffer 2\")\n",
    "plt.legend()"
   ]
  },
  {
   "cell_type": "code",
   "execution_count": null,
   "metadata": {},
   "outputs": [],
   "source": [
    "x3 = buffer_2"
   ]
  },
  {
   "cell_type": "code",
   "execution_count": null,
   "metadata": {},
   "outputs": [],
   "source": [
    "x2 = buffer_2"
   ]
  },
  {
   "cell_type": "code",
   "execution_count": null,
   "metadata": {},
   "outputs": [],
   "source": [
    "x1 = buffer_2"
   ]
  },
  {
   "cell_type": "code",
   "execution_count": null,
   "metadata": {},
   "outputs": [],
   "source": []
  },
  {
   "cell_type": "code",
   "execution_count": null,
   "metadata": {},
   "outputs": [],
   "source": [
    "c,d = np.histogram(x2,bins=range(-150,0))"
   ]
  },
  {
   "cell_type": "code",
   "execution_count": null,
   "metadata": {},
   "outputs": [],
   "source": [
    "#plt.plot(b[:-1],np.log(a))\n",
    "plt.plot(d[:-1],np.log10(c))\n",
    "plt.plot(e[:-1],np.log10(f))"
   ]
  },
  {
   "cell_type": "code",
   "execution_count": null,
   "metadata": {},
   "outputs": [],
   "source": [
    "plt.figure(figsize=(10,4))\n",
    "#a = plt.hist(buffer_2,bins=range(-150,10),label = \"30\")\n",
    "a = plt.hist(-x3,bins=range(-1,150),alpha = 1,label=\"non-limiting\")\n",
    "a = plt.hist(-x2,bins=range(-1,150),alpha = 0.75,label=\"45\")\n",
    "a = plt.hist(-x1,bins=range(-1,200),alpha=0.5,label=\"25\")\n",
    "plt.legend()"
   ]
  },
  {
   "cell_type": "code",
   "execution_count": null,
   "metadata": {
    "scrolled": true
   },
   "outputs": [],
   "source": [
    "plt.figure(figsize=(10,4))\n",
    "#a = plt.hist(buffer_2,bins=range(-150,10),label = \"30\")\n",
    "a = plt.hist(-x1,bins=range(-1,250),alpha=1,label=\"25\")\n",
    "a = plt.hist(-x2,bins=range(-1,150),alpha = 0.75,label=\"45\")\n",
    "a = plt.hist(-x3,bins=range(-1,150),alpha = 0.5,label=\"non-limiting\")\n",
    "#a = plt.hist(buffer_2,bins=range(-100,50))\n",
    "plt."
   ]
  },
  {
   "cell_type": "code",
   "execution_count": null,
   "metadata": {},
   "outputs": [],
   "source": [
    "mu_demand = 0.33\n",
    "mu_feed = 0.68\n",
    "duration = int(1e5)\n",
    "demand_seq_1 = np.random.binomial(1,mu_demand,duration)\n",
    "demand_seq_2 = np.random.binomial(1,mu_demand,duration)\n",
    "feed_seq_1 = np.random.binomial(1,mu_feed,duration)\n",
    "feed_seq_2 = np.random.binomial(1,mu_feed,duration)"
   ]
  },
  {
   "cell_type": "code",
   "execution_count": null,
   "metadata": {},
   "outputs": [],
   "source": [
    "buffer_1,buffer_2 = simulate_double_buffer_pull(feed_seq_1,feed_seq_2,\n",
    "                                               demand_seq_1, demand_seq_2,\n",
    "                                               30,3,3,3,sf_1=True)\n",
    "\n",
    "plt.figure(figsize=(10,4))\n",
    "plt.plot(buffer_1,label=\"buffer 1\")\n",
    "plt.plot(buffer_2,label=\"buffer 2\")\n",
    "plt.legend()"
   ]
  },
  {
   "cell_type": "code",
   "execution_count": null,
   "metadata": {},
   "outputs": [],
   "source": [
    "buffer_1,buffer_2 = simulate_double_buffer_pull(feed_seq_1,feed_seq_2,\n",
    "                                               demand_seq_1, demand_seq_2,\n",
    "                                               30,3,3,3,False)\n",
    "\n",
    "plt.figure(figsize=(10,4))\n",
    "plt.plot(buffer_1,label=\"buffer 1\")\n",
    "plt.plot(buffer_2,label=\"buffer 2\")\n",
    "plt.legend()"
   ]
  },
  {
   "cell_type": "code",
   "execution_count": null,
   "metadata": {},
   "outputs": [],
   "source": [
    "buffer_1,buffer_2 = simulate_double_buffer_pull(feed_seq_1,feed_seq_2,\n",
    "                                                demand_seq_1, demand_seq_2,\n",
    "                                                3,30,3,3,True)\n",
    "\n",
    "plt.figure(figsize=(10,4))\n",
    "plt.plot(buffer_1,label=\"buffer 1\")\n",
    "plt.plot(buffer_2,label=\"buffer 2\")\n",
    "plt.legend()"
   ]
  },
  {
   "cell_type": "code",
   "execution_count": null,
   "metadata": {},
   "outputs": [],
   "source": [
    "buffer_1,buffer_2 = simulate_double_buffer_pull(feed_seq_1,feed_seq_2,\n",
    "                                                demand_seq_1, demand_seq_2,\n",
    "                                                3,30,3,3,False)\n",
    "\n",
    "plt.figure(figsize=(10,4))\n",
    "plt.plot(buffer_1,label=\"buffer 1\")\n",
    "plt.plot(buffer_2,label=\"buffer 2\")\n",
    "plt.legend()"
   ]
  },
  {
   "cell_type": "code",
   "execution_count": null,
   "metadata": {},
   "outputs": [],
   "source": [
    "mu_demand = 0.33\n",
    "mu_feed = 0.34"
   ]
  },
  {
   "cell_type": "code",
   "execution_count": null,
   "metadata": {},
   "outputs": [],
   "source": [
    "c_s = 1\n",
    "c_d = 10"
   ]
  },
  {
   "cell_type": "code",
   "execution_count": null,
   "metadata": {},
   "outputs": [],
   "source": [
    "duration = int(1e5)\n",
    "demand_seq = np.random.binomial(1,mu_demand,duration)\n",
    "feed_seq = np.random.binomial(1,mu_feed,duration)"
   ]
  },
  {
   "cell_type": "code",
   "execution_count": null,
   "metadata": {},
   "outputs": [],
   "source": [
    "demand_buffer = simulate_single_buffer_pull(feed_seq,demand_seq,60,0,False)\n",
    "surplus = np.where(demand_buffer >= 0,demand_buffer,0)\n",
    "deficit = np.where(demand_buffer < 0,demand_buffer,0)"
   ]
  },
  {
   "cell_type": "code",
   "execution_count": null,
   "metadata": {},
   "outputs": [],
   "source": [
    "plt.plot(demand_buffer)"
   ]
  },
  {
   "cell_type": "code",
   "execution_count": null,
   "metadata": {},
   "outputs": [],
   "source": [
    "#plt.plot(demand_buffer[:100000])\n",
    "plt.figure(figsize=(8,6))\n",
    "\n",
    "plt.fill_between(np.arange(len(surplus)),surplus,0)\n",
    "plt.fill_between(np.arange(len(surplus)),deficit,0)"
   ]
  },
  {
   "cell_type": "code",
   "execution_count": null,
   "metadata": {},
   "outputs": [],
   "source": [
    "cost = np.sum(surplus)*c_s + np.sum(-deficit)*c_d"
   ]
  },
  {
   "cell_type": "code",
   "execution_count": null,
   "metadata": {},
   "outputs": [],
   "source": [
    "cost_record = []\n",
    "hedging = np.arange(-5,140,5)\n",
    "hedging = np.arange(40,70,1)\n",
    "for h in hedging:\n",
    "    demand_buffer = simulate_single_buffer_pull(feed_seq,demand_seq,h,h,False)\n",
    "    surplus = np.where(demand_buffer >= 0,demand_buffer,0)\n",
    "    deficit = np.where(demand_buffer < 0,demand_buffer,0)\n",
    "    cost = np.sum(surplus)*c_s + np.sum(-deficit)*c_d\n",
    "    cost_record.append(cost)"
   ]
  },
  {
   "cell_type": "code",
   "execution_count": null,
   "metadata": {},
   "outputs": [],
   "source": [
    "f,ax = plt.subplots(2,1,figsize=(10,8),sharex=True)\n",
    "ax[0].hist(-demand_buffer,bins=range(-20,140),normed=True)\n",
    "ax[0].vlines(h_optimal,0,0.04)\n",
    "\n",
    "ax[1].plot(hedging,cost_record/min(cost_record))\n",
    "ax[1].plot(hedging,cost_record/min(cost_record),\"o\")\n",
    "\n",
    "ax[1].vlines(h_optimal,1,1.1)"
   ]
  },
  {
   "cell_type": "code",
   "execution_count": null,
   "metadata": {},
   "outputs": [],
   "source": [
    "f,ax = plt.subplots(2,1,figsize=(10,8),sharex=True)\n",
    "ax[0].hist(-demand_buffer,bins=range(-20,140),normed=True)\n",
    "ax[0].vlines(h_optimal,0,0.04)\n",
    "\n",
    "ax[1].plot(hedging,cost_record/min(cost_record))\n",
    "ax[1].plot(hedging,cost_record/min(cost_record),\"o\")\n",
    "\n",
    "ax[1].vlines(h_optimal,1,5)"
   ]
  },
  {
   "cell_type": "code",
   "execution_count": null,
   "metadata": {},
   "outputs": [],
   "source": [
    "1000/11"
   ]
  },
  {
   "cell_type": "code",
   "execution_count": null,
   "metadata": {},
   "outputs": [],
   "source": [
    "h_optimal"
   ]
  },
  {
   "cell_type": "code",
   "execution_count": null,
   "metadata": {},
   "outputs": [],
   "source": [
    "h_optimal = np.percentile(-demand_buffer,1000/11)"
   ]
  },
  {
   "cell_type": "code",
   "execution_count": null,
   "metadata": {},
   "outputs": [],
   "source": [
    "plt.hist(-demand_buffer,bins=range(120),normed=True)\n",
    "plt.vlines(h_optimal,0,0.04)"
   ]
  },
  {
   "cell_type": "code",
   "execution_count": null,
   "metadata": {},
   "outputs": [],
   "source": [
    "h_optimal = np.percentile(-demand_buffer,1000/11)\n",
    "#np.percentile(-demand_buffer,1000/11)"
   ]
  },
  {
   "cell_type": "code",
   "execution_count": null,
   "metadata": {},
   "outputs": [],
   "source": [
    "c1 = 1\n",
    "c2 = 2\n",
    "c3 = 1"
   ]
  },
  {
   "cell_type": "code",
   "execution_count": null,
   "metadata": {},
   "outputs": [],
   "source": [
    "c1 = 1.5\n",
    "c2 = 1\n",
    "c3 = 2"
   ]
  },
  {
   "cell_type": "code",
   "execution_count": null,
   "metadata": {},
   "outputs": [],
   "source": [
    "c1 = 0.1\n",
    "c2 = 1\n",
    "c3 = 1"
   ]
  },
  {
   "cell_type": "code",
   "execution_count": null,
   "metadata": {},
   "outputs": [],
   "source": [
    "costs = {}\n",
    "betas = {}\n",
    "sc_ratios = {}\n",
    "eff_rates = {}\n",
    "slopes = {}\n",
    "hedging_levels = {}"
   ]
  },
  {
   "cell_type": "code",
   "execution_count": null,
   "metadata": {},
   "outputs": [],
   "source": [
    "percentile = 4"
   ]
  },
  {
   "cell_type": "code",
   "execution_count": null,
   "metadata": {},
   "outputs": [],
   "source": [
    "hedging = np.concatenate((np.arange(0,20,2),np.arange(20,150,10)))"
   ]
  },
  {
   "cell_type": "code",
   "execution_count": null,
   "metadata": {},
   "outputs": [],
   "source": [
    "from sklearn.linear_model import LinearRegression"
   ]
  },
  {
   "cell_type": "code",
   "execution_count": null,
   "metadata": {},
   "outputs": [],
   "source": [
    "hedging = np.arange(2,40,2)"
   ]
  },
  {
   "cell_type": "code",
   "execution_count": null,
   "metadata": {},
   "outputs": [],
   "source": [
    "arrivals = []"
   ]
  },
  {
   "cell_type": "code",
   "execution_count": null,
   "metadata": {},
   "outputs": [],
   "source": [
    "#scale_list = [0.1,0.3,1,3]\n",
    "#scale_list = [0.2,0.4,0.5,0.6,0.7]\n",
    "scale_list = np.arange(0.35,0.37,0.001)\n",
    "scale_list = np.arange(0.32,0.333,0.001)\n",
    "scale_list = np.arange(0.335,0.345,0.001)\n",
    "scale_list = [0.33]\n",
    "\n",
    "hedging = np.concatenate((np.arange(0,20,2),np.arange(20,150,10)))\n",
    "#hedging = np.arange(0,150,10)\n",
    "hedging = np.arange(50,600,50)\n",
    "hedging = np.arange(5,100,5)\n",
    "#hedging = np.arange(7,8,1)\n",
    "#hedging = [beta_h]\n",
    "#hedging = np.arange(30,200,10)\n",
    "#hedging = np.arange(20,500,50)\n",
    "#hedging = np.concatenate((np.arange(50,500,50),np.arange(500,11000,2000)))\n",
    "hedging = np.arange(100,11000,1000)\n",
    "#hedging = np.arange(2,100,5)\n",
    "#hedging = np.arange(0,100,5)\n",
    "#offset = -100000\n",
    "#hedging = [100]\n",
    "\n",
    "# settings for scale = 3\n",
    "dur_star = 10000\n",
    "omega_star = 7.5645\n",
    "#init_state_star = 210000\n",
    "\n",
    "#dur_star = int(4500000*1)\n",
    "duration = dur_star\n",
    "\n",
    "for scale in reversed(scale_list):\n",
    "    print(scale)\n",
    "    scale_costs = []\n",
    "    scale_rates = []\n",
    "    \n",
    "    #init_state = 7e4*scale\n",
    "    \n",
    "    mu_demand = 0.33\n",
    "    mu_drain = mu_transfer = 0.35*2\n",
    "    mu_fast = 0.34\n",
    "    \n",
    "    slack_capacity_h = mu_fast-mu_drain/2\n",
    "    std_h = np.sqrt(mu_drain*(1-mu_drain)+mu_fast*(1-mu_fast))\n",
    "    \n",
    "    omega_h = std_h/slack_capacity_h\n",
    "    print(slack_capacity_h,std_h,omega_h)\n",
    "    print()\n",
    "    \n",
    "    \n",
    "    slack_capacity_ss = mu_fast-mu_drain\n",
    "    std_ss = np.sqrt(mu_fast*(1-mu_fast)+mu_drain*(1-mu_drain))\n",
    "    \n",
    "    omega_ss = std_ss/slack_capacity_ss\n",
    "    \n",
    "    \n",
    "    duration = int(1000000 * 1.5 * 0.5)\n",
    "    print(scale,duration)\n",
    "    #print(scale,omega)\n",
    "    #continue\n",
    "    \n",
    "    #print(omega/omega_star)\n",
    "    \n",
    "    #duration = int((omega/omega_star)**2*dur_star)\n",
    "    init_state = 10000\n",
    "    #init_state = 0\n",
    "    n_seeds = 1#100\n",
    "    \n",
    "    beta_h = (1/4)*(percentile**2)*omega_h# + slack_capacity/std\n",
    "    beta_ss = (1/4)*(percentile**2)*omega_ss\n",
    "    scaling_ratio = compute_scaling_ratio(mu_drain,mu_demand,std_h,init_state)\n",
    "    print(scaling_ratio)\n",
    "    \n",
    "    hedge = True\n",
    "    \n",
    "    for h in reversed(hedging):\n",
    "        print(h)\n",
    "        if hedge:\n",
    "            h_thres = h\n",
    "            ss_thres = mu_drain+beta_ss*std_ss\n",
    "        else:\n",
    "            h_thres = beta_h*std_ss\n",
    "            ss_thres = mu_drain+h*std_ss\n",
    "        print(h_thres)\n",
    "        #thres = 2*mu_drain+h*np.sqrt(mu_drain+mu_fast)\n",
    "        #thres = h*10\n",
    "        buf_1_samples = []\n",
    "        buf_2_samples = []\n",
    "        buf_3_samples = []\n",
    "        \n",
    "\n",
    "        np.random.seed(7)\n",
    "        \n",
    "        for _ in range(n_seeds):    \n",
    "\n",
    "            demand_seq = np.random.binomial(1,mu_demand,duration)\n",
    "            transfer_seq = np.random.binomial(1,mu_transfer,duration)\n",
    "            fast_seq = np.random.binomial(1,mu_fast,duration)\n",
    "            drain_seq = np.random.binomial(1,mu_drain,duration)\n",
    "        \n",
    "            arrival_buffer,inter_buffer,drain_buffer = simulate_simple_reentrant_line(\n",
    "                demand_seq[:duration],\n",
    "                transfer_seq[:duration],\n",
    "                fast_seq[:duration],\n",
    "                drain_seq[:duration],\n",
    "                h_thres=h_thres,\n",
    "                ss_thres=5,\n",
    "                init_state=init_state,\n",
    "                flow=False,\n",
    "                init_with_zeros=False)\n",
    "                \n",
    "            #try:\n",
    "             #   end = np.where((arrival_buffer < 10) & (inter_buffer < 10))[0][0]\n",
    "            #except:\n",
    "            end = len(arrival_buffer)\n",
    "            \n",
    "            buf_1_samples.append(sum(arrival_buffer[0:end]*c1))\n",
    "            buf_2_samples.append(sum(inter_buffer[0:end]*c2))\n",
    "            buf_3_samples.append(sum(drain_buffer[0:end]*c3))\n",
    "            \n",
    "            #arrivals.append(arrival_buffer)\n",
    "            \n",
    "            \n",
    "        scale_costs.append((np.mean(buf_1_samples),np.mean(buf_2_samples),np.mean(buf_3_samples)))\n",
    "        #scale_rates.append(zeta*mu_transfer)\n",
    "        #scale_costs.append(sum(arrival_buffer*c1))\n",
    "        '''\n",
    "        a,b = np.histogram(inter_buffer,bins=40,normed=True)\n",
    "        b = b.reshape(-1,1)\n",
    "        clf = LinearRegression()\n",
    "        clf.fit(b[:-15,:],np.log(a[:-14]))\n",
    "        plt.plot(b[:-15],np.log(a[:-14]),label=scale)\n",
    "        slopes[scale] = clf.coef_\n",
    "        '''\n",
    "        \n",
    "    costs[scale] = np.array(scale_costs[::-1])\n",
    "    betas[scale] = beta_h\n",
    "    sc_ratios[scale] = scaling_ratio\n",
    "    eff_rates[scale] = np.array(scale_rates[::-1])\n",
    "plt.legend()"
   ]
  },
  {
   "cell_type": "code",
   "execution_count": null,
   "metadata": {},
   "outputs": [],
   "source": [
    "costs"
   ]
  },
  {
   "cell_type": "code",
   "execution_count": null,
   "metadata": {},
   "outputs": [],
   "source": [
    "#arrivals_2 = arrivals\n",
    "plt.plot(np.cumsum(np.array(arrivals_10).mean(axis=0)))\n",
    "plt.plot(np.cumsum(np.array(arrivals).mean(axis=0)),\"r\")"
   ]
  },
  {
   "cell_type": "code",
   "execution_count": null,
   "metadata": {},
   "outputs": [],
   "source": [
    "#arrivals_10 = arrivals\n",
    "#plt.plot(np.array(arrivals_30).mean(axis=0)[:2000])\n",
    "plt.plot(np.array(arrivals_10).mean(axis=0)[:200000])\n",
    "plt.plot(np.array(arrivals).mean(axis=0)[:20000],\"r\")"
   ]
  },
  {
   "cell_type": "code",
   "execution_count": null,
   "metadata": {},
   "outputs": [],
   "source": [
    "no_h_cost = ref_cost"
   ]
  },
  {
   "cell_type": "code",
   "execution_count": null,
   "metadata": {},
   "outputs": [],
   "source": [
    "no_h_cost"
   ]
  },
  {
   "cell_type": "code",
   "execution_count": null,
   "metadata": {},
   "outputs": [],
   "source": [
    "min_t_cost/no_h_cost"
   ]
  },
  {
   "cell_type": "code",
   "execution_count": null,
   "metadata": {},
   "outputs": [],
   "source": [
    "no_h_cost/min_t_cost"
   ]
  },
  {
   "cell_type": "code",
   "execution_count": null,
   "metadata": {},
   "outputs": [],
   "source": [
    "bad_cost = ref_cost"
   ]
  },
  {
   "cell_type": "code",
   "execution_count": null,
   "metadata": {},
   "outputs": [],
   "source": [
    "bad_cost/ref_cost"
   ]
  },
  {
   "cell_type": "code",
   "execution_count": null,
   "metadata": {},
   "outputs": [],
   "source": [
    "scale = 0.33\n",
    "\n",
    "beta = beta_ss#betas[scale]\n",
    "sc_ratio = sc_ratios[scale]\n",
    "cost_1,cost_2,cost_3 = zip(*costs[scale])\n",
    "cost_1=np.array(cost_1)\n",
    "cost_2=np.array(cost_2)\n",
    "cost_3=np.array(cost_3)\n",
    "t_cost = np.array(cost_1)+np.array(cost_2)+np.array(cost_3)\n",
    "#t_cost = np.array(cost_2)+np.array(cost_3)\n",
    "#t_cost = np.array(cost_3)\n",
    "min_t_cost = min(t_cost)\n",
    "#t_cost = t_cost/min_t_cost\n",
    "#ref_cost = no_ss_cost\n",
    "ref_cost = min_t_cost\n",
    "#ref_cost = no_h_cost\n",
    "\n",
    "t_cost = t_cost/ref_cost\n",
    "\n",
    "cost_1=np.array(cost_1)/ref_cost\n",
    "cost_2=np.array(cost_2)/ref_cost\n",
    "cost_3=np.array(cost_3)/ref_cost\n",
    "\n",
    "indexes = np.where(t_cost < 100)[0]\n",
    "\n",
    "plt.figure(figsize=(16,8))\n",
    "\n",
    "plt.plot(hedging[indexes],cost_1[indexes],label=\"Buffer 1 cost\")\n",
    "#plt.plot(hedging[indexes],cost_1[indexes],\"o\")\n",
    "#plt.plot(hedging[indexes],cost_2[indexes])\n",
    "plt.fill_between(hedging[indexes],cost_1[indexes]+cost_2[indexes],cost_1[indexes],alpha=0.5,label=\"Buffer 2 cost\")\n",
    "plt.fill_between(hedging[indexes],t_cost[indexes],cost_1[indexes]+cost_2[indexes],alpha=0.5, label=\"Buffer 3 cost\")\n",
    "\n",
    "plt.plot(hedging[indexes],t_cost[indexes],label=\"Total cost\")\n",
    "plt.plot(hedging[indexes],t_cost[indexes],\".\")\n",
    "\n",
    "#plt.vlines(10,min(t_cost[indexes]),max(t_cost[indexes]),label=\"empirical hedging\")\n",
    "plt.hlines(1.03,min(hedging[indexes]),max(hedging[indexes]),color=\"r\",label=\"+3% margin\")\n",
    "#plt.hlines(0.97,min(hedging[indexes]),max(hedging[indexes]),color=\"r\",label=\"-3% margin\")\n",
    "#plt.title(\"{:.3f}\".format(sc_ratio))\n",
    "plt.ylabel(\"Relative cumulative cost\")\n",
    "plt.xlabel(\"Hedging threshold h2\")\n",
    "plt.legend()"
   ]
  },
  {
   "cell_type": "code",
   "execution_count": null,
   "metadata": {},
   "outputs": [],
   "source": [
    "set(np.array([1,2]))"
   ]
  },
  {
   "cell_type": "code",
   "execution_count": null,
   "metadata": {},
   "outputs": [],
   "source": [
    "scale = 0.33\n",
    "\n",
    "beta = beta_ss#betas[scale]\n",
    "sc_ratio = sc_ratios[scale]\n",
    "cost_1,cost_2,cost_3 = zip(*costs[scale])\n",
    "cost_1=np.array(cost_1)\n",
    "cost_2=np.array(cost_2)\n",
    "cost_3=np.array(cost_3)\n",
    "t_cost = np.array(cost_1)+np.array(cost_2)+np.array(cost_3)\n",
    "#t_cost = np.array(cost_2)+np.array(cost_3)\n",
    "#t_cost = np.array(cost_3)\n",
    "min_t_cost = min(t_cost)\n",
    "#t_cost = t_cost/min_t_cost\n",
    "#ref_cost = no_ss_cost\n",
    "#ref_cost = min_t_cost\n",
    "\n",
    "t_cost = t_cost/ref_cost\n",
    "\n",
    "cost_1=np.array(cost_1)/ref_cost\n",
    "cost_2=np.array(cost_2)/ref_cost\n",
    "cost_3=np.array(cost_3)/ref_cost\n",
    "\n",
    "indexes = np.where(t_cost < 100)[0]\n",
    "\n",
    "plt.figure(figsize=(12,8))\n",
    "\n",
    "plt.plot(hedging[indexes],cost_1[indexes],label=\"Buffer 1 cost\")\n",
    "#plt.plot(hedging[indexes],cost_1[indexes],\"o\")\n",
    "#plt.plot(hedging[indexes],cost_2[indexes])\n",
    "plt.fill_between(hedging[indexes],cost_1[indexes]+cost_2[indexes],cost_1[indexes],alpha=0.5,label=\"Buffer 2 cost\")\n",
    "plt.fill_between(hedging[indexes],t_cost[indexes],cost_1[indexes]+cost_2[indexes],alpha=0.5, label=\"Buffer 3 cost\")\n",
    "\n",
    "plt.plot(hedging[indexes],t_cost[indexes],label=\"Total cost\")\n",
    "plt.plot(hedging[indexes],t_cost[indexes],\".\")\n",
    "\n",
    "#plt.vlines(10,min(t_cost[indexes]),max(t_cost[indexes]),label=\"empirical hedging\")\n",
    "plt.hlines(1.03*min(t_cost),min(hedging[indexes]),max(hedging[indexes]),color=\"r\",label=\"+3% margin\")\n",
    "#plt.hlines(0.97,min(hedging[indexes]),max(hedging[indexes]),color=\"r\",label=\"-3% margin\")\n",
    "#plt.title(\"{:.3f}\".format(sc_ratio))\n",
    "plt.ylabel(\"Relative cumulative cost\")\n",
    "plt.xlabel(\"Hedging threshold\")\n",
    "plt.legend()"
   ]
  },
  {
   "cell_type": "code",
   "execution_count": null,
   "metadata": {},
   "outputs": [],
   "source": [
    "ref_cost"
   ]
  },
  {
   "cell_type": "code",
   "execution_count": null,
   "metadata": {},
   "outputs": [],
   "source": [
    "scale = 0.33\n",
    "\n",
    "beta = beta_ss#betas[scale]\n",
    "sc_ratio = sc_ratios[scale]\n",
    "cost_1,cost_2,cost_3 = zip(*costs[scale])\n",
    "cost_1=np.array(cost_1)\n",
    "cost_2=np.array(cost_2)\n",
    "cost_3=np.array(cost_3)\n",
    "t_cost = np.array(cost_1)+np.array(cost_2)+np.array(cost_3)\n",
    "t_cost = np.array(cost_2)+np.array(cost_3)\n",
    "#t_cost = np.array(cost_3)\n",
    "min_t_cost = min(t_cost)\n",
    "#t_cost = t_cost/min_t_cost\n",
    "#ref_cost = no_ss_cost\n",
    "ref_cost = min_t_cost\n",
    "\n",
    "t_cost = t_cost/ref_cost\n",
    "\n",
    "cost_1=np.array(cost_1)/ref_cost\n",
    "cost_2=np.array(cost_2)/ref_cost\n",
    "cost_3=np.array(cost_3)/ref_cost\n",
    "\n",
    "indexes = np.where(t_cost < 100)[0]\n",
    "\n",
    "plt.figure(figsize=(12,4))\n",
    "\n",
    "#plt.plot(hedging[indexes],cost_1[indexes],label=\"Buffer 1 cost\")\n",
    "#plt.plot(hedging[indexes],cost_1[indexes],\"o\")\n",
    "#plt.plot(hedging[indexes],cost_2[indexes])\n",
    "#plt.fill_between(hedging[indexes],cost_1[indexes]+cost_2[indexes],cost_1[indexes],alpha=0.5,label=\"Buffer 2 cost\")\n",
    "#plt.fill_between(hedging[indexes],t_cost[indexes],cost_1[indexes]+cost_2[indexes],alpha=0.5, label=\"Buffer 3 cost\")\n",
    "\n",
    "plt.plot(hedging[indexes],t_cost[indexes],label=\"Total cost\")\n",
    "plt.plot(hedging[indexes],t_cost[indexes],\".\")\n",
    "\n",
    "#plt.vlines(10,min(t_cost[indexes]),max(t_cost[indexes]),label=\"empirical hedging\")\n",
    "plt.hlines(1.03,min(hedging[indexes]),max(hedging[indexes]),color=\"r\",label=\"+3% margin\")\n",
    "#plt.hlines(0.97,min(hedging[indexes]),max(hedging[indexes]),color=\"r\",label=\"-3% margin\")\n",
    "#plt.title(\"{:.3f}\".format(sc_ratio))\n",
    "plt.ylabel(\"Relative cumulative cost\")\n",
    "plt.xlabel(\"Hedging threshold\")\n",
    "plt.legend()"
   ]
  },
  {
   "cell_type": "code",
   "execution_count": null,
   "metadata": {},
   "outputs": [],
   "source": [
    "(2120/(1-0.33/0.345))/(2770/(1-0.33/0.35))"
   ]
  },
  {
   "cell_type": "code",
   "execution_count": null,
   "metadata": {},
   "outputs": [],
   "source": [
    "np.sum(costs[0.33])/no_ss_cost"
   ]
  },
  {
   "cell_type": "code",
   "execution_count": null,
   "metadata": {},
   "outputs": [],
   "source": [
    "no_ss_cost = np.sum(costs[0.33])"
   ]
  },
  {
   "cell_type": "code",
   "execution_count": null,
   "metadata": {},
   "outputs": [],
   "source": [
    "no_ss_cost"
   ]
  },
  {
   "cell_type": "code",
   "execution_count": null,
   "metadata": {},
   "outputs": [],
   "source": [
    "plt.plot(inter_buffer[:10000], label=\"buffer 3\")"
   ]
  },
  {
   "cell_type": "code",
   "execution_count": null,
   "metadata": {},
   "outputs": [],
   "source": [
    "np.sum(inter_buffer == 0)"
   ]
  },
  {
   "cell_type": "code",
   "execution_count": null,
   "metadata": {},
   "outputs": [],
   "source": [
    "np.sum(inter_buffer == 0)"
   ]
  },
  {
   "cell_type": "code",
   "execution_count": null,
   "metadata": {},
   "outputs": [],
   "source": [
    "-1.02*2977.9+1.05*2874.3"
   ]
  },
  {
   "cell_type": "code",
   "execution_count": null,
   "metadata": {},
   "outputs": [],
   "source": [
    "-1.02*2972.+1.05*2868.6"
   ]
  },
  {
   "cell_type": "code",
   "execution_count": null,
   "metadata": {},
   "outputs": [],
   "source": [
    "2874.3*0.35,2868.6*0.35"
   ]
  },
  {
   "cell_type": "code",
   "execution_count": null,
   "metadata": {},
   "outputs": [],
   "source": [
    "988+18,983+21"
   ]
  },
  {
   "cell_type": "code",
   "execution_count": null,
   "metadata": {},
   "outputs": [],
   "source": [
    "2/0.35"
   ]
  },
  {
   "cell_type": "code",
   "execution_count": null,
   "metadata": {},
   "outputs": [],
   "source": []
  },
  {
   "cell_type": "code",
   "execution_count": null,
   "metadata": {},
   "outputs": [],
   "source": [
    "plt.plot(inter_buffer[8000:10000], label=\"buffer 3\")"
   ]
  },
  {
   "cell_type": "code",
   "execution_count": null,
   "metadata": {},
   "outputs": [],
   "source": [
    "end = 100000\n",
    "plt.figure(figsize=(16,6))\n",
    "#plt.plot(arrival_buffer[:end],label=\"buffer 1\")\n",
    "plt.plot(inter_buffer[30000:end], label=\"buffer 2\")\n",
    "plt.plot(drain_buffer[30000:end], label=\"buffer 3\")\n",
    "plt.legend()"
   ]
  },
  {
   "cell_type": "code",
   "execution_count": null,
   "metadata": {},
   "outputs": [],
   "source": [
    "plt.hist(inter_buffer,bins=np.arange(150))\n",
    "plt.hist(drain_buffer,bins=np.arange(150))"
   ]
  },
  {
   "cell_type": "code",
   "execution_count": null,
   "metadata": {},
   "outputs": [],
   "source": [
    "end = 80000\n",
    "plt.figure(figsize=(16,6))\n",
    "#plt.plot(arrival_buffer[:end],label=\"buffer 1\")\n",
    "plt.plot(inter_buffer[:end], label=\"buffer 2\")\n",
    "#plt.plot(drain_buffer[:end], label=\"buffer 3\")\n",
    "plt.legend()"
   ]
  },
  {
   "cell_type": "code",
   "execution_count": null,
   "metadata": {},
   "outputs": [],
   "source": [
    "plt.figure(figsize=(16,6))\n",
    "plt.plot(arrival_buffer,label=\"buffer 1\")\n",
    "plt.plot(inter_buffer, label=\"buffer 2\")\n",
    "plt.plot(drain_buffer, label=\"buffer 3\")\n",
    "#plt.hlines(3,0,15000, label = \"ss\")\n",
    "#plt.hlines(5,0,15000, label = \"ss\")\n",
    "plt.legend()"
   ]
  },
  {
   "cell_type": "code",
   "execution_count": null,
   "metadata": {},
   "outputs": [],
   "source": [
    "plt.figure(figsize=(16,6))\n",
    "plt.plot(arrival_buffer,label=\"buffer 1\")\n",
    "plt.plot(inter_buffer, label=\"buffer 2\")\n",
    "plt.plot(drain_buffer, label=\"buffer 3\")\n",
    "#plt.hlines(3,0,15000, label = \"ss\")\n",
    "#plt.hlines(5,0,15000, label = \"ss\")\n",
    "plt.legend()"
   ]
  },
  {
   "cell_type": "code",
   "execution_count": null,
   "metadata": {},
   "outputs": [],
   "source": [
    "plt.figure(figsize=(16,6))\n",
    "plt.plot(arrival_buffer,label=\"buffer 1\")\n",
    "plt.plot(inter_buffer, label=\"buffer 2\")\n",
    "plt.plot(drain_buffer, label=\"buffer 3\")\n",
    "#plt.hlines(3,0,15000, label = \"ss\")\n",
    "#plt.hlines(5,0,15000, label = \"ss\")\n",
    "plt.legend()"
   ]
  },
  {
   "cell_type": "code",
   "execution_count": null,
   "metadata": {},
   "outputs": [],
   "source": [
    "f,ax = plt.subplots(2,1,figsize=(16,10))\n",
    "ax[0].plot(arrival_buffer,label=\"buffer 1\")\n",
    "ax[0].plot(inter_buffer, label=\"buffer 2\")\n",
    "ax[0].plot(drain_buffer, label=\"buffer 3\")\n",
    "ax[0].set_ylabel(\"Buffer level\")\n",
    "ax[0].legend()\n",
    "\n",
    "drain_time_1,drain_time_2=compute_draining_times(arrival_buffer,inter_buffer,drain_buffer)\n",
    "\n",
    "ax[1].plot(drain_time_1,label=\"resource 1\")\n",
    "ax[1].plot(drain_time_2,label=\"resource 2\")\n",
    "ax[1].set_ylabel(\"Draining time\")\n",
    "ax[1].legend()\n",
    "#ax[1].gca().set_aspect(\"equal\")\n"
   ]
  },
  {
   "cell_type": "code",
   "execution_count": null,
   "metadata": {},
   "outputs": [],
   "source": [
    "drain_time_1,drain_time_2=compute_draining_times(arrival_buffer,inter_buffer,drain_buffer)"
   ]
  },
  {
   "cell_type": "code",
   "execution_count": null,
   "metadata": {},
   "outputs": [],
   "source": [
    "workload_1,workload_2 = compute_workloads(arrival_buffer,inter_buffer,drain_buffer)"
   ]
  },
  {
   "cell_type": "code",
   "execution_count": null,
   "metadata": {},
   "outputs": [],
   "source": [
    "np.array([i for i in range(10)])"
   ]
  },
  {
   "cell_type": "code",
   "execution_count": null,
   "metadata": {},
   "outputs": [],
   "source": [
    "np.where(np.array([i for i in range(10)]) > 5)[0]"
   ]
  },
  {
   "cell_type": "code",
   "execution_count": null,
   "metadata": {},
   "outputs": [],
   "source": [
    "plt.figure(figsize=(8,8))\n",
    "plt.plot(drain_time_1,label=\"1\")\n",
    "plt.plot(drain_time_2)\n",
    "plt.legend()\n",
    "plt.gca().set_aspect(\"equal\")"
   ]
  },
  {
   "cell_type": "code",
   "execution_count": null,
   "metadata": {},
   "outputs": [],
   "source": [
    "plt.plot(workload_1)\n",
    "plt.plot(workload_2)"
   ]
  },
  {
   "cell_type": "code",
   "execution_count": null,
   "metadata": {},
   "outputs": [],
   "source": [
    "#plt.figure(figsize=(16,6))\n",
    "f,ax = plt.subplots(2,1,figsize=(16,8))\n",
    "ax[0].plot(arrival_buffer,label=\"buffer 1\")\n",
    "ax[0].plot(inter_buffer, label=\"buffer 2\")\n",
    "ax[0].plot(drain_buffer, label=\"buffer 3\")\n",
    "ax[1].plot(arrival_buffer*c1+inter_buffer*c2+drain_buffer*c3,label=\"Total cost\")\n",
    "#plt.hlines(3,0,15000, label = \"ss\")\n",
    "#plt.hlines(5,0,15000, label = \"ss\")\n",
    "ax[0].legend()\n",
    "ax[1].legend()"
   ]
  },
  {
   "cell_type": "code",
   "execution_count": null,
   "metadata": {},
   "outputs": [],
   "source": [
    "#plt.figure(figsize=(16,6))\n",
    "f,ax = plt.subplots(2,1,figsize=(16,8))\n",
    "ax[0].plot(arrival_buffer,label=\"buffer 1\")\n",
    "ax[0].plot(inter_buffer, label=\"buffer 2\")\n",
    "ax[0].plot(drain_buffer, label=\"buffer 3\")\n",
    "ax[1].plot(arrival_buffer*c1+inter_buffer*c2+drain_buffer*c3,label=\"Total cost\")\n",
    "#plt.hlines(3,0,15000, label = \"ss\")\n",
    "#plt.hlines(5,0,15000, label = \"ss\")\n",
    "ax[0].legend()\n",
    "ax[1].legend()"
   ]
  },
  {
   "cell_type": "code",
   "execution_count": null,
   "metadata": {},
   "outputs": [],
   "source": [
    "cost_2 = arrival_buffer*c1+inter_buffer*c2+drain_buffer*c3"
   ]
  },
  {
   "cell_type": "code",
   "execution_count": null,
   "metadata": {},
   "outputs": [],
   "source": [
    "plt.plot(arrival_buffer*c1+inter_buffer*c2+drain_buffer*c3)\n",
    "plt.plot(cost_2)"
   ]
  },
  {
   "cell_type": "code",
   "execution_count": null,
   "metadata": {},
   "outputs": [],
   "source": [
    "plt.plot(cost_1)\n",
    "plt.plot(cost_2)"
   ]
  },
  {
   "cell_type": "code",
   "execution_count": null,
   "metadata": {},
   "outputs": [],
   "source": [
    "plt.figure(figsize=(16,6))\n",
    "plt.plot(arrival_buffer,label=\"buffer 1\")\n",
    "plt.plot(inter_buffer, label=\"buffer 2\")\n",
    "plt.plot(drain_buffer, label=\"buffer 3\")\n",
    "#plt.hlines(3,0,15000, label = \"ss\")\n",
    "#plt.hlines(5,0,15000, label = \"ss\")\n",
    "plt.legend()"
   ]
  },
  {
   "cell_type": "code",
   "execution_count": null,
   "metadata": {},
   "outputs": [],
   "source": [
    "workload = arrival_buffer/(mu_drain/2)+(inter_buffer+drain_buffer)/(mu_drain)"
   ]
  },
  {
   "cell_type": "code",
   "execution_count": null,
   "metadata": {},
   "outputs": [],
   "source": [
    "workload_2 = (inter_buffer+arrival_buffer)/(mu_fast)"
   ]
  },
  {
   "cell_type": "code",
   "execution_count": null,
   "metadata": {},
   "outputs": [],
   "source": [
    "plt.plot(workload[:100000],workload_2[:100000])"
   ]
  },
  {
   "cell_type": "code",
   "execution_count": null,
   "metadata": {},
   "outputs": [],
   "source": [
    "plt.plot(workload[:100000],workload_2[:100000])"
   ]
  },
  {
   "cell_type": "code",
   "execution_count": null,
   "metadata": {},
   "outputs": [],
   "source": [
    "min_drain_time = workload/(1-mu_demand*2/mu_drain)"
   ]
  },
  {
   "cell_type": "code",
   "execution_count": null,
   "metadata": {},
   "outputs": [],
   "source": [
    "np.mean(min_drain_time),np.median(min_drain_time)"
   ]
  },
  {
   "cell_type": "code",
   "execution_count": null,
   "metadata": {},
   "outputs": [],
   "source": [
    "np.mean(min_drain_time > 1000)"
   ]
  },
  {
   "cell_type": "code",
   "execution_count": null,
   "metadata": {},
   "outputs": [],
   "source": [
    "a,b,_ = plt.hist(min_drain_time,bins=np.arange(0,14000,50),normed=True)"
   ]
  },
  {
   "cell_type": "code",
   "execution_count": null,
   "metadata": {},
   "outputs": [],
   "source": [
    "np.argmax(a)"
   ]
  },
  {
   "cell_type": "code",
   "execution_count": null,
   "metadata": {},
   "outputs": [],
   "source": [
    "a[:20]"
   ]
  },
  {
   "cell_type": "code",
   "execution_count": null,
   "metadata": {},
   "outputs": [],
   "source": [
    "b[:20]"
   ]
  },
  {
   "cell_type": "code",
   "execution_count": null,
   "metadata": {},
   "outputs": [],
   "source": [
    "b[17]"
   ]
  },
  {
   "cell_type": "code",
   "execution_count": null,
   "metadata": {},
   "outputs": [],
   "source": [
    "np.mean(arrival_buffer)"
   ]
  },
  {
   "cell_type": "code",
   "execution_count": null,
   "metadata": {},
   "outputs": [],
   "source": [
    "np.mean(inter_buffer)"
   ]
  },
  {
   "cell_type": "code",
   "execution_count": null,
   "metadata": {},
   "outputs": [],
   "source": [
    "plt.figure(figsize=(10,8))\n",
    "dur = np.arange(54000,65000)\n",
    "#dur = np.arange(300000)\n",
    "plt.fill_between(dur,drain_buffer[dur],label = \"buffer 3\")\n",
    "#plt.plot(dur,drain_buffer[dur])\n",
    "plt.fill_between(dur,-inter_buffer[dur],label='-buffer 2')\n",
    "#plt.fill_between(dur,-inter_buffer[dur],np.minimum(-inter_buffer[dur],-offset),label='-buffer 2')\n",
    "#plt.plot(dur,-inter_buffer[dur])\n",
    "#plt.plot(dur,a[dur]-offset,\"k\",alpha=0.5)\n",
    "plt.ylim(top=50,bottom=-100)\n",
    "plt.legend()"
   ]
  },
  {
   "cell_type": "code",
   "execution_count": null,
   "metadata": {},
   "outputs": [],
   "source": [
    "np.mean(arrival_buffer)"
   ]
  },
  {
   "cell_type": "code",
   "execution_count": null,
   "metadata": {},
   "outputs": [],
   "source": [
    "a = drain_buffer"
   ]
  },
  {
   "cell_type": "code",
   "execution_count": null,
   "metadata": {},
   "outputs": [],
   "source": [
    "std_h"
   ]
  },
  {
   "cell_type": "code",
   "execution_count": null,
   "metadata": {},
   "outputs": [],
   "source": [
    "np.percentile(inter_buffer,33)"
   ]
  },
  {
   "cell_type": "code",
   "execution_count": null,
   "metadata": {},
   "outputs": [],
   "source": [
    "350*0.16"
   ]
  },
  {
   "cell_type": "code",
   "execution_count": null,
   "metadata": {},
   "outputs": [],
   "source": [
    "inter_buffer_ss = inter_buffer"
   ]
  },
  {
   "cell_type": "code",
   "execution_count": null,
   "metadata": {},
   "outputs": [],
   "source": [
    "plt.figure(figsize=(10,6))\n",
    "plt.hist(inter_buffer,bins=np.arange(150),normed=True,label=\"long drain\")\n",
    "\n",
    "plt.vlines(np.percentile(inter_buffer,33),0,0.04,label=\"long_drain\")"
   ]
  },
  {
   "cell_type": "code",
   "execution_count": null,
   "metadata": {},
   "outputs": [],
   "source": [
    "plt.figure(figsize=(10,6))\n",
    "plt.hist(inter_buffer,bins=np.arange(150),normed=True,label=\"long drain\")\n",
    "plt.hist(inter_buffer_ss,bins=np.arange(150),normed=True,label=\"steady state\",alpha=0.7)\n",
    "\n",
    "plt.xlabel(\"Buffer 2 level\")\n",
    "plt.ylabel(\"Occupancy probability\")\n",
    "\n",
    "h = np.percentile(inter_buffer,33)\n",
    "\n",
    "plt.vlines(np.percentile(inter_buffer,33),0,0.04,label=\"long_drain\")\n",
    "plt.vlines(np.percentile(inter_buffer_ss,33),0,0.04,label=\"steady state\",color=\"r\")\n",
    "plt.legend()"
   ]
  },
  {
   "cell_type": "code",
   "execution_count": null,
   "metadata": {},
   "outputs": [],
   "source": []
  },
  {
   "cell_type": "code",
   "execution_count": null,
   "metadata": {},
   "outputs": [],
   "source": []
  },
  {
   "cell_type": "code",
   "execution_count": null,
   "metadata": {},
   "outputs": [],
   "source": [
    "np.percentile(150-drain_buffer,33)"
   ]
  },
  {
   "cell_type": "code",
   "execution_count": null,
   "metadata": {},
   "outputs": [],
   "source": [
    "1/(omega_h*std_h)"
   ]
  },
  {
   "cell_type": "code",
   "execution_count": null,
   "metadata": {},
   "outputs": [],
   "source": [
    "plt.plot(drain_buffer)"
   ]
  },
  {
   "cell_type": "code",
   "execution_count": null,
   "metadata": {},
   "outputs": [],
   "source": [
    "-np.log(0.33)/(0.01*3.5)"
   ]
  },
  {
   "cell_type": "code",
   "execution_count": null,
   "metadata": {},
   "outputs": [],
   "source": [
    "b,a = zip(*slopes.items())"
   ]
  },
  {
   "cell_type": "code",
   "execution_count": null,
   "metadata": {},
   "outputs": [],
   "source": [
    "clf = LinearRegression()\n",
    "clf.fit(np.array(b).reshape(-1,1),a)"
   ]
  },
  {
   "cell_type": "code",
   "execution_count": null,
   "metadata": {},
   "outputs": [],
   "source": [
    "clf.coef_"
   ]
  },
  {
   "cell_type": "code",
   "execution_count": null,
   "metadata": {},
   "outputs": [],
   "source": [
    "plt.plot(np.array(b),a,\".\")\n",
    "plt.plot(np.array(b),clf.predict(np.array(b).reshape(-1,1)))"
   ]
  },
  {
   "cell_type": "code",
   "execution_count": null,
   "metadata": {},
   "outputs": [],
   "source": [
    "np.histogram(inter_buffer,bins=50)"
   ]
  },
  {
   "cell_type": "code",
   "execution_count": null,
   "metadata": {},
   "outputs": [],
   "source": [
    "beta_ss = (1/4)*(percentile**2)*omega_ss"
   ]
  },
  {
   "cell_type": "code",
   "execution_count": null,
   "metadata": {},
   "outputs": [],
   "source": [
    "beta_ss"
   ]
  },
  {
   "cell_type": "code",
   "execution_count": null,
   "metadata": {},
   "outputs": [],
   "source": [
    "mu_demand,mu_transfer,mu_fast,mu_drain"
   ]
  },
  {
   "cell_type": "code",
   "execution_count": null,
   "metadata": {},
   "outputs": [],
   "source": [
    "std_h**2*(1-omega_h*2*(c3/c2))/(4*slack_capacity_h)"
   ]
  },
  {
   "cell_type": "code",
   "execution_count": null,
   "metadata": {},
   "outputs": [],
   "source": [
    "plt.plot(arrival_buffer[:1000000])"
   ]
  },
  {
   "cell_type": "code",
   "execution_count": null,
   "metadata": {},
   "outputs": [],
   "source": [
    "np.sum(drain_buffer)/(26*len(drain_buffer))"
   ]
  },
  {
   "cell_type": "code",
   "execution_count": null,
   "metadata": {},
   "outputs": [],
   "source": [
    "#\n",
    "#plt.plot(arrival_buffer[:1000000])\n",
    "#plt.plot(inter_buffer[:1000000])\n",
    "plt.plot(drain_buffer[:1000000])\n",
    "plt.plot(inter_buffer[:1000000],label='safety stocks')\n",
    "plt.legend()"
   ]
  },
  {
   "cell_type": "code",
   "execution_count": null,
   "metadata": {},
   "outputs": [],
   "source": [
    "#\n",
    "#plt.plot(arrival_buffer[:1000000])\n",
    "#plt.plot(inter_buffer[:1000000])\n",
    "plt.plot(drain_buffer[:1000000])\n",
    "plt.plot(inter_buffer[:1000000],label='safety stocks')\n",
    "plt.legend()"
   ]
  },
  {
   "cell_type": "code",
   "execution_count": null,
   "metadata": {},
   "outputs": [],
   "source": [
    "#\n",
    "#plt.plot(arrival_buffer[:1000000])\n",
    "#plt.plot(inter_buffer[:1000000])\n",
    "#plt.plot(drain_buffer[:1000000])\n",
    "plt.plot(inter_buffer[:100000000],label='safety stocks')\n",
    "plt.legend()"
   ]
  },
  {
   "cell_type": "code",
   "execution_count": null,
   "metadata": {},
   "outputs": [],
   "source": [
    "max(drain_buffer)- np.percentile(drain_buffer,66)"
   ]
  },
  {
   "cell_type": "code",
   "execution_count": null,
   "metadata": {},
   "outputs": [],
   "source": [
    "np.percentile(inter_buffer,33)"
   ]
  },
  {
   "cell_type": "code",
   "execution_count": null,
   "metadata": {},
   "outputs": [],
   "source": [
    "plt.plot(inter_buffer)"
   ]
  },
  {
   "cell_type": "code",
   "execution_count": null,
   "metadata": {},
   "outputs": [],
   "source": [
    "plt.plot(np.arange(199,-1,-1),0.035*np.exp(np.arange(200)*-0.035))"
   ]
  },
  {
   "cell_type": "code",
   "execution_count": null,
   "metadata": {},
   "outputs": [],
   "source": [
    "std_h"
   ]
  },
  {
   "cell_type": "code",
   "execution_count": null,
   "metadata": {},
   "outputs": [],
   "source": [
    "(0.7*omega_h*std_h)"
   ]
  },
  {
   "cell_type": "code",
   "execution_count": null,
   "metadata": {},
   "outputs": [],
   "source": [
    "s = 1/(0.7*omega_h*std_h)"
   ]
  },
  {
   "cell_type": "code",
   "execution_count": null,
   "metadata": {},
   "outputs": [],
   "source": [
    "s"
   ]
  },
  {
   "cell_type": "code",
   "execution_count": null,
   "metadata": {},
   "outputs": [],
   "source": [
    "1/clf.coef_"
   ]
  },
  {
   "cell_type": "code",
   "execution_count": null,
   "metadata": {},
   "outputs": [],
   "source": [
    "plt.hist(drain_buffer,bins=40,normed=True)\n",
    "#plt.plot(b[15:,:],clf.predict(b[15:,:]))\n"
   ]
  },
  {
   "cell_type": "code",
   "execution_count": null,
   "metadata": {},
   "outputs": [],
   "source": [
    "np.log(0.66)/s"
   ]
  },
  {
   "cell_type": "code",
   "execution_count": null,
   "metadata": {},
   "outputs": [],
   "source": [
    "plt.figure(figsize=(10,6))\n",
    "\n",
    "a,b,_ = plt.hist(drain_buffer,bins=30,normed=True)\n",
    "\n",
    "b = b.reshape(-1,1)\n",
    "clf = LinearRegression()\n",
    "clf.fit(b[15:,:],np.log(a[14:]))\n",
    "print(clf.coef_)\n",
    "\n",
    "\n",
    "#plt.plot(np.arange(149,-1,-1),clf.coef_[0]*np.exp(np.arange(150)*-clf.coef_[0]))\n",
    "plt.plot(np.arange(149,-1,-1),s*np.exp(np.arange(150)*-s),linewidth=2)\n",
    "\n",
    "plt.vlines(150+np.log(0.66)/s,0,0.04,color=\"r\")\n",
    "plt.xlabel(\"Buffer 3 level\")\n",
    "plt.ylabel(\"Occupancy probability\")"
   ]
  },
  {
   "cell_type": "code",
   "execution_count": null,
   "metadata": {},
   "outputs": [],
   "source": [
    "np.percentile(a,66)"
   ]
  },
  {
   "cell_type": "code",
   "execution_count": null,
   "metadata": {},
   "outputs": [],
   "source": [
    "1/omega_h"
   ]
  },
  {
   "cell_type": "code",
   "execution_count": null,
   "metadata": {},
   "outputs": [],
   "source": [
    "len(a)"
   ]
  },
  {
   "cell_type": "code",
   "execution_count": null,
   "metadata": {},
   "outputs": [],
   "source": [
    "len(b)"
   ]
  },
  {
   "cell_type": "code",
   "execution_count": null,
   "metadata": {},
   "outputs": [],
   "source": [
    "0.33-0.34"
   ]
  },
  {
   "cell_type": "code",
   "execution_count": null,
   "metadata": {},
   "outputs": [],
   "source": [
    "3/200"
   ]
  },
  {
   "cell_type": "code",
   "execution_count": null,
   "metadata": {},
   "outputs": [],
   "source": [
    "mu_demand/mu_fast"
   ]
  },
  {
   "cell_type": "code",
   "execution_count": null,
   "metadata": {},
   "outputs": [],
   "source": [
    "mu_transfer/2/mu_fast"
   ]
  },
  {
   "cell_type": "code",
   "execution_count": null,
   "metadata": {},
   "outputs": [],
   "source": [
    "5/140"
   ]
  },
  {
   "cell_type": "code",
   "execution_count": null,
   "metadata": {},
   "outputs": [],
   "source": [
    "-np.log(1-0.33)/(3.5*0.015)"
   ]
  },
  {
   "cell_type": "code",
   "execution_count": null,
   "metadata": {},
   "outputs": [],
   "source": [
    "plt.plot(b[10:],np.log(a[9:]))"
   ]
  },
  {
   "cell_type": "code",
   "execution_count": null,
   "metadata": {},
   "outputs": [],
   "source": [
    "#\n",
    "#plt.plot(arrival_buffer[:1000000])\n",
    "#plt.plot(inter_buffer[:1000000])\n",
    "plt.plot(-drain_buffer[:1000000])\n",
    "plt.plot(inter_buffer[:1000000],label='safety stocks')\n",
    "plt.legend()"
   ]
  },
  {
   "cell_type": "code",
   "execution_count": null,
   "metadata": {},
   "outputs": [],
   "source": [
    "beta_h*std_h/(beta_ss*std_ss)"
   ]
  },
  {
   "cell_type": "code",
   "execution_count": null,
   "metadata": {},
   "outputs": [],
   "source": [
    "beta_h"
   ]
  },
  {
   "cell_type": "code",
   "execution_count": null,
   "metadata": {},
   "outputs": [],
   "source": [
    "plt.figure(figsize=(14,8))\n",
    "run = np.arange(10000)\n",
    "plt.fill_between(run,inter_buffer[run],label=\"buffer 2\")\n",
    "plt.fill_between(run,drain_buffer[run],label=\"buffer 3\")\n",
    "plt.legend()"
   ]
  },
  {
   "cell_type": "code",
   "execution_count": null,
   "metadata": {},
   "outputs": [],
   "source": [
    "omega_h"
   ]
  },
  {
   "cell_type": "code",
   "execution_count": null,
   "metadata": {},
   "outputs": [],
   "source": [
    "cost_3"
   ]
  },
  {
   "cell_type": "code",
   "execution_count": null,
   "metadata": {},
   "outputs": [],
   "source": [
    "scale = 0.33\n",
    "\n",
    "beta = beta_ss#betas[scale]\n",
    "sc_ratio = sc_ratios[scale]\n",
    "cost_1,cost_2,cost_3 = zip(*costs[scale])\n",
    "cost_1=np.array(cost_1)\n",
    "cost_2=np.array(cost_2)\n",
    "cost_3=np.array(cost_3)\n",
    "t_cost = np.array(cost_1)+np.array(cost_2)+np.array(cost_3)\n",
    "min_t_cost = min(t_cost)\n",
    "t_cost = t_cost/min_t_cost\n",
    "\n",
    "cost_1=np.array(cost_1)/min_t_cost\n",
    "cost_2=np.array(cost_2)/min_t_cost\n",
    "cost_3=np.array(cost_3)/min_t_cost\n",
    "\n",
    "indexes = np.where(t_cost < 5)[0]\n",
    "\n",
    "plt.figure(figsize=(12,8))\n",
    "\n",
    "plt.plot(hedging[indexes],cost_1[indexes],label=\"Buffer 1 cost\")\n",
    "#plt.plot(hedging[indexes],cost_1[indexes],\"o\")\n",
    "#plt.plot(hedging[indexes],cost_2[indexes])\n",
    "plt.fill_between(hedging[indexes],cost_1[indexes]+cost_2[indexes],cost_1[indexes],alpha=0.1)\n",
    "plt.fill_between(hedging[indexes],t_cost[indexes],cost_1[indexes]+cost_2[indexes],alpha=0.1)\n",
    "plt.plot(hedging[indexes],t_cost[indexes],label=\"Total cost\")\n",
    "plt.plot(hedging[indexes],t_cost[indexes],\".\")\n",
    "plt.vlines(beta,min(t_cost[indexes]),max(t_cost[indexes]),label=\"beta\")\n",
    "plt.hlines(1.03,min(hedging[indexes]),max(hedging[indexes]),color=\"r\",label=\"3% margin\")\n",
    "plt.title(\"{:.3f}\".format(sc_ratio))\n",
    "plt.ylabel(\"Relative cumulative cost\")\n",
    "plt.xlabel(\"Threshold (xSTD)\")\n",
    "plt.legend()"
   ]
  },
  {
   "cell_type": "code",
   "execution_count": null,
   "metadata": {},
   "outputs": [],
   "source": [
    "scale = 0.33\n",
    "\n",
    "beta = betas[scale]\n",
    "sc_ratio = sc_ratios[scale]\n",
    "cost_1,cost_2,cost_3 = zip(*costs[scale])\n",
    "cost_1=np.array(cost_1)\n",
    "cost_2=np.array(cost_2)\n",
    "cost_3=np.array(cost_3)\n",
    "t_cost = np.array(cost_1)+np.array(cost_2)+np.array(cost_3)\n",
    "min_t_cost = min(t_cost)\n",
    "t_cost = t_cost/min_t_cost\n",
    "\n",
    "cost_1=np.array(cost_1)/min_t_cost\n",
    "cost_2=np.array(cost_2)/min_t_cost\n",
    "cost_3=np.array(cost_3)/min_t_cost\n",
    "\n",
    "indexes = np.where(t_cost < 2e6)[0]\n",
    "\n",
    "plt.figure(figsize=(12,8))\n",
    "\n",
    "plt.plot(hedging[indexes],cost_1[indexes],label=\"Buffer 1 cost\")\n",
    "#plt.plot(hedging[indexes],cost_1[indexes],\"o\")\n",
    "#plt.plot(hedging[indexes],cost_2[indexes])\n",
    "plt.fill_between(hedging[indexes],cost_1[indexes]+cost_2[indexes],cost_1[indexes],alpha=0.1)\n",
    "plt.fill_between(hedging[indexes],t_cost[indexes],cost_1[indexes]+cost_2[indexes],alpha=0.1)\n",
    "plt.plot(hedging[indexes],t_cost[indexes],label=\"Total cost\")\n",
    "plt.plot(hedging[indexes],t_cost[indexes],\".\")\n",
    "plt.vlines(beta,min(t_cost[indexes]),max(t_cost[indexes]),label=\"beta\")\n",
    "plt.hlines(1.03,min(hedging[indexes]),max(hedging[indexes]),color=\"r\",label=\"3% margin\")\n",
    "plt.title(\"{:.3f}\".format(sc_ratio))\n",
    "plt.ylabel(\"Relative cumulative cost\")\n",
    "plt.xlabel(\"Threshold (xSTD)\")\n",
    "plt.legend()"
   ]
  },
  {
   "cell_type": "code",
   "execution_count": null,
   "metadata": {},
   "outputs": [],
   "source": [
    "scale = 3\n",
    "beta = betas[scale]\n",
    "sc_ratio = sc_ratios[scale]\n",
    "cost = costs[scale]\n",
    "r_cost = cost/min(cost)\n",
    "indexes = np.where(r_cost < 1.2)[0]\n",
    "plt.plot(hedging[indexes],r_cost[indexes])\n",
    "plt.plot(hedging[indexes],r_cost[indexes],\".\")\n",
    "plt.vlines(beta,min(r_cost[indexes]),max(r_cost[indexes]))\n",
    "plt.hlines(1.03,min(hedging[indexes]),max(hedging[indexes]),color=\"r\")\n",
    "plt.title(\"{:.3f}\".format(sc_ratio))"
   ]
  },
  {
   "cell_type": "code",
   "execution_count": null,
   "metadata": {},
   "outputs": [],
   "source": [
    "plt.plot(hedging,costs[1])"
   ]
  },
  {
   "cell_type": "code",
   "execution_count": null,
   "metadata": {},
   "outputs": [],
   "source": [
    "mu_demand"
   ]
  },
  {
   "cell_type": "code",
   "execution_count": null,
   "metadata": {},
   "outputs": [],
   "source": [
    "percentile = 3.1"
   ]
  },
  {
   "cell_type": "code",
   "execution_count": null,
   "metadata": {},
   "outputs": [],
   "source": [
    "scale = 0.1"
   ]
  },
  {
   "cell_type": "code",
   "execution_count": null,
   "metadata": {},
   "outputs": [],
   "source": [
    "cost = []\n",
    "rates = []\n",
    "hedging = np.arange(30,200,100)\n",
    "\n",
    "f,ax = plt.subplots(3,1,figsize=(16,8))\n",
    "\n",
    "duration = 10000\n",
    "plot_range = range(0,duration)\n",
    "\n",
    "mu_demand = 30*scale\n",
    "mu_drain = mu_demand*1.02\n",
    "mu_transfer = mu_drain + (mu_drain-mu_demand)*1\n",
    "\n",
    "slack_capacity = mu_transfer-mu_drain\n",
    "std = np.sqrt(mu_drain+mu_transfer)\n",
    "\n",
    "omega = std/slack_capacity\n",
    "\n",
    "beta = (1/4)*(percentile**2)*(std/slack_capacity)\n",
    "\n",
    "hedging=[beta/4,beta/2,beta]\n",
    "#hedging=[beta]\n",
    "\n",
    "init_state = (mu_drain-mu_demand)*duration*0.6\n",
    "\n",
    "\n",
    "np.random.seed(5)\n",
    "\n",
    "demand_seq = np.random.poisson(mu_demand,duration)\n",
    "transfer_seq = np.random.poisson(mu_transfer,duration)\n",
    "drain_seq = np.random.poisson(mu_drain,duration)\n",
    "\n",
    "cumul =False\n",
    "for h in reversed(hedging):\n",
    "    thres = 2*mu_drain+h*np.sqrt(mu_drain+mu_transfer)\n",
    "    \n",
    "    #thres = h*10\n",
    "    arrival_buffer,drain_buffer,zeta = simulate_reflected_random_walk_repeat(\n",
    "        demand_seq[:duration],\n",
    "        transfer_seq[:duration],\n",
    "        drain_seq[:duration],\n",
    "        thres,\n",
    "        init_state=init_state,\n",
    "    flow=False)\n",
    "    \n",
    "    #print(np.where(drain_buffer == 0))\n",
    "    \n",
    "    cost.append(sum(arrival_buffer*c1)+sum(drain_buffer*c2))\n",
    "    rates.append(zeta*mu_transfer)\n",
    "    #plt.plot(drain_buffer[j*1000:(j+1)*1000]*c2+arrival_buffer[j*1000:(j+1)*1000]*c1)\n",
    "    if cumul:\n",
    "        ax[1].plot(np.cumsum(drain_buffer)[plot_range],label=int(h))\n",
    "        ax[0].plot(np.cumsum(arrival_buffer)[plot_range])\n",
    "        ax[2].plot(np.cumsum(arrival_buffer*c1+drain_buffer*c2)[plot_range])\n",
    "    else:\n",
    "        ax[1].plot((drain_buffer)[plot_range])\n",
    "        #ax[1].plot(np.ones(len(plot_range))*thres,\".-\")\n",
    "        ax[0].plot((arrival_buffer)[plot_range],label=\"{} * {}\".format(int(h),int(std)))\n",
    "        ax[2].plot((arrival_buffer*c1+drain_buffer*c2)[plot_range])\n",
    "    #print(np.min(np.diff((arrival_buffer[1500:2000]*c1+drain_buffer[1500:2000]*c2))))\n",
    "    \n",
    "ax[0].set_ylabel(\"Items in buffer 1\")\n",
    "ax[1].set_ylabel(\"Items in buffer 2\")\n",
    "ax[2].set_ylabel(\"Total cost\")\n",
    "f.legend()"
   ]
  },
  {
   "cell_type": "code",
   "execution_count": null,
   "metadata": {},
   "outputs": [],
   "source": [
    "slack_capacity"
   ]
  },
  {
   "cell_type": "code",
   "execution_count": null,
   "metadata": {},
   "outputs": [],
   "source": [
    "std/slack_capacity"
   ]
  },
  {
   "cell_type": "code",
   "execution_count": null,
   "metadata": {},
   "outputs": [],
   "source": [
    "mu_drain*c2"
   ]
  },
  {
   "cell_type": "code",
   "execution_count": null,
   "metadata": {},
   "outputs": [],
   "source": [
    "thres*c2"
   ]
  },
  {
   "cell_type": "code",
   "execution_count": null,
   "metadata": {},
   "outputs": [],
   "source": [
    "np.sum(drain_buffer == 0)"
   ]
  },
  {
   "cell_type": "code",
   "execution_count": null,
   "metadata": {},
   "outputs": [],
   "source": [
    "mu_demand"
   ]
  },
  {
   "cell_type": "code",
   "execution_count": null,
   "metadata": {},
   "outputs": [],
   "source": [
    "rates"
   ]
  },
  {
   "cell_type": "code",
   "execution_count": null,
   "metadata": {},
   "outputs": [],
   "source": [
    "mu_demand"
   ]
  },
  {
   "cell_type": "code",
   "execution_count": null,
   "metadata": {},
   "outputs": [],
   "source": [
    "mu_transfer"
   ]
  },
  {
   "cell_type": "code",
   "execution_count": null,
   "metadata": {},
   "outputs": [],
   "source": [
    "time_horizon"
   ]
  },
  {
   "cell_type": "code",
   "execution_count": null,
   "metadata": {},
   "outputs": [],
   "source": [
    "offset/std"
   ]
  },
  {
   "cell_type": "code",
   "execution_count": null,
   "metadata": {},
   "outputs": [],
   "source": [
    "offset"
   ]
  },
  {
   "cell_type": "code",
   "execution_count": null,
   "metadata": {},
   "outputs": [],
   "source": [
    "percentile = 1.645\n",
    "#percentile = 0\n",
    "percentile = 1.96\n",
    "#percentile = 2.33\n",
    "percentile = 3.1\n",
    "#percentile = 1\n",
    "#percentile = 7\n",
    "slack_capacity = mu_transfer-mu_drain\n",
    "std = np.sqrt(mu_drain+mu_transfer)\n",
    "time_horizon = (percentile*std)**2/(2*slack_capacity)**2\n",
    "offset = time_horizon*(-slack_capacity) + percentile*std*np.sqrt(time_horizon)\n",
    "time_horizon = int(np.ceil(time_horizon))\n",
    "offset = int(np.ceil(offset))"
   ]
  },
  {
   "cell_type": "code",
   "execution_count": null,
   "metadata": {},
   "outputs": [],
   "source": [
    "percentile*np.sqrt(3)"
   ]
  },
  {
   "cell_type": "code",
   "execution_count": null,
   "metadata": {},
   "outputs": [],
   "source": [
    "slack_capacity = mu_transfer-mu_drain\n",
    "std = np.sqrt(mu_drain+mu_transfer)\n",
    "beta = (1/4)*(percentile**2)*(std/slack_capacity) + slack_capacity/std"
   ]
  },
  {
   "cell_type": "code",
   "execution_count": null,
   "metadata": {},
   "outputs": [],
   "source": [
    "offset"
   ]
  },
  {
   "cell_type": "code",
   "execution_count": null,
   "metadata": {},
   "outputs": [],
   "source": [
    "std"
   ]
  },
  {
   "cell_type": "code",
   "execution_count": null,
   "metadata": {},
   "outputs": [],
   "source": [
    "slack_capacity"
   ]
  },
  {
   "cell_type": "code",
   "execution_count": null,
   "metadata": {},
   "outputs": [],
   "source": [
    "slack_capacity/std"
   ]
  },
  {
   "cell_type": "code",
   "execution_count": null,
   "metadata": {},
   "outputs": [],
   "source": [
    "slack_capacity"
   ]
  },
  {
   "cell_type": "code",
   "execution_count": null,
   "metadata": {},
   "outputs": [],
   "source": [
    "0.5*percentile*std/np.sqrt(time_horizon)"
   ]
  },
  {
   "cell_type": "code",
   "execution_count": null,
   "metadata": {},
   "outputs": [],
   "source": [
    "offset/std + slack_capacity/std"
   ]
  },
  {
   "cell_type": "code",
   "execution_count": null,
   "metadata": {},
   "outputs": [],
   "source": [
    "scaling_ratio = compute_scaling_ratio(mu_drain,mu_demand,std,init_state)"
   ]
  },
  {
   "cell_type": "code",
   "execution_count": null,
   "metadata": {},
   "outputs": [],
   "source": [
    "beta"
   ]
  },
  {
   "cell_type": "code",
   "execution_count": null,
   "metadata": {},
   "outputs": [],
   "source": [
    "min_cost = min(cost)\n",
    "hedging = np.array(hedging)\n",
    "r_cost = np.array([c/min_cost for c in cost[::-1]])\n",
    "\n",
    "indexes = np.where(r_cost < 1.2)[0]\n",
    "plt.plot(hedging[indexes],r_cost[indexes])\n",
    "plt.plot(hedging[indexes],r_cost[indexes],\".\")\n",
    "plt.vlines(beta,min(r_cost[indexes]),max(r_cost[indexes]))\n",
    "plt.title(\"{:.3f}\".format(scaling_ratio))"
   ]
  },
  {
   "cell_type": "code",
   "execution_count": null,
   "metadata": {},
   "outputs": [],
   "source": [
    "min_cost = min(cost)\n",
    "hedging = np.array(hedging)\n",
    "r_cost = np.array([c/min_cost for c in cost[::-1]])\n",
    "\n",
    "indexes = np.where(r_cost < 1.2)[0]\n",
    "plt.plot(hedging[indexes],r_cost[indexes])\n",
    "plt.plot(hedging[indexes],r_cost[indexes],\".\")\n",
    "plt.vlines(beta,min(r_cost[indexes]),max(r_cost[indexes]))\n",
    "plt.title(\"{:.3f}\".format(scaling_ratio))"
   ]
  },
  {
   "cell_type": "code",
   "execution_count": null,
   "metadata": {},
   "outputs": [],
   "source": [
    "cost = []\n",
    "hedging = np.arange(30,60,5)\n",
    "init_state = 7e4\n",
    "#hedging = np.arange(1,7)\n",
    "j = 1\n",
    "f,ax = plt.subplots(3,1,figsize=(16,8))\n",
    "#plot_range = range(4000,5000)\n",
    "\n",
    "duration = 100000\n",
    "plot_range = range(0,10000)\n",
    "plot_range = range(0,200)\n",
    "cumul =False\n",
    "for h in reversed(hedging):\n",
    "    thres = mu_drain+h*np.sqrt(mu_drain+mu_transfer)\n",
    "    #thres = h*10\n",
    "    arrival_buffer,drain_buffer,zeta = simulate_reflected_random_walk_repeat(demand_seq[:duration],\n",
    "                                                                             transfer_seq[:duration],\n",
    "                                                                             drain_seq[:duration],\n",
    "                                                                             thres,init_state=init_state,\n",
    "                                                                            flow=False)\n",
    "    cost.append(sum(arrival_buffer*c1)+sum(drain_buffer*c2))\n",
    "    #plt.plot(drain_buffer[j*1000:(j+1)*1000]*c2+arrival_buffer[j*1000:(j+1)*1000]*c1)\n",
    "    if cumul:\n",
    "        ax[1].plot(np.cumsum(drain_buffer*c2)[plot_range],label=h)\n",
    "        ax[0].plot(np.cumsum(arrival_buffer*c1)[plot_range])\n",
    "        ax[2].plot(np.cumsum(arrival_buffer*c1+drain_buffer*c2)[plot_range])\n",
    "    else:\n",
    "        ax[1].plot((drain_buffer*c2)[plot_range],label=h)\n",
    "        ax[0].plot((arrival_buffer*c1)[plot_range])\n",
    "        ax[2].plot((arrival_buffer*c1+drain_buffer*c2)[plot_range])\n",
    "    #print(np.min(np.diff((arrival_buffer[1500:2000]*c1+drain_buffer[1500:2000]*c2))))\n",
    "f.legend()"
   ]
  },
  {
   "cell_type": "code",
   "execution_count": null,
   "metadata": {},
   "outputs": [],
   "source": [
    "min_cost = min(cost)\n",
    "plt.plot(hedging,[c/min_cost for c in cost[::-1]])\n",
    "plt.plot(hedging,[c/min_cost for c in cost[::-1]],\".\")"
   ]
  },
  {
   "cell_type": "code",
   "execution_count": null,
   "metadata": {},
   "outputs": [],
   "source": [
    "cost = []\n",
    "hedging = np.arange(5,70,5)\n",
    "init_state = 1e4\n",
    "#hedging = np.arange(1,7)\n",
    "j = 1\n",
    "f,ax = plt.subplots(3,1,figsize=(16,8))\n",
    "#plot_range = range(4000,5000)\n",
    "\n",
    "duration = 6000\n",
    "plot_range = range(0,6000)\n",
    "#plot_range = range(0,300)\n",
    "cumul =False\n",
    "for h in reversed(hedging):\n",
    "    thres = mu_drain+h*np.sqrt(mu_drain)\n",
    "    #thres = h*10\n",
    "    arrival_buffer,drain_buffer,zeta = simulate_reflected_random_walk(demand_seq[:duration],transfer_seq[:duration],drain_seq[:duration],thres,init_state=init_state)\n",
    "    cost.append(sum(arrival_buffer*c1)+sum(drain_buffer*c2))\n",
    "    #plt.plot(drain_buffer[j*1000:(j+1)*1000]*c2+arrival_buffer[j*1000:(j+1)*1000]*c1)\n",
    "    if cumul:\n",
    "        ax[1].plot(np.cumsum(drain_buffer*c2)[plot_range],label=h)\n",
    "        ax[0].plot(np.cumsum(arrival_buffer*c1)[plot_range])\n",
    "        ax[2].plot(np.cumsum(arrival_buffer*c1+drain_buffer*c2)[plot_range])\n",
    "    else:\n",
    "        ax[1].plot((drain_buffer*c2)[plot_range],label=h)\n",
    "        ax[0].plot((arrival_buffer*c1)[plot_range])\n",
    "        ax[2].plot((arrival_buffer*c1+drain_buffer*c2)[plot_range])\n",
    "    #print(np.min(np.diff((arrival_buffer[1500:2000]*c1+drain_buffer[1500:2000]*c2))))\n",
    "    \n",
    "thres = 1e6\n",
    "#thres = h*10\n",
    "arrival_buffer,drain_buffer,_ = simulate_reflected_random_walk(demand_seq[:duration],transfer_seq[:duration],drain_seq[:duration],thres,init_state=init_state)\n",
    "#plt.plot(drain_buffer[j*1000:(j+1)*1000]*c2+arrival_buffer[j*1000:(j+1)*1000]*c1)\n",
    "if cumul:\n",
    "    #ax[1].plot(np.cumsum(drain_buffer*c2)[plot_range],label=\"e\")\n",
    "    ax[0].plot(np.cumsum(arrival_buffer*c1)[plot_range],label=\"e\")\n",
    "    #ax[2].plot(np.cumsum(arrival_buffer*c1+drain_buffer*c2)[plot_range])\n",
    "else:\n",
    "    #ax[1].plot((drain_buffer*c2)[plot_range],label=\"e\")\n",
    "    ax[0].plot((arrival_buffer*c1)[plot_range],label=\"e\")\n",
    "    #ax[2].plot((arrival_buffer*c1+drain_buffer*c2)[plot_range])\n",
    "f.legend()"
   ]
  },
  {
   "cell_type": "code",
   "execution_count": null,
   "metadata": {},
   "outputs": [],
   "source": [
    "(mu_transfer-mu_demand)/((zeta*mu_transfer)-mu_demand)"
   ]
  },
  {
   "cell_type": "code",
   "execution_count": null,
   "metadata": {},
   "outputs": [],
   "source": [
    "min_cost = min(cost)\n",
    "plt.plot(hedging,[c/min_cost for c in cost[::-1]])\n",
    "plt.plot(hedging,[c/min_cost for c in cost[::-1]],\".\")"
   ]
  },
  {
   "cell_type": "code",
   "execution_count": null,
   "metadata": {},
   "outputs": [],
   "source": [
    "min_cost = min(cost)\n",
    "plt.plot(hedging,[c/min_cost for c in cost[::-1]])\n",
    "plt.plot(hedging,[c/min_cost for c in cost[::-1]],\".\")"
   ]
  },
  {
   "cell_type": "code",
   "execution_count": null,
   "metadata": {},
   "outputs": [],
   "source": [
    "h = []\n",
    "for i in np.arange(0.94,0.949,0.001):\n",
    "    h.append(1/(1-i))\n",
    "    \n",
    "plt.plot(np.arange(0.94,0.949,0.001)/0.94,[i/min(h) for i in h])"
   ]
  },
  {
   "cell_type": "code",
   "execution_count": null,
   "metadata": {},
   "outputs": [],
   "source": [
    "min_cost = min(cost)"
   ]
  },
  {
   "cell_type": "code",
   "execution_count": null,
   "metadata": {},
   "outputs": [],
   "source": [
    "cost[0]-cost[1]"
   ]
  },
  {
   "cell_type": "code",
   "execution_count": null,
   "metadata": {},
   "outputs": [],
   "source": [
    "plt.plot(drain_buffer[:300])"
   ]
  },
  {
   "cell_type": "code",
   "execution_count": null,
   "metadata": {},
   "outputs": [],
   "source": [
    "plt.plot(arrival_buffer[:600])"
   ]
  },
  {
   "cell_type": "code",
   "execution_count": null,
   "metadata": {},
   "outputs": [],
   "source": [
    "plt.plot(buffer_seq[:1000])"
   ]
  },
  {
   "cell_type": "code",
   "execution_count": null,
   "metadata": {},
   "outputs": [],
   "source": [
    "sum(buffer_seq)"
   ]
  },
  {
   "cell_type": "code",
   "execution_count": null,
   "metadata": {},
   "outputs": [],
   "source": [
    "sum(buffer_seq)"
   ]
  },
  {
   "cell_type": "code",
   "execution_count": null,
   "metadata": {},
   "outputs": [],
   "source": [
    "np.percentile((supply_seq-demand_seq)[(supply_seq-demand_seq) < 0],0.01)"
   ]
  },
  {
   "cell_type": "code",
   "execution_count": null,
   "metadata": {},
   "outputs": [],
   "source": [
    "plt.plot(np.cumsum(supply_seq)-np.cumsum(demand_seq))"
   ]
  },
  {
   "cell_type": "code",
   "execution_count": null,
   "metadata": {},
   "outputs": [],
   "source": [
    "percentile = 1.645\n",
    "#percentile = 0\n",
    "#percentile = 1.96\n",
    "#percentile = 2.33\n",
    "slack_capacity = mu_supply-mu_demand\n",
    "time_horizon = (percentile**2)*mu_supply/(2*slack_capacity**2)\n",
    "offset = time_horizon*(-slack_capacity) + percentile* np.sqrt(mu_supply*2*time_horizon)\n",
    "print(time_horizon*2)\n",
    "time_horizon = int(np.ceil(time_horizon))\n",
    "offset = int(np.ceil(offset))"
   ]
  },
  {
   "cell_type": "code",
   "execution_count": null,
   "metadata": {},
   "outputs": [],
   "source": [
    "time_horizon = (percentile**2)*mu_supply*2/slack_capacity**2\n",
    "time_horizon = int(np.ceil(time_horizon))"
   ]
  },
  {
   "cell_type": "code",
   "execution_count": null,
   "metadata": {},
   "outputs": [],
   "source": [
    "y = []\n",
    "for d in range(time_horizon):\n",
    "    y.append(d*(slack_capacity) - percentile* np.sqrt(mu_supply*2*d))"
   ]
  },
  {
   "cell_type": "code",
   "execution_count": null,
   "metadata": {},
   "outputs": [],
   "source": [
    "y_1 = y\n",
    "time_horizon_1 = time_horizon"
   ]
  },
  {
   "cell_type": "code",
   "execution_count": null,
   "metadata": {},
   "outputs": [],
   "source": [
    "y_2 = y\n",
    "time_horizon_2 = time_horizon"
   ]
  },
  {
   "cell_type": "code",
   "execution_count": null,
   "metadata": {},
   "outputs": [],
   "source": [
    "time_horizon/time_horizon_1"
   ]
  },
  {
   "cell_type": "code",
   "execution_count": null,
   "metadata": {},
   "outputs": [],
   "source": [
    "1.96/1.645"
   ]
  },
  {
   "cell_type": "code",
   "execution_count": null,
   "metadata": {},
   "outputs": [],
   "source": [
    "plt.plot(range(time_horizon),y)\n",
    "plt.plot(range(time_horizon_1),y_1)\n",
    "plt.plot(range(time_horizon_2),y_2)"
   ]
  },
  {
   "cell_type": "code",
   "execution_count": null,
   "metadata": {},
   "outputs": [],
   "source": [
    "y"
   ]
  },
  {
   "cell_type": "code",
   "execution_count": null,
   "metadata": {},
   "outputs": [],
   "source": [
    "time_horizon"
   ]
  },
  {
   "cell_type": "code",
   "execution_count": null,
   "metadata": {},
   "outputs": [],
   "source": [
    "offset"
   ]
  },
  {
   "cell_type": "code",
   "execution_count": null,
   "metadata": {},
   "outputs": [],
   "source": [
    "thres = poisson.ppf(0.95,mu_demand)\n",
    "#thres = 0\n",
    "thres = poisson.ppf(0.5,mu_demand)\n",
    "\n",
    "def idle_supply(demand_seq,supply_seq,offset):\n",
    "    inv_pos = offset\n",
    "    idle_supply_seq = np.zeros_like(supply_seq) \n",
    "    idle_count = 0\n",
    "    for i,(d,s) in enumerate(zip(demand_seq,supply_seq)):\n",
    "        if inv_pos > thres+offset:\n",
    "            s = 0\n",
    "            idle_count += 1\n",
    "        idle_supply_seq[i] = s\n",
    "        inv_pos += s-d\n",
    "    #print(idle_count/len(supply_seq)) \n",
    "    return idle_supply_seq\n",
    "\n",
    "def idle_supply_time_horizon(demand_seq,supply_seq,offset,time_horizon):\n",
    "    inv_pos = offset\n",
    "    inv_pos_seq = np.zeros_like(supply_seq)\n",
    "    days_count = 0\n",
    "    for i,(d,s) in enumerate(zip(demand_seq,supply_seq)):\n",
    "        if (inv_pos > thres+offset) and days_count >= time_horizon:\n",
    "            s = 0\n",
    "            days_count = 0\n",
    "        idle_supply_seq[i] = s\n",
    "        inv_pos += s-d\n",
    "        inv_pos_seq[i] = inv_pos\n",
    "        days_count += 1\n",
    "    return inv_pos_seq\n",
    "\n",
    "def idle_supply_time_horizon_smooth(demand_seq,supply_seq,offset,time_horizon):\n",
    "    inv_pos = offset\n",
    "    inv_pos_seq = np.zeros_like(supply_seq)\n",
    "    days_count = 0\n",
    "    just_idled = False\n",
    "    for i,(d,s) in enumerate(zip(demand_seq,supply_seq)):\n",
    "        surplus = inv_pos - offset\n",
    "        if surplus > 0 and ((days_count >= time_horizon) or just_idled):\n",
    "            if d > surplus:\n",
    "                s = d-surplus\n",
    "            else:\n",
    "                s = 0\n",
    "            days_count=0\n",
    "            just_idled = True\n",
    "        else:\n",
    "            just_idled = False\n",
    "            \n",
    "        inv_pos += s-d\n",
    "        inv_pos_seq[i] = inv_pos\n",
    "        if not just_idled:\n",
    "            days_count += 1\n",
    "            \n",
    "    return inv_pos_seq\n",
    "\n",
    "def work_supply_time_horizon_smooth(demand_seq,supply_seq,offset,time_horizon):\n",
    "    inv_pos = offset\n",
    "    inv_pos_seq = np.zeros_like(supply_seq)\n",
    "    days_count = 0\n",
    "    just_idled = True\n",
    "    for i,(d,s) in enumerate(zip(demand_seq,supply_seq)):\n",
    "        surplus = inv_pos - offset\n",
    "        if surplus > 0 and ((days_count >= time_horizon) or just_idled):\n",
    "            days_count = 0\n",
    "            if d > surplus:\n",
    "                s = d-surplus\n",
    "            else:\n",
    "                s = 0\n",
    "            days_count=0\n",
    "            just_idled = True\n",
    "        else:\n",
    "            days_count += 1\n",
    "            just_idled = False\n",
    "            \n",
    "        inv_pos += s-d\n",
    "        inv_pos_seq[i] = inv_pos\n",
    "            \n",
    "    return inv_pos_seq\n",
    "\n",
    "def idle_supply_smooth(demand_seq,supply_seq,offset):\n",
    "    inv_pos = offset\n",
    "    idle_supply_seq = np.zeros_like(supply_seq) \n",
    "    idle_count = 0\n",
    "    inv_pos_array = np.zeros_like(supply_seq)\n",
    "    for i,(d,s) in enumerate(zip(demand_seq,supply_seq)):\n",
    "        surplus = inv_pos - offset\n",
    "        if surplus > 0:\n",
    "            if d > surplus:\n",
    "                s = d-surplus\n",
    "            else:\n",
    "                s = 0\n",
    "            idle_count += 1\n",
    "            \n",
    "        idle_supply_seq[i] = s\n",
    "        inv_pos += s-d\n",
    "        inv_pos = min(inv_pos,offset)\n",
    "        inv_pos_array[i] = inv_pos\n",
    "\n",
    "    #print(idle_count/len(supply_seq)) \n",
    "    print(inv_pos)\n",
    "    return inv_pos_array"
   ]
  },
  {
   "cell_type": "code",
   "execution_count": null,
   "metadata": {},
   "outputs": [],
   "source": [
    "slack_capacity/np.sqrt(2*mu_demand)"
   ]
  },
  {
   "cell_type": "code",
   "execution_count": null,
   "metadata": {},
   "outputs": [],
   "source": [
    "point = 1400\n",
    "plt.plot(inv_pos_seq[point-100:point+500])"
   ]
  },
  {
   "cell_type": "code",
   "execution_count": null,
   "metadata": {},
   "outputs": [],
   "source": [
    "point = 1400\n",
    "plt.plot(inv_pos_seq[point-100:point+500])"
   ]
  },
  {
   "cell_type": "code",
   "execution_count": null,
   "metadata": {},
   "outputs": [],
   "source": [
    "point = 1400\n",
    "plt.plot(inv_pos_seq[point-100:point+100])"
   ]
  },
  {
   "cell_type": "code",
   "execution_count": null,
   "metadata": {},
   "outputs": [],
   "source": [
    "offset"
   ]
  },
  {
   "cell_type": "code",
   "execution_count": null,
   "metadata": {},
   "outputs": [],
   "source": [
    "time_horizon*slack_capacity/2"
   ]
  },
  {
   "cell_type": "code",
   "execution_count": null,
   "metadata": {},
   "outputs": [],
   "source": [
    "slack_capacity"
   ]
  },
  {
   "cell_type": "code",
   "execution_count": null,
   "metadata": {},
   "outputs": [],
   "source": [
    "inv_pos_seq = work_supply_time_horizon_smooth(demand_seq,supply_seq,53,12)\n",
    "\n",
    "print(np.mean(inv_pos_seq < 0))"
   ]
  },
  {
   "cell_type": "code",
   "execution_count": null,
   "metadata": {},
   "outputs": [],
   "source": [
    "inv_pos_seq = idle_supply_time_horizon_smooth(demand_seq,supply_seq,53,12)\n",
    "\n",
    "print(np.mean(inv_pos_seq < 0))"
   ]
  },
  {
   "cell_type": "code",
   "execution_count": null,
   "metadata": {},
   "outputs": [],
   "source": [
    "stocks = inv_pos_seq.copy()\n",
    "stocks[inv_pos_seq < 0] = 0\n",
    "np.mean(stocks)"
   ]
  },
  {
   "cell_type": "code",
   "execution_count": null,
   "metadata": {},
   "outputs": [],
   "source": [
    "inv_pos_seq = idle_supply_time_horizon_smooth(demand_seq,supply_seq,41,69)\n",
    "\n",
    "print(np.mean(inv_pos_seq < 0))"
   ]
  },
  {
   "cell_type": "code",
   "execution_count": null,
   "metadata": {},
   "outputs": [],
   "source": [
    "stocks = inv_pos_seq.copy()\n",
    "stocks[inv_pos_seq < 0] = 0\n",
    "np.mean(stocks)"
   ]
  },
  {
   "cell_type": "code",
   "execution_count": null,
   "metadata": {},
   "outputs": [],
   "source": [
    "inv_pos_seq = idle_supply_time_horizon(demand_seq,supply_seq,offset,time_horizon)\n",
    "\n",
    "print(np.mean(inv_pos_seq < 0))\n",
    "#plt.plot(inv_pos_seq[827341-10:827341+10])\n",
    "#plt.plot(inv_pos_seq[827341-10:827341+10],\".\")"
   ]
  },
  {
   "cell_type": "code",
   "execution_count": null,
   "metadata": {},
   "outputs": [],
   "source": [
    "stocks = inv_pos_seq.copy()\n",
    "stocks[inv_pos_seq < 0] = 0\n",
    "np.mean(stocks)"
   ]
  },
  {
   "cell_type": "code",
   "execution_count": null,
   "metadata": {},
   "outputs": [],
   "source": [
    "idle_supply_seq,inv_pos_seq = idle_supply_smooth(demand_seq,supply_seq, np.ceil(offset))\n",
    "#inv_pos_seq = offset + np.cumsum(idle_supply_seq)-np.cumsum(demand_seq)\n",
    "print(np.mean(inv_pos_seq < 0))\n",
    "#plt.plot(inv_pos_seq[827341-10:827341+10])\n",
    "#plt.plot(inv_pos_seq[827341-10:827341+10],\".\")\n",
    "\n",
    "plt.plot(inv_pos_seq[:1200])"
   ]
  },
  {
   "cell_type": "code",
   "execution_count": null,
   "metadata": {},
   "outputs": [],
   "source": [
    "n_sims = 100000\n",
    "demand_sum = np.random.poisson(mu_demand*np.ceil(time_horizon),n_sims)\n",
    "supply_sum = np.random.poisson(mu_supply*np.ceil(time_horizon),n_sims)\n",
    "\n",
    "print(np.mean((demand_sum-supply_sum) > np.ceil(offset)))"
   ]
  },
  {
   "cell_type": "code",
   "execution_count": null,
   "metadata": {},
   "outputs": [],
   "source": [
    "offset+time_horizon*slack_capacity"
   ]
  },
  {
   "cell_type": "code",
   "execution_count": null,
   "metadata": {},
   "outputs": [],
   "source": [
    "1001 % 100"
   ]
  },
  {
   "cell_type": "code",
   "execution_count": null,
   "metadata": {},
   "outputs": [],
   "source": [
    "offset"
   ]
  },
  {
   "cell_type": "code",
   "execution_count": null,
   "metadata": {},
   "outputs": [],
   "source": [
    "time_horizon*slack_capacity/2"
   ]
  },
  {
   "cell_type": "code",
   "execution_count": null,
   "metadata": {},
   "outputs": [],
   "source": [
    "np.random.seed(500)\n",
    "n_sims = 100000\n",
    "#n_sims = 20\n",
    "stockouts = []\n",
    "last_day_stockouts = []\n",
    "last_day_stockouts_vals = []\n",
    "ave_inventories = []\n",
    "sim_time_horizon = time_horizon\n",
    "for i in range(n_sims):\n",
    "    demand = np.random.poisson(mu_demand,sim_time_horizon)\n",
    "    supply = np.random.poisson(mu_supply,sim_time_horizon)\n",
    "    inv_pos_seq = offset + np.cumsum(supply)-np.cumsum(demand)\n",
    "    stockouts.append(np.sum(inv_pos_seq < 0))\n",
    "    last_day_stockouts.append(inv_pos_seq[-1] < offset)\n",
    "    if last_day_stockouts[-1]:\n",
    "        last_day_stockouts_vals.append(inv_pos_seq[-1]-offset)\n",
    "    \n",
    "    ave_inventories.append(np.mean(inv_pos_seq))\n",
    "    if i % 10000 == 0:\n",
    "        plt.plot(inv_pos_seq)\n",
    "    \n",
    "sum(stockouts)/(sim_time_horizon*n_sims),np.sum(last_day_stockouts)/(n_sims),np.mean(ave_inventories)\n"
   ]
  },
  {
   "cell_type": "code",
   "execution_count": null,
   "metadata": {},
   "outputs": [],
   "source": [
    "offset"
   ]
  },
  {
   "cell_type": "code",
   "execution_count": null,
   "metadata": {},
   "outputs": [],
   "source": [
    "np.median(last_day_stockouts_vals)"
   ]
  },
  {
   "cell_type": "code",
   "execution_count": null,
   "metadata": {},
   "outputs": [],
   "source": [
    "for offset in range(200):\n",
    "    stock_out_probs = []\n",
    "    for d in range(1,time_horizon+1):\n",
    "        stock_out_prob = norm.cdf(-offset,slack_capacity*d,np.sqrt(2*mu_supply*d))\n",
    "        stock_out_probs.append(stock_out_prob)\n",
    "    overal_stockout_prob = np.mean(stock_out_probs)\n",
    "    #print(overal_stockout_prob)\n",
    "    if overal_stockout_prob < 0.05:\n",
    "        break"
   ]
  },
  {
   "cell_type": "code",
   "execution_count": null,
   "metadata": {},
   "outputs": [],
   "source": [
    "time_horizon"
   ]
  },
  {
   "cell_type": "code",
   "execution_count": null,
   "metadata": {},
   "outputs": [],
   "source": []
  },
  {
   "cell_type": "code",
   "execution_count": null,
   "metadata": {},
   "outputs": [],
   "source": [
    "def get_percentile_deficit(cycle_dur,slack_capacity,variance,percentile = 0.5):\n",
    "    mu = slack_capacity*cycle_dur\n",
    "    std = np.sqrt(variance*cycle_dur)\n",
    "    cum_deficit_prob = norm.cdf(0,mu,std)\n",
    "    cum_percentile = 0\n",
    "    prev_cum_prob = cum_deficit_prob\n",
    "    for i in range(10000):\n",
    "        cum_prob = norm.cdf(-i,mu,std)\n",
    "        prob = (prev_cum_prob - cum_prob)/cum_deficit_prob\n",
    "        cum_percentile += prob\n",
    "        if cum_percentile >= percentile:\n",
    "            return i\n",
    "        prev_cum_prob = cum_prob\n",
    "        \n",
    "a = get_percentile_deficit(time_horizon/4,slack_capacity,2*mu_supply)\n",
    "#get_percentile_deficit(slack_capacity,2*mu_supply,time_horizon)\n",
    "print(a)\n",
    "\n",
    "def compute_recovery_time(slack_capacity,variance,deficit,bound = 2.33):\n",
    "    dur = ((bound*np.sqrt(variance)+np.sqrt(bound**2*variance+4*slack_capacity*deficit))/(2*slack_capacity))**2\n",
    "    return int(np.ceil(dur))\n",
    "\n",
    "print(compute_recovery_time(slack_capacity,2*mu_supply,a))\n",
    "\n",
    "def get_average_stockout_prob(duration,slack_capacity,variance,start):\n",
    "    stock_out_probs = []\n",
    "    for d in range(1,duration+1):\n",
    "        stock_out_prob = norm.cdf(0,start+slack_capacity*d,np.sqrt(variance*d))\n",
    "        stock_out_probs.append(stock_out_prob)\n",
    "    average_stockout_prob = np.mean(stock_out_probs)\n",
    "    return average_stockout_prob\n",
    "\n",
    "def compute_stockout_prob_and_inventory_cost(cycle_dur,slack_capacity,variance,offset):\n",
    "    mu = slack_capacity*cycle_dur\n",
    "    std = np.sqrt(variance*cycle_dur)\n",
    "    cum_deficit_prob = norm.cdf(0,mu,std)\n",
    "    #print(cum_deficit_prob)\n",
    "    deficit = get_percentile_deficit(cycle_dur,slack_capacity,variance,0.95)\n",
    "    #print(deficit)\n",
    "    rec_dur = compute_recovery_time(slack_capacity,variance,deficit)\n",
    "    #print(rec_dur)\n",
    "    cycle_stockout_prob = get_average_stockout_prob(cycle_dur,slack_capacity,variance,offset)\n",
    "    \n",
    "    rec_dur = int(np.ceil(deficit/slack_capacity))\n",
    "    print(rec_dur)\n",
    "    rec_stockout_prob = get_average_stockout_prob(rec_dur,slack_capacity,variance,offset-deficit)\n",
    "    #print(cycle_stockout_prob,rec_stockout_prob)\n",
    "    \n",
    "    effective_duration = (cycle_dur+cum_deficit_prob*rec_dur)\n",
    "    #print(cycle_dur/effective_duration)\n",
    "    \n",
    "    overall_stockout_prob = (cycle_dur*cycle_stockout_prob+cum_deficit_prob*rec_dur*rec_stockout_prob)/effective_duration\n",
    "    \n",
    "    overall_inventory_cost = (cycle_dur*(0.5*slack_capacity*cycle_dur+offset)+cum_deficit_prob*rec_dur*(0.5*slack_capacity*rec_dur+offset-deficit))/effective_duration\n",
    "    #print(overall_inventory_cost)\n",
    "    return overall_stockout_prob,overall_inventory_cost"
   ]
  },
  {
   "cell_type": "code",
   "execution_count": null,
   "metadata": {},
   "outputs": [],
   "source": [
    "time_horizon/4"
   ]
  },
  {
   "cell_type": "code",
   "execution_count": null,
   "metadata": {},
   "outputs": [],
   "source": [
    "variance = 2*mu_supply"
   ]
  },
  {
   "cell_type": "code",
   "execution_count": null,
   "metadata": {},
   "outputs": [],
   "source": [
    "min_inv_cost = np.inf\n",
    "min_cycle_dur = None\n",
    "min_offset = None\n",
    "for cycle_dur in range(1,int(time_horizon)):\n",
    "\n",
    "    for offset in range(200):\n",
    "        overall_stockout_prob,inv_cost = compute_stockout_prob_and_inventory_cost(cycle_dur,slack_capacity,variance,offset)\n",
    "        #print(overall_stockout_prob)\n",
    "        if overall_stockout_prob < 0.05:\n",
    "            break\n",
    "    \n",
    "    print(cycle_dur,inv_cost)\n",
    "    if inv_cost < min_inv_cost:\n",
    "        print(cycle_dur)\n",
    "        min_inv_cost = inv_cost\n",
    "        min_cycle_dur = cycle_dur\n",
    "        min_offset = offset\n",
    "    \n",
    "print(offset)"
   ]
  },
  {
   "cell_type": "code",
   "execution_count": null,
   "metadata": {},
   "outputs": [],
   "source": [
    "min_offset"
   ]
  },
  {
   "cell_type": "code",
   "execution_count": null,
   "metadata": {},
   "outputs": [],
   "source": [
    "min_cycle_dur"
   ]
  },
  {
   "cell_type": "code",
   "execution_count": null,
   "metadata": {},
   "outputs": [],
   "source": [
    "min_inv_cost"
   ]
  },
  {
   "cell_type": "code",
   "execution_count": null,
   "metadata": {},
   "outputs": [],
   "source": [
    "time_horizon"
   ]
  },
  {
   "cell_type": "code",
   "execution_count": null,
   "metadata": {},
   "outputs": [],
   "source": [
    "int(time_horizon)*(0.5*slack_capacity)"
   ]
  },
  {
   "cell_type": "code",
   "execution_count": null,
   "metadata": {},
   "outputs": [],
   "source": [
    "inv_cost"
   ]
  },
  {
   "cell_type": "code",
   "execution_count": null,
   "metadata": {},
   "outputs": [],
   "source": [
    "print(overal_stockout_prob)"
   ]
  },
  {
   "cell_type": "code",
   "execution_count": null,
   "metadata": {},
   "outputs": [],
   "source": [
    "overal_stockout_prob"
   ]
  },
  {
   "cell_type": "code",
   "execution_count": null,
   "metadata": {},
   "outputs": [],
   "source": [
    "probs = []\n",
    "deficit = 10000\n",
    "for i in range(deficit):\n",
    "    v = -offset-i\n",
    "    mu = slack_capacity*time_horizon\n",
    "    std = np.sqrt(2*mu_supply*time_horizon)\n",
    "    probs.append(norm.cdf(v,mu,std))\n",
    "    #print(i,probs[-1])\n",
    "    \n",
    "np.sum(-np.diff(probs)*np.arange(1,deficit)/norm.cdf(-offset,mu,std))"
   ]
  },
  {
   "cell_type": "code",
   "execution_count": null,
   "metadata": {},
   "outputs": [],
   "source": [
    "offsets = []\n",
    "for dur in range(1,time_horizon+1):\n",
    "    for offset in range(200):\n",
    "        stock_out_probs = []\n",
    "        for d in range(1,dur+1):\n",
    "            stock_out_prob = norm.cdf(-offset,slack_capacity*d,np.sqrt(2*mu_supply*d))\n",
    "            stock_out_probs.append(stock_out_prob)\n",
    "        overal_stockout_prob = np.mean(stock_out_probs)\n",
    "        #print(overal_stockout_prob)\n",
    "        if overal_stockout_prob < 0.05:\n",
    "            break\n",
    "    #print(dur,offset)\n",
    "    offsets.append(offset)"
   ]
  },
  {
   "cell_type": "code",
   "execution_count": null,
   "metadata": {},
   "outputs": [],
   "source": [
    "plt.plot(offsets)"
   ]
  },
  {
   "cell_type": "code",
   "execution_count": null,
   "metadata": {},
   "outputs": [],
   "source": [
    "norm.cdf(-offset,mu,std)"
   ]
  },
  {
   "cell_type": "code",
   "execution_count": null,
   "metadata": {},
   "outputs": [],
   "source": [
    "offset"
   ]
  },
  {
   "cell_type": "code",
   "execution_count": null,
   "metadata": {},
   "outputs": [],
   "source": [
    "mu"
   ]
  },
  {
   "cell_type": "code",
   "execution_count": null,
   "metadata": {},
   "outputs": [],
   "source": [
    "(-np.diff(probs)/norm.cdf(-offset,mu,std))[:50]"
   ]
  },
  {
   "cell_type": "code",
   "execution_count": null,
   "metadata": {},
   "outputs": [],
   "source": [
    "-np.diff(probs)/norm.cdf(-offset,mu,std)"
   ]
  },
  {
   "cell_type": "code",
   "execution_count": null,
   "metadata": {},
   "outputs": [],
   "source": [
    "offset"
   ]
  },
  {
   "cell_type": "code",
   "execution_count": null,
   "metadata": {},
   "outputs": [],
   "source": [
    "np.sum(last_day_stockouts)/(n_sims)"
   ]
  },
  {
   "cell_type": "code",
   "execution_count": null,
   "metadata": {},
   "outputs": [],
   "source": [
    "sum(stockouts)/(int(np.ceil(time_horizon))*n_sims)"
   ]
  },
  {
   "cell_type": "code",
   "execution_count": null,
   "metadata": {},
   "outputs": [],
   "source": [
    "np.sum(last_day_stockouts)"
   ]
  },
  {
   "cell_type": "code",
   "execution_count": null,
   "metadata": {},
   "outputs": [],
   "source": [
    "np.sum(last_day_stockouts)/sum(stockouts)"
   ]
  },
  {
   "cell_type": "code",
   "execution_count": null,
   "metadata": {},
   "outputs": [],
   "source": [
    "np.mean(stockouts)"
   ]
  },
  {
   "cell_type": "code",
   "execution_count": null,
   "metadata": {},
   "outputs": [],
   "source": [
    "stockouts = np.array(stockouts)"
   ]
  },
  {
   "cell_type": "code",
   "execution_count": null,
   "metadata": {},
   "outputs": [],
   "source": [
    "np.median(stockouts[stockouts > 0])"
   ]
  },
  {
   "cell_type": "code",
   "execution_count": null,
   "metadata": {},
   "outputs": [],
   "source": [
    "plt.hist(stockouts[stockouts > 0])"
   ]
  },
  {
   "cell_type": "code",
   "execution_count": null,
   "metadata": {},
   "outputs": [],
   "source": [
    "plt.hist(stockouts,bins=range(0,50,2))"
   ]
  },
  {
   "cell_type": "code",
   "execution_count": null,
   "metadata": {},
   "outputs": [],
   "source": [
    "2*time_horizon"
   ]
  },
  {
   "cell_type": "code",
   "execution_count": null,
   "metadata": {},
   "outputs": [],
   "source": [
    "norm.cdf(-offset,slack_capacity*10,np.sqrt(mu_supply*10))"
   ]
  },
  {
   "cell_type": "code",
   "execution_count": null,
   "metadata": {},
   "outputs": [],
   "source": [
    "int(np.ceil(time_horizon))"
   ]
  }
 ],
 "metadata": {
  "kernelspec": {
   "display_name": "Python 3",
   "language": "python",
   "name": "python3"
  },
  "language_info": {
   "codemirror_mode": {
    "name": "ipython",
    "version": 3
   },
   "file_extension": ".py",
   "mimetype": "text/x-python",
   "name": "python",
   "nbconvert_exporter": "python",
   "pygments_lexer": "ipython3",
   "version": "3.7.3"
  }
 },
 "nbformat": 4,
 "nbformat_minor": 2
}
