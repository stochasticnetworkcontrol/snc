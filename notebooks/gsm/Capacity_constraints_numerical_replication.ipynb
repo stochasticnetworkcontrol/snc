{
 "cells": [
  {
   "cell_type": "code",
   "execution_count": null,
   "metadata": {
    "scrolled": true
   },
   "outputs": [],
   "source": [
    "import numpy as np\n",
    "import matplotlib.pyplot as plt"
   ]
  },
  {
   "cell_type": "code",
   "execution_count": null,
   "metadata": {
    "scrolled": true
   },
   "outputs": [],
   "source": [
    "%matplotlib inline"
   ]
  },
  {
   "cell_type": "code",
   "execution_count": null,
   "metadata": {},
   "outputs": [],
   "source": [
    "cd ~/code/snc"
   ]
  },
  {
   "cell_type": "code",
   "execution_count": null,
   "metadata": {},
   "outputs": [],
   "source": [
    "# importing tree_gsm with implemented capacity constrains extension (branch egor/gsm_capacity_constraints)\n",
    "import snc.meio.gsm.tree_gsm as tree_gsm"
   ]
  },
  {
   "cell_type": "code",
   "execution_count": null,
   "metadata": {
    "scrolled": true
   },
   "outputs": [],
   "source": [
    "# importing numerical simulator\n",
    "from snc.experiment.numerical_simulator import simulate"
   ]
  },
  {
   "cell_type": "code",
   "execution_count": null,
   "metadata": {},
   "outputs": [],
   "source": [
    "# importing function which will generate serial network as in \n",
    "# section 4. Numerical Experiments from Graves and Schoenmeyr 2016\n",
    "from snc.experiment.basic_serial_network import create_serial_stages"
   ]
  },
  {
   "cell_type": "code",
   "execution_count": null,
   "metadata": {},
   "outputs": [],
   "source": [
    "# generate history of demand using the parameters in Section 4\n",
    "\n",
    "n=100000 # length of simulation (number of days)\n",
    "loc = 40 # daily demand mean\n",
    "scale = 20 # daily demand std\n",
    "\n",
    "np.random.seed(seed=8675309)\n",
    "demand_history = np.maximum(np.round(np.random.normal(loc,scale,size=n)),0)"
   ]
  },
  {
   "cell_type": "code",
   "execution_count": null,
   "metadata": {},
   "outputs": [],
   "source": [
    "# Here we will try to replicate scenarios in Table 5\n",
    "\n",
    "added_cost_prof = \"constant\"\n",
    "lead_time_prof = \"upstream_heavy\"\n",
    "\n",
    "stages = create_serial_stages(added_cost_prof=added_cost_prof,lead_time_prof=lead_time_prof)"
   ]
  },
  {
   "cell_type": "code",
   "execution_count": null,
   "metadata": {},
   "outputs": [],
   "source": [
    "# first without capacity constraints\n",
    "\n",
    "gsm = tree_gsm.GuaranteedServiceModelTree(stages,propagate_bounds=True)\n",
    "solution = gsm.find_optimal_solution(root_stage_id=\"2\")"
   ]
  },
  {
   "cell_type": "code",
   "execution_count": null,
   "metadata": {},
   "outputs": [],
   "source": [
    "# verify safety stock levels are as in the table\n",
    "safety_stocks = tree_gsm.compute_expected_inventories(solution.policy,stages)\n",
    "safety_stocks"
   ]
  },
  {
   "cell_type": "code",
   "execution_count": null,
   "metadata": {},
   "outputs": [],
   "source": [
    "# simulate\n",
    "\n",
    "capacity_constraints = {}\n",
    "indep_inv_histories = simulate(stages,\n",
    "                               solution.policy,\n",
    "                               solution.base_stocks,\n",
    "                               capacity_constraints,\n",
    "                               demand_history,\n",
    "                               stockout_stages=[])"
   ]
  },
  {
   "cell_type": "code",
   "execution_count": null,
   "metadata": {},
   "outputs": [],
   "source": [
    "# verify service levels (in this serial example k = 2, which which corresponds to 97% service level)\n",
    "\n",
    "np.mean(indep_inv_histories[\"1\"] >= 0),np.mean(indep_inv_histories[\"5\"] >= 0)"
   ]
  },
  {
   "cell_type": "code",
   "execution_count": null,
   "metadata": {},
   "outputs": [],
   "source": [
    "# now lets place capacity constraint at stage 1\n",
    "\n",
    "cap_loc = \"1\"\n",
    "stages = create_serial_stages(added_cost_prof=added_cost_prof,lead_time_prof=lead_time_prof)\n",
    "stages[cap_loc].cap_constraint = 45"
   ]
  },
  {
   "cell_type": "code",
   "execution_count": null,
   "metadata": {},
   "outputs": [],
   "source": [
    "# rerun gsm optimization and verify safety stock levels from the table\n",
    "# note that expected backlog is not computed here but it will result in safety stocks being less by 30 units\n",
    "# regardless of the capacity constraint location (see text just to the right of table 5)\n",
    "# hence in the safety stock levels computed below level is higher by exactly 30\n",
    "\n",
    "gsm = tree_gsm.GuaranteedServiceModelTree(stages,propagate_bounds=True)\n",
    "solution = gsm.find_optimal_solution(root_stage_id=\"2\")\n",
    "\n",
    "safety_stocks = tree_gsm.compute_expected_inventories(solution.policy,stages)\n",
    "safety_stocks"
   ]
  },
  {
   "cell_type": "code",
   "execution_count": null,
   "metadata": {},
   "outputs": [],
   "source": [
    "# simulate\n",
    "\n",
    "capacity_constraints = {cap_loc:45}\n",
    "indep_inv_histories = simulate(stages,\n",
    "                               solution.policy,\n",
    "                               solution.base_stocks,\n",
    "                               capacity_constraints,\n",
    "                               demand_history,\n",
    "                               stockout_stages=[])"
   ]
  },
  {
   "cell_type": "code",
   "execution_count": null,
   "metadata": {},
   "outputs": [],
   "source": [
    "# verify expirical average inventory levels with the values from the table\n",
    "\n",
    "np.mean(indep_inv_histories[\"1\"]),np.mean(indep_inv_histories[\"3\"])"
   ]
  },
  {
   "cell_type": "code",
   "execution_count": null,
   "metadata": {},
   "outputs": [],
   "source": [
    "# now check the service levels\n",
    "\n",
    "np.mean(indep_inv_histories[\"1\"] >= 0),np.mean(indep_inv_histories[\"3\"] >= 0)"
   ]
  },
  {
   "cell_type": "markdown",
   "metadata": {},
   "source": [
    "As can be seen, simulating the network with the prescribed base stocks from implemented GSM with capacity constraints results in much lower service level at demand stage 1 (expected 97%)\n",
    "\n",
    "There can be several sources of discrepancy:\n",
    "* numerical simulator does not execute replenishment policy correctly\n",
    "* analytical solution underestimates the variance of inventory under censored reorder policy\n",
    "\n",
    "As can be seen from the empirical inventory averages matching the expected values it is unlikely that numerical simulator is the cause. But it is still very worth checking that re-order dynamics are simulated exactly as assumed by the authors of the paper\n",
    "\n",
    "One the other hand, we have a suspicion that the formula used for computing basestocks (equation 9) does not take into account stochasticity of replenishment orders but rather uses deterministic upper bound derived from capacity constraint. As a result the gap between cumulative demand and cumulative replenishments at any point of time is underestimated "
   ]
  },
  {
   "cell_type": "code",
   "execution_count": null,
   "metadata": {},
   "outputs": [],
   "source": []
  }
 ],
 "metadata": {
  "kernelspec": {
   "display_name": "Python 3",
   "language": "python",
   "name": "python3"
  },
  "language_info": {
   "codemirror_mode": {
    "name": "ipython",
    "version": 3
   },
   "file_extension": ".py",
   "mimetype": "text/x-python",
   "name": "python",
   "nbconvert_exporter": "python",
   "pygments_lexer": "ipython3",
   "version": "3.7.3"
  }
 },
 "nbformat": 4,
 "nbformat_minor": 2
}
