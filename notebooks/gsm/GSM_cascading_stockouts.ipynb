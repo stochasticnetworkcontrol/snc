{
 "cells": [
  {
   "cell_type": "code",
   "execution_count": null,
   "metadata": {
    "scrolled": true
   },
   "outputs": [],
   "source": [
    "from scipy.stats import poisson\n",
    "import numpy as np\n",
    "import matplotlib.pyplot as plt"
   ]
  },
  {
   "cell_type": "code",
   "execution_count": null,
   "metadata": {
    "scrolled": true
   },
   "outputs": [],
   "source": [
    "%matplotlib inline"
   ]
  },
  {
   "cell_type": "code",
   "execution_count": null,
   "metadata": {
    "scrolled": true
   },
   "outputs": [],
   "source": [
    "cd ~/code/snc"
   ]
  },
  {
   "cell_type": "code",
   "execution_count": null,
   "metadata": {},
   "outputs": [],
   "source": [
    "from collections import defaultdict"
   ]
  },
  {
   "cell_type": "code",
   "execution_count": null,
   "metadata": {
    "scrolled": true
   },
   "outputs": [],
   "source": [
    "from snc.meio.gsm.utils import read_supply_chain_from_txt"
   ]
  },
  {
   "cell_type": "code",
   "execution_count": null,
   "metadata": {
    "scrolled": true
   },
   "outputs": [],
   "source": [
    "from snc.experiment.numerical_simulator import simulate,compute_base_stocks,truncate_and_conserve\n",
    "from snc.experiment.vis_utils import plot_cascading_effect\n",
    "from snc.meio.gsm.tree_gsm import GuaranteedServiceModelTree\n",
    "from snc.meio.gsm.tree_gsm import verify_solution_policy,compute_replenishment_times"
   ]
  },
  {
   "cell_type": "code",
   "execution_count": null,
   "metadata": {
    "scrolled": true
   },
   "outputs": [],
   "source": [
    "from snc.experiment.basic_serial_network import (create_serial_stages, \n",
    "                                                 iterate_experimental_profiles, \n",
    "                                                 create_serial_line_from_lead_times)\n",
    "from snc.experiment.num_sim_utils import get_new_stockout_intervals"
   ]
  },
  {
   "cell_type": "code",
   "execution_count": null,
   "metadata": {
    "scrolled": true
   },
   "outputs": [],
   "source": [
    "n=10000\n",
    "lam = 10\n",
    "sla = 0.95"
   ]
  },
  {
   "cell_type": "code",
   "execution_count": null,
   "metadata": {
    "scrolled": true
   },
   "outputs": [],
   "source": [
    "lead_times = [1,3,10,30,100,300,1000,3000,10000]"
   ]
  },
  {
   "cell_type": "code",
   "execution_count": null,
   "metadata": {
    "scrolled": false
   },
   "outputs": [],
   "source": [
    "seed = 8675310\n",
    "f,ax = plt.subplots(3,1,figsize=(12,18),sharex=False)\n",
    "\n",
    "stages = create_serial_line_from_lead_times(lead_times=[1],demand_stage_params=demand_stage_params)\n",
    "policy = {stage_id:{\"s\":0,\"si\":0} for stage_id in stages}\n",
    "base_stocks = compute_base_stocks(stages,policy,lam,sla=sla)\n",
    "capacity_constraints = {\"1\":12}\n",
    "\n",
    "stat_func = np.mean\n",
    "    \n",
    "np.random.seed(seed=seed)\n",
    "inv_histories = simulate(stages,policy,base_stocks,capacity_constraints,lam,n,stockout_stages=None)\n",
    "indep_inv_history = inv_histories[\"1\"]\n",
    "indep_sla = np.mean(inv_histories[\"1\"] >= 0)\n",
    "indep_stockout_intervals = _collect_stockout_intervals(inv_histories[\"1\"])\n",
    "indep_backorders = stat_func(sum(indep_stockout_intervals.values(),[]))\n",
    "indep_stout_dur = stat_func([len(interval) for interval in indep_stockout_intervals.values()])\n",
    "\n",
    "lead_times = list(lead_times)\n",
    "\n",
    "for n_bufs in range(5):\n",
    "    effective_slas = [indep_sla]\n",
    "    backorders = [indep_backorders]\n",
    "    stout_durs = [indep_stout_dur]\n",
    "    for l2 in lead_times:\n",
    "        l_times = [1]+[1]*n_bufs+[l2]\n",
    "        stages = create_serial_line_from_lead_times(lead_times=l_times,demand_stage_params=demand_stage_params)\n",
    "        policy = {stage_id:{\"s\":0,\"si\":0} for stage_id in stages}\n",
    "        base_stocks = compute_base_stocks(stages,policy,lam,sla=sla)\n",
    "\n",
    "        np.random.seed(seed=seed)\n",
    "        inv_histories = simulate(stages,policy,base_stocks,capacity_constraints,lam,n,stockout_stages=None)\n",
    "        effective_slas.append(np.mean(inv_histories[\"1\"][l2:] >= 0))\n",
    "        stockout_intervals = get_new_stockout_intervals(inv_histories[\"1\"],indep_inv_history)\n",
    "        \n",
    "        backorders.append(stat_func(sum(stockout_intervals.values(),[])))\n",
    "        stout_durs.append(stat_func([len(inter) for inter in stockout_intervals.values()]))\n",
    "        \n",
    "        #neg = inv_histories[\"1\"][l2:] < 0\n",
    "        #bad_days = ~(neg & indep_neg[l2:]) & neg\n",
    "        #backorders.append(-np.median(inv_histories[\"1\"][l2:][bad_days]))\n",
    "\n",
    "    ax[0].plot([5e-1]+lead_times,effective_slas,\"-.b\",alpha=0.2)\n",
    "    ax[0].plot([5e-1]+lead_times,effective_slas,\"o\",label=n_bufs)\n",
    "    \n",
    "    ax[1].plot([5e-1]+lead_times,backorders,\"-.b\",alpha=0.2)\n",
    "    ax[1].plot([5e-1]+lead_times,backorders,\"o\",label=n_bufs)\n",
    "    \n",
    "    ax[2].plot([5e-1]+lead_times,stout_durs,\"-.b\",alpha=0.2)\n",
    "    ax[2].plot([5e-1]+lead_times,stout_durs,\"o\",label=n_bufs)\n",
    "\n",
    "for i in range(3):\n",
    "    ax[i].set_xscale(\"log\")\n",
    "    ax[i].set_xlabel(\"Supply lead time (days)\")\n",
    "    ax[i].grid(axis=\"y\")\n",
    "    ax[i].legend(title=\"Number of intermediate buffers\")\n",
    "\n",
    "ax[0].set_yticks(np.arange(0.9,0.97,0.01))\n",
    "ax[0].set_ylabel(\"Effective SLA\")\n",
    "ax[1].set_ylabel(\"Mean backorders queue (items)\")\n",
    "ax[2].set_ylabel(\"Mean stockout duration (days)\")\n",
    "ax[0].set_title(\"Effect of cascading stockouts in presence of intermediate buffer stages\")\n",
    "ax[1].set_yscale(\"log\")\n",
    "ax[2].set_yscale(\"log\")"
   ]
  },
  {
   "cell_type": "code",
   "execution_count": null,
   "metadata": {},
   "outputs": [],
   "source": [
    "seed = 8675310\n",
    "f,ax = plt.subplots(3,1,figsize=(12,18),sharex=False)\n",
    "\n",
    "stages = create_serial_line_from_lead_times(lead_times=[1],demand_stage_params=demand_stage_params)\n",
    "policy = {stage_id:{\"s\":0,\"si\":0} for stage_id in stages}\n",
    "base_stocks = compute_base_stocks(stages,policy,lam,sla=sla)\n",
    "\n",
    "stat_func = np.mean\n",
    "    \n",
    "np.random.seed(seed=seed)\n",
    "inv_histories = simulate(stages,policy,base_stocks,lam,n,stockout_stages=None)\n",
    "indep_inv_history = inv_histories[\"1\"]\n",
    "indep_sla = np.mean(inv_histories[\"1\"] >= 0)\n",
    "indep_stockout_intervals = _collect_stockout_intervals(inv_histories[\"1\"])\n",
    "indep_backorders = stat_func(sum(indep_stockout_intervals.values(),[]))\n",
    "indep_stout_dur = stat_func([len(interval) for interval in indep_stockout_intervals.values()])\n",
    "\n",
    "\n",
    "for n_bufs in range(4,5):\n",
    "    effective_slas = [indep_sla]\n",
    "    backorders = [indep_backorders]\n",
    "    stout_durs = [indep_stout_dur]\n",
    "    effective_slas_2 = [indep_sla]\n",
    "    for l2 in lead_times:\n",
    "        l_times = [1]+[1]*n_bufs+[l2]\n",
    "        stages = create_serial_line_from_lead_times(lead_times=l_times,demand_stage_params=demand_stage_params)\n",
    "        policy = {stage_id:{\"s\":0,\"si\":0} for stage_id in stages}\n",
    "        base_stocks = compute_base_stocks(stages,policy,lam,sla=sla)\n",
    "\n",
    "        np.random.seed(seed=seed)\n",
    "        inv_histories = simulate(stages,policy,base_stocks,lam,n,stockout_stages=None)\n",
    "        effective_slas.append(np.mean(inv_histories[\"1\"][l2:] >= 0))\n",
    "        stockout_intervals = get_new_stockout_intervals(inv_histories[\"1\"],indep_inv_history)\n",
    "        \n",
    "        backorders.append(stat_func(sum(stockout_intervals.values(),[])))\n",
    "        stout_durs.append(stat_func([len(inter) for inter in stockout_intervals.values()]))\n",
    "        \n",
    "        l_times = [1]+[n_bufs]+[l2]\n",
    "        stages = create_serial_line_from_lead_times(lead_times=l_times,demand_stage_params=demand_stage_params)\n",
    "        policy = {stage_id:{\"s\":0,\"si\":0} for stage_id in stages}\n",
    "        base_stocks = compute_base_stocks(stages,policy,lam,sla=sla)\n",
    "\n",
    "        np.random.seed(seed=seed)\n",
    "        inv_histories = simulate(stages,policy,base_stocks,lam,n,stockout_stages=None)\n",
    "        effective_slas_2 .append(np.mean(inv_histories[\"1\"][l2:] >= 0))\n",
    "        continue\n",
    "        stockout_intervals = get_new_stockout_intervals(inv_histories[\"1\"],indep_inv_history)\n",
    "        \n",
    "        backorders.append(stat_func(sum(stockout_intervals.values(),[])))\n",
    "        stout_durs.append(stat_func([len(inter) for inter in stockout_intervals.values()]))\n",
    "        \n",
    "        #neg = inv_histories[\"1\"][l2:] < 0\n",
    "        #bad_days = ~(neg & indep_neg[l2:]) & neg\n",
    "        #backorders.append(-np.median(inv_histories[\"1\"][l2:][bad_days]))\n",
    "\n",
    "    ax[0].plot([5e-1]+lead_times,effective_slas,\"-.b\",alpha=0.2)\n",
    "    ax[0].plot([5e-1]+lead_times,effective_slas,\"o\",label=n_bufs)\n",
    "    ax[0].plot([5e-1]+lead_times,effective_slas_2,\"-.b\",alpha=0.2)\n",
    "    ax[0].plot([5e-1]+lead_times,effective_slas_2,\"o\",label=\"aggregated {}\".format(n_bufs))\n",
    "    \n",
    "    ax[1].plot([5e-1]+lead_times,backorders,\"-.b\",alpha=0.2)\n",
    "    ax[1].plot([5e-1]+lead_times,backorders,\"o\",label=n_bufs)\n",
    "    \n",
    "    ax[2].plot([5e-1]+lead_times,stout_durs,\"-.b\",alpha=0.2)\n",
    "    ax[2].plot([5e-1]+lead_times,stout_durs,\"o\",label=n_bufs)\n",
    "\n",
    "for i in range(3):\n",
    "    ax[i].set_xscale(\"log\")\n",
    "    ax[i].set_xlabel(\"Supply lead time (days)\")\n",
    "    ax[i].grid(axis=\"y\")\n",
    "    ax[i].legend(title=\"Number of intermediate buffers\")\n",
    "\n",
    "ax[0].set_yticks(np.arange(0.9,0.97,0.01))\n",
    "ax[0].set_ylabel(\"Effective SLA\")\n",
    "ax[1].set_ylabel(\"Mean backorders queue (items)\")\n",
    "ax[2].set_ylabel(\"Mean stockout duration (days)\")\n",
    "ax[0].set_title(\"Effect of cascading stockouts in presence of intermediate buffer stages\")\n",
    "ax[1].set_yscale(\"log\")\n",
    "ax[2].set_yscale(\"log\")"
   ]
  },
  {
   "cell_type": "code",
   "execution_count": null,
   "metadata": {},
   "outputs": [],
   "source": [
    "stages"
   ]
  },
  {
   "cell_type": "code",
   "execution_count": null,
   "metadata": {},
   "outputs": [],
   "source": [
    "seed = 8675310\n",
    "f,ax = plt.subplots(3,1,figsize=(12,18),sharex=False)\n",
    "\n",
    "stages = create_serial_line_from_lead_times(lead_times=[1],demand_stage_params=demand_stage_params)\n",
    "policy = {stage_id:{\"s\":0,\"si\":0} for stage_id in stages}\n",
    "base_stocks = compute_base_stocks(stages,policy,lam,sla=sla)\n",
    "\n",
    "stat_func = np.mean\n",
    "    \n",
    "np.random.seed(seed=seed)\n",
    "inv_histories = simulate(stages,policy,base_stocks,lam,n,stockout_stages=None)\n",
    "indep_inv_history = inv_histories[\"1\"]\n",
    "indep_sla = np.mean(inv_histories[\"1\"] >= 0)\n",
    "indep_stockout_intervals = _collect_stockout_intervals(inv_histories[\"1\"])\n",
    "indep_backorders = stat_func(sum(indep_stockout_intervals.values(),[]))\n",
    "indep_stout_dur = stat_func([len(interval) for interval in indep_stockout_intervals.values()])\n",
    "\n",
    "\n",
    "n_bufs = 4\n",
    "i = 0\n",
    "for service_times in enumerate_serial_service_times():\n",
    "    i+=1\n",
    "    if i >5:\n",
    "        break\n",
    "    service_times = service_times[::-1]+[0]\n",
    "    effective_slas = [indep_sla]\n",
    "    backorders = [indep_backorders]\n",
    "    stout_durs = [indep_stout_dur]\n",
    "    effective_slas_2 = [indep_sla]\n",
    "    for l2 in lead_times:\n",
    "        l_times = [1]+[1]*n_bufs+[l2]\n",
    "        stages = create_serial_line_from_lead_times(lead_times=l_times,demand_stage_params=demand_stage_params)\n",
    "        policy = {stage_id:{\"s\":service_times[int(stage_id)-1],\"si\":service_times[int(stage_id)]} for stage_id in stages}\n",
    "        #print(policy)\n",
    "        rep_times = compute_replenishment_times(policy,stages)\n",
    "        #print(rep_times)\n",
    "        base_stocks = compute_base_stocks(stages,policy,lam,sla=sla)\n",
    "\n",
    "        np.random.seed(seed=seed)\n",
    "        inv_histories = simulate(stages,policy,base_stocks,lam,n,stockout_stages=None)\n",
    "        effective_slas.append(np.mean(inv_histories[\"1\"][l2:] >= 0))\n",
    "        stockout_intervals = get_new_stockout_intervals(inv_histories[\"1\"],indep_inv_history)\n",
    "        \n",
    "        backorders.append(stat_func(sum(stockout_intervals.values(),[])))\n",
    "        stout_durs.append(stat_func([len(inter) for inter in stockout_intervals.values()]))\n",
    "        \n",
    "        #neg = inv_histories[\"1\"][l2:] < 0\n",
    "        #bad_days = ~(neg & indep_neg[l2:]) & neg\n",
    "        #backorders.append(-np.median(inv_histories[\"1\"][l2:][bad_days]))\n",
    "\n",
    "    ax[0].plot([5e-1]+lead_times,effective_slas,\"-.b\",alpha=0.2)\n",
    "    ax[0].plot([5e-1]+lead_times,effective_slas,\"o\",label=\"{}\".format(rep_times))\n",
    "    \n",
    "    ax[1].plot([5e-1]+lead_times,backorders,\"-.b\",alpha=0.2)\n",
    "    ax[1].plot([5e-1]+lead_times,backorders,\"o\",label=\"{}\".format(rep_times))\n",
    "    \n",
    "    ax[2].plot([5e-1]+lead_times,stout_durs,\"-.b\",alpha=0.2)\n",
    "    ax[2].plot([5e-1]+lead_times,stout_durs,\"o\",label=\"{}\".format(rep_times))\n",
    "\n",
    "for i in range(3):\n",
    "    ax[i].set_xscale(\"log\")\n",
    "    ax[i].set_xlabel(\"Supply lead time (days)\")\n",
    "    ax[i].grid(axis=\"y\")\n",
    "    ax[i].legend(title=\"Number of intermediate buffers\")\n",
    "\n",
    "ax[0].set_yticks(np.arange(0.9,0.97,0.01))\n",
    "ax[0].set_ylabel(\"Effective SLA\")\n",
    "ax[1].set_ylabel(\"Mean backorders queue (items)\")\n",
    "ax[2].set_ylabel(\"Mean stockout duration (days)\")\n",
    "ax[0].set_title(\"Effect of cascading stockouts in presence of intermediate buffer stages\")\n",
    "ax[1].set_yscale(\"log\")\n",
    "ax[2].set_yscale(\"log\")"
   ]
  },
  {
   "cell_type": "code",
   "execution_count": null,
   "metadata": {},
   "outputs": [],
   "source": [
    "def enumerate_serial_service_times(service_times_list = [0]):\n",
    "    if len(service_times_list) == 5:\n",
    "        service_times_list.append(0)\n",
    "        yield service_times_list\n",
    "        return\n",
    "\n",
    "    for s in range(service_times_list[-1]+1+1):\n",
    "        new_service_times_list = service_times_list + [s]\n",
    "        for full_list in enumerate_serial_service_times(new_service_times_list):\n",
    "            yield full_list"
   ]
  },
  {
   "cell_type": "code",
   "execution_count": null,
   "metadata": {},
   "outputs": [],
   "source": [
    "for service_times in enumerate_serial_service_times():\n",
    "    service_times = service_times[::-1]\n",
    "    print(service_times)"
   ]
  },
  {
   "cell_type": "code",
   "execution_count": null,
   "metadata": {
    "scrolled": true
   },
   "outputs": [],
   "source": [
    "plt.figure(figsize=(12,8))\n",
    "stockout_stages = []\n",
    "effective_slas = []\n",
    "for stage_id in range(1,len(stages)+1):\n",
    "    stockout_stages.append(str(stage_id))\n",
    "    np.random.seed(seed=8675309)\n",
    "    inv_histories = simulate(stages,policy,base_stocks,lam,n,stockout_stages=stockout_stages)\n",
    "    effective_slas.append(np.mean(inv_histories[\"1\"] >= 0))\n",
    "    print(np.min(inv_histories[\"1\"]))\n",
    "plt.plot(effective_slas,\"b\",alpha=0.5)\n",
    "plt.plot(range(0,len(stages)),effective_slas,\"o\")"
   ]
  },
  {
   "cell_type": "code",
   "execution_count": null,
   "metadata": {
    "scrolled": true
   },
   "outputs": [],
   "source": [
    "plt.figure(figsize=(12,8))\n",
    "stockout_stages = []\n",
    "effective_slas = []\n",
    "for stage_id in range(1,len(stages)+1):\n",
    "    stockout_stages.append(str(stage_id))\n",
    "    np.random.seed(seed=8675309)\n",
    "    inv_histories = simulate(stages,policy,base_stocks,lam,n,stockout_stages=stockout_stages)\n",
    "    effective_slas.append(np.mean(inv_histories[\"1\"] >= 0))\n",
    "    print(np.min(inv_histories[\"1\"]))\n",
    "plt.plot(effective_slas,\"b\",alpha=0.5)\n",
    "plt.plot(range(0,len(stages)),effective_slas,\"o\")"
   ]
  },
  {
   "cell_type": "code",
   "execution_count": null,
   "metadata": {
    "scrolled": true
   },
   "outputs": [],
   "source": [
    "plt.figure(figsize=(12,8))\n",
    "for profiles_dict in iterate_experimental_profiles():\n",
    "    stages = create_serial_stages(**profiles_dict)\n",
    "    stages[\"1\"].demand_mean = lam\n",
    "    stages[\"1\"].demand_std = np.sqrt(lam)\n",
    "    solution = GuaranteedServiceModelTree(stages).find_optimal_solution()\n",
    "    policy = solution.policy\n",
    "    base_stocks = solution.base_stocks\n",
    "    \n",
    "    #policy = {stage_id:{\"s\":0,\"si\":0} for stage_id in stages}\n",
    "    #base_stocks = compute_base_stocks(stages,policy,lam,sla)\n",
    "\n",
    "    stockout_stages = []\n",
    "    effective_slas = []\n",
    "    for stage_id in range(1,6):\n",
    "        stockout_stages.append(str(stage_id))\n",
    "        np.random.seed(seed=8675309)\n",
    "        inv_histories = simulate(stages,policy,base_stocks,lam,n,stockout_stages=stockout_stages)\n",
    "        effective_slas.append(np.mean(inv_histories[\"1\"] >= 0))\n",
    "    plt.plot(effective_slas,\"b\",alpha=0.5)\n",
    "    plt.plot(range(0,5),effective_slas,\"o\",label=profiles_dict)\n",
    "\n",
    "plt.xticks(range(0,5))\n",
    "plt.grid(axis=\"y\")\n",
    "plt.xlabel(\"Number of stages with propagating stockouts\",fontsize=15)\n",
    "plt.ylabel(\"Effective SLA\",fontsize=15)\n",
    "\n",
    "plt.legend()"
   ]
  },
  {
   "cell_type": "code",
   "execution_count": null,
   "metadata": {
    "scrolled": true
   },
   "outputs": [],
   "source": [
    "base_stocks"
   ]
  },
  {
   "cell_type": "code",
   "execution_count": null,
   "metadata": {
    "scrolled": true
   },
   "outputs": [],
   "source": [
    "np.mean(inv_histories[\"3\"] < 0 )"
   ]
  },
  {
   "cell_type": "code",
   "execution_count": null,
   "metadata": {},
   "outputs": [],
   "source": [
    "for profiles_dict in iterate_experimental_profiles():\n",
    "    plt.figure(figsize=(12,8))\n",
    "    stages = create_serial_stages(**profiles_dict)\n",
    "    stages[\"1\"].demand_mean = lam\n",
    "    stages[\"1\"].demand_std = np.sqrt(lam)\n",
    "    solution = GuaranteedServiceModelTree(stages).find_optimal_solution()\n",
    "    policy = solution.policy\n",
    "    base_stocks = solution.base_stocks\n",
    "\n",
    "    stockout_stages = []\n",
    "    effective_slas = []\n",
    "    for stage_id in range(1,6):\n",
    "        stockout_stages.append(str(stage_id))\n",
    "        np.random.seed(seed=8675309)\n",
    "        inv_histories = simulate(stages,policy,base_stocks,lam,n,stockout_stages=stockout_stages)\n",
    "        effective_slas.append(np.mean(inv_histories[\"1\"] >= 0))\n",
    "    plt.plot(effective_slas,\"b\",alpha=0.5)\n",
    "    plt.plot(range(0,5),effective_slas,\"bo\",label=profiles_dict)\n",
    "    \n",
    "    policy = {stage_id:{\"s\":0,\"si\":0} for stage_id in stages}\n",
    "    base_stocks = compute_base_stocks(stages,policy,lam,sla)\n",
    "    \n",
    "    stockout_stages = []\n",
    "    effective_slas = []\n",
    "    for stage_id in range(1,6):\n",
    "        stockout_stages.append(str(stage_id))\n",
    "        np.random.seed(seed=8675309)\n",
    "        inv_histories = simulate(stages,policy,base_stocks,lam,n,stockout_stages=stockout_stages)\n",
    "        effective_slas.append(np.mean(inv_histories[\"1\"] >= 0))\n",
    "    plt.plot(effective_slas,\"r\",alpha=0.5)\n",
    "    plt.plot(range(0,5),effective_slas,\"ro\",label=profiles_dict)\n",
    "    \n",
    "    \n",
    "    plt.xticks(range(0,5))\n",
    "    plt.grid(axis=\"y\")\n",
    "    plt.xlabel(\"Number of stages with propagating stockouts\",fontsize=15)\n",
    "    plt.ylabel(\"Effective SLA\",fontsize=15)\n",
    "\n",
    "    plt.legend()"
   ]
  },
  {
   "cell_type": "code",
   "execution_count": null,
   "metadata": {},
   "outputs": [],
   "source": [
    "poisson"
   ]
  },
  {
   "cell_type": "code",
   "execution_count": null,
   "metadata": {
    "scrolled": true
   },
   "outputs": [],
   "source": [
    "stages = read_supply_chain_from_txt(\"snc/experiment/basic_serial_network_config.txt\")\n",
    "policy = {\"Demand\":{\"s\":0,\"si\":3},\"Dist\":{\"s\":3,\"si\":0}}"
   ]
  },
  {
   "cell_type": "code",
   "execution_count": null,
   "metadata": {},
   "outputs": [],
   "source": [
    "stages[\"Demand\"].lead_time = 1\n",
    "stages[\"Dist\"].lead_time = 39"
   ]
  },
  {
   "cell_type": "code",
   "execution_count": null,
   "metadata": {
    "scrolled": true
   },
   "outputs": [],
   "source": [
    "stages = read_supply_chain_from_txt(\"snc/experiment/basic_serial_network.txt\")\n",
    "policy = {\"Dist\":{\"s\":3,\"si\":0},\"Demand\":{\"s\":0,\"si\":3},\"Supply\":{\"s\":0,\"si\":0}}"
   ]
  },
  {
   "cell_type": "code",
   "execution_count": null,
   "metadata": {},
   "outputs": [],
   "source": [
    "stages = read_supply_chain_from_txt(\"snc/experiment/basic_serial_network.txt\")\n",
    "policy = {\"Dist\":{\"s\":3,\"si\":0},\"Demand\":{\"s\":0,\"si\":3},\"Supply\":{\"s\":0,\"si\":0}}"
   ]
  },
  {
   "cell_type": "code",
   "execution_count": null,
   "metadata": {},
   "outputs": [],
   "source": [
    "n=1000\n",
    "sla = 0.95\n",
    "p_bf = 0.01\n",
    "lam = 10\n",
    "bf = 100\n",
    "\n",
    "np.random.seed(seed=8675309)\n",
    "demand_history = np.random.poisson(size=n,lam=lam)\n",
    "#n_bf = np.random.binomial(n,p_bf)\n",
    "\n",
    "#idx_bf = np.random.choice(np.arange(len(demand_history)),n_bf)\n",
    "#demand_history[idx_bf] = bf"
   ]
  },
  {
   "cell_type": "code",
   "execution_count": null,
   "metadata": {},
   "outputs": [],
   "source": [
    "demand_history.mean()"
   ]
  },
  {
   "cell_type": "code",
   "execution_count": null,
   "metadata": {},
   "outputs": [],
   "source": [
    "demand_history.var()"
   ]
  },
  {
   "cell_type": "code",
   "execution_count": null,
   "metadata": {},
   "outputs": [],
   "source": [
    "(12-demand_history.mean())/demand_history.std()"
   ]
  },
  {
   "cell_type": "code",
   "execution_count": null,
   "metadata": {
    "scrolled": true
   },
   "outputs": [],
   "source": [
    "base_stocks = compute_base_stocks(stages,policy,lam,sla)\n",
    "#base_stocks[\"Dist\"] = 864\n",
    "#base_stocks[\"Demand\"] = 106\n",
    "#base_stocks[\"Dist\"] = 885\n",
    "#print(582/base_stocks[\"Dist\"])\n",
    "print(585/base_stocks[\"Dist\"])\n",
    "print(110/base_stocks[\"Demand\"])\n",
    "\n",
    "base_stocks[\"Dist\"] = 393\n",
    "#base_stocks[\"Demand\"] = 110\n",
    "\n",
    "#base_stocks[\"Dist\"] = 401\n",
    "\n",
    "capacity_constraints = {}\n",
    "#capacity_constraints = {\"Demand\":12}\n",
    "\n",
    "indep_inv_histories = simulate(stages,policy,base_stocks,capacity_constraints,demand_history,stockout_stages=[])\n",
    "\n",
    "casc_inv_histories = simulate(stages,policy,base_stocks,capacity_constraints,demand_history,stockout_stages=None)\n",
    "\n",
    "#capacity_constraints = {\"Demand\":13,\"Dist\":12}\n",
    "capacity_constraints = {\"Demand\":35,\"Dist\":31}\n",
    "capacity_constraints = {\"Dist\":12}\n",
    "\n",
    "indep_inv_histories_cap = simulate(stages,policy,base_stocks,capacity_constraints,demand_history,stockout_stages=[])\n",
    "\n",
    "casc_inv_histories_cap = simulate(stages,policy,base_stocks,capacity_constraints,demand_history,stockout_stages=None)"
   ]
  },
  {
   "cell_type": "code",
   "execution_count": null,
   "metadata": {},
   "outputs": [],
   "source": [
    "base_stocks"
   ]
  },
  {
   "cell_type": "code",
   "execution_count": null,
   "metadata": {},
   "outputs": [],
   "source": [
    "#now check the effective sla with coupled stockouts\n",
    "np.mean(casc_inv_histories_cap[\"Demand\"] >= 0),np.mean(casc_inv_histories_cap[\"Dist\"] >= 0)"
   ]
  },
  {
   "cell_type": "code",
   "execution_count": null,
   "metadata": {
    "scrolled": true
   },
   "outputs": [],
   "source": [
    "#verify stockout frequency against sla\n",
    "np.mean(indep_inv_histories[\"Demand\"] >= 0),np.mean(indep_inv_histories[\"Dist\"] >= 0)"
   ]
  },
  {
   "cell_type": "code",
   "execution_count": null,
   "metadata": {},
   "outputs": [],
   "source": [
    "#verify stockout frequency against sla\n",
    "np.mean(indep_inv_histories_cap[\"Demand\"] >= 0),np.mean(indep_inv_histories_cap[\"Dist\"] >= 0)"
   ]
  },
  {
   "cell_type": "code",
   "execution_count": null,
   "metadata": {
    "scrolled": true
   },
   "outputs": [],
   "source": [
    "#check the correlation between inventories\n",
    "np.corrcoef(indep_inv_histories[\"Demand\"][100:n],indep_inv_histories[\"Dist\"][100:n])"
   ]
  },
  {
   "cell_type": "code",
   "execution_count": null,
   "metadata": {
    "scrolled": true
   },
   "outputs": [],
   "source": [
    "#now check the effective sla with coupled stockouts\n",
    "np.mean(casc_inv_histories[\"Demand\"] >= 0),np.mean(casc_inv_histories[\"Dist\"] >= 0)"
   ]
  },
  {
   "cell_type": "code",
   "execution_count": null,
   "metadata": {},
   "outputs": [],
   "source": [
    "#now check the effective sla with coupled stockouts\n",
    "np.mean(casc_inv_histories_cap[\"Demand\"] >= 0),np.mean(casc_inv_histories_cap[\"Dist\"] >= 0)"
   ]
  },
  {
   "cell_type": "code",
   "execution_count": null,
   "metadata": {},
   "outputs": [],
   "source": [
    "#and corresponding correlation between inventories\n",
    "np.corrcoef(indep_inv_histories_cap[\"Dist\"][100:n],indep_inv_histories[\"Dist\"][100:n])"
   ]
  },
  {
   "cell_type": "code",
   "execution_count": null,
   "metadata": {},
   "outputs": [],
   "source": [
    "len(demand_history.shape)"
   ]
  },
  {
   "cell_type": "code",
   "execution_count": null,
   "metadata": {},
   "outputs": [],
   "source": [
    "plt.plot(demand_history[:200])"
   ]
  },
  {
   "cell_type": "code",
   "execution_count": null,
   "metadata": {
    "scrolled": false
   },
   "outputs": [],
   "source": [
    "plot_cascading_effect(casc_inv_histories_cap,casc_inv_histories,[\"Dist\",\"Demand\"],time_length=n,remove_transient=True)"
   ]
  },
  {
   "cell_type": "code",
   "execution_count": null,
   "metadata": {},
   "outputs": [],
   "source": [
    "plot_cascading_effect(indep_inv_histories_cap,indep_inv_histories,[\"Dist\",\"Demand\"],time_length=n,remove_transient=True)"
   ]
  },
  {
   "cell_type": "code",
   "execution_count": null,
   "metadata": {
    "scrolled": false
   },
   "outputs": [],
   "source": [
    "#find one coupled stockout and plot it\n",
    "loc = np.where(casc_inv_histories_cap[\"Demand\"]<-200)[0][0]\n",
    "print(loc)\n",
    "\n",
    "window = 2000\n",
    "s = loc-window\n",
    "e = s+2*window\n",
    "plt.figure(figsize=(12,8))\n",
    "for stage_id in casc_inv_histories:\n",
    "    plt.plot(casc_inv_histories_cap[stage_id][s:e],label=\"{} stage inventory position\".format(stage_id))\n",
    "#plt.plot(casc_inv_histories[\"Demand\"][s:e],label=\"Demand stage inventory position\")\n",
    "#plt.plot(casc_inv_histories[\"Dist\"][s:e],label=\"Supply stage inventory position\")\n",
    "#plt.plot(casc_inv_histories[\"Supply\"][s:e],label=\"Supply stage inventory position\")\n",
    "plt.ylabel(\"Inventory position\")\n",
    "plt.xlabel(\"Day\")\n",
    "plt.grid(axis=\"y\")\n",
    "plt.legend()"
   ]
  },
  {
   "cell_type": "code",
   "execution_count": null,
   "metadata": {},
   "outputs": [],
   "source": [
    "window = 100\n",
    "s = loc-window\n",
    "e = s+2*window\n",
    "plt.figure(figsize=(12,8))\n",
    "#plt.plot(indep_inv_histories[\"Demand\"][s:e],label=\"{}: no capacity constraint\".format(stage_id))\n",
    "#plt.plot(indep_inv_histories_cap[\"Demand\"][s:e],label=\"{}: capacity constraint\".format(stage_id))\n",
    "plt.plot(casc_inv_histories_cap[\"Demand\"][s:e],label=\"{}: capacity constraint, cascade\".format(stage_id))\n",
    "plt.plot(casc_inv_histories[\"Demand\"][s:e],label=\"{}: no capacity constraint, cascade\".format(stage_id))\n",
    "plt.plot(indep_inv_histories_cap[\"Demand\"][s:e],label=\"{}: no cascade\".format(stage_id))\n",
    "\n",
    "plt.ylabel(\"Inventory position\")\n",
    "plt.xlabel(\"Day\")\n",
    "plt.grid(axis=\"y\")\n",
    "plt.legend()"
   ]
  },
  {
   "cell_type": "code",
   "execution_count": null,
   "metadata": {},
   "outputs": [],
   "source": [
    "from collections import defaultdict"
   ]
  },
  {
   "cell_type": "code",
   "execution_count": null,
   "metadata": {},
   "outputs": [],
   "source": [
    "new_stockouts = get_new_stockout_intervals(casc_inv_histories[\"Demand\"],indep_inv_histories[\"Demand\"])\n",
    "new_stockouts_cap = get_new_stockout_intervals(casc_inv_histories_cap[\"Demand\"],indep_inv_histories_cap[\"Demand\"])"
   ]
  },
  {
   "cell_type": "code",
   "execution_count": null,
   "metadata": {},
   "outputs": [],
   "source": [
    "indep_stockouts_cap = _collect_stockout_intervals(indep_inv_histories_cap[\"Demand\"])\n",
    "indep_stockouts = _collect_stockout_intervals(indep_inv_histories[\"Demand\"])"
   ]
  },
  {
   "cell_type": "code",
   "execution_count": null,
   "metadata": {},
   "outputs": [],
   "source": [
    "all_stockouts_cap = _collect_stockout_intervals(casc_inv_histories_cap[\"Demand\"])\n",
    "all_stockouts = _collect_stockout_intervals(casc_inv_histories[\"Demand\"])"
   ]
  },
  {
   "cell_type": "code",
   "execution_count": null,
   "metadata": {},
   "outputs": [],
   "source": [
    "sum([len(inter) for inter in all_stockouts_cap.values()])/sum([len(inter) for inter in indep_stockouts_cap.values()])"
   ]
  },
  {
   "cell_type": "code",
   "execution_count": null,
   "metadata": {},
   "outputs": [],
   "source": [
    "sum([len(inter) for inter in all_stockouts.values()])/sum([len(inter) for inter in indep_stockouts.values()])"
   ]
  },
  {
   "cell_type": "code",
   "execution_count": null,
   "metadata": {},
   "outputs": [],
   "source": [
    "_collect_stockout_intervals(casc_inv_histories_cap[\"Demand\"])"
   ]
  },
  {
   "cell_type": "code",
   "execution_count": null,
   "metadata": {},
   "outputs": [],
   "source": [
    "len(new_stockouts_cap)/len(_collect_stockout_intervals(casc_inv_histories_cap[\"Demand\"]))"
   ]
  },
  {
   "cell_type": "code",
   "execution_count": null,
   "metadata": {},
   "outputs": [],
   "source": [
    "np.max([len(inter) for inter in new_stockouts.values()])"
   ]
  },
  {
   "cell_type": "code",
   "execution_count": null,
   "metadata": {},
   "outputs": [],
   "source": [
    "np.max([len(inter) for inter in new_stockouts_cap.values()])"
   ]
  },
  {
   "cell_type": "code",
   "execution_count": null,
   "metadata": {},
   "outputs": [],
   "source": [
    "from collections import Counter"
   ]
  },
  {
   "cell_type": "code",
   "execution_count": null,
   "metadata": {},
   "outputs": [],
   "source": [
    "n/365"
   ]
  },
  {
   "cell_type": "code",
   "execution_count": null,
   "metadata": {},
   "outputs": [],
   "source": [
    "Counter([len(inter) for inter in new_stockouts_cap.values()])"
   ]
  },
  {
   "cell_type": "code",
   "execution_count": null,
   "metadata": {},
   "outputs": [],
   "source": [
    "for i,j in new_stockouts_cap.items():\n",
    "    if len(j) == 61:\n",
    "        print(i)"
   ]
  },
  {
   "cell_type": "code",
   "execution_count": null,
   "metadata": {},
   "outputs": [],
   "source": [
    "f,ax = plt.subplots(2,1,sharex=True)\n",
    "ax[1].hist([len(inter) for inter in new_stockouts_cap.values()],density=True)\n",
    "ax[0].hist([len(inter) for inter in new_stockouts.values()],density=True)"
   ]
  },
  {
   "cell_type": "code",
   "execution_count": null,
   "metadata": {},
   "outputs": [],
   "source": [
    "30/32"
   ]
  },
  {
   "cell_type": "code",
   "execution_count": null,
   "metadata": {},
   "outputs": [],
   "source": [
    "window = 50\n",
    "s = loc-window\n",
    "e = s+2*window\n",
    "plt.figure(figsize=(12,8))\n",
    "plt.plot(indep_inv_histories[\"Demand\"][s:e],label=\"{}: no capacity constraint\".format(stage_id))\n",
    "plt.plot(indep_inv_histories_cap[\"Demand\"][s:e],label=\"{}: capacity constraint\".format(stage_id))\n",
    "plt.plot(casc_inv_histories[\"Demand\"][s:e],label=\"{}: no capacity constraint, cascade\".format(stage_id))\n",
    "plt.plot(casc_inv_histories_cap[\"Demand\"][s:e],label=\"{}: capacity constraint, cascade\".format(stage_id))\n",
    "\n",
    "plt.ylabel(\"Inventory position\")\n",
    "plt.xlabel(\"Day\")\n",
    "plt.grid(axis=\"y\")\n",
    "plt.legend()"
   ]
  },
  {
   "cell_type": "code",
   "execution_count": null,
   "metadata": {},
   "outputs": [],
   "source": [
    "#find one coupled stockout and plot it\n",
    "loc = np.where(casc_inv_histories_cap[\"Demand\"]< -30)[0][5]\n",
    "\n",
    "window = 150\n",
    "s = loc-window\n",
    "e = s+2*window\n",
    "f,ax = plt.subplots(4,1,figsize=(12,12),sharex=True)\n",
    "\n",
    "for j,inv_hist in enumerate([indep_inv_histories,indep_inv_histories_cap,casc_inv_histories,casc_inv_histories_cap]):\n",
    "\n",
    "    for stage_id in inv_hist:\n",
    "        ax[j].plot(inv_hist[stage_id][s:e],label=\"{} stage inventory position\".format(stage_id))\n",
    "    \n",
    "    ax[j].grid(axis=\"y\")\n",
    "#plt.plot(casc_inv_histories[\"Demand\"][s:e],label=\"Demand stage inventory position\")\n",
    "#plt.plot(casc_inv_histories[\"Dist\"][s:e],label=\"Supply stage inventory position\")\n",
    "#plt.plot(casc_inv_histories[\"Supply\"][s:e],label=\"Supply stage inventory position\")\n",
    "plt.ylabel(\"Inventory position\")\n",
    "plt.xlabel(\"Day\")\n",
    "plt.legend()"
   ]
  },
  {
   "cell_type": "code",
   "execution_count": null,
   "metadata": {
    "scrolled": false
   },
   "outputs": [],
   "source": [
    "window = 150\n",
    "s = loc-window\n",
    "e = s+2*window\n",
    "plt.figure(figsize=(12,8))\n",
    "for stage_id in casc_inv_histories:\n",
    "    plt.plot(indep_inv_histories_cap[stage_id][s:e],label=\"{} stage inventory position\".format(stage_id))\n",
    "#plt.plot(casc_inv_histories[\"Demand\"][s:e],label=\"Demand stage inventory position\")\n",
    "#plt.plot(casc_inv_histories[\"Dist\"][s:e],label=\"Supply stage inventory position\")\n",
    "#plt.plot(casc_inv_histories[\"Supply\"][s:e],label=\"Supply stage inventory position\")\n",
    "plt.ylabel(\"Inventory position\")\n",
    "plt.xlabel(\"Day\")\n",
    "plt.grid(axis=\"y\")\n",
    "plt.legend()"
   ]
  },
  {
   "cell_type": "code",
   "execution_count": null,
   "metadata": {},
   "outputs": [],
   "source": [
    "window = 150\n",
    "s = loc-window\n",
    "e = s+2*window\n",
    "plt.figure(figsize=(12,8))\n",
    "for stage_id in casc_inv_histories:\n",
    "    plt.plot(casc_inv_histories[stage_id][s:e],label=\"{} stage inventory position\".format(stage_id))\n",
    "#plt.plot(casc_inv_histories[\"Demand\"][s:e],label=\"Demand stage inventory position\")\n",
    "#plt.plot(casc_inv_histories[\"Dist\"][s:e],label=\"Supply stage inventory position\")\n",
    "#plt.plot(casc_inv_histories[\"Supply\"][s:e],label=\"Supply stage inventory position\")\n",
    "plt.ylabel(\"Inventory position\")\n",
    "plt.xlabel(\"Day\")\n",
    "plt.grid(axis=\"y\")\n",
    "plt.legend()"
   ]
  },
  {
   "cell_type": "code",
   "execution_count": null,
   "metadata": {},
   "outputs": [],
   "source": [
    "window = 150\n",
    "s = loc-window\n",
    "e = s+2*window\n",
    "plt.figure(figsize=(12,8))\n",
    "for stage_id in casc_inv_histories:\n",
    "    plt.plot(indep_inv_histories[stage_id][s:e],label=\"{} stage inventory position\".format(stage_id))\n",
    "#plt.plot(casc_inv_histories[\"Demand\"][s:e],label=\"Demand stage inventory position\")\n",
    "#plt.plot(casc_inv_histories[\"Dist\"][s:e],label=\"Supply stage inventory position\")\n",
    "#plt.plot(casc_inv_histories[\"Supply\"][s:e],label=\"Supply stage inventory position\")\n",
    "plt.ylabel(\"Inventory position\")\n",
    "plt.xlabel(\"Day\")\n",
    "plt.grid(axis=\"y\")\n",
    "plt.legend()"
   ]
  },
  {
   "cell_type": "code",
   "execution_count": null,
   "metadata": {
    "scrolled": true
   },
   "outputs": [],
   "source": [
    "np.random.seed(seed=8675309)\n",
    "np.random.poisson(size=20,lam=10)"
   ]
  },
  {
   "cell_type": "code",
   "execution_count": null,
   "metadata": {},
   "outputs": [],
   "source": [
    "plt.plot(indep_inv_histories[\"Demand\"])"
   ]
  },
  {
   "cell_type": "code",
   "execution_count": null,
   "metadata": {
    "scrolled": true
   },
   "outputs": [],
   "source": [
    "#compare it with the same time interval without the coupled inventory dynamics\n",
    "window = 200\n",
    "s = loc-window\n",
    "e = s+2*window\n",
    "plt.figure(figsize=(12,8))\n",
    "plt.plot(indep_inv_histories[\"Dist\"][s:e],label=\"Demand stage inventory position\")\n",
    "plt.plot(indep_inv_histories_cap[\"Dist\"][s:e],label=\"Supply stage inventory position\")\n",
    "plt.ylabel(\"Inventory position\")\n",
    "plt.xlabel(\"Day\")\n",
    "plt.grid(axis=\"y\")\n",
    "plt.legend()"
   ]
  },
  {
   "cell_type": "code",
   "execution_count": null,
   "metadata": {
    "scrolled": true
   },
   "outputs": [],
   "source": []
  }
 ],
 "metadata": {
  "kernelspec": {
   "display_name": "Python 3",
   "language": "python",
   "name": "python3"
  },
  "language_info": {
   "codemirror_mode": {
    "name": "ipython",
    "version": 3
   },
   "file_extension": ".py",
   "mimetype": "text/x-python",
   "name": "python",
   "nbconvert_exporter": "python",
   "pygments_lexer": "ipython3",
   "version": "3.7.3"
  }
 },
 "nbformat": 4,
 "nbformat_minor": 2
}
