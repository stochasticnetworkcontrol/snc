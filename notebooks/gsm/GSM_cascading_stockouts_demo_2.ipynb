{
 "cells": [
  {
   "cell_type": "markdown",
   "metadata": {},
   "source": [
    "This notebook consolidates several empirical experiments which demonstrate the impact of removing two underlying assumptions in GSM modeling: no capacity constraints and availablity of extraordinary measures in situations of inventory stockouts at every single link within the network. \n",
    "\n",
    "We identified the prevalence of the following effects:\n",
    "* If even at least one link in the network lacks extraordinary measures to compensate for internal stockouts, then the effective SLA at the customer facing stage will lower then the one guaranteed by idealized GSM solution\n",
    "\n",
    "* The drop in effective SLA is worse for a larger discrepancy between demand stage inventory deviations and its adjacent suppliers. But the negative trend is not linear with the respect to the ration of inventory deviations, but rather goes as square root (or log) of this quantity.\n",
    "\n",
    "* For the networks where upstream stages have much larger lead times compared to customer facing stages downstream, placing safety stocks in a more spread manner across the network results in a smaller drop in effective SLA then more sparse and concentrated allocations, which are typical solutions of basic GSM optimisation.\n",
    "\n",
    "* In large deep serial networks, propagating stockouts from upstream tend to be attenuated by the safety stocks at intermediate stages before it reaches customer facing inventory. Typically the effect of propagating stockouts is determined mostly by the most adjacent (or direct) upstream neighbours. \n",
    "\n",
    "* If capacity constraints are present for stages with long replenishment periods, recovery from abnormally large and long coupled stockouts at demand stage is prolonged to a large degree.\n",
    "\n",
    "Directions for further investigation:\n",
    "* Cascading stockouts in convergent supply chains where several of the multiple suppliers to the same stage can stockout independently\n",
    "\n",
    "* Study cascading effects when safety stocks are computed taking account of capacity constraints"
   ]
  },
  {
   "cell_type": "code",
   "execution_count": null,
   "metadata": {
    "scrolled": true
   },
   "outputs": [],
   "source": [
    "import numpy as np\n",
    "import matplotlib.pyplot as plt"
   ]
  },
  {
   "cell_type": "code",
   "execution_count": null,
   "metadata": {
    "scrolled": true
   },
   "outputs": [],
   "source": [
    "%matplotlib inline"
   ]
  },
  {
   "cell_type": "markdown",
   "metadata": {},
   "source": [
    "Go to cascading_stockouts directory since sandbox modules are not part of snc package"
   ]
  },
  {
   "cell_type": "code",
   "execution_count": null,
   "metadata": {},
   "outputs": [],
   "source": [
    "cd ~/code/snc/sandbox/meio/gsm/cascading_stockouts"
   ]
  },
  {
   "cell_type": "code",
   "execution_count": null,
   "metadata": {},
   "outputs": [],
   "source": [
    "from cascading_stockouts_experiments import sparse_vs_spread_safety_stocks\n",
    "from vis_utils import plot_cascading_effect\n",
    "from num_sim_utils import get_new_stockout_intervals,collect_stockout_intervals"
   ]
  },
  {
   "cell_type": "code",
   "execution_count": null,
   "metadata": {
    "scrolled": true
   },
   "outputs": [],
   "source": [
    "from snc.meio.gsm.utils import read_supply_chain_from_txt"
   ]
  },
  {
   "cell_type": "code",
   "execution_count": null,
   "metadata": {
    "scrolled": true
   },
   "outputs": [],
   "source": [
    "from snc.experiment.numerical_simulator import simulate, compute_base_stocks, compute_safety_stocks, compute_replenishment_times"
   ]
  },
  {
   "cell_type": "markdown",
   "metadata": {},
   "source": [
    "## Cascading stockouts in serial networks"
   ]
  },
  {
   "cell_type": "markdown",
   "metadata": {},
   "source": [
    "Let's load a simple two stage network"
   ]
  },
  {
   "cell_type": "code",
   "execution_count": null,
   "metadata": {},
   "outputs": [],
   "source": [
    "stages = read_supply_chain_from_txt(\"basic_serial_network_config.txt\")\n",
    "{stage.id:stage.lead_time for stage in stages.values()}"
   ]
  },
  {
   "cell_type": "markdown",
   "metadata": {},
   "source": [
    "And define arbitrary GSM policy"
   ]
  },
  {
   "cell_type": "code",
   "execution_count": null,
   "metadata": {},
   "outputs": [],
   "source": [
    "policy = {\"Demand\":{\"s\":0,\"si\":3},\"Dist\":{\"s\":3,\"si\":0}}"
   ]
  },
  {
   "cell_type": "markdown",
   "metadata": {},
   "source": [
    "Network configuration and policy will result in the following net replenishment times"
   ]
  },
  {
   "cell_type": "code",
   "execution_count": null,
   "metadata": {},
   "outputs": [],
   "source": [
    "compute_replenishment_times(stages,policy)"
   ]
  },
  {
   "cell_type": "markdown",
   "metadata": {},
   "source": [
    "Now generate demand history from a sequence of independent Poisson random variables"
   ]
  },
  {
   "cell_type": "code",
   "execution_count": null,
   "metadata": {},
   "outputs": [],
   "source": [
    "n=10000 # length of simulation (number of days)\n",
    "lam = 10 # demand daily mean\n",
    "\n",
    "np.random.seed(seed=8675309)\n",
    "demand_history = np.random.poisson(size=n,lam=lam)"
   ]
  },
  {
   "cell_type": "markdown",
   "metadata": {},
   "source": [
    "We then specify required service level and compute required base stocks from GSM policy"
   ]
  },
  {
   "cell_type": "code",
   "execution_count": null,
   "metadata": {},
   "outputs": [],
   "source": [
    "sla = 0.95 + 0.006 # slight correction to account for base stock level discrtisation\n",
    "base_stocks = compute_base_stocks(stages,policy,lam,sla)\n",
    "base_stocks"
   ]
  },
  {
   "cell_type": "markdown",
   "metadata": {},
   "source": [
    "And corresponding running average safety stocks"
   ]
  },
  {
   "cell_type": "code",
   "execution_count": null,
   "metadata": {},
   "outputs": [],
   "source": [
    "compute_safety_stocks(stages,policy,lam,sla)"
   ]
  },
  {
   "cell_type": "markdown",
   "metadata": {},
   "source": [
    "We can see that standard deviation of Dist stage inventory dynamics is three times more then the Demand stage"
   ]
  },
  {
   "cell_type": "markdown",
   "metadata": {},
   "source": [
    "That is all we need to simulate the network under two scenarios:\n",
    "* Assuming existence of extraordinary measures which effectively decouples Dist and Demand inventories\n",
    "* Assuming inventory stockouts are propagated downstream and are only compensated at a later date when new replenishments arrive"
   ]
  },
  {
   "cell_type": "code",
   "execution_count": null,
   "metadata": {},
   "outputs": [],
   "source": [
    "indep_inv_histories = simulate(stages,policy,base_stocks,{},demand_history,stockout_stages=[])\n",
    "casc_inv_histories = simulate(stages,policy,base_stocks,{},demand_history,stockout_stages=None)"
   ]
  },
  {
   "cell_type": "markdown",
   "metadata": {},
   "source": [
    "Independent inventories should have their effective SLA at the required level"
   ]
  },
  {
   "cell_type": "code",
   "execution_count": null,
   "metadata": {},
   "outputs": [],
   "source": [
    "np.mean(indep_inv_histories[\"Demand\"] >= 0),np.mean(indep_inv_histories[\"Dist\"] >= 0)"
   ]
  },
  {
   "cell_type": "markdown",
   "metadata": {},
   "source": [
    "How about coupled inventories?"
   ]
  },
  {
   "cell_type": "code",
   "execution_count": null,
   "metadata": {},
   "outputs": [],
   "source": [
    "np.mean(casc_inv_histories[\"Demand\"] >= 0),np.mean(casc_inv_histories[\"Dist\"] >= 0)"
   ]
  },
  {
   "cell_type": "markdown",
   "metadata": {},
   "source": [
    "Dist stage service level remains at the same level since its supplier (not modeled) is assumed never to stockout.\n",
    "But Demand stage stockout frequency increased by 1.2%, due to propagating stockouts of the Dist stage."
   ]
  },
  {
   "cell_type": "code",
   "execution_count": null,
   "metadata": {},
   "outputs": [],
   "source": [
    "plot_cascading_effect(casc_inv_histories,indep_inv_histories,[\"Dist\",\"Demand\"],time_length=n,remove_transient=True)"
   ]
  },
  {
   "cell_type": "markdown",
   "metadata": {},
   "source": [
    "From the plots above we can clearly see the difference in the steady state inventory dynamics for coupled and decoupled inventories of two adjacent stages.\n",
    "\n",
    "Clearly in coupled case, stockouts in Dist stage, which are 3 times larger, drug Demand stage inventory downwards as well far below its normal independent deviations.\n",
    "\n",
    "We can study the effect of varying the lead time of Dist stage (forcing stage) and get the idea of how strongly the stockouts at the demand stage are affected"
   ]
  },
  {
   "cell_type": "code",
   "execution_count": null,
   "metadata": {},
   "outputs": [],
   "source": [
    "f,ax = plt.subplots(3,1,figsize=(12,18),sharex=False)\n",
    "sla_drops = sparse_vs_spread_safety_stocks(n_buffers=0,ax=ax,plot=True)\n",
    "ax[0].set_title(\"Effect of cascading stockouts in presence of no intermediate buffers\")"
   ]
  },
  {
   "cell_type": "markdown",
   "metadata": {},
   "source": [
    "(the left most datasample in all the plots corresponds to simulation under ideal assumptions, i.e. decoupled inventories)"
   ]
  },
  {
   "cell_type": "markdown",
   "metadata": {},
   "source": [
    "For a range of reasonable lead times for upstream stage (10-30 days) the onset of cascading stockouts in this simple two stage network causes \n",
    "* drop in effective SLA by 2-3% from the ideal 95% level (in this case)\n",
    "* increase in the mean stockout duration from 1 day to 3-5 days\n",
    "* increase in the mean daily back orders queue length from 2 to 3-8 items"
   ]
  },
  {
   "cell_type": "markdown",
   "metadata": {},
   "source": [
    "We can try another setup. Lets assume we can have a certain number of intermediate stages all with lead time equal to 1 day between demand stage and supplier. We then going to enumerate all possible GSM policies for these intermediate buffers and see which safety stock allocations \"protect\" the demand stage the most from the high fluctuations in the supply stage."
   ]
  },
  {
   "cell_type": "code",
   "execution_count": null,
   "metadata": {},
   "outputs": [],
   "source": [
    "n_buffers = 4 #choose number of intermediate buffers, don't pick more than 6"
   ]
  },
  {
   "cell_type": "code",
   "execution_count": null,
   "metadata": {},
   "outputs": [],
   "source": [
    "f,ax = plt.subplots(3,1,figsize=(12,18),sharex=False)\n",
    "sla_drops = sparse_vs_spread_safety_stocks(n_buffers=n_buffers,ax=ax,plot=True)\n",
    "ax[0].set_title(\"Effect of cascading stockouts in presence of {} intermediate buffers\".format(n_buffers))"
   ]
  },
  {
   "cell_type": "markdown",
   "metadata": {},
   "source": [
    "Each color above represents alternative safety stock allocation and we can see that there is a spread of 1% in the effective SLA depending on the allocations.\n",
    "\n",
    "We can check which allocation causes minimum drop in SLA for each forcing lead time at the supply stage.\n",
    "\n",
    "(tuple below show safety stock levels (in items) starting from supply stage on the left, then intermediate buffers and demand stage at the end right)\n",
    "\n",
    "(remember that lead times for intermediate buffers and demand stage are fixed at 1 day)"
   ]
  },
  {
   "cell_type": "code",
   "execution_count": null,
   "metadata": {},
   "outputs": [],
   "source": [
    "for supply_lead_time in sorted(sla_drops):\n",
    "    print(supply_lead_time,max(sla_drops[supply_lead_time],key=lambda x:sla_drops[supply_lead_time][x]))"
   ]
  },
  {
   "cell_type": "markdown",
   "metadata": {},
   "source": [
    "The trend is evident. As forcing lead time increases, more spread safety stock allocations are preferable. However completely uniform allocation (-,5,5,5,5,5) is not the best one at any point, because it is better to have slightly higher variance at the demand stage than at its adjacent buffer stage, like all (-,-,-,-,5,8) allocations."
   ]
  },
  {
   "cell_type": "markdown",
   "metadata": {},
   "source": [
    "Now lets look at the worst allocations in presence of cascading stockouts"
   ]
  },
  {
   "cell_type": "code",
   "execution_count": null,
   "metadata": {},
   "outputs": [],
   "source": [
    "for supply_lead_time in sorted(sla_drops):\n",
    "    print(supply_lead_time,min(sla_drops[supply_lead_time],key=lambda x:sla_drops[supply_lead_time][x]))"
   ]
  },
  {
   "cell_type": "markdown",
   "metadata": {},
   "source": [
    "Clearly, more sparse allocations are the worst at higher forcing lead times. But notice that the most extreme one (-,0,0,0,0,12) is not the least robust for higher forcing lead times.\n",
    "\n",
    "The takeaway of these experiments is to question the validity of ideal GSM safety stock allocation, which tends to be very sparse based on concave cost function. If extraordinary measures are absent it might be better to have safety stocks more evenly distributed to buffer against cascading stockouts more reliably."
   ]
  },
  {
   "cell_type": "markdown",
   "metadata": {},
   "source": [
    "One more thing to take into account is that presence of more intermediate buffers smoothes the propagating stockouts better. Below is the demo."
   ]
  },
  {
   "cell_type": "code",
   "execution_count": null,
   "metadata": {
    "scrolled": false
   },
   "outputs": [],
   "source": [
    "f,ax = plt.subplots(2,1,figsize=(12,12),sharex=False)\n",
    "for n_buffers in range(5):\n",
    "    sla_drops = sparse_vs_spread_safety_stocks(n_buffers=n_buffers,plot=False)\n",
    "    l_times = sorted(sla_drops)\n",
    "    min_sla_drops = [0]\n",
    "    max_sla_drops = [0]\n",
    "    for supply_lead_time in sorted(sla_drops):\n",
    "        min_sla_drop = max(sla_drops[supply_lead_time].values())\n",
    "        min_sla_drops.append(min_sla_drop)\n",
    "        max_sla_drop = min(sla_drops[supply_lead_time].values())\n",
    "        max_sla_drops.append(max_sla_drop)\n",
    "    ax[0].plot([3e-1]+l_times,min_sla_drops,\"-.b\",alpha=0.2)\n",
    "    ax[0].plot([3e-1]+l_times,min_sla_drops,\"o\",label=\"{}\".format(n_buffers))\n",
    "    ax[1].plot([3e-1]+l_times,max_sla_drops,\"-.b\",alpha=0.2)\n",
    "    ax[1].plot([3e-1]+l_times,max_sla_drops,\"o\",label=\"{}\".format(n_buffers))\n",
    "\n",
    "for i in range(2):\n",
    "    ax[i].grid(axis=\"y\")\n",
    "    ax[i].set_xscale(\"log\")\n",
    "    ax[i].set_xlabel(\"Supply lead time (days)\")\n",
    "    ax[i].legend(title=\"Number of intermediate buffers\")\n",
    "    ax[i].set_ylabel(\"Drop from ideal SLA\")\n",
    "\n",
    "    \n",
    "ax[0].set_title(\"Best safety stock allocation\")\n",
    "ax[1].set_title(\"Worst safety stock allocation\")"
   ]
  },
  {
   "cell_type": "markdown",
   "metadata": {},
   "source": [
    "We can see that even for worst safety stock allocation, more buffers results in lower effective SLA drop from ideal."
   ]
  },
  {
   "cell_type": "markdown",
   "metadata": {},
   "source": [
    "One possible implication of the finding above is that stockouts upstream are not amplified but rather attenuated by the presence of more intermediate stages in the network (assuming they hold safety stocks) before it reaches customer facing stage and affects service level.\n",
    "\n",
    "If this is generally true than cascading stockouts do not pose much of a problem in deep serial networks, if safety stocks are held in a more dispersed manner."
   ]
  },
  {
   "cell_type": "markdown",
   "metadata": {},
   "source": [
    "## The onset of capacity constraints"
   ]
  },
  {
   "cell_type": "markdown",
   "metadata": {},
   "source": [
    "We are going to run a similar experiment as at the begining of previous section but now we will add a capacity constraint on a daily batch size which can be processed by Dist stage.\n",
    "\n",
    "We will also increase the daily demand variance, to make extreme periods deviate more"
   ]
  },
  {
   "cell_type": "code",
   "execution_count": null,
   "metadata": {},
   "outputs": [],
   "source": [
    "stages = read_supply_chain_from_txt(\"basic_serial_network_config.txt\")\n",
    "{stage.id:stage.lead_time for stage in stages.values()}"
   ]
  },
  {
   "cell_type": "code",
   "execution_count": null,
   "metadata": {},
   "outputs": [],
   "source": [
    "n=100000\n",
    "lam = 100\n",
    "\n",
    "np.random.seed(seed=8675309)\n",
    "demand_history = np.random.poisson(size=n,lam=lam)"
   ]
  },
  {
   "cell_type": "code",
   "execution_count": null,
   "metadata": {},
   "outputs": [],
   "source": [
    "sla = 0.95+0.001\n",
    "base_stocks = compute_base_stocks(stages,policy,lam,sla)\n",
    "\n",
    "capacity_constraints = {}\n",
    "indep_inv_histories = simulate(stages,policy,base_stocks,capacity_constraints,demand_history,stockout_stages=[])\n",
    "casc_inv_histories = simulate(stages,policy,base_stocks,capacity_constraints,demand_history,stockout_stages=None)"
   ]
  },
  {
   "cell_type": "code",
   "execution_count": null,
   "metadata": {},
   "outputs": [],
   "source": [
    "#now check the effective sla with independent stockouts\n",
    "np.mean(indep_inv_histories[\"Demand\"] >= 0),np.mean(indep_inv_histories[\"Dist\"] >= 0)"
   ]
  },
  {
   "cell_type": "code",
   "execution_count": null,
   "metadata": {},
   "outputs": [],
   "source": [
    "#now check the effective sla with coupled stockouts\n",
    "np.mean(casc_inv_histories[\"Demand\"] >= 0),np.mean(casc_inv_histories[\"Dist\"] >= 0)"
   ]
  },
  {
   "cell_type": "code",
   "execution_count": null,
   "metadata": {
    "scrolled": false
   },
   "outputs": [],
   "source": [
    "plot_cascading_effect(casc_inv_histories,indep_inv_histories,[\"Dist\",\"Demand\"],time_length=n,remove_transient=True)"
   ]
  },
  {
   "cell_type": "markdown",
   "metadata": {},
   "source": [
    "Simulate same system but with capacity constraint at Dist stage"
   ]
  },
  {
   "cell_type": "code",
   "execution_count": null,
   "metadata": {},
   "outputs": [],
   "source": [
    "capacity_constraints = {\"Dist\":102}\n",
    "indep_inv_histories_cap = simulate(stages,policy,base_stocks,capacity_constraints,demand_history,stockout_stages=[])\n",
    "casc_inv_histories_cap = simulate(stages,policy,base_stocks,capacity_constraints,demand_history,stockout_stages=None)"
   ]
  },
  {
   "cell_type": "code",
   "execution_count": null,
   "metadata": {},
   "outputs": [],
   "source": [
    "#now check the effective sla with coupled stockouts\n",
    "np.mean(indep_inv_histories_cap[\"Demand\"] >= 0),np.mean(indep_inv_histories_cap[\"Dist\"] >= 0)"
   ]
  },
  {
   "cell_type": "code",
   "execution_count": null,
   "metadata": {},
   "outputs": [],
   "source": [
    "#verify stockout frequency against sla\n",
    "np.mean(casc_inv_histories_cap[\"Demand\"] >= 0),np.mean(casc_inv_histories_cap[\"Dist\"] >= 0)"
   ]
  },
  {
   "cell_type": "code",
   "execution_count": null,
   "metadata": {},
   "outputs": [],
   "source": [
    "plot_cascading_effect(casc_inv_histories_cap,indep_inv_histories_cap,[\"Dist\",\"Demand\"],time_length=n,remove_transient=True)"
   ]
  },
  {
   "cell_type": "markdown",
   "metadata": {},
   "source": [
    "In presence of capacity constraints, safety stocks level set by ideal GSM is inadequate and results in a significant SLA drop at demand stage (-4.2%)"
   ]
  },
  {
   "cell_type": "markdown",
   "metadata": {},
   "source": [
    "Let's find one of the coupled stockouts"
   ]
  },
  {
   "cell_type": "code",
   "execution_count": null,
   "metadata": {},
   "outputs": [],
   "source": [
    "#find one coupled stockout and plot it\n",
    "loc = np.where(casc_inv_histories_cap[\"Demand\"]<-80)[0][10]\n",
    "print(loc)\n",
    "\n",
    "window = 200\n",
    "s = loc-window\n",
    "e = s+2*window\n",
    "plt.figure(figsize=(12,8))\n",
    "for stage_id in casc_inv_histories:\n",
    "    plt.plot(casc_inv_histories_cap[stage_id][s:e],label=\"{} stage inventory position\".format(stage_id))\n",
    "\n",
    "plt.ylabel(\"Inventory position\")\n",
    "plt.xlabel(\"Day\")\n",
    "plt.grid(axis=\"y\")\n",
    "plt.legend()\n",
    "\n",
    "window = 100\n",
    "s = loc-window\n",
    "e = s+2*window\n",
    "stage_id = \"Demand\"\n",
    "plt.figure(figsize=(12,8))\n",
    "plt.plot(indep_inv_histories[stage_id][s:e],label=\"{}: no capacity constraint\".format(stage_id))\n",
    "plt.plot(casc_inv_histories[stage_id][s:e],label=\"{}: no capacity constraint, cascade\".format(stage_id))\n",
    "plt.plot(casc_inv_histories_cap[stage_id][s:e],label=\"{}: capacity constraint, cascade\".format(stage_id))\n",
    "\n",
    "plt.ylabel(\"Inventory position\")\n",
    "plt.xlabel(\"Day\")\n",
    "plt.grid(axis=\"y\")\n",
    "plt.legend()"
   ]
  },
  {
   "cell_type": "markdown",
   "metadata": {},
   "source": [
    "From the second plot above we can see that capacity constrained systems takes longer to recover from the stockout (green vs orange) which corresponds to inventory position rising above zero. As a result total stockout time incereases substantially"
   ]
  },
  {
   "cell_type": "code",
   "execution_count": null,
   "metadata": {},
   "outputs": [],
   "source": [
    "casc_stockouts = collect_stockout_intervals(casc_inv_histories[\"Demand\"])\n",
    "casc_stockouts_cap = collect_stockout_intervals(casc_inv_histories_cap[\"Demand\"])\n",
    "\n",
    "indep_stockouts = collect_stockout_intervals(indep_inv_histories[\"Demand\"])\n",
    "indep_stockouts_cap = collect_stockout_intervals(indep_inv_histories_cap[\"Demand\"])"
   ]
  },
  {
   "cell_type": "markdown",
   "metadata": {},
   "source": [
    "Overall, without capacity constraints the total percentage increase in stockout time is:"
   ]
  },
  {
   "cell_type": "code",
   "execution_count": null,
   "metadata": {},
   "outputs": [],
   "source": [
    "100*(sum([len(inter) for inter in casc_stockouts.values()])/sum([len(inter) for inter in indep_stockouts.values()]) - 1)"
   ]
  },
  {
   "cell_type": "markdown",
   "metadata": {},
   "source": [
    "With capacity constraints the total percentage increase in stockout time is:"
   ]
  },
  {
   "cell_type": "code",
   "execution_count": null,
   "metadata": {},
   "outputs": [],
   "source": [
    "100*(sum([len(inter) for inter in casc_stockouts_cap.values()])/sum([len(inter) for inter in indep_stockouts_cap.values()])-1)"
   ]
  },
  {
   "cell_type": "markdown",
   "metadata": {},
   "source": [
    "We need to implement extended GSM with capacity constraints and see if the above undesirably long stockouts disappear"
   ]
  }
 ],
 "metadata": {
  "kernelspec": {
   "display_name": "Python 3",
   "language": "python",
   "name": "python3"
  },
  "language_info": {
   "codemirror_mode": {
    "name": "ipython",
    "version": 3
   },
   "file_extension": ".py",
   "mimetype": "text/x-python",
   "name": "python",
   "nbconvert_exporter": "python",
   "pygments_lexer": "ipython3",
   "version": "3.7.3"
  }
 },
 "nbformat": 4,
 "nbformat_minor": 2
}
