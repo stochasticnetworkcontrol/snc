{
 "cells": [
  {
   "cell_type": "code",
   "execution_count": null,
   "metadata": {},
   "outputs": [],
   "source": [
    "import matplotlib.pyplot as plt"
   ]
  },
  {
   "cell_type": "code",
   "execution_count": null,
   "metadata": {},
   "outputs": [],
   "source": [
    "%matplotlib inline"
   ]
  },
  {
   "cell_type": "code",
   "execution_count": null,
   "metadata": {},
   "outputs": [],
   "source": [
    "import cvxpy as cvx\n",
    "import numpy as np"
   ]
  },
  {
   "cell_type": "code",
   "execution_count": null,
   "metadata": {},
   "outputs": [],
   "source": [
    "initial_state = np.array([[0], [0], [0], [10], [10]]).reshape(-1,1)\n",
    "cost_per_buffer = np.array([[1], [1], [1]]).reshape(-1,1)\n",
    "alpha1 = 0.33\n",
    "mu1 = 0.68\n",
    "mu2 = 0.35\n",
    "mu3 = 0.68\n",
    "mu4 = 0.7"
   ]
  },
  {
   "cell_type": "code",
   "execution_count": null,
   "metadata": {},
   "outputs": [],
   "source": [
    "demand_rate = np.array([alpha1, 0, 0]).reshape(-1,1)"
   ]
  },
  {
   "cell_type": "code",
   "execution_count": null,
   "metadata": {},
   "outputs": [],
   "source": [
    "buffer_processing_matrix = np.array([[-mu1,0,0,0],[+mu1,-mu2,0,-mu4],[0,+mu2,-mu3,0]])"
   ]
  },
  {
   "cell_type": "code",
   "execution_count": null,
   "metadata": {},
   "outputs": [],
   "source": [
    "constituency_matrix = np.array([[1, 0, 1, 0],\n",
    "                                [0, 1, 0, 1],\n",
    "                               ])"
   ]
  },
  {
   "cell_type": "code",
   "execution_count": null,
   "metadata": {},
   "outputs": [],
   "source": [
    "initial_state = np.array([[1000], [1000], [1000]]).reshape(-1,1)\n",
    "final_state = np.array([[0], [0], [0]]).reshape(-1,1)"
   ]
  },
  {
   "cell_type": "code",
   "execution_count": null,
   "metadata": {},
   "outputs": [],
   "source": [
    "change = np.array([[-100], [-10], [10]]).reshape(-1,1)\n",
    "final_state = initial_state + change"
   ]
  },
  {
   "cell_type": "code",
   "execution_count": null,
   "metadata": {},
   "outputs": [],
   "source": [
    "print(\"Initial state: \",initial_state.ravel())\n",
    "print(\"Final state:   \",final_state.ravel())"
   ]
  },
  {
   "cell_type": "code",
   "execution_count": null,
   "metadata": {},
   "outputs": [],
   "source": [
    "t = cvx.Variable()\n",
    "z = cvx.Variable((4, 1))\n",
    "objective = cvx.Minimize(t)\n",
    "constraints = [\n",
    "    #initial_state + buffer_processing_matrix @ z + demand_rate * t == final_state,\n",
    "    initial_state + buffer_processing_matrix @ z == final_state,\n",
    "    #constituency_matrix @ cvx.abs(z) <= t * np.ones((num_resources, 1)),\n",
    "    constituency_matrix @ z <= t * np.ones((2, 1)),\n",
    "    #constituency_matrix @ z >= -t * np.ones((5, 1)),\n",
    "    z >= np.zeros((4, 1)),\n",
    "    #z <= t * np.ones((8, 1)),\n",
    "    #z >= -t * np.ones((8, 1)),\n",
    "]\n",
    "prob = cvx.Problem(objective, constraints)\n",
    "minimal_draining_time = prob.solve(solver=eval('cvx.CPLEX'))\n"
   ]
  },
  {
   "cell_type": "code",
   "execution_count": null,
   "metadata": {},
   "outputs": [],
   "source": [
    "minimal_draining_time"
   ]
  },
  {
   "cell_type": "code",
   "execution_count": null,
   "metadata": {},
   "outputs": [],
   "source": [
    "a = minimal_draining_time"
   ]
  },
  {
   "cell_type": "code",
   "execution_count": null,
   "metadata": {},
   "outputs": [],
   "source": [
    "minimal_draining_time-a"
   ]
  },
  {
   "cell_type": "code",
   "execution_count": null,
   "metadata": {},
   "outputs": [],
   "source": [
    "for i, rate in enumerate((z.value/minimal_draining_time)):\n",
    "    print(\"Activity {}:  {:.2f}\".format(i+1,rate[0]))"
   ]
  },
  {
   "cell_type": "code",
   "execution_count": null,
   "metadata": {},
   "outputs": [],
   "source": [
    "print((z.value/minimal_draining_time).ravel())"
   ]
  },
  {
   "cell_type": "code",
   "execution_count": null,
   "metadata": {},
   "outputs": [],
   "source": [
    "xi = constraints[0].dual_value\n",
    "nu = constraints[1].dual_value"
   ]
  },
  {
   "cell_type": "code",
   "execution_count": null,
   "metadata": {},
   "outputs": [],
   "source": [
    "print(xi.flatten())\n",
    "print(nu.flatten())"
   ]
  },
  {
   "cell_type": "code",
   "execution_count": null,
   "metadata": {},
   "outputs": [],
   "source": [
    "print(xi.flatten())\n",
    "print(nu.flatten())"
   ]
  },
  {
   "cell_type": "code",
   "execution_count": null,
   "metadata": {},
   "outputs": [],
   "source": [
    "(final_state-initial_state)"
   ]
  },
  {
   "cell_type": "code",
   "execution_count": null,
   "metadata": {},
   "outputs": [],
   "source": [
    "v = (final_state-initial_state)/minimal_draining_time"
   ]
  },
  {
   "cell_type": "code",
   "execution_count": null,
   "metadata": {},
   "outputs": [],
   "source": [
    "print(v.ravel())"
   ]
  },
  {
   "cell_type": "code",
   "execution_count": null,
   "metadata": {},
   "outputs": [],
   "source": [
    "xi.T @ (v)"
   ]
  },
  {
   "cell_type": "code",
   "execution_count": null,
   "metadata": {},
   "outputs": [],
   "source": [
    "initial_state + buffer_processing_matrix @ z.value"
   ]
  },
  {
   "cell_type": "code",
   "execution_count": null,
   "metadata": {},
   "outputs": [],
   "source": [
    "buffer_processing_matrix @ z.value + t.value * demand_rate"
   ]
  },
  {
   "cell_type": "code",
   "execution_count": null,
   "metadata": {},
   "outputs": [],
   "source": [
    "xi.T @ initial_state"
   ]
  },
  {
   "cell_type": "code",
   "execution_count": null,
   "metadata": {},
   "outputs": [],
   "source": [
    "z.value"
   ]
  },
  {
   "cell_type": "code",
   "execution_count": null,
   "metadata": {},
   "outputs": [],
   "source": [
    "h"
   ]
  },
  {
   "cell_type": "code",
   "execution_count": null,
   "metadata": {},
   "outputs": [],
   "source": [
    "z.value"
   ]
  },
  {
   "cell_type": "code",
   "execution_count": null,
   "metadata": {},
   "outputs": [],
   "source": [
    "np.sum(nu)"
   ]
  },
  {
   "cell_type": "code",
   "execution_count": null,
   "metadata": {},
   "outputs": [],
   "source": [
    "nu.T"
   ]
  },
  {
   "cell_type": "code",
   "execution_count": null,
   "metadata": {},
   "outputs": [],
   "source": [
    "xi.T @ initial_state"
   ]
  },
  {
   "cell_type": "code",
   "execution_count": null,
   "metadata": {},
   "outputs": [],
   "source": [
    "(t.value - constituency_matrix @ z.value).T @ nu"
   ]
  },
  {
   "cell_type": "code",
   "execution_count": null,
   "metadata": {},
   "outputs": [],
   "source": [
    "z.value"
   ]
  },
  {
   "cell_type": "code",
   "execution_count": null,
   "metadata": {},
   "outputs": [],
   "source": [
    "xi.T @ -buffer_processing_matrix + nu.T @ -constituency_matrix"
   ]
  },
  {
   "cell_type": "code",
   "execution_count": null,
   "metadata": {},
   "outputs": [],
   "source": [
    "nu"
   ]
  },
  {
   "cell_type": "code",
   "execution_count": null,
   "metadata": {},
   "outputs": [],
   "source": [
    "h.T @ z.value"
   ]
  },
  {
   "cell_type": "code",
   "execution_count": null,
   "metadata": {},
   "outputs": [],
   "source": [
    "h.T @ z.value + t.value * 1"
   ]
  },
  {
   "cell_type": "code",
   "execution_count": null,
   "metadata": {},
   "outputs": [],
   "source": [
    "h = (- buffer_processing_matrix.T @ xi - constituency_matrix.T @ nu)"
   ]
  },
  {
   "cell_type": "code",
   "execution_count": null,
   "metadata": {},
   "outputs": [],
   "source": [
    "(- buffer_processing_matrix.T @ xi - constituency_matrix.T @ nu)-1e-8 <= np.zeros((num_activities, 1))"
   ]
  },
  {
   "cell_type": "code",
   "execution_count": null,
   "metadata": {},
   "outputs": [],
   "source": [
    "np.ones((num_resources, 1)).T @ nu <= np.ones((1, 1))"
   ]
  },
  {
   "cell_type": "code",
   "execution_count": null,
   "metadata": {},
   "outputs": [],
   "source": [
    "(- demand_rate.T @ xi + np.ones((num_resources, 1)).T @ nu)"
   ]
  },
  {
   "cell_type": "code",
   "execution_count": null,
   "metadata": {},
   "outputs": [],
   "source": [
    "(- demand_rate.T @ xi + np.ones((num_resources, 1)).T @ nu)"
   ]
  },
  {
   "cell_type": "code",
   "execution_count": null,
   "metadata": {},
   "outputs": [],
   "source": [
    "(- demand_rate.T @ xi + np.ones((num_resources, 1)).T @ nu) <= np.ones((1, 1))"
   ]
  },
  {
   "cell_type": "code",
   "execution_count": null,
   "metadata": {},
   "outputs": [],
   "source": [
    "nu"
   ]
  },
  {
   "cell_type": "code",
   "execution_count": null,
   "metadata": {},
   "outputs": [],
   "source": [
    "nu"
   ]
  },
  {
   "cell_type": "code",
   "execution_count": null,
   "metadata": {},
   "outputs": [],
   "source": [
    "nu >= np.zeros((num_resources, 1))"
   ]
  },
  {
   "cell_type": "code",
   "execution_count": null,
   "metadata": {},
   "outputs": [],
   "source": [
    "num_buffers, num_activities = buffer_processing_matrix.shape\n",
    "num_resources = constituency_matrix.shape[0]\n",
    "xi = cvx.Variable((num_buffers, 1))\n",
    "nu = cvx.Variable((num_resources, 1))\n",
    "objective = cvx.Maximize(xi.T @ initial_state)\n",
    "constraints = [\n",
    "    - buffer_processing_matrix.T @ xi - constituency_matrix.T @ nu\n",
    "    <= np.zeros((num_activities, 1)),\n",
    "    np.ones((num_resources, 1)).T @ nu <= np.ones((1, 1)),\n",
    "    #- demand_rate.T @ xi + np.ones((num_resources, 1)).T @ nu <= np.ones((1, 1)),\n",
    "    nu >= np.zeros((num_resources, 1))\n",
    "]\n",
    "prob = cvx.Problem(objective, constraints)\n",
    "minimal_draining_time = prob.solve(solver=eval('cvx.CPLEX'))\n"
   ]
  },
  {
   "cell_type": "code",
   "execution_count": null,
   "metadata": {},
   "outputs": [],
   "source": [
    "minimal_draining_time"
   ]
  },
  {
   "cell_type": "code",
   "execution_count": null,
   "metadata": {},
   "outputs": [],
   "source": [
    "print(xi.value.flatten())"
   ]
  },
  {
   "cell_type": "code",
   "execution_count": null,
   "metadata": {},
   "outputs": [],
   "source": [
    "print(nu.value.flatten())"
   ]
  },
  {
   "cell_type": "code",
   "execution_count": null,
   "metadata": {},
   "outputs": [],
   "source": [
    "np.set_printoptions(precision=3,suppress=True)"
   ]
  },
  {
   "cell_type": "code",
   "execution_count": null,
   "metadata": {},
   "outputs": [],
   "source": [
    "print()"
   ]
  },
  {
   "cell_type": "code",
   "execution_count": null,
   "metadata": {},
   "outputs": [],
   "source": [
    "(xi.value*100).astype(int)."
   ]
  },
  {
   "cell_type": "code",
   "execution_count": null,
   "metadata": {},
   "outputs": [],
   "source": [
    "z = cvx.Variable((5, 1))\n",
    "T = cvx.Variable(1)\n",
    "objective = cvx.Minimize(T)# + lam*cvx.sum(workload_mat @ x - w))\n",
    "constraints = [#B @ z + demand_rate * T == -initial_state,\n",
    "               B @ z  == -initial_state,\n",
    "               z >= 0,\n",
    "               C @ z <= T]\n",
    "prob = cvx.Problem(objective, constraints)\n",
    "eff_cost = prob.solve(solver=eval('cvx.ECOS'))"
   ]
  },
  {
   "cell_type": "code",
   "execution_count": null,
   "metadata": {},
   "outputs": [],
   "source": [
    "a = 0.33\n",
    "m1 = m3 = 0.68\n",
    "m2 = 0.35"
   ]
  },
  {
   "cell_type": "code",
   "execution_count": null,
   "metadata": {},
   "outputs": [],
   "source": [
    "\n",
    "def compute_draining_times(w):\n",
    "    workload_1, workload_2 = compute_workloads(arrival_buffer,inter_buffer,drain_buffer)\n",
    "    drain_time_1= workload_1/(1-mu_demand*2/mu_drain)\n",
    "    drain_time_2 = workload_2/(1-mu_demand/mu_fast)\n",
    "    return drain_time_1, drain_time_2"
   ]
  },
  {
   "cell_type": "code",
   "execution_count": null,
   "metadata": {},
   "outputs": [],
   "source": [
    "#a = 0\n",
    "workload_mat = np.array([[2/m1,1/m3,1/m3],[1/m2,1/m2,0]])\n",
    "load = np.array([[2*a/m1],[a/m2]])\n",
    "num_buffers = workload_mat.shape[1]"
   ]
  },
  {
   "cell_type": "code",
   "execution_count": null,
   "metadata": {},
   "outputs": [],
   "source": [
    "drain_time = (workload_mat @ x)/(1-load)\n",
    "drain_time"
   ]
  },
  {
   "cell_type": "code",
   "execution_count": null,
   "metadata": {},
   "outputs": [],
   "source": [
    "workload_mat @ x"
   ]
  },
  {
   "cell_type": "code",
   "execution_count": null,
   "metadata": {},
   "outputs": [],
   "source": [
    "buffer_processing_matrix = np.array([[-m1,0,0],[+m1,-m2,0],[0,+m2,-m3]])"
   ]
  },
  {
   "cell_type": "code",
   "execution_count": null,
   "metadata": {},
   "outputs": [],
   "source": [
    "cost_per_buffer = np.array([1.5,1,2])[:,np.newaxis]\n",
    "cost_vec = cost_per_buffer.T @ buffer_processing_matrix"
   ]
  },
  {
   "cell_type": "code",
   "execution_count": null,
   "metadata": {},
   "outputs": [],
   "source": [
    "x_init = np.array([0,0,10000])[:,np.newaxis]\n",
    "horizon = 1000"
   ]
  },
  {
   "cell_type": "code",
   "execution_count": null,
   "metadata": {},
   "outputs": [],
   "source": [
    "resource_1 = np.array([1,0,1])\n",
    "resource_2 = np.array([0,1,0])"
   ]
  },
  {
   "cell_type": "code",
   "execution_count": null,
   "metadata": {},
   "outputs": [],
   "source": [
    "demand_rate = np.array([a,0,0])[:,np.newaxis]"
   ]
  },
  {
   "cell_type": "code",
   "execution_count": null,
   "metadata": {},
   "outputs": [],
   "source": [
    "kappa_w = 0#1e3"
   ]
  },
  {
   "cell_type": "code",
   "execution_count": null,
   "metadata": {},
   "outputs": [],
   "source": [
    "min_drain_time"
   ]
  },
  {
   "cell_type": "code",
   "execution_count": null,
   "metadata": {},
   "outputs": [],
   "source": [
    "\n",
    "min_drain_time = max((workload_mat @ x)/(1-load))"
   ]
  },
  {
   "cell_type": "code",
   "execution_count": null,
   "metadata": {},
   "outputs": [],
   "source": [
    "min_drain_time"
   ]
  },
  {
   "cell_type": "code",
   "execution_count": null,
   "metadata": {},
   "outputs": [],
   "source": [
    "2*int(min_drain_time/horizon)"
   ]
  },
  {
   "cell_type": "code",
   "execution_count": null,
   "metadata": {},
   "outputs": [],
   "source": [
    "(workload_mat @ x_init)/(1-load)"
   ]
  },
  {
   "cell_type": "code",
   "execution_count": null,
   "metadata": {},
   "outputs": [],
   "source": [
    "state_seq = []\n",
    "cost_seq = []\n",
    "action_seq = []\n",
    "\n",
    "min_drain_time = max((workload_mat @ x_init)/(1-load))\n",
    "\n",
    "x = x_init\n",
    "cost = 0\n",
    "activate = False\n",
    "\n",
    "for _ in range(int(min_drain_time/horizon)):\n",
    "    \n",
    "    w = workload_mat @ x\n",
    "        \n",
    "    x_optim = cvx.Variable((num_buffers, 1))\n",
    "    objective = cvx.Minimize(cost_per_buffer.T @ x_optim)# + lam*cvx.sum(workload_mat @ x - w))\n",
    "    constraints = [workload_mat @ x_optim >= w,\n",
    "                x_optim >= np.zeros((num_buffers, 1))]#,cvx.sum(x) <= np.sum(x0)]\n",
    "    prob = cvx.Problem(objective, constraints)\n",
    "    eff_cost = prob.solve(solver=eval('cvx.ECOS'))\n",
    "    x_star = x_optim.value\n",
    "    w_star = workload_mat @ x_star\n",
    "    \n",
    "    v_star = w_star - w\n",
    "    \n",
    "    non_idling = (v_star < 1e-4).ravel().astype(int)\n",
    "    \n",
    "    if np.all(v_star < 1e-4):\n",
    "        non_idling = np.zeros_like(non_idling)\n",
    "    \n",
    "    #print(non_idling)\n",
    "    #if non_idling[1] == 1 or activate:\n",
    "     #   activate = True\n",
    "      #  print(v_star.)\n",
    "       # input()\n",
    "    \n",
    "    z = cvx.Variable((3, 1), nonneg=True)\n",
    "\n",
    "    \n",
    "    #if x[2] > 0:\n",
    "\n",
    "    penalty_nonidling_vec = non_idling[0]*cvx.abs(resource_1 @ z - 1) + non_idling[1]*cvx.abs(resource_2 @ z - 1)\n",
    " #   else:\n",
    "        \n",
    "    #penalty_nonidling_vec = cvx.abs(resource_2 @ z - 1)\n",
    "    \n",
    "\n",
    "    penalty_nonidling = cvx.sum(penalty_nonidling_vec)\n",
    "    \n",
    "    kappa_w = 1e3 #0 if x[2] > x[0] else 1e3        \n",
    "\n",
    "    obj_equation = cost_vec @ z + kappa_w * penalty_nonidling\n",
    "    objective = cvx.Minimize(obj_equation)\n",
    "\n",
    "    constraints = [\n",
    "        # Resource constraint.\n",
    "        resource_1 @ z <= 1,\n",
    "        resource_2 @ z <= 1,\n",
    "        # Nonnegative future state.\n",
    "        x + (buffer_processing_matrix @ z + demand_rate) * horizon >= 0]\n",
    "\n",
    "    cvx.Problem(objective, constraints).solve()\n",
    "\n",
    "    z_star = z.value\n",
    "    \n",
    "    x_new = x + ((buffer_processing_matrix @ z_star + demand_rate) * horizon)\n",
    "    \n",
    "    state_seq.append(x.ravel())\n",
    "    cost_seq.append(cost_per_buffer.T @ x)\n",
    "    action_seq.append(z_star.ravel())\n",
    "    cost += cost_per_buffer.T @ ((x_new+x)/2 * horizon)\n",
    "    x = x_new\n",
    "    \n",
    "    #print(x.astype(\"int\").ravel())\n",
    "    #print()\n",
    "    "
   ]
  },
  {
   "cell_type": "code",
   "execution_count": null,
   "metadata": {},
   "outputs": [],
   "source": [
    "cost_1/cost"
   ]
  },
  {
   "cell_type": "code",
   "execution_count": null,
   "metadata": {},
   "outputs": [],
   "source": [
    "cost_per_buffer.T @ ((buffer_processing_matrix @ z_star + demand_rate) * horizon),cost_per_buffer.T @ (x2-x)"
   ]
  },
  {
   "cell_type": "code",
   "execution_count": null,
   "metadata": {},
   "outputs": [],
   "source": [
    "x"
   ]
  },
  {
   "cell_type": "code",
   "execution_count": null,
   "metadata": {},
   "outputs": [],
   "source": [
    "x2.astype(int)"
   ]
  },
  {
   "cell_type": "code",
   "execution_count": null,
   "metadata": {},
   "outputs": [],
   "source": [
    "objective"
   ]
  },
  {
   "cell_type": "code",
   "execution_count": null,
   "metadata": {},
   "outputs": [],
   "source": [
    "cost_vec @ z_star + cost_per_buffer.T @ demand_rate"
   ]
  },
  {
   "cell_type": "code",
   "execution_count": null,
   "metadata": {},
   "outputs": [],
   "source": [
    "z_star"
   ]
  },
  {
   "cell_type": "code",
   "execution_count": null,
   "metadata": {},
   "outputs": [],
   "source": [
    "cost_per_buffer.T @ ((buffer_processing_matrix @ z_star + demand_rate) * horizon),cost_per_buffer.T @ (x2-x)"
   ]
  },
  {
   "cell_type": "code",
   "execution_count": null,
   "metadata": {},
   "outputs": [],
   "source": [
    "x2.astype(int)"
   ]
  },
  {
   "cell_type": "code",
   "execution_count": null,
   "metadata": {},
   "outputs": [],
   "source": [
    "cost_vec @ z_star + cost_per_buffer.T @ demand_rate"
   ]
  },
  {
   "cell_type": "code",
   "execution_count": null,
   "metadata": {},
   "outputs": [],
   "source": [
    "z_star"
   ]
  },
  {
   "cell_type": "code",
   "execution_count": null,
   "metadata": {},
   "outputs": [],
   "source": [
    "cost_per_buffer.T @ ((buffer_processing_matrix @ z_star + demand_rate) * horizon)"
   ]
  },
  {
   "cell_type": "code",
   "execution_count": null,
   "metadata": {},
   "outputs": [],
   "source": [
    "x2.astype(int)"
   ]
  },
  {
   "cell_type": "code",
   "execution_count": null,
   "metadata": {},
   "outputs": [],
   "source": [
    "cost_vec @ z_star"
   ]
  },
  {
   "cell_type": "code",
   "execution_count": null,
   "metadata": {},
   "outputs": [],
   "source": [
    "z_star"
   ]
  },
  {
   "cell_type": "code",
   "execution_count": null,
   "metadata": {},
   "outputs": [],
   "source": [
    "x.astype(int)"
   ]
  },
  {
   "cell_type": "code",
   "execution_count": null,
   "metadata": {},
   "outputs": [],
   "source": [
    "cost_vec @ z_star"
   ]
  },
  {
   "cell_type": "code",
   "execution_count": null,
   "metadata": {},
   "outputs": [],
   "source": [
    "resource_1 @ z_star - 1, kappa_w*(resource_1 @ z_star - 1)"
   ]
  },
  {
   "cell_type": "code",
   "execution_count": null,
   "metadata": {},
   "outputs": [],
   "source": [
    "5000*0.5*500000/cost"
   ]
  },
  {
   "cell_type": "code",
   "execution_count": null,
   "metadata": {},
   "outputs": [],
   "source": [
    "plt.figure(figsize=(16,6))\n",
    "for i,seq in enumerate(np.array(state_seq).T):\n",
    "    plt.plot(np.arange(len(seq))*horizon,seq,label=i)\n",
    "plt.legend()"
   ]
  },
  {
   "cell_type": "code",
   "execution_count": null,
   "metadata": {},
   "outputs": [],
   "source": [
    "plt.plot(np.array(state_seq).T[2,20:50])\n",
    "plt.ylim(top=1,bottom=-1)"
   ]
  },
  {
   "cell_type": "code",
   "execution_count": null,
   "metadata": {},
   "outputs": [],
   "source": [
    "plt.figure(figsize=(16,6))\n",
    "for i,seq in enumerate(np.array(state_seq).T):\n",
    "    plt.plot(np.arange(len(seq))*horizon,seq,label=i)\n",
    "plt.legend()"
   ]
  },
  {
   "cell_type": "code",
   "execution_count": null,
   "metadata": {},
   "outputs": [],
   "source": [
    "for i,seq in enumerate(np.array(state_seq).T):\n",
    "    plt.plot(seq,label=i)\n",
    "plt.legend()"
   ]
  },
  {
   "cell_type": "code",
   "execution_count": null,
   "metadata": {},
   "outputs": [],
   "source": [
    "plt.plot(resource_2 @ np.array(action_seq).T)"
   ]
  },
  {
   "cell_type": "code",
   "execution_count": null,
   "metadata": {},
   "outputs": [],
   "source": [
    "for i,seq in enumerate(np.array(action_seq).T):\n",
    "    plt.plot(seq,label=i)\n",
    "plt.legend()\n",
    "plt.xlim(right=200)"
   ]
  },
  {
   "cell_type": "code",
   "execution_count": null,
   "metadata": {},
   "outputs": [],
   "source": [
    "#cost1 = np.array(cost_seq).ravel()"
   ]
  },
  {
   "cell_type": "code",
   "execution_count": null,
   "metadata": {},
   "outputs": [],
   "source": [
    "plt.plot(np.array(cost_seq).ravel())"
   ]
  },
  {
   "cell_type": "code",
   "execution_count": null,
   "metadata": {},
   "outputs": [],
   "source": [
    "#plt.plot(np.arange(len(cost1))*10,np.array(cost1).ravel())\n",
    "plt.plot(np.array(cost_seq).ravel())\n",
    "#plt.xlim(right=50,left=-1)\n",
    "#plt.ylim(top=50000)"
   ]
  },
  {
   "cell_type": "code",
   "execution_count": null,
   "metadata": {},
   "outputs": [],
   "source": [
    "z_star"
   ]
  },
  {
   "cell_type": "code",
   "execution_count": null,
   "metadata": {},
   "outputs": [],
   "source": [
    "x_new = x + ((buffer_processing_matrix @ z_star + demand_rate) * horizon).astype(int)"
   ]
  },
  {
   "cell_type": "code",
   "execution_count": null,
   "metadata": {},
   "outputs": [],
   "source": [
    "x_new.astype(\"int\")"
   ]
  },
  {
   "cell_type": "code",
   "execution_count": null,
   "metadata": {},
   "outputs": [],
   "source": [
    "cost_per_buffer.T @ (x_new-x)"
   ]
  },
  {
   "cell_type": "code",
   "execution_count": null,
   "metadata": {},
   "outputs": [],
   "source": [
    "cost_per_buffer"
   ]
  },
  {
   "cell_type": "code",
   "execution_count": null,
   "metadata": {},
   "outputs": [],
   "source": [
    "x0 = np.array([0,10,100])[:,np.newaxis]\n",
    "w = workload_mat @ x0\n",
    "print(w)"
   ]
  },
  {
   "cell_type": "code",
   "execution_count": null,
   "metadata": {},
   "outputs": [],
   "source": [
    "x0 = np.array([0,50+1e-3,50])[:,np.newaxis]\n",
    "w1 = workload_mat @ x0\n",
    "print(w1-w)"
   ]
  },
  {
   "cell_type": "code",
   "execution_count": null,
   "metadata": {},
   "outputs": [],
   "source": [
    "num_buffers = workload_mat.shape[1]\n",
    "lam = 1e5\n",
    "x = cvx.Variable((num_buffers, 1))\n",
    "objective = cvx.Minimize(cost_per_buffer.T @ x)# + lam*cvx.sum(workload_mat @ x - w))\n",
    "constraints = [workload_mat @ x == w,\n",
    "                x >= np.zeros((num_buffers, 1))]#,cvx.sum(x) <= np.sum(x0)]\n",
    "prob = cvx.Problem(objective, constraints)\n",
    "eff_cost = prob.solve(solver=eval('cvx.ECOS'))\n",
    "x_star = x.value\n",
    "w_star = workload_mat @ x_star\n",
    "print(np.round(eff_cost))"
   ]
  },
  {
   "cell_type": "code",
   "execution_count": null,
   "metadata": {},
   "outputs": [],
   "source": [
    "np.round(eff_cost)"
   ]
  },
  {
   "cell_type": "code",
   "execution_count": null,
   "metadata": {},
   "outputs": [],
   "source": [
    "np.round(x_star)"
   ]
  },
  {
   "cell_type": "code",
   "execution_count": null,
   "metadata": {},
   "outputs": [],
   "source": [
    "c_bar = -constraints[0].dual_value\n",
    "print(c_bar)"
   ]
  },
  {
   "cell_type": "code",
   "execution_count": null,
   "metadata": {},
   "outputs": [],
   "source": [
    "c_bar"
   ]
  },
  {
   "cell_type": "code",
   "execution_count": null,
   "metadata": {},
   "outputs": [],
   "source": [
    "np.round(eff_cost + c_bar.T @ (w1-w))"
   ]
  },
  {
   "cell_type": "code",
   "execution_count": null,
   "metadata": {},
   "outputs": [],
   "source": [
    "w_star-w"
   ]
  },
  {
   "cell_type": "code",
   "execution_count": null,
   "metadata": {},
   "outputs": [],
   "source": [
    "cost_per_buffer.T @ x0 - eff_cost"
   ]
  },
  {
   "cell_type": "code",
   "execution_count": null,
   "metadata": {},
   "outputs": [],
   "source": [
    "eff_cost"
   ]
  },
  {
   "cell_type": "code",
   "execution_count": null,
   "metadata": {},
   "outputs": [],
   "source": [
    "eff_cost"
   ]
  },
  {
   "cell_type": "code",
   "execution_count": null,
   "metadata": {},
   "outputs": [],
   "source": [
    "np.sum(x_star)"
   ]
  },
  {
   "cell_type": "code",
   "execution_count": null,
   "metadata": {},
   "outputs": [],
   "source": [
    "np.sum(x0)-np.sum(x_star)"
   ]
  },
  {
   "cell_type": "code",
   "execution_count": null,
   "metadata": {},
   "outputs": [],
   "source": [
    "np.sum(x_star)"
   ]
  },
  {
   "cell_type": "code",
   "execution_count": null,
   "metadata": {},
   "outputs": [],
   "source": [
    "x_star"
   ]
  },
  {
   "cell_type": "code",
   "execution_count": null,
   "metadata": {},
   "outputs": [],
   "source": [
    "np.sum(x_star)"
   ]
  },
  {
   "cell_type": "code",
   "execution_count": null,
   "metadata": {},
   "outputs": [],
   "source": [
    "eff_cost"
   ]
  },
  {
   "cell_type": "code",
   "execution_count": null,
   "metadata": {},
   "outputs": [],
   "source": [
    "eff_cost"
   ]
  },
  {
   "cell_type": "code",
   "execution_count": null,
   "metadata": {},
   "outputs": [],
   "source": [
    "0.1341"
   ]
  },
  {
   "cell_type": "code",
   "execution_count": null,
   "metadata": {},
   "outputs": [],
   "source": [
    "(1-3)*m2"
   ]
  },
  {
   "cell_type": "code",
   "execution_count": null,
   "metadata": {},
   "outputs": [],
   "source": [
    "(2-3*2)*m2"
   ]
  },
  {
   "cell_type": "code",
   "execution_count": null,
   "metadata": {},
   "outputs": [],
   "source": [
    "(w1-w)"
   ]
  },
  {
   "cell_type": "code",
   "execution_count": null,
   "metadata": {},
   "outputs": [],
   "source": [
    "-constraints[0].dual_value.T @ (w1-w)"
   ]
  },
  {
   "cell_type": "code",
   "execution_count": null,
   "metadata": {},
   "outputs": [],
   "source": [
    "w_star"
   ]
  }
 ],
 "metadata": {
  "kernelspec": {
   "display_name": "Python 3",
   "language": "python",
   "name": "python3"
  },
  "language_info": {
   "codemirror_mode": {
    "name": "ipython",
    "version": 3
   },
   "file_extension": ".py",
   "mimetype": "text/x-python",
   "name": "python",
   "nbconvert_exporter": "python",
   "pygments_lexer": "ipython3",
   "version": "3.7.3"
  }
 },
 "nbformat": 4,
 "nbformat_minor": 2
}
